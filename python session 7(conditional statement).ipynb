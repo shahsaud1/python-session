{
 "cells": [
  {
   "cell_type": "markdown",
   "id": "c1155eeb",
   "metadata": {},
   "source": [
    "## conditional statement ##"
   ]
  },
  {
   "cell_type": "code",
   "execution_count": null,
   "id": "1f873ab6",
   "metadata": {},
   "outputs": [],
   "source": [
    "what is meant by conditions in english\n",
    "suppose if some thing is happend in one direction so that is the solution\n",
    "     if not is happend in diffrent dir so that another one is solution\n",
    "    else is hapend in diffrent dir so that another one is solution\n",
    "    \n",
    "if\n",
    "if not=====else"
   ]
  },
  {
   "cell_type": "code",
   "execution_count": null,
   "id": "01665fcf",
   "metadata": {},
   "outputs": [],
   "source": [
    "yes or not\n",
    "if =====yes\n",
    "else=====no"
   ]
  },
  {
   "cell_type": "code",
   "execution_count": null,
   "id": "a670929c",
   "metadata": {},
   "outputs": [],
   "source": [
    "# syntax\n",
    "if <condition>:\n",
    "    st1\n",
    "    st2\n",
    "    st"
   ]
  },
  {
   "cell_type": "code",
   "execution_count": 1,
   "id": "fb89f2d3",
   "metadata": {},
   "outputs": [
    {
     "name": "stdout",
     "output_type": "stream",
     "text": [
      "enter a name:python\n",
      "hello\n"
     ]
    }
   ],
   "source": [
    "name=input('enter a name:') # step1- aks user some name=python\n",
    "if name=='python':  # 'python' == 'python'     true\n",
    "    print('hello') ## print\n",
    "    \n",
    "    "
   ]
  },
  {
   "cell_type": "code",
   "execution_count": null,
   "id": "faba504a",
   "metadata": {},
   "outputs": [],
   "source": [
    "name='python' # storing the value\n",
    "name=='python'# comparing the value\n"
   ]
  },
  {
   "cell_type": "code",
   "execution_count": 2,
   "id": "c48cd696",
   "metadata": {},
   "outputs": [
    {
     "data": {
      "text/plain": [
       "False"
      ]
     },
     "execution_count": 2,
     "metadata": {},
     "output_type": "execute_result"
    }
   ],
   "source": [
    "'anil'=='python'"
   ]
  },
  {
   "cell_type": "code",
   "execution_count": 3,
   "id": "8225308e",
   "metadata": {},
   "outputs": [
    {
     "data": {
      "text/plain": [
       "True"
      ]
     },
     "execution_count": 3,
     "metadata": {},
     "output_type": "execute_result"
    }
   ],
   "source": [
    "'python'=='python'"
   ]
  },
  {
   "cell_type": "code",
   "execution_count": null,
   "id": "d7be0f27",
   "metadata": {},
   "outputs": [],
   "source": [
    "if<True/False>"
   ]
  },
  {
   "cell_type": "code",
   "execution_count": 4,
   "id": "8b4b3fda",
   "metadata": {},
   "outputs": [
    {
     "name": "stdout",
     "output_type": "stream",
     "text": [
      "enter the num:python\n",
      "hello\n",
      "python\n"
     ]
    }
   ],
   "source": [
    "name=input('enter the num:')\n",
    "if name=='python':\n",
    "    print('hello')\n",
    "    print(name)"
   ]
  },
  {
   "cell_type": "code",
   "execution_count": 5,
   "id": "1ec9ae25",
   "metadata": {},
   "outputs": [
    {
     "name": "stdout",
     "output_type": "stream",
     "text": [
      "enter the num:p\n"
     ]
    }
   ],
   "source": [
    "name=input('enter the num:') ## if name not == to 'python' only input is print\n",
    "if name=='python':\n",
    "    print('hello')\n",
    "    print(name)"
   ]
  },
  {
   "cell_type": "code",
   "execution_count": 8,
   "id": "864fbdaa",
   "metadata": {},
   "outputs": [
    {
     "name": "stdout",
     "output_type": "stream",
     "text": [
      "hello\n",
      "python\n"
     ]
    }
   ],
   "source": [
    "name=\"python\"\n",
    "if name=='python':\n",
    "    print('hello')\n",
    "print(name)"
   ]
  },
  {
   "cell_type": "code",
   "execution_count": 9,
   "id": "5575c107",
   "metadata": {},
   "outputs": [
    {
     "name": "stdout",
     "output_type": "stream",
     "text": [
      "8\n"
     ]
    }
   ],
   "source": [
    "name='python'\n",
    "if name=='python':\n",
    "    print(3+5)\n",
    "else:\n",
    "    print('enter a corect one')"
   ]
  },
  {
   "cell_type": "code",
   "execution_count": 11,
   "id": "7b38a5a8",
   "metadata": {},
   "outputs": [
    {
     "name": "stdout",
     "output_type": "stream",
     "text": [
      "enter correct one\n"
     ]
    }
   ],
   "source": [
    "name='p'\n",
    "if name=='python':\n",
    "    print(3+5)\n",
    "else:\n",
    "    print('enter correct one') ## when if true,else will not work"
   ]
  },
  {
   "cell_type": "code",
   "execution_count": 13,
   "id": "66989774",
   "metadata": {},
   "outputs": [
    {
     "name": "stdout",
     "output_type": "stream",
     "text": [
      "enter a namepython\n",
      "hello python\n",
      "hello how are you\n",
      "hey\n",
      "bro\n"
     ]
    }
   ],
   "source": [
    "name=input('enter a name')\n",
    "if name=='python':\n",
    "    print('hello',name)\n",
    "    print('hello how are you')\n",
    "else:\n",
    "    print('provide the valid one')\n",
    "    print('you are out')\n",
    "print('hey')\n",
    "print('bro')"
   ]
  },
  {
   "cell_type": "code",
   "execution_count": 14,
   "id": "90db3bf0",
   "metadata": {},
   "outputs": [
    {
     "name": "stdout",
     "output_type": "stream",
     "text": [
      "enter a num4\n",
      "it is even num 4\n"
     ]
    }
   ],
   "source": [
    "name=eval(input('enter a num'))\n",
    "if name%2==0:\n",
    "    print('it is even num',name)\n",
    "else:\n",
    "    print('odd num',name)"
   ]
  },
  {
   "cell_type": "code",
   "execution_count": 18,
   "id": "b8c07b14",
   "metadata": {},
   "outputs": [
    {
     "name": "stdout",
     "output_type": "stream",
     "text": [
      "enter a num:5\n",
      "it is odd num\n"
     ]
    }
   ],
   "source": [
    "name=eval(input('enter a num:'))\n",
    "if name%2==0:\n",
    "    print('it is even num')\n",
    "else:\n",
    "    print('it is odd num')"
   ]
  },
  {
   "cell_type": "code",
   "execution_count": 25,
   "id": "c46d79d0",
   "metadata": {},
   "outputs": [
    {
     "name": "stdout",
     "output_type": "stream",
     "text": [
      "enter a num:9\n",
      "it is odd num\n"
     ]
    }
   ],
   "source": [
    "try:\n",
    "    name=eval(input('enter a num:'))\n",
    "    if name%2==0:\n",
    "        print('it is even num')\n",
    "    else:\n",
    "        print('it is odd num')\n",
    "except exception as e:\n",
    "    print(e)"
   ]
  },
  {
   "cell_type": "code",
   "execution_count": 26,
   "id": "d2f5c858",
   "metadata": {},
   "outputs": [
    {
     "name": "stdout",
     "output_type": "stream",
     "text": [
      "enter a num:p\n"
     ]
    },
    {
     "ename": "NameError",
     "evalue": "name 'exception' is not defined",
     "output_type": "error",
     "traceback": [
      "\u001b[1;31m---------------------------------------------------------------------------\u001b[0m",
      "\u001b[1;31mNameError\u001b[0m                                 Traceback (most recent call last)",
      "Cell \u001b[1;32mIn[26], line 2\u001b[0m\n\u001b[0;32m      1\u001b[0m \u001b[38;5;28;01mtry\u001b[39;00m:\n\u001b[1;32m----> 2\u001b[0m     name\u001b[38;5;241m=\u001b[39m\u001b[38;5;28meval\u001b[39m(\u001b[38;5;28minput\u001b[39m(\u001b[38;5;124m'\u001b[39m\u001b[38;5;124menter a num:\u001b[39m\u001b[38;5;124m'\u001b[39m))\n\u001b[0;32m      3\u001b[0m     \u001b[38;5;28;01mif\u001b[39;00m name\u001b[38;5;241m%\u001b[39m\u001b[38;5;241m2\u001b[39m\u001b[38;5;241m==\u001b[39m\u001b[38;5;241m0\u001b[39m:\n",
      "File \u001b[1;32m<string>:1\u001b[0m\n",
      "\u001b[1;31mNameError\u001b[0m: name 'p' is not defined",
      "\nDuring handling of the above exception, another exception occurred:\n",
      "\u001b[1;31mNameError\u001b[0m                                 Traceback (most recent call last)",
      "Cell \u001b[1;32mIn[26], line 7\u001b[0m\n\u001b[0;32m      5\u001b[0m     \u001b[38;5;28;01melse\u001b[39;00m:\n\u001b[0;32m      6\u001b[0m         \u001b[38;5;28mprint\u001b[39m(\u001b[38;5;124m'\u001b[39m\u001b[38;5;124mit is odd num\u001b[39m\u001b[38;5;124m'\u001b[39m)\n\u001b[1;32m----> 7\u001b[0m \u001b[38;5;28;01mexcept\u001b[39;00m exception \u001b[38;5;28;01mas\u001b[39;00m e:\n\u001b[0;32m      8\u001b[0m     \u001b[38;5;28mprint\u001b[39m(e)\n",
      "\u001b[1;31mNameError\u001b[0m: name 'exception' is not defined"
     ]
    }
   ],
   "source": [
    "try:\n",
    "    name=eval(input('enter a num:'))\n",
    "    if name%2==0:\n",
    "        print('it is even num')\n",
    "    else:\n",
    "        print('it is odd num')\n",
    "except exception as e:\n",
    "    print(e)"
   ]
  },
  {
   "cell_type": "code",
   "execution_count": 32,
   "id": "4694a03a",
   "metadata": {},
   "outputs": [
    {
     "name": "stdout",
     "output_type": "stream",
     "text": [
      "76 it is even num:\n"
     ]
    }
   ],
   "source": [
    "import random\n",
    "try:\n",
    "    name=random.randint(1,100)\n",
    "    if name%2==0:\n",
    "        print('{} it is even num:'.format(name))\n",
    "    else:\n",
    "        print('{} it is odd num:'.formal(name))\n",
    "except exception as e:\n",
    "    print(e)\n",
    "    "
   ]
  },
  {
   "cell_type": "code",
   "execution_count": 40,
   "id": "5a9ab5cd",
   "metadata": {},
   "outputs": [
    {
     "name": "stdout",
     "output_type": "stream",
     "text": [
      "enter a num:45\n",
      "it is posetive num:\n"
     ]
    }
   ],
   "source": [
    "try:\n",
    "    name=eval(input('enter a num:'))\n",
    "    if name>0:\n",
    "        print('it is posetive num:')\n",
    "    else:\n",
    "        print('it is negative num:')\n",
    "except exception as e:\n",
    "    print(e)"
   ]
  },
  {
   "cell_type": "code",
   "execution_count": 2,
   "id": "51c82e30",
   "metadata": {},
   "outputs": [
    {
     "name": "stdout",
     "output_type": "stream",
     "text": [
      "87 it is posetive num:\n"
     ]
    }
   ],
   "source": [
    "import random\n",
    "try:\n",
    "    name=random.randint(-100,100)\n",
    "    if name>0:\n",
    "        print('{} it is posetive num:'.format(name))\n",
    "    else:\n",
    "        print('{} it is negative num:'.format(name))\n",
    "except exception as e:\n",
    "    print(e)"
   ]
  },
  {
   "cell_type": "code",
   "execution_count": null,
   "id": "8efcab80",
   "metadata": {},
   "outputs": [],
   "source": [
    "# if elif else\n",
    "if <condition> >0\n",
    "elif <con> <0\n",
    "else <con> ==0"
   ]
  },
  {
   "cell_type": "code",
   "execution_count": 4,
   "id": "5a48307e",
   "metadata": {},
   "outputs": [
    {
     "name": "stdout",
     "output_type": "stream",
     "text": [
      "-99 it is posetive num:\n"
     ]
    }
   ],
   "source": [
    "import random\n",
    "try:\n",
    "    name=random.randint(-100,100)\n",
    "    if name<0:\n",
    "        print('{} it is posetive num:'.format(name))\n",
    "    else:\n",
    "        print('{} it is negative num:'.format(name))\n",
    "except exception as e:\n",
    "    print(e)"
   ]
  },
  {
   "cell_type": "code",
   "execution_count": 8,
   "id": "16fe2cf4",
   "metadata": {},
   "outputs": [
    {
     "name": "stdout",
     "output_type": "stream",
     "text": [
      "21 it is posetive num:\n"
     ]
    }
   ],
   "source": [
    "import random\n",
    "try:\n",
    "    name=random.randint(-100,100)\n",
    "    if name>0:\n",
    "        print('{} it is posetive num:'.format(name))\n",
    "    elif num<0:\n",
    "        print('{} it is negative num:'.format(name))\n",
    "    else:\n",
    "        print('{} it is zero num:'.format(name))\n",
    "except exception as e:\n",
    "    print(e)"
   ]
  },
  {
   "cell_type": "code",
   "execution_count": 7,
   "id": "3baa23d0",
   "metadata": {},
   "outputs": [
    {
     "name": "stdout",
     "output_type": "stream",
     "text": [
      "15 it is negative num:\n"
     ]
    }
   ],
   "source": [
    "import random\n",
    "try:\n",
    "    name=random.randint(-100,100)\n",
    "    if name==0:\n",
    "        print('{} it is posetive num:'.format(name))\n",
    "    else:\n",
    "        print('{} it is negative num:'.format(name))\n",
    "except exception as e:\n",
    "    print(e)"
   ]
  },
  {
   "cell_type": "code",
   "execution_count": 1,
   "id": "1ded8ba7",
   "metadata": {},
   "outputs": [
    {
     "name": "stdout",
     "output_type": "stream",
     "text": [
      "enter a num:5\n",
      "print 1 , 2 , 3, 4\n"
     ]
    }
   ],
   "source": [
    "try:\n",
    "    num=eval(input('enter a num:'))\n",
    "    if num==1:\n",
    "        print(\"print one\")\n",
    "    elif num==2:\n",
    "        print('print two')\n",
    "    elif num==3:\n",
    "        print('print three')\n",
    "    elif num==4:\n",
    "        print('enter four')\n",
    "    else:\n",
    "        print('print 1 , 2 , 3, 4')\n",
    "except exception as e:\n",
    "    print(e)     "
   ]
  },
  {
   "cell_type": "markdown",
   "id": "705feb96",
   "metadata": {},
   "source": [
    "## practice on hackerrank "
   ]
  },
  {
   "cell_type": "code",
   "execution_count": 16,
   "id": "bcdfd0b5",
   "metadata": {},
   "outputs": [
    {
     "name": "stdout",
     "output_type": "stream",
     "text": [
      "this is one : 1\n"
     ]
    }
   ],
   "source": [
    "try:\n",
    "    import random\n",
    "    num=random.randint(0,10)\n",
    "    if num==1:\n",
    "        print(\"this is one : 1\")\n",
    "    elif num==2:\n",
    "        print(\"this is two : 2\")\n",
    "    elif num==3:\n",
    "        print(\"this is three: 3\")\n",
    "    elif num==4:\n",
    "        print(\"this is four:4\")\n",
    "    elif num==5:\n",
    "        print(\"this is five:5\")\n",
    "    else:\n",
    "        print(\"this num is 4 , 5 , 6, 7, 8, 9, 10\")\n",
    "except exception as e:\n",
    "    print(e)"
   ]
  },
  {
   "cell_type": "code",
   "execution_count": 24,
   "id": "ce758e10",
   "metadata": {},
   "outputs": [
    {
     "name": "stdout",
     "output_type": "stream",
     "text": [
      "this is three: 3\n"
     ]
    }
   ],
   "source": [
    "try:\n",
    "    import random\n",
    "    num=random.randrange(0,10)\n",
    "    if num==1:\n",
    "        print(\"this is one : 1\")\n",
    "    elif num==2:\n",
    "        print(\"this is two : 2\")\n",
    "    elif num==3:\n",
    "        print(\"this is three: 3\")\n",
    "    elif num==4:\n",
    "        print(\"this is four:4\")\n",
    "    elif num==5:\n",
    "        print(\"this is five:5\")\n",
    "    else:\n",
    "        print(\"this num is 4 , 5 , 6, 7, 8, 9, 10\")\n",
    "except exception as e:\n",
    "    print(e)"
   ]
  },
  {
   "cell_type": "code",
   "execution_count": null,
   "id": "e42dfffa",
   "metadata": {},
   "outputs": [],
   "source": []
  }
 ],
 "metadata": {
  "kernelspec": {
   "display_name": "Python 3 (ipykernel)",
   "language": "python",
   "name": "python3"
  },
  "language_info": {
   "codemirror_mode": {
    "name": "ipython",
    "version": 3
   },
   "file_extension": ".py",
   "mimetype": "text/x-python",
   "name": "python",
   "nbconvert_exporter": "python",
   "pygments_lexer": "ipython3",
   "version": "3.11.5"
  }
 },
 "nbformat": 4,
 "nbformat_minor": 5
}
