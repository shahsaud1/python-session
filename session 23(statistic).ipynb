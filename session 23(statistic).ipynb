{
 "cells": [
  {
   "cell_type": "markdown",
   "id": "70a3cafb",
   "metadata": {},
   "source": [
    "### statistics\n",
    "3 parts\n",
    "  1) basic statistics\n",
    "  2) Graph\n",
    "  3) visualization"
   ]
  },
  {
   "cell_type": "code",
   "execution_count": null,
   "id": "3a9a4f8f",
   "metadata": {},
   "outputs": [],
   "source": [
    "string1 =  \"\"\"Twinkle, twinkle, little star,\n",
    "                    How I wonder what you are!\n",
    "                           Up above the world so high, \n",
    "                                Like a diamond in the sky.\n",
    "            Twinkle, twinkle, little star,\n",
    "                How I wonder what you are\"\"\"\n",
    "print(string1)"
   ]
  },
  {
   "cell_type": "code",
   "execution_count": null,
   "id": "6aaccd10",
   "metadata": {},
   "outputs": [],
   "source": []
  }
 ],
 "metadata": {
  "kernelspec": {
   "display_name": "Python 3 (ipykernel)",
   "language": "python",
   "name": "python3"
  },
  "language_info": {
   "codemirror_mode": {
    "name": "ipython",
    "version": 3
   },
   "file_extension": ".py",
   "mimetype": "text/x-python",
   "name": "python",
   "nbconvert_exporter": "python",
   "pygments_lexer": "ipython3",
   "version": "3.11.5"
  }
 },
 "nbformat": 4,
 "nbformat_minor": 5
}
