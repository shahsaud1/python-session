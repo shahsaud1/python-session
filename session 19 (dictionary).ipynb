{
 "cells": [
  {
   "cell_type": "markdown",
   "id": "8b78ea98",
   "metadata": {},
   "source": [
    "- string\n",
    "\n",
    "- list\n",
    "\n",
    "- dictionary \n",
    " \n",
    "- tuple/set\n",
    "\n",
    "- lambda function\n",
    "\n",
    "- file handling\n"
   ]
  },
  {
   "cell_type": "markdown",
   "id": "88cf521e",
   "metadata": {},
   "source": [
    "$Dictionary$"
   ]
  },
  {
   "cell_type": "code",
   "execution_count": 1,
   "id": "9691b9eb",
   "metadata": {},
   "outputs": [
    {
     "name": "stdout",
     "output_type": "stream",
     "text": [
      "the raam age is 25\n",
      "the rahhem age is 30\n",
      "the robert age is 35\n"
     ]
    }
   ],
   "source": [
    "list1 =['raam','rahhem','robert']\n",
    "ages = [25,30,35]\n",
    "for i,j in zip(list1,ages):\n",
    "    print('the {} age is {}'.format(i,j))"
   ]
  },
  {
   "cell_type": "markdown",
   "id": "e3bb5797",
   "metadata": {},
   "source": [
    "**key-value pair concept**"
   ]
  },
  {
   "cell_type": "code",
   "execution_count": null,
   "id": "8237768f",
   "metadata": {},
   "outputs": [],
   "source": [
    "{key:value}"
   ]
  },
  {
   "cell_type": "code",
   "execution_count": 3,
   "id": "3807d07a",
   "metadata": {},
   "outputs": [
    {
     "data": {
      "text/plain": [
       "{'ram': 25, 'raheem': 30, 'robert': 35}"
      ]
     },
     "execution_count": 3,
     "metadata": {},
     "output_type": "execute_result"
    }
   ],
   "source": [
    "dict1 = {'ram':25,'raheem':30,'robert':35}\n",
    "dict1"
   ]
  },
  {
   "cell_type": "code",
   "execution_count": 4,
   "id": "ee854bf8",
   "metadata": {},
   "outputs": [
    {
     "data": {
      "text/plain": [
       "dict"
      ]
     },
     "execution_count": 4,
     "metadata": {},
     "output_type": "execute_result"
    }
   ],
   "source": [
    "type(dict1)"
   ]
  },
  {
   "cell_type": "code",
   "execution_count": 5,
   "id": "bb8b85e4",
   "metadata": {},
   "outputs": [
    {
     "data": {
      "text/plain": [
       "3"
      ]
     },
     "execution_count": 5,
     "metadata": {},
     "output_type": "execute_result"
    }
   ],
   "source": [
    "len(dict1)"
   ]
  },
  {
   "cell_type": "code",
   "execution_count": 6,
   "id": "2337fcb6",
   "metadata": {},
   "outputs": [
    {
     "data": {
      "text/plain": [
       "'robert'"
      ]
     },
     "execution_count": 6,
     "metadata": {},
     "output_type": "execute_result"
    }
   ],
   "source": [
    "max(dict1)"
   ]
  },
  {
   "cell_type": "code",
   "execution_count": 7,
   "id": "68872afa",
   "metadata": {},
   "outputs": [
    {
     "data": {
      "text/plain": [
       "'raheem'"
      ]
     },
     "execution_count": 7,
     "metadata": {},
     "output_type": "execute_result"
    }
   ],
   "source": [
    "min(dict1)"
   ]
  },
  {
   "cell_type": "markdown",
   "id": "0ee91a93",
   "metadata": {},
   "source": [
    "- max value and min value based on key value"
   ]
  },
  {
   "cell_type": "code",
   "execution_count": 9,
   "id": "d0c42220",
   "metadata": {},
   "outputs": [
    {
     "data": {
      "text/plain": [
       "{'names': ['ram', 'raheem', 'robert'], 'ages': [25, 30, 35]}"
      ]
     },
     "execution_count": 9,
     "metadata": {},
     "output_type": "execute_result"
    }
   ],
   "source": [
    "dict1 = {'ram':25,'raheem':30,'robert':35}\n",
    "dict2={'names':['ram','raheem','robert'],'ages':[25,30,35]}\n",
    "dict2\n"
   ]
  },
  {
   "cell_type": "code",
   "execution_count": 10,
   "id": "dcd5a5b1",
   "metadata": {},
   "outputs": [
    {
     "ename": "TypeError",
     "evalue": "unhashable type: 'list'",
     "output_type": "error",
     "traceback": [
      "\u001b[1;31m---------------------------------------------------------------------------\u001b[0m",
      "\u001b[1;31mTypeError\u001b[0m                                 Traceback (most recent call last)",
      "Cell \u001b[1;32mIn[10], line 1\u001b[0m\n\u001b[1;32m----> 1\u001b[0m dict4\u001b[38;5;241m=\u001b[39m {[\u001b[38;5;124m'\u001b[39m\u001b[38;5;124mram\u001b[39m\u001b[38;5;124m'\u001b[39m,\u001b[38;5;124m'\u001b[39m\u001b[38;5;124mraheem\u001b[39m\u001b[38;5;124m'\u001b[39m,\u001b[38;5;124m'\u001b[39m\u001b[38;5;124mrobert\u001b[39m\u001b[38;5;124m'\u001b[39m]:\u001b[38;5;124m'\u001b[39m\u001b[38;5;124mnames\u001b[39m\u001b[38;5;124m'\u001b[39m}\n\u001b[0;32m      2\u001b[0m dict4\n",
      "\u001b[1;31mTypeError\u001b[0m: unhashable type: 'list'"
     ]
    }
   ],
   "source": [
    "dict4= {['ram','raheem','robert']:'names'}\n",
    "dict4"
   ]
  },
  {
   "cell_type": "code",
   "execution_count": 12,
   "id": "4dc69654",
   "metadata": {},
   "outputs": [
    {
     "data": {
      "text/plain": [
       "{25: 35}"
      ]
     },
     "execution_count": 12,
     "metadata": {},
     "output_type": "execute_result"
    }
   ],
   "source": [
    "dict5 = {25:35}\n",
    "dict5"
   ]
  },
  {
   "cell_type": "code",
   "execution_count": 13,
   "id": "a31c60c2",
   "metadata": {},
   "outputs": [
    {
     "data": {
      "text/plain": [
       "{'a': 'apple', 'b': 10.5, 'c': (10+5j), 12: ['a', 'b', 'c']}"
      ]
     },
     "execution_count": 13,
     "metadata": {},
     "output_type": "execute_result"
    }
   ],
   "source": [
    "dict6 = {'a':'apple','b':10.5,'c':10+5j,12:['a','b','c']}\n",
    "dict6"
   ]
  },
  {
   "cell_type": "code",
   "execution_count": 15,
   "id": "927607fb",
   "metadata": {},
   "outputs": [
    {
     "ename": "TypeError",
     "evalue": "unhashable type: 'list'",
     "output_type": "error",
     "traceback": [
      "\u001b[1;31m---------------------------------------------------------------------------\u001b[0m",
      "\u001b[1;31mTypeError\u001b[0m                                 Traceback (most recent call last)",
      "Cell \u001b[1;32mIn[15], line 1\u001b[0m\n\u001b[1;32m----> 1\u001b[0m dict7 \u001b[38;5;241m=\u001b[39m {[\u001b[38;5;124m'\u001b[39m\u001b[38;5;124ma\u001b[39m\u001b[38;5;124m'\u001b[39m]:\u001b[38;5;124m'\u001b[39m\u001b[38;5;124mapple\u001b[39m\u001b[38;5;124m'\u001b[39m,\u001b[38;5;124m'\u001b[39m\u001b[38;5;124mb\u001b[39m\u001b[38;5;124m'\u001b[39m:\u001b[38;5;241m10.5\u001b[39m,\u001b[38;5;124m'\u001b[39m\u001b[38;5;124mc\u001b[39m\u001b[38;5;124m'\u001b[39m:\u001b[38;5;241m10\u001b[39m\u001b[38;5;241m+\u001b[39m\u001b[38;5;241m5\u001b[39mj,\u001b[38;5;241m12\u001b[39m:[\u001b[38;5;124m'\u001b[39m\u001b[38;5;124ma\u001b[39m\u001b[38;5;124m'\u001b[39m,\u001b[38;5;124m'\u001b[39m\u001b[38;5;124mb\u001b[39m\u001b[38;5;124m'\u001b[39m,\u001b[38;5;124m'\u001b[39m\u001b[38;5;124mc\u001b[39m\u001b[38;5;124m'\u001b[39m]}\n\u001b[0;32m      2\u001b[0m dict7\n",
      "\u001b[1;31mTypeError\u001b[0m: unhashable type: 'list'"
     ]
    }
   ],
   "source": [
    "dict7 = {['a']:'apple','b':10.5,'c':10+5j,12:['a','b','c']}\n",
    "dict7"
   ]
  },
  {
   "cell_type": "code",
   "execution_count": 16,
   "id": "604d1577",
   "metadata": {},
   "outputs": [
    {
     "data": {
      "text/plain": [
       "{'fruits': {'like': ['apple', 'cherry']}}"
      ]
     },
     "execution_count": 16,
     "metadata": {},
     "output_type": "execute_result"
    }
   ],
   "source": [
    "d7 = {'fruits':{'like':['apple','cherry']}}  #json file type\n",
    "d7"
   ]
  },
  {
   "cell_type": "markdown",
   "id": "add4f741",
   "metadata": {},
   "source": [
    "- if you provide multiple value at the key position it will fail"
   ]
  },
  {
   "cell_type": "code",
   "execution_count": 17,
   "id": "a9d8f522",
   "metadata": {},
   "outputs": [
    {
     "data": {
      "text/plain": [
       "{'mobin': 'amazon'}"
      ]
     },
     "execution_count": 17,
     "metadata": {},
     "output_type": "execute_result"
    }
   ],
   "source": [
    "d8 = {'mobin':'amazon','mobin':'amazon'}\n",
    "d8"
   ]
  },
  {
   "cell_type": "markdown",
   "id": "89e3e557",
   "metadata": {},
   "source": [
    "- duplicate are not allowet"
   ]
  },
  {
   "cell_type": "code",
   "execution_count": 18,
   "id": "11342d3c",
   "metadata": {},
   "outputs": [
    {
     "data": {
      "text/plain": [
       "{'ravi': 35}"
      ]
     },
     "execution_count": 18,
     "metadata": {},
     "output_type": "execute_result"
    }
   ],
   "source": [
    "d9 = {'ravi':25,'ravi':35}\n",
    "d9"
   ]
  },
  {
   "cell_type": "markdown",
   "id": "1865d414",
   "metadata": {},
   "source": [
    "- if key same the last value taken"
   ]
  },
  {
   "cell_type": "code",
   "execution_count": 19,
   "id": "5a023cd2",
   "metadata": {},
   "outputs": [
    {
     "data": {
      "text/plain": [
       "{'ram': 25, 'raheem': 30, 'robert': 35}"
      ]
     },
     "execution_count": 19,
     "metadata": {},
     "output_type": "execute_result"
    }
   ],
   "source": [
    "dict1"
   ]
  },
  {
   "cell_type": "code",
   "execution_count": 20,
   "id": "48f13203",
   "metadata": {},
   "outputs": [
    {
     "data": {
      "text/plain": [
       "True"
      ]
     },
     "execution_count": 20,
     "metadata": {},
     "output_type": "execute_result"
    }
   ],
   "source": [
    "'ram' in dict1"
   ]
  },
  {
   "cell_type": "code",
   "execution_count": 21,
   "id": "aa7ce930",
   "metadata": {},
   "outputs": [
    {
     "ename": "SyntaxError",
     "evalue": "illegal target for annotation (1077892619.py, line 1)",
     "output_type": "error",
     "traceback": [
      "\u001b[1;36m  Cell \u001b[1;32mIn[21], line 1\u001b[1;36m\u001b[0m\n\u001b[1;33m    'ram': 25 in dict1\u001b[0m\n\u001b[1;37m    ^\u001b[0m\n\u001b[1;31mSyntaxError\u001b[0m\u001b[1;31m:\u001b[0m illegal target for annotation\n"
     ]
    }
   ],
   "source": [
    "'ram': 25 in dict1"
   ]
  },
  {
   "cell_type": "code",
   "execution_count": 22,
   "id": "a65f9211",
   "metadata": {},
   "outputs": [
    {
     "name": "stdout",
     "output_type": "stream",
     "text": [
      "ram\n",
      "raheem\n",
      "robert\n"
     ]
    }
   ],
   "source": [
    "for i in dict1:\n",
    "    print(i)    #if you iterate through for loop only key will come (very very important)"
   ]
  },
  {
   "cell_type": "code",
   "execution_count": 23,
   "id": "447f8cb3",
   "metadata": {},
   "outputs": [
    {
     "ename": "KeyError",
     "evalue": "0",
     "output_type": "error",
     "traceback": [
      "\u001b[1;31m---------------------------------------------------------------------------\u001b[0m",
      "\u001b[1;31mKeyError\u001b[0m                                  Traceback (most recent call last)",
      "Cell \u001b[1;32mIn[23], line 1\u001b[0m\n\u001b[1;32m----> 1\u001b[0m dict1[\u001b[38;5;241m0\u001b[39m]\n",
      "\u001b[1;31mKeyError\u001b[0m: 0"
     ]
    }
   ],
   "source": [
    "dict1[0]"
   ]
  },
  {
   "cell_type": "markdown",
   "id": "ddc83140",
   "metadata": {},
   "source": [
    "- dictionary value retrive based on key only"
   ]
  },
  {
   "cell_type": "code",
   "execution_count": 25,
   "id": "774d68d6",
   "metadata": {},
   "outputs": [
    {
     "data": {
      "text/plain": [
       "(25, 30, 35)"
      ]
     },
     "execution_count": 25,
     "metadata": {},
     "output_type": "execute_result"
    }
   ],
   "source": [
    "dict1['ram'],dict1['raheem'],dict1['robert']"
   ]
  },
  {
   "cell_type": "code",
   "execution_count": null,
   "id": "27fbcd2d",
   "metadata": {},
   "outputs": [],
   "source": [
    "# wap by using for loop get the value\n",
    "# if you iterate normally only keys are coming"
   ]
  },
  {
   "cell_type": "code",
   "execution_count": 29,
   "id": "e96be705",
   "metadata": {},
   "outputs": [
    {
     "name": "stdout",
     "output_type": "stream",
     "text": [
      "ram 25\n",
      "raheem 30\n",
      "robert 35\n"
     ]
    }
   ],
   "source": [
    "for i in dict1:\n",
    "    print(i,dict1[i])"
   ]
  },
  {
   "cell_type": "code",
   "execution_count": 40,
   "id": "8b7fe334",
   "metadata": {},
   "outputs": [
    {
     "name": "stdout",
     "output_type": "stream",
     "text": [
      "ram 25\n",
      "raheem 30\n",
      "robert 35\n"
     ]
    }
   ],
   "source": [
    "dict2={'names':['ram','raheem','robert'],'ages':[25,30,35]}\n",
    "print(dict2['names'][0],dict2['ages'][0])\n",
    "print(dict2['names'][1],dict2['ages'][1])\n",
    "print(dict2['names'][2],dict2['ages'][2])"
   ]
  },
  {
   "cell_type": "code",
   "execution_count": 41,
   "id": "33ec8886",
   "metadata": {},
   "outputs": [
    {
     "name": "stdout",
     "output_type": "stream",
     "text": [
      "ram 25\n",
      "raheem 30\n",
      "robert 35\n"
     ]
    }
   ],
   "source": [
    "for i in range(3):\n",
    "    print(dict2['names'][i],dict2['ages'][i])"
   ]
  },
  {
   "cell_type": "code",
   "execution_count": 42,
   "id": "29a099a1",
   "metadata": {},
   "outputs": [
    {
     "name": "stdout",
     "output_type": "stream",
     "text": [
      "robert 30\n"
     ]
    }
   ],
   "source": [
    "print(dict2['names'][2],dict2['ages'][1])"
   ]
  },
  {
   "cell_type": "code",
   "execution_count": 45,
   "id": "c3d6ca45",
   "metadata": {},
   "outputs": [
    {
     "name": "stdout",
     "output_type": "stream",
     "text": [
      "python\n"
     ]
    }
   ],
   "source": [
    "d1 = {'hello':{'hello':{'hello':{'hello':'python'}}}}\n",
    "print(d1['hello']['hello']['hello']['hello'])"
   ]
  },
  {
   "cell_type": "code",
   "execution_count": 50,
   "id": "20aca679",
   "metadata": {},
   "outputs": [
    {
     "name": "stdout",
     "output_type": "stream",
     "text": [
      "cherry\n"
     ]
    }
   ],
   "source": [
    "d2 = {'hello':[{'fruits':['apple','banana',{'like':['cherry']}]}]}\n",
    "print(d2['hello'][0]['fruits'][2]['like'][0])"
   ]
  },
  {
   "cell_type": "code",
   "execution_count": null,
   "id": "ea76c8c3",
   "metadata": {},
   "outputs": [],
   "source": [
    "# how to create a empty dictionary\n",
    "dict1= {}\n",
    "list1= []\n",
    "string1=''"
   ]
  },
  {
   "cell_type": "code",
   "execution_count": 58,
   "id": "0dddb272",
   "metadata": {},
   "outputs": [
    {
     "data": {
      "text/plain": [
       "{'ram': 25, 'raheem': 30, 'robert': 35, 'nareshit': ['ds', 'mlops', 'de']}"
      ]
     },
     "execution_count": 58,
     "metadata": {},
     "output_type": "execute_result"
    }
   ],
   "source": [
    "dict1['nareshit']=['ds','mlops','de']\n",
    "dict1"
   ]
  },
  {
   "cell_type": "code",
   "execution_count": 70,
   "id": "1034cdd7",
   "metadata": {},
   "outputs": [],
   "source": [
    "import random\n",
    "dict1 = {}\n",
    "even = []\n",
    "odd = []\n",
    "\n",
    "for i in range(5):\n",
    "    num = random.randint(10,100)\n",
    "    if num%2 == 0:\n",
    "        even.append(num)\n",
    "    else:\n",
    "        odd.append(num)\n",
    "dict1['even']=even\n",
    "dict1['odd']=odd"
   ]
  },
  {
   "cell_type": "code",
   "execution_count": 71,
   "id": "abd777b7",
   "metadata": {},
   "outputs": [
    {
     "data": {
      "text/plain": [
       "{'even': [22, 14], 'odd': [27, 77, 99]}"
      ]
     },
     "execution_count": 71,
     "metadata": {},
     "output_type": "execute_result"
    }
   ],
   "source": [
    "dict1"
   ]
  },
  {
   "cell_type": "code",
   "execution_count": null,
   "id": "92f61bd4",
   "metadata": {},
   "outputs": [],
   "source": [
    "output= []"
   ]
  }
 ],
 "metadata": {
  "kernelspec": {
   "display_name": "Python 3 (ipykernel)",
   "language": "python",
   "name": "python3"
  },
  "language_info": {
   "codemirror_mode": {
    "name": "ipython",
    "version": 3
   },
   "file_extension": ".py",
   "mimetype": "text/x-python",
   "name": "python",
   "nbconvert_exporter": "python",
   "pygments_lexer": "ipython3",
   "version": "3.11.5"
  }
 },
 "nbformat": 4,
 "nbformat_minor": 5
}
