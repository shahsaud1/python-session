{
 "cells": [
  {
   "cell_type": "markdown",
   "id": "a3f35ca1",
   "metadata": {},
   "source": [
    "## type casting\n",
    "   - data type conversion\n",
    "   - converting one data type to another data type"
   ]
  },
  {
   "cell_type": "markdown",
   "id": "b7b2b663",
   "metadata": {},
   "source": [
    "**int to other data type**"
   ]
  },
  {
   "cell_type": "code",
   "execution_count": 1,
   "id": "9434cb3e",
   "metadata": {},
   "outputs": [
    {
     "data": {
      "text/plain": [
       "int"
      ]
     },
     "execution_count": 1,
     "metadata": {},
     "output_type": "execute_result"
    }
   ],
   "source": [
    "number=100\n",
    "type(number)"
   ]
  },
  {
   "cell_type": "code",
   "execution_count": 6,
   "id": "377ce6f1",
   "metadata": {},
   "outputs": [
    {
     "data": {
      "text/plain": [
       "'100'"
      ]
     },
     "execution_count": 6,
     "metadata": {},
     "output_type": "execute_result"
    }
   ],
   "source": [
    "## convert inti srt type\n",
    "string_number=str(number)\n",
    "string_number"
   ]
  },
  {
   "cell_type": "code",
   "execution_count": 7,
   "id": "fd7d006b",
   "metadata": {},
   "outputs": [
    {
     "data": {
      "text/plain": [
       "str"
      ]
     },
     "execution_count": 7,
     "metadata": {},
     "output_type": "execute_result"
    }
   ],
   "source": [
    "type(string_number)"
   ]
  },
  {
   "cell_type": "markdown",
   "id": "3f28797d",
   "metadata": {},
   "source": [
    "**convert into boolean"
   ]
  },
  {
   "cell_type": "code",
   "execution_count": 8,
   "id": "5d1d618c",
   "metadata": {},
   "outputs": [
    {
     "data": {
      "text/plain": [
       "True"
      ]
     },
     "execution_count": 8,
     "metadata": {},
     "output_type": "execute_result"
    }
   ],
   "source": [
    "bool(number)"
   ]
  },
  {
   "cell_type": "code",
   "execution_count": 9,
   "id": "1f7e2e61",
   "metadata": {},
   "outputs": [
    {
     "data": {
      "text/plain": [
       "True"
      ]
     },
     "execution_count": 9,
     "metadata": {},
     "output_type": "execute_result"
    }
   ],
   "source": [
    "bool(200)"
   ]
  },
  {
   "cell_type": "code",
   "execution_count": 10,
   "id": "104ad69c",
   "metadata": {},
   "outputs": [
    {
     "data": {
      "text/plain": [
       "True"
      ]
     },
     "execution_count": 10,
     "metadata": {},
     "output_type": "execute_result"
    }
   ],
   "source": [
    "bool(100)"
   ]
  },
  {
   "cell_type": "code",
   "execution_count": 11,
   "id": "e5406a16",
   "metadata": {},
   "outputs": [
    {
     "data": {
      "text/plain": [
       "True"
      ]
     },
     "execution_count": 11,
     "metadata": {},
     "output_type": "execute_result"
    }
   ],
   "source": [
    "bool(200)\n",
    "bool(300)"
   ]
  },
  {
   "cell_type": "code",
   "execution_count": 13,
   "id": "596df53e",
   "metadata": {},
   "outputs": [
    {
     "data": {
      "text/plain": [
       "True"
      ]
     },
     "execution_count": 13,
     "metadata": {},
     "output_type": "execute_result"
    }
   ],
   "source": [
    "bool(-200)"
   ]
  },
  {
   "cell_type": "code",
   "execution_count": 14,
   "id": "78d75d48",
   "metadata": {},
   "outputs": [
    {
     "data": {
      "text/plain": [
       "True"
      ]
     },
     "execution_count": 14,
     "metadata": {},
     "output_type": "execute_result"
    }
   ],
   "source": [
    "bool(1)"
   ]
  },
  {
   "cell_type": "code",
   "execution_count": 15,
   "id": "12b5c587",
   "metadata": {},
   "outputs": [
    {
     "data": {
      "text/plain": [
       "False"
      ]
     },
     "execution_count": 15,
     "metadata": {},
     "output_type": "execute_result"
    }
   ],
   "source": [
    "bool(0)\n",
    "##other than zero everything is true under the bool operations"
   ]
  },
  {
   "cell_type": "markdown",
   "id": "a53e4eba",
   "metadata": {},
   "source": [
    "**complex**"
   ]
  },
  {
   "cell_type": "code",
   "execution_count": 16,
   "id": "0d6023ef",
   "metadata": {},
   "outputs": [
    {
     "data": {
      "text/plain": [
       "(200+0j)"
      ]
     },
     "execution_count": 16,
     "metadata": {},
     "output_type": "execute_result"
    }
   ],
   "source": [
    "a=200\n",
    "complex(a)"
   ]
  },
  {
   "cell_type": "code",
   "execution_count": 19,
   "id": "2971336b",
   "metadata": {},
   "outputs": [
    {
     "data": {
      "text/plain": [
       "(200+300j)"
      ]
     },
     "execution_count": 19,
     "metadata": {},
     "output_type": "execute_result"
    }
   ],
   "source": [
    "a=200\n",
    "b=300\n",
    "complex(a,b)"
   ]
  },
  {
   "cell_type": "code",
   "execution_count": 20,
   "id": "5601f0e7",
   "metadata": {},
   "outputs": [
    {
     "data": {
      "text/plain": [
       "300j"
      ]
     },
     "execution_count": 20,
     "metadata": {},
     "output_type": "execute_result"
    }
   ],
   "source": [
    "a=0\n",
    "b=300\n",
    "complex(a,b)"
   ]
  },
  {
   "cell_type": "code",
   "execution_count": 22,
   "id": "f54a501c",
   "metadata": {},
   "outputs": [
    {
     "data": {
      "text/plain": [
       "300j"
      ]
     },
     "execution_count": 22,
     "metadata": {},
     "output_type": "execute_result"
    }
   ],
   "source": [
    "complex(0,300)"
   ]
  },
  {
   "cell_type": "markdown",
   "id": "bfd19cd6",
   "metadata": {},
   "source": [
    "# int to float \n",
    "# int to str\n",
    "# int to bool\n",
    "# int to complex"
   ]
  },
  {
   "cell_type": "markdown",
   "id": "98c65c96",
   "metadata": {},
   "source": [
    "**float to other data type"
   ]
  },
  {
   "cell_type": "code",
   "execution_count": 23,
   "id": "ad6be9b4",
   "metadata": {},
   "outputs": [
    {
     "data": {
      "text/plain": [
       "10.5"
      ]
     },
     "execution_count": 23,
     "metadata": {},
     "output_type": "execute_result"
    }
   ],
   "source": [
    "number1=10.5\n",
    "number1"
   ]
  },
  {
   "cell_type": "code",
   "execution_count": 24,
   "id": "02a968a2",
   "metadata": {},
   "outputs": [
    {
     "data": {
      "text/plain": [
       "float"
      ]
     },
     "execution_count": 24,
     "metadata": {},
     "output_type": "execute_result"
    }
   ],
   "source": [
    "type(number1)"
   ]
  },
  {
   "cell_type": "markdown",
   "id": "6a50ed40",
   "metadata": {},
   "source": [
    "**float to int"
   ]
  },
  {
   "cell_type": "code",
   "execution_count": 25,
   "id": "37fcb95a",
   "metadata": {},
   "outputs": [
    {
     "data": {
      "text/plain": [
       "10"
      ]
     },
     "execution_count": 25,
     "metadata": {},
     "output_type": "execute_result"
    }
   ],
   "source": [
    "int_number=int(number1)\n",
    "int_number"
   ]
  },
  {
   "cell_type": "code",
   "execution_count": 26,
   "id": "23cb4c15",
   "metadata": {},
   "outputs": [
    {
     "data": {
      "text/plain": [
       "float"
      ]
     },
     "execution_count": 26,
     "metadata": {},
     "output_type": "execute_result"
    }
   ],
   "source": [
    "type(number1)"
   ]
  },
  {
   "cell_type": "code",
   "execution_count": null,
   "id": "212c8815",
   "metadata": {},
   "outputs": [],
   "source": [
    "#float to strings\n",
    "float(number)\n",
    "#float to complex\n",
    "complex(number1)"
   ]
  },
  {
   "cell_type": "markdown",
   "id": "3141f4d3",
   "metadata": {},
   "source": [
    "float to string**"
   ]
  },
  {
   "cell_type": "code",
   "execution_count": 27,
   "id": "137f4763",
   "metadata": {},
   "outputs": [
    {
     "data": {
      "text/plain": [
       "'10.5'"
      ]
     },
     "execution_count": 27,
     "metadata": {},
     "output_type": "execute_result"
    }
   ],
   "source": [
    "str(number1)"
   ]
  },
  {
   "cell_type": "markdown",
   "id": "25dcfff6",
   "metadata": {},
   "source": [
    "float to bool**"
   ]
  },
  {
   "cell_type": "code",
   "execution_count": 28,
   "id": "c03ce9dc",
   "metadata": {},
   "outputs": [
    {
     "data": {
      "text/plain": [
       "True"
      ]
     },
     "execution_count": 28,
     "metadata": {},
     "output_type": "execute_result"
    }
   ],
   "source": [
    "bool(number1)"
   ]
  },
  {
   "cell_type": "markdown",
   "id": "1353194c",
   "metadata": {},
   "source": [
    "float to complex**"
   ]
  },
  {
   "cell_type": "code",
   "execution_count": 29,
   "id": "03e1b667",
   "metadata": {},
   "outputs": [
    {
     "data": {
      "text/plain": [
       "(10.5+0j)"
      ]
     },
     "execution_count": 29,
     "metadata": {},
     "output_type": "execute_result"
    }
   ],
   "source": [
    "complex(number1)"
   ]
  },
  {
   "cell_type": "markdown",
   "id": "5b0857c9",
   "metadata": {},
   "source": [
    "**string to other data types"
   ]
  },
  {
   "cell_type": "code",
   "execution_count": null,
   "id": "d83136d3",
   "metadata": {},
   "outputs": [],
   "source": [
    "string1='python'\n",
    "\n",
    "int(string1)\n",
    "float(string1)\n",
    "bool(string1)\n",
    "complex(string1)\n"
   ]
  },
  {
   "cell_type": "code",
   "execution_count": 30,
   "id": "5f16e7da",
   "metadata": {},
   "outputs": [
    {
     "ename": "NameError",
     "evalue": "name 'string1' is not defined",
     "output_type": "error",
     "traceback": [
      "\u001b[1;31m---------------------------------------------------------------------------\u001b[0m",
      "\u001b[1;31mNameError\u001b[0m                                 Traceback (most recent call last)",
      "Cell \u001b[1;32mIn[30], line 1\u001b[0m\n\u001b[1;32m----> 1\u001b[0m \u001b[38;5;28mint\u001b[39m(string1)\n",
      "\u001b[1;31mNameError\u001b[0m: name 'string1' is not defined"
     ]
    }
   ],
   "source": [
    "int(string1)"
   ]
  },
  {
   "cell_type": "code",
   "execution_count": 32,
   "id": "a864b310",
   "metadata": {},
   "outputs": [
    {
     "data": {
      "text/plain": [
       "True"
      ]
     },
     "execution_count": 32,
     "metadata": {},
     "output_type": "execute_result"
    }
   ],
   "source": [
    "string1='python'\n",
    "bool(string1)"
   ]
  },
  {
   "cell_type": "code",
   "execution_count": 33,
   "id": "34f29735",
   "metadata": {},
   "outputs": [
    {
     "data": {
      "text/plain": [
       "False"
      ]
     },
     "execution_count": 33,
     "metadata": {},
     "output_type": "execute_result"
    }
   ],
   "source": [
    "string2=\"\"    #empty string is nothimg mentioned in quates\n",
    "bool(string2)"
   ]
  },
  {
   "cell_type": "code",
   "execution_count": null,
   "id": "1394c045",
   "metadata": {},
   "outputs": [],
   "source": [
    "#when it is zero it is false\n",
    "#when it is empty string it is false"
   ]
  },
  {
   "cell_type": "code",
   "execution_count": 35,
   "id": "76bad1e9",
   "metadata": {},
   "outputs": [
    {
     "ename": "ValueError",
     "evalue": "complex() arg is a malformed string",
     "output_type": "error",
     "traceback": [
      "\u001b[1;31m---------------------------------------------------------------------------\u001b[0m",
      "\u001b[1;31mValueError\u001b[0m                                Traceback (most recent call last)",
      "Cell \u001b[1;32mIn[35], line 1\u001b[0m\n\u001b[1;32m----> 1\u001b[0m \u001b[38;5;28mcomplex\u001b[39m(string)\n",
      "\u001b[1;31mValueError\u001b[0m: complex() arg is a malformed string"
     ]
    }
   ],
   "source": [
    "complex(string)"
   ]
  },
  {
   "cell_type": "code",
   "execution_count": 36,
   "id": "821edb26",
   "metadata": {},
   "outputs": [
    {
     "data": {
      "text/plain": [
       "10"
      ]
     },
     "execution_count": 36,
     "metadata": {},
     "output_type": "execute_result"
    }
   ],
   "source": [
    "string3='10'\n",
    "int(string3)"
   ]
  },
  {
   "cell_type": "code",
   "execution_count": 37,
   "id": "743d0a1c",
   "metadata": {},
   "outputs": [
    {
     "data": {
      "text/plain": [
       "10.0"
      ]
     },
     "execution_count": 37,
     "metadata": {},
     "output_type": "execute_result"
    }
   ],
   "source": [
    "float(string3)"
   ]
  },
  {
   "cell_type": "code",
   "execution_count": 38,
   "id": "3774957f",
   "metadata": {},
   "outputs": [
    {
     "data": {
      "text/plain": [
       "True"
      ]
     },
     "execution_count": 38,
     "metadata": {},
     "output_type": "execute_result"
    }
   ],
   "source": [
    "bool(string3)"
   ]
  },
  {
   "cell_type": "code",
   "execution_count": 39,
   "id": "616c3e3d",
   "metadata": {},
   "outputs": [
    {
     "data": {
      "text/plain": [
       "(10+0j)"
      ]
     },
     "execution_count": 39,
     "metadata": {},
     "output_type": "execute_result"
    }
   ],
   "source": [
    "complex(string3)"
   ]
  },
  {
   "cell_type": "code",
   "execution_count": 40,
   "id": "dae84318",
   "metadata": {},
   "outputs": [
    {
     "ename": "ValueError",
     "evalue": "invalid literal for int() with base 10: '10.5'",
     "output_type": "error",
     "traceback": [
      "\u001b[1;31m---------------------------------------------------------------------------\u001b[0m",
      "\u001b[1;31mValueError\u001b[0m                                Traceback (most recent call last)",
      "Cell \u001b[1;32mIn[40], line 2\u001b[0m\n\u001b[0;32m      1\u001b[0m string4\u001b[38;5;241m=\u001b[39m\u001b[38;5;124m'\u001b[39m\u001b[38;5;124m10.5\u001b[39m\u001b[38;5;124m'\u001b[39m\n\u001b[1;32m----> 2\u001b[0m \u001b[38;5;28mint\u001b[39m(string4)\n",
      "\u001b[1;31mValueError\u001b[0m: invalid literal for int() with base 10: '10.5'"
     ]
    }
   ],
   "source": [
    "string4='10.5'\n",
    "int(string4)"
   ]
  },
  {
   "cell_type": "code",
   "execution_count": 41,
   "id": "e396f511",
   "metadata": {},
   "outputs": [
    {
     "data": {
      "text/plain": [
       "10.5"
      ]
     },
     "execution_count": 41,
     "metadata": {},
     "output_type": "execute_result"
    }
   ],
   "source": [
    "float(string4)"
   ]
  },
  {
   "cell_type": "code",
   "execution_count": null,
   "id": "868f63fa",
   "metadata": {},
   "outputs": [],
   "source": [
    "##float is the boss 10 10.5 it will give the answer\n",
    "##int will works only on integers\n",
    "##int will not works on float value in quates"
   ]
  },
  {
   "cell_type": "code",
   "execution_count": null,
   "id": "1bdfec59",
   "metadata": {},
   "outputs": [],
   "source": [
    "string1='python'\n",
    "string2='10'\n",
    "string3='10.5'\n",
    "string4='10+20j'"
   ]
  },
  {
   "cell_type": "code",
   "execution_count": 42,
   "id": "9607c335",
   "metadata": {},
   "outputs": [
    {
     "ename": "ValueError",
     "evalue": "invalid literal for int() with base 10: '10+20j'",
     "output_type": "error",
     "traceback": [
      "\u001b[1;31m---------------------------------------------------------------------------\u001b[0m",
      "\u001b[1;31mValueError\u001b[0m                                Traceback (most recent call last)",
      "Cell \u001b[1;32mIn[42], line 2\u001b[0m\n\u001b[0;32m      1\u001b[0m string4\u001b[38;5;241m=\u001b[39m\u001b[38;5;124m'\u001b[39m\u001b[38;5;124m10+20j\u001b[39m\u001b[38;5;124m'\u001b[39m\n\u001b[1;32m----> 2\u001b[0m \u001b[38;5;28mint\u001b[39m(string4)\n",
      "\u001b[1;31mValueError\u001b[0m: invalid literal for int() with base 10: '10+20j'"
     ]
    }
   ],
   "source": [
    "string4='10+20j'\n",
    "int(string4)"
   ]
  },
  {
   "cell_type": "code",
   "execution_count": 43,
   "id": "7a5097fa",
   "metadata": {},
   "outputs": [
    {
     "ename": "ValueError",
     "evalue": "could not convert string to float: '10+20j'",
     "output_type": "error",
     "traceback": [
      "\u001b[1;31m---------------------------------------------------------------------------\u001b[0m",
      "\u001b[1;31mValueError\u001b[0m                                Traceback (most recent call last)",
      "Cell \u001b[1;32mIn[43], line 2\u001b[0m\n\u001b[0;32m      1\u001b[0m string4\u001b[38;5;241m=\u001b[39m\u001b[38;5;124m'\u001b[39m\u001b[38;5;124m10+20j\u001b[39m\u001b[38;5;124m'\u001b[39m\n\u001b[1;32m----> 2\u001b[0m \u001b[38;5;28mfloat\u001b[39m(string4)\n",
      "\u001b[1;31mValueError\u001b[0m: could not convert string to float: '10+20j'"
     ]
    }
   ],
   "source": [
    "string4='10+20j'\n",
    "float(string4)"
   ]
  },
  {
   "cell_type": "code",
   "execution_count": 44,
   "id": "7b84ad69",
   "metadata": {},
   "outputs": [
    {
     "data": {
      "text/plain": [
       "True"
      ]
     },
     "execution_count": 44,
     "metadata": {},
     "output_type": "execute_result"
    }
   ],
   "source": [
    "string4='10+20j'\n",
    "bool(string4)"
   ]
  },
  {
   "cell_type": "code",
   "execution_count": 45,
   "id": "354338ad",
   "metadata": {},
   "outputs": [
    {
     "data": {
      "text/plain": [
       "(10+20j)"
      ]
     },
     "execution_count": 45,
     "metadata": {},
     "output_type": "execute_result"
    }
   ],
   "source": [
    "string4='10+20j'\n",
    "complex(string4)"
   ]
  },
  {
   "cell_type": "markdown",
   "id": "212adb5c",
   "metadata": {},
   "source": [
    "maths ===maths\n",
    "english===english\n",
    "maths+english====english"
   ]
  },
  {
   "cell_type": "code",
   "execution_count": null,
   "id": "7774b094",
   "metadata": {},
   "outputs": [],
   "source": [
    "int('10')\n",
    "#check-1: '10' 10 is what? =integer in quates\n",
    "#int('10') both are same group it will works"
   ]
  },
  {
   "cell_type": "code",
   "execution_count": null,
   "id": "d97fc97e",
   "metadata": {},
   "outputs": [],
   "source": [
    "float('10.5')\n",
    "#check-2 :"
   ]
  },
  {
   "cell_type": "markdown",
   "id": "05864873",
   "metadata": {},
   "source": [
    "- hiii"
   ]
  },
  {
   "cell_type": "code",
   "execution_count": null,
   "id": "42caa42f",
   "metadata": {},
   "outputs": [],
   "source": []
  },
  {
   "cell_type": "code",
   "execution_count": null,
   "id": "c30a04b6",
   "metadata": {},
   "outputs": [],
   "source": []
  },
  {
   "cell_type": "code",
   "execution_count": null,
   "id": "03f9e858",
   "metadata": {},
   "outputs": [],
   "source": []
  },
  {
   "cell_type": "code",
   "execution_count": null,
   "id": "d13d0430",
   "metadata": {},
   "outputs": [],
   "source": []
  },
  {
   "cell_type": "code",
   "execution_count": null,
   "id": "998618a0",
   "metadata": {},
   "outputs": [],
   "source": []
  },
  {
   "cell_type": "code",
   "execution_count": null,
   "id": "82b5a53b",
   "metadata": {},
   "outputs": [],
   "source": []
  },
  {
   "cell_type": "code",
   "execution_count": null,
   "id": "581fd202",
   "metadata": {},
   "outputs": [],
   "source": []
  },
  {
   "cell_type": "code",
   "execution_count": null,
   "id": "dcd4ad28",
   "metadata": {},
   "outputs": [],
   "source": []
  }
 ],
 "metadata": {
  "kernelspec": {
   "display_name": "Python 3 (ipykernel)",
   "language": "python",
   "name": "python3"
  },
  "language_info": {
   "codemirror_mode": {
    "name": "ipython",
    "version": 3
   },
   "file_extension": ".py",
   "mimetype": "text/x-python",
   "name": "python",
   "nbconvert_exporter": "python",
   "pygments_lexer": "ipython3",
   "version": "3.11.5"
  }
 },
 "nbformat": 4,
 "nbformat_minor": 5
}
