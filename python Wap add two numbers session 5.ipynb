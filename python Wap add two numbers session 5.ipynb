{
 "cells": [
  {
   "cell_type": "markdown",
   "id": "da8c6946",
   "metadata": {},
   "source": [
    "## WAP to add two numbers ##"
   ]
  },
  {
   "cell_type": "code",
   "execution_count": 2,
   "id": "368ff20a",
   "metadata": {},
   "outputs": [
    {
     "name": "stdout",
     "output_type": "stream",
     "text": [
      "the addition of 100 and 200 is 300\n"
     ]
    }
   ],
   "source": [
    "number1=100\n",
    "number2=200\n",
    "add=number1+number2\n",
    "print(\"the addition of {} and {} is {}\".format(number1,number2,add))"
   ]
  },
  {
   "cell_type": "markdown",
   "id": "c03b50f5",
   "metadata": {},
   "source": [
    "##wap ask the user enter a numnber by using keyboard\n",
    "# input #"
   ]
  },
  {
   "cell_type": "code",
   "execution_count": 4,
   "id": "8c079421",
   "metadata": {},
   "outputs": [
    {
     "name": "stdout",
     "output_type": "stream",
     "text": [
      "100\n"
     ]
    },
    {
     "data": {
      "text/plain": [
       "'100'"
      ]
     },
     "execution_count": 4,
     "metadata": {},
     "output_type": "execute_result"
    }
   ],
   "source": [
    "input()"
   ]
  },
  {
   "cell_type": "code",
   "execution_count": 6,
   "id": "87e10d88",
   "metadata": {},
   "outputs": [
    {
     "name": "stdout",
     "output_type": "stream",
     "text": [
      "enter a number:100\n"
     ]
    },
    {
     "data": {
      "text/plain": [
       "'100'"
      ]
     },
     "execution_count": 6,
     "metadata": {},
     "output_type": "execute_result"
    }
   ],
   "source": [
    "input(\"enter a number:\")"
   ]
  },
  {
   "cell_type": "code",
   "execution_count": 7,
   "id": "86bcf6e4",
   "metadata": {},
   "outputs": [
    {
     "name": "stdout",
     "output_type": "stream",
     "text": [
      "enter your name :my name is python\n"
     ]
    },
    {
     "data": {
      "text/plain": [
       "'my name is python'"
      ]
     },
     "execution_count": 7,
     "metadata": {},
     "output_type": "execute_result"
    }
   ],
   "source": [
    "input(\"enter your name :\")"
   ]
  },
  {
   "cell_type": "code",
   "execution_count": 9,
   "id": "eef32d77",
   "metadata": {},
   "outputs": [
    {
     "name": "stdout",
     "output_type": "stream",
     "text": [
      "enter a number1:100\n",
      "enter a number2:200\n",
      "the addition of 100 and 200 is 100200\n"
     ]
    }
   ],
   "source": [
    "number1=input(\"enter a number1:\")\n",
    "number2=input(\"enter a number2:\")\n",
    "add=number1+number2\n",
    "print(\"the addition of {} and {} is {}\".format(number1,number2,add))##keyboard take string format only##"
   ]
  },
  {
   "cell_type": "code",
   "execution_count": 10,
   "id": "979740bc",
   "metadata": {},
   "outputs": [
    {
     "name": "stdout",
     "output_type": "stream",
     "text": [
      "enter a number1:'100'\n",
      "enter a number2:'200'\n",
      "the addition of '100' and '200' is '100''200'\n"
     ]
    }
   ],
   "source": [
    "number1=input(\"enter a number1:\")\n",
    "number2=input(\"enter a number2:\")\n",
    "add=number1+number2\n",
    "print(\"the addition of {} and {} is {}\".format(number1,number2,add))"
   ]
  },
  {
   "cell_type": "code",
   "execution_count": 11,
   "id": "a44bc157",
   "metadata": {},
   "outputs": [
    {
     "name": "stdout",
     "output_type": "stream",
     "text": [
      "enter a number1:100\n",
      "enter a number2:200\n",
      "100200\n"
     ]
    }
   ],
   "source": [
    "number1=input(\"enter a number1:\")\n",
    "number2=input(\"enter a number2:\")\n",
    "print(number1+number2)\n"
   ]
  },
  {
   "cell_type": "code",
   "execution_count": 12,
   "id": "f948a433",
   "metadata": {},
   "outputs": [
    {
     "name": "stdout",
     "output_type": "stream",
     "text": [
      "enter a number1:100\n",
      "enter a number2:200\n",
      "the addition of 100 and 200 is 300\n"
     ]
    }
   ],
   "source": [
    "number1=input(\"enter a number1:\")\n",
    "number2=input(\"enter a number2:\")\n",
    "add=int(number1)+int(number2)\n",
    "print(\"the addition of {} and {} is {}\".format(number1,number2,add))"
   ]
  },
  {
   "cell_type": "markdown",
   "id": "2180ed83",
   "metadata": {},
   "source": [
    "## case 1##"
   ]
  },
  {
   "cell_type": "code",
   "execution_count": null,
   "id": "73c71a39",
   "metadata": {},
   "outputs": [],
   "source": [
    "number1=input(\"enter a number1:\")\n",
    "number2=input(\"enter a number2:\")\n",
    "add=number1+number2\n",
    "print(\"the addition of {} and {} is {}\".format(number1,number2,add))"
   ]
  },
  {
   "cell_type": "markdown",
   "id": "856a9eb7",
   "metadata": {},
   "source": [
    "## case 2 ##"
   ]
  },
  {
   "cell_type": "code",
   "execution_count": null,
   "id": "c86a1c7e",
   "metadata": {},
   "outputs": [],
   "source": [
    "number1=input(\"enter a number1:\")\n",
    "number2=input(\"enter a number2:\")\n",
    "add=number1+number2\n",
    "print(\"the addition of {} and {} is {}\".format(number1,number2,add))"
   ]
  },
  {
   "cell_type": "markdown",
   "id": "11005b6a",
   "metadata": {},
   "source": [
    "## case 3(type casting)##"
   ]
  },
  {
   "cell_type": "code",
   "execution_count": null,
   "id": "57c139e2",
   "metadata": {},
   "outputs": [],
   "source": [
    "number1=input(\"enter a number1:\")\n",
    "number2=input(\"enter a number2:\")\n",
    "add=int(number1)+int(number2)\n",
    "print(\"the addition of {} and {} is {}\".format(number1,number2,add))"
   ]
  },
  {
   "cell_type": "markdown",
   "id": "3d3f71dc",
   "metadata": {},
   "source": [
    "## case 4(type casting) ##"
   ]
  },
  {
   "cell_type": "code",
   "execution_count": 13,
   "id": "e510935d",
   "metadata": {},
   "outputs": [
    {
     "name": "stdout",
     "output_type": "stream",
     "text": [
      "enter a number1:100\n",
      "enter a number2:200\n",
      "the addition of 100 and 200 is 300\n"
     ]
    }
   ],
   "source": [
    "number1=int(input(\"enter a number1:\"))\n",
    "number2=int(input(\"enter a number2:\"))\n",
    "add=number1+number2\n",
    "print(\"the addition of {} and {} is {}\".format(number1,number2,add))"
   ]
  },
  {
   "cell_type": "code",
   "execution_count": 2,
   "id": "75af0dc4",
   "metadata": {},
   "outputs": [
    {
     "name": "stdout",
     "output_type": "stream",
     "text": [
      "enter the num 100.5\n"
     ]
    }
   ],
   "source": [
    "num1=float(input(\"enter the num \"))\n"
   ]
  },
  {
   "cell_type": "code",
   "execution_count": 3,
   "id": "17e443c1",
   "metadata": {},
   "outputs": [
    {
     "name": "stdout",
     "output_type": "stream",
     "text": [
      "enter the num 100.5\n"
     ]
    }
   ],
   "source": [
    "num1=int(float(input(\"enter the num \")))\n"
   ]
  },
  {
   "cell_type": "code",
   "execution_count": 4,
   "id": "66287dff",
   "metadata": {},
   "outputs": [
    {
     "data": {
      "text/plain": [
       "122344.55"
      ]
     },
     "execution_count": 4,
     "metadata": {},
     "output_type": "execute_result"
    }
   ],
   "source": [
    "float('122344.55')"
   ]
  },
  {
   "cell_type": "code",
   "execution_count": 5,
   "id": "dcc3de27",
   "metadata": {},
   "outputs": [
    {
     "name": "stdout",
     "output_type": "stream",
     "text": [
      "enter a n1:100\n",
      "enter a n2:100\n"
     ]
    },
    {
     "data": {
      "text/plain": [
       "200"
      ]
     },
     "execution_count": 5,
     "metadata": {},
     "output_type": "execute_result"
    }
   ],
   "source": [
    "n1=int(input(\"enter a n1:\"))\n",
    "n2=int(input(\"enter a n2:\"))\n",
    "n1+n2\n"
   ]
  },
  {
   "cell_type": "code",
   "execution_count": 6,
   "id": "4d712061",
   "metadata": {},
   "outputs": [
    {
     "name": "stdout",
     "output_type": "stream",
     "text": [
      "enter a n1:100.5\n"
     ]
    },
    {
     "ename": "ValueError",
     "evalue": "invalid literal for int() with base 10: '100.5'",
     "output_type": "error",
     "traceback": [
      "\u001b[1;31m---------------------------------------------------------------------------\u001b[0m",
      "\u001b[1;31mValueError\u001b[0m                                Traceback (most recent call last)",
      "Cell \u001b[1;32mIn[6], line 1\u001b[0m\n\u001b[1;32m----> 1\u001b[0m n1\u001b[38;5;241m=\u001b[39m\u001b[38;5;28mint\u001b[39m(\u001b[38;5;28minput\u001b[39m(\u001b[38;5;124m\"\u001b[39m\u001b[38;5;124menter a n1:\u001b[39m\u001b[38;5;124m\"\u001b[39m))\n\u001b[0;32m      2\u001b[0m n2\u001b[38;5;241m=\u001b[39m\u001b[38;5;28mfloat\u001b[39m(\u001b[38;5;28minput\u001b[39m(\u001b[38;5;124m\"\u001b[39m\u001b[38;5;124menter a n2:\u001b[39m\u001b[38;5;124m\"\u001b[39m))\n\u001b[0;32m      3\u001b[0m n1\u001b[38;5;241m+\u001b[39mn2\n",
      "\u001b[1;31mValueError\u001b[0m: invalid literal for int() with base 10: '100.5'"
     ]
    }
   ],
   "source": [
    "n1=int(input(\"enter a n1:\"))\n",
    "n2=float(input(\"enter a n2:\"))\n",
    "n1+n2\n",
    "## we need to keep in mind\n",
    "#always if i want to provide int value type cast:int\n",
    "#        if i want to provide float value type cast:float\n",
    "###       if i want to provide by mistake int(100.5)===error\n"
   ]
  },
  {
   "cell_type": "code",
   "execution_count": 7,
   "id": "eaeadf77",
   "metadata": {},
   "outputs": [
    {
     "name": "stdout",
     "output_type": "stream",
     "text": [
      "enter n1:100.5\n",
      "enter n2:500\n"
     ]
    },
    {
     "data": {
      "text/plain": [
       "600.5"
      ]
     },
     "execution_count": 7,
     "metadata": {},
     "output_type": "execute_result"
    }
   ],
   "source": [
    "n1=eval(input(\"enter n1:\"))   ## eval::: evaluate\n",
    "n2=eval(input(\"enter n2:\"))\n",
    "n1+n2"
   ]
  },
  {
   "cell_type": "code",
   "execution_count": 9,
   "id": "b12e5775",
   "metadata": {},
   "outputs": [
    {
     "name": "stdout",
     "output_type": "stream",
     "text": [
      "enter n1:100.5\n",
      "enter n2:200\n",
      "the addition of 100.5 and 200 is 300.5\n"
     ]
    }
   ],
   "source": [
    "n1=eval(input(\"enter n1:\"))   \n",
    "n2=eval(input(\"enter n2:\"))\n",
    "print(\"the addition of {} and {} is {}\".format(n1,n2,n1+n2))"
   ]
  },
  {
   "cell_type": "code",
   "execution_count": 11,
   "id": "03d18300",
   "metadata": {},
   "outputs": [
    {
     "name": "stdout",
     "output_type": "stream",
     "text": [
      "enter n1:100\n",
      "enter n2:200\n"
     ]
    },
    {
     "data": {
      "text/plain": [
       "100200"
      ]
     },
     "execution_count": 11,
     "metadata": {},
     "output_type": "execute_result"
    }
   ],
   "source": [
    "n1=(input(\"enter n1:\"))\n",
    "n2=(input(\"enter n2:\"))\n",
    "eval(n1+n2)"
   ]
  },
  {
   "cell_type": "code",
   "execution_count": 12,
   "id": "9aae607c",
   "metadata": {},
   "outputs": [
    {
     "name": "stdout",
     "output_type": "stream",
     "text": [
      "enter n1:100\n",
      "enter n2:100\n"
     ]
    },
    {
     "data": {
      "text/plain": [
       "200"
      ]
     },
     "execution_count": 12,
     "metadata": {},
     "output_type": "execute_result"
    }
   ],
   "source": [
    "n1=(input(\"enter n1:\"))\n",
    "n2=(input(\"enter n2:\"))\n",
    "eval(n1)+eval(n2)"
   ]
  },
  {
   "cell_type": "code",
   "execution_count": null,
   "id": "087ebee5",
   "metadata": {},
   "outputs": [],
   "source": [
    "#wap ask the user enter two num\n",
    "#n1=from user 100\n",
    "#n2=from keyboard\n",
    "#the addition of 100 and 200 is 300\n",
    "#the subtraction of 100 and 200 is -100\n",
    "#the multiplication if 100 and 200 is 2000"
   ]
  },
  {
   "cell_type": "code",
   "execution_count": 17,
   "id": "aaab21c2",
   "metadata": {},
   "outputs": [
    {
     "name": "stdout",
     "output_type": "stream",
     "text": [
      "enter a num100\n",
      "enter a num200\n",
      "the addition of 100 and 200 is 300\n",
      "the substraction of 100 and 200 is -100\n",
      "the multiplication of 100 and 200 is 20000\n"
     ]
    }
   ],
   "source": [
    "n1=eval(input(\"enter a num\"))\n",
    "n2=eval(input(\"enter a num\"))\n",
    "print(\"the addition of {} and {} is {}\" .format(n1,n2,n1+n2))\n",
    "print(\"the substraction of {} and {} is {}\" .format(n1,n2,n1-n2))\n",
    "print(\"the multiplication of {} and {} is {}\" .format(n1,n2,n1*n2))\n"
   ]
  },
  {
   "cell_type": "code",
   "execution_count": 18,
   "id": "5bec0efb",
   "metadata": {},
   "outputs": [
    {
     "name": "stdout",
     "output_type": "stream",
     "text": [
      "enter a num100\n",
      "enter a num200\n",
      "the addition of 100 and 200 is 300\n",
      "the substraction of -100 and -100 is -100\n",
      "the multiplication of 200 and 200 is 200\n"
     ]
    }
   ],
   "source": [
    "n1=eval(input(\"enter a num\"))\n",
    "n2=eval(input(\"enter a num\"))\n",
    "print(\"the addition of {0} and {1} is {2}\" .format(n1,n2,n1+n2))\n",
    "print(\"the substraction of {2} and {2} is {2}\" .format(n1,n2,n1-n2))\n",
    "print(\"the multiplication of {1} and {1} is {1}\" .format(n1,n2,n1*n2))\n"
   ]
  },
  {
   "cell_type": "code",
   "execution_count": 24,
   "id": "01a022bc",
   "metadata": {},
   "outputs": [
    {
     "name": "stdout",
     "output_type": "stream",
     "text": [
      "enter a num12\n",
      "enter a num12\n",
      "enter a num12\n",
      "the average of 12 12 and 12 is 12.0\n"
     ]
    }
   ],
   "source": [
    "n1=eval(input(\"enter a num\"))\n",
    "n2=eval(input(\"enter a num\"))\n",
    "n3=eval(input(\"enter a num\"))\n",
    "avr=(n1+n2+n3)/3\n",
    "print(\"the average of {} {} and {} is {}\" .format(n1,n2,n3,(n1+n2+n3)/3))"
   ]
  },
  {
   "cell_type": "code",
   "execution_count": 3,
   "id": "0de3405d",
   "metadata": {},
   "outputs": [
    {
     "name": "stdout",
     "output_type": "stream",
     "text": [
      "enter a num12\n",
      "enter a num12\n",
      "enter a num12\n",
      "the original value before round off: 12.0\n",
      "the average of 12 12 and 12 is 12.0\n"
     ]
    }
   ],
   "source": [
    "n1=eval(input(\"enter a num\"))\n",
    "n2=eval(input(\"enter a num\"))\n",
    "n3=eval(input(\"enter a num\"))\n",
    "avg=(n1+n2+n3)/3\n",
    "final_avg=round(avg,2)\n",
    "print(\"the original value before round off:\",avg)\n",
    "print(\"the average of {} {} and {} is {}\" .format(n1,n2,n3,final_avg,2))"
   ]
  },
  {
   "cell_type": "code",
   "execution_count": null,
   "id": "d3ba92ad",
   "metadata": {},
   "outputs": [],
   "source": [
    "12/2 ##division\n",
    "12%2 ##modulus\n",
    "12//2##floor division"
   ]
  },
  {
   "cell_type": "code",
   "execution_count": 36,
   "id": "09ef6f42",
   "metadata": {},
   "outputs": [
    {
     "name": "stdout",
     "output_type": "stream",
     "text": [
      "6.0\n"
     ]
    }
   ],
   "source": [
    "print(12/2)\n"
   ]
  },
  {
   "cell_type": "code",
   "execution_count": 35,
   "id": "5cbbe584",
   "metadata": {},
   "outputs": [
    {
     "data": {
      "text/plain": [
       "2"
      ]
     },
     "execution_count": 35,
     "metadata": {},
     "output_type": "execute_result"
    }
   ],
   "source": [
    "12%5"
   ]
  },
  {
   "cell_type": "code",
   "execution_count": 34,
   "id": "257d83c3",
   "metadata": {},
   "outputs": [
    {
     "name": "stdout",
     "output_type": "stream",
     "text": [
      "6\n"
     ]
    }
   ],
   "source": [
    "print(12//2)"
   ]
  },
  {
   "cell_type": "code",
   "execution_count": 37,
   "id": "6bf005a2",
   "metadata": {},
   "outputs": [
    {
     "name": "stdout",
     "output_type": "stream",
     "text": [
      "bill amount1000\n",
      "tip amount100\n",
      "bil is 1000 and 100 total 1100\n"
     ]
    }
   ],
   "source": [
    "n1=eval(input(\"bill amount\"))\n",
    "n2=eval(input(\"tip amount\"))\n",
    "print(\"bil is {} and {} total {}\".format(n1,n2,n1+n2))\n"
   ]
  },
  {
   "cell_type": "code",
   "execution_count": 45,
   "id": "9daed143",
   "metadata": {},
   "outputs": [
    {
     "name": "stdout",
     "output_type": "stream",
     "text": [
      "enter bill amount1000\n",
      "enter tip pecentage20\n",
      "enter the {} and {} is {} 1200.0\n"
     ]
    }
   ],
   "source": [
    "bill_amount=eval(input(\"enter bill amount\"))\n",
    "tip_per=eval(input(\"enter tip pecentage\"))\n",
    "tip_amount=(bill_amount*tip_per)/100\n",
    "total_amount=bill_amount+tip_amount\n",
    "print(\"enter the {} and {} is {}\",total_amount)"
   ]
  },
  {
   "cell_type": "code",
   "execution_count": 39,
   "id": "01463452",
   "metadata": {},
   "outputs": [
    {
     "data": {
      "text/plain": [
       "100"
      ]
     },
     "execution_count": 39,
     "metadata": {},
     "output_type": "execute_result"
    }
   ],
   "source": [
    "1000//10\n"
   ]
  },
  {
   "cell_type": "code",
   "execution_count": 1,
   "id": "8f8e8ffe",
   "metadata": {},
   "outputs": [
    {
     "name": "stdout",
     "output_type": "stream",
     "text": [
      "how many dollars you want to pay:100\n",
      "no dollars are not accepted\n",
      "then what will accepted\n",
      "only indian rupees\n",
      "one dollar equal to how many rupees:80\n",
      "then total amount to pay 8000\n"
     ]
    }
   ],
   "source": [
    "dollar_amount=eval(input(\"how many dollars you want to pay:\"))\n",
    "print('no dollars are not accepted')\n",
    "print('then what will accepted')\n",
    "print('only indian rupees')\n",
    "rupees_amount=eval(input(\"one dollar equal to how many rupees:\"))\n",
    "total=(dollar_amount*rupees_amount)\n",
    "print(\"then total amount to pay {}\".format(total))"
   ]
  },
  {
   "cell_type": "code",
   "execution_count": null,
   "id": "e35ae034",
   "metadata": {},
   "outputs": [],
   "source": []
  },
  {
   "cell_type": "code",
   "execution_count": null,
   "id": "ec6562c6",
   "metadata": {},
   "outputs": [],
   "source": []
  },
  {
   "cell_type": "code",
   "execution_count": null,
   "id": "5668a900",
   "metadata": {},
   "outputs": [],
   "source": []
  },
  {
   "cell_type": "code",
   "execution_count": null,
   "id": "a9702e75",
   "metadata": {},
   "outputs": [],
   "source": []
  }
 ],
 "metadata": {
  "kernelspec": {
   "display_name": "Python 3 (ipykernel)",
   "language": "python",
   "name": "python3"
  },
  "language_info": {
   "codemirror_mode": {
    "name": "ipython",
    "version": 3
   },
   "file_extension": ".py",
   "mimetype": "text/x-python",
   "name": "python",
   "nbconvert_exporter": "python",
   "pygments_lexer": "ipython3",
   "version": "3.11.5"
  }
 },
 "nbformat": 4,
 "nbformat_minor": 5
}
