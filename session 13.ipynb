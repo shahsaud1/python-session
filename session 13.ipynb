{
 "cells": [
  {
   "cell_type": "markdown",
   "id": "aaba057e",
   "metadata": {},
   "source": [
    "## in-operator"
   ]
  },
  {
   "cell_type": "code",
   "execution_count": 1,
   "id": "f9369e05",
   "metadata": {},
   "outputs": [],
   "source": [
    "name='python'"
   ]
  },
  {
   "cell_type": "code",
   "execution_count": 2,
   "id": "e893ab60",
   "metadata": {},
   "outputs": [
    {
     "data": {
      "text/plain": [
       "True"
      ]
     },
     "execution_count": 2,
     "metadata": {},
     "output_type": "execute_result"
    }
   ],
   "source": [
    "'py' in name"
   ]
  },
  {
   "cell_type": "code",
   "execution_count": 5,
   "id": "f404c456",
   "metadata": {},
   "outputs": [
    {
     "name": "stdout",
     "output_type": "stream",
     "text": [
      "p\n",
      "y\n",
      "t\n",
      "h\n",
      "o\n",
      "n\n"
     ]
    }
   ],
   "source": [
    "name='python'\n",
    "for i in name:\n",
    "    print(i)"
   ]
  },
  {
   "cell_type": "code",
   "execution_count": 9,
   "id": "f98395fd",
   "metadata": {},
   "outputs": [
    {
     "name": "stdout",
     "output_type": "stream",
     "text": [
      "p y t h o n "
     ]
    }
   ],
   "source": [
    "raaz='python'\n",
    "for i in (raaz):\n",
    "    print(i,end=' ')"
   ]
  },
  {
   "cell_type": "code",
   "execution_count": null,
   "id": "49b7f23e",
   "metadata": {},
   "outputs": [],
   "source": [
    "range====number\n",
    "in=====string\n",
    "eval==== number\n",
    "input==== string"
   ]
  },
  {
   "cell_type": "code",
   "execution_count": 20,
   "id": "7b849686",
   "metadata": {},
   "outputs": [
    {
     "name": "stdout",
     "output_type": "stream",
     "text": [
      "enter a your name:shahsaud\n",
      "you have lenthy name:\n"
     ]
    }
   ],
   "source": [
    "name=input('enter a your name:')\n",
    "count=0\n",
    "for i in name:\n",
    "    count=count+1\n",
    "    \n",
    "if count>5:\n",
    "    print('you have lenthy name:')\n",
    "else:\n",
    "    print('you have small name:')"
   ]
  },
  {
   "cell_type": "code",
   "execution_count": 29,
   "id": "01e5b30c",
   "metadata": {},
   "outputs": [
    {
     "name": "stdout",
     "output_type": "stream",
     "text": [
      "enter a your name:raaz\n",
      "how many a letter in your name: 2\n"
     ]
    }
   ],
   "source": [
    "name=input('enter a your name:')\n",
    "count=0\n",
    "for i in name:\n",
    "    if i=='a':\n",
    "        count=count+1\n",
    "print('how many a letter in your name:',count)\n",
    "    "
   ]
  },
  {
   "cell_type": "code",
   "execution_count": null,
   "id": "768950da",
   "metadata": {},
   "outputs": [],
   "source": []
  }
 ],
 "metadata": {
  "kernelspec": {
   "display_name": "Python 3 (ipykernel)",
   "language": "python",
   "name": "python3"
  },
  "language_info": {
   "codemirror_mode": {
    "name": "ipython",
    "version": 3
   },
   "file_extension": ".py",
   "mimetype": "text/x-python",
   "name": "python",
   "nbconvert_exporter": "python",
   "pygments_lexer": "ipython3",
   "version": "3.11.5"
  }
 },
 "nbformat": 4,
 "nbformat_minor": 5
}
