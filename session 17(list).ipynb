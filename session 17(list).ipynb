{
 "cells": [
  {
   "cell_type": "markdown",
   "id": "0495c22c",
   "metadata": {},
   "source": [
    "- how do we read?\n",
    "\n",
    "- type\n",
    "\n",
    "- len\n",
    "\n",
    "- max\n",
    "\n",
    "- min\n",
    "\n",
    "- concatenation (add two list)\n",
    "\n",
    "- substract two list\n",
    "\n",
    "- multiply two list\n",
    "\n",
    "- divide two list\n",
    "\n",
    "- index\n",
    "\n",
    "- slice \n",
    "\n",
    "- mutablbe\n",
    "\n",
    "- list methods"
   ]
  },
  {
   "cell_type": "code",
   "execution_count": 1,
   "id": "47037c25",
   "metadata": {},
   "outputs": [
    {
     "data": {
      "text/plain": [
       "[1, 2, 3, 4]"
      ]
     },
     "execution_count": 1,
     "metadata": {},
     "output_type": "execute_result"
    }
   ],
   "source": [
    "list1=[1,2,3,4]\n",
    "list1"
   ]
  },
  {
   "cell_type": "code",
   "execution_count": 4,
   "id": "f24da120",
   "metadata": {},
   "outputs": [
    {
     "data": {
      "text/plain": [
       "['a,b,c,d']"
      ]
     },
     "execution_count": 4,
     "metadata": {},
     "output_type": "execute_result"
    }
   ],
   "source": [
    "list2=['a,b,c,d']\n",
    "list2"
   ]
  },
  {
   "cell_type": "code",
   "execution_count": 5,
   "id": "9d0e2b07",
   "metadata": {},
   "outputs": [
    {
     "data": {
      "text/plain": [
       "['apple', 123]"
      ]
     },
     "execution_count": 5,
     "metadata": {},
     "output_type": "execute_result"
    }
   ],
   "source": [
    "list3=['apple',123]\n",
    "list3"
   ]
  },
  {
   "cell_type": "code",
   "execution_count": 7,
   "id": "4015e258",
   "metadata": {},
   "outputs": [
    {
     "data": {
      "text/plain": [
       "['a', 1, 2, 3, (10+30j)]"
      ]
     },
     "execution_count": 7,
     "metadata": {},
     "output_type": "execute_result"
    }
   ],
   "source": [
    "list4=['a',1,2,3,10+30j]\n",
    "list4"
   ]
  },
  {
   "cell_type": "markdown",
   "id": "6823b36f",
   "metadata": {},
   "source": [
    "- list is a hetrogeneuos property\n",
    "\n",
    "- any kind of data type elements we can store in the form of lis"
   ]
  },
  {
   "cell_type": "code",
   "execution_count": 36,
   "id": "8abb0f0e",
   "metadata": {},
   "outputs": [
    {
     "data": {
      "text/plain": [
       "[100, 100, 100]"
      ]
     },
     "execution_count": 36,
     "metadata": {},
     "output_type": "execute_result"
    }
   ],
   "source": [
    "list5=[100,100,100]\n",
    "list5"
   ]
  },
  {
   "cell_type": "markdown",
   "id": "1ea13305",
   "metadata": {},
   "source": [
    "- list element can be duplicate\n",
    "\n",
    "- which means duplicate elements are allowed"
   ]
  },
  {
   "cell_type": "code",
   "execution_count": 44,
   "id": "b0775a55",
   "metadata": {},
   "outputs": [
    {
     "data": {
      "text/plain": [
       "['A', 'a']"
      ]
     },
     "execution_count": 44,
     "metadata": {},
     "output_type": "execute_result"
    }
   ],
   "source": [
    "list6=['A','a']\n",
    "list6"
   ]
  },
  {
   "cell_type": "code",
   "execution_count": 45,
   "id": "c54804e4",
   "metadata": {},
   "outputs": [
    {
     "data": {
      "text/plain": [
       "['hii how are you', [100, 100, 100]]"
      ]
     },
     "execution_count": 45,
     "metadata": {},
     "output_type": "execute_result"
    }
   ],
   "source": [
    "list7=['hii how are you',[100,100,100]]\n",
    "list7"
   ]
  },
  {
   "cell_type": "code",
   "execution_count": 11,
   "id": "13c2d29c",
   "metadata": {},
   "outputs": [
    {
     "data": {
      "text/plain": [
       "list"
      ]
     },
     "execution_count": 11,
     "metadata": {},
     "output_type": "execute_result"
    }
   ],
   "source": [
    "type(list5)"
   ]
  },
  {
   "cell_type": "code",
   "execution_count": 12,
   "id": "dd8cc8fe",
   "metadata": {},
   "outputs": [
    {
     "data": {
      "text/plain": [
       "list"
      ]
     },
     "execution_count": 12,
     "metadata": {},
     "output_type": "execute_result"
    }
   ],
   "source": [
    "type(list5)"
   ]
  },
  {
   "cell_type": "code",
   "execution_count": 13,
   "id": "14845731",
   "metadata": {},
   "outputs": [
    {
     "data": {
      "text/plain": [
       "[1, 2, 3, 4]"
      ]
     },
     "execution_count": 13,
     "metadata": {},
     "output_type": "execute_result"
    }
   ],
   "source": [
    "list1"
   ]
  },
  {
   "cell_type": "code",
   "execution_count": 14,
   "id": "4461353b",
   "metadata": {},
   "outputs": [
    {
     "data": {
      "text/plain": [
       "4"
      ]
     },
     "execution_count": 14,
     "metadata": {},
     "output_type": "execute_result"
    }
   ],
   "source": [
    "len(list1)"
   ]
  },
  {
   "cell_type": "code",
   "execution_count": 15,
   "id": "1413f938",
   "metadata": {},
   "outputs": [
    {
     "data": {
      "text/plain": [
       "1"
      ]
     },
     "execution_count": 15,
     "metadata": {},
     "output_type": "execute_result"
    }
   ],
   "source": [
    "min(list1)"
   ]
  },
  {
   "cell_type": "code",
   "execution_count": 16,
   "id": "22a08c85",
   "metadata": {},
   "outputs": [
    {
     "data": {
      "text/plain": [
       "4"
      ]
     },
     "execution_count": 16,
     "metadata": {},
     "output_type": "execute_result"
    }
   ],
   "source": [
    "max(list1)"
   ]
  },
  {
   "cell_type": "code",
   "execution_count": 18,
   "id": "d9f33e4c",
   "metadata": {},
   "outputs": [
    {
     "name": "stdout",
     "output_type": "stream",
     "text": [
      "4\n",
      "1\n",
      "4\n",
      "10\n"
     ]
    }
   ],
   "source": [
    "print(len(list1))\n",
    "print(min(list1))\n",
    "print(max(list1))\n",
    "print(sum(list1))"
   ]
  },
  {
   "cell_type": "code",
   "execution_count": 25,
   "id": "0d9fece4",
   "metadata": {},
   "outputs": [],
   "source": [
    "list2=['A,B,C,D']"
   ]
  },
  {
   "cell_type": "code",
   "execution_count": 26,
   "id": "410b0f17",
   "metadata": {},
   "outputs": [
    {
     "name": "stdout",
     "output_type": "stream",
     "text": [
      "1\n",
      "A,B,C,D\n",
      "A,B,C,D\n"
     ]
    }
   ],
   "source": [
    "print(len(list2))\n",
    "print(min(list2))\n",
    "print(max(list2))"
   ]
  },
  {
   "cell_type": "code",
   "execution_count": 27,
   "id": "25912be7",
   "metadata": {},
   "outputs": [
    {
     "data": {
      "text/plain": [
       "['apple', 123]"
      ]
     },
     "execution_count": 27,
     "metadata": {},
     "output_type": "execute_result"
    }
   ],
   "source": [
    "list3"
   ]
  },
  {
   "cell_type": "code",
   "execution_count": 29,
   "id": "290faa6d",
   "metadata": {},
   "outputs": [
    {
     "name": "stdout",
     "output_type": "stream",
     "text": [
      "2\n"
     ]
    }
   ],
   "source": [
    "print(len(list3))"
   ]
  },
  {
   "cell_type": "code",
   "execution_count": 30,
   "id": "1f7257a7",
   "metadata": {},
   "outputs": [
    {
     "data": {
      "text/plain": [
       "['a', 1, 2, 3, (10+30j)]"
      ]
     },
     "execution_count": 30,
     "metadata": {},
     "output_type": "execute_result"
    }
   ],
   "source": [
    "list4"
   ]
  },
  {
   "cell_type": "code",
   "execution_count": 31,
   "id": "e6558cbd",
   "metadata": {},
   "outputs": [
    {
     "name": "stdout",
     "output_type": "stream",
     "text": [
      "5\n"
     ]
    },
    {
     "ename": "TypeError",
     "evalue": "'<' not supported between instances of 'int' and 'str'",
     "output_type": "error",
     "traceback": [
      "\u001b[1;31m---------------------------------------------------------------------------\u001b[0m",
      "\u001b[1;31mTypeError\u001b[0m                                 Traceback (most recent call last)",
      "Cell \u001b[1;32mIn[31], line 2\u001b[0m\n\u001b[0;32m      1\u001b[0m \u001b[38;5;28mprint\u001b[39m(\u001b[38;5;28mlen\u001b[39m(list4))\n\u001b[1;32m----> 2\u001b[0m \u001b[38;5;28mprint\u001b[39m(\u001b[38;5;28mmin\u001b[39m(list4))\n\u001b[0;32m      3\u001b[0m \u001b[38;5;28mprint\u001b[39m(\u001b[38;5;28mmax\u001b[39m(list4))\n\u001b[0;32m      4\u001b[0m \u001b[38;5;28mprint\u001b[39m(\u001b[38;5;28msum\u001b[39m(list4))\n",
      "\u001b[1;31mTypeError\u001b[0m: '<' not supported between instances of 'int' and 'str'"
     ]
    }
   ],
   "source": [
    "print(len(list4))\n",
    "print(min(list4))\n",
    "print(max(list4))\n",
    "print(sum(list4))"
   ]
  },
  {
   "cell_type": "code",
   "execution_count": 37,
   "id": "c0c2968c",
   "metadata": {},
   "outputs": [
    {
     "data": {
      "text/plain": [
       "[100, 100, 100]"
      ]
     },
     "execution_count": 37,
     "metadata": {},
     "output_type": "execute_result"
    }
   ],
   "source": [
    "list5"
   ]
  },
  {
   "cell_type": "code",
   "execution_count": 38,
   "id": "be3a83f1",
   "metadata": {},
   "outputs": [
    {
     "name": "stdout",
     "output_type": "stream",
     "text": [
      "3\n",
      "100\n",
      "100\n",
      "300\n"
     ]
    }
   ],
   "source": [
    "print(len(list5))\n",
    "print(min(list5))\n",
    "print(max(list5))\n",
    "print(sum(list5))"
   ]
  },
  {
   "cell_type": "code",
   "execution_count": 46,
   "id": "67b07b24",
   "metadata": {},
   "outputs": [
    {
     "data": {
      "text/plain": [
       "['A', 'a']"
      ]
     },
     "execution_count": 46,
     "metadata": {},
     "output_type": "execute_result"
    }
   ],
   "source": [
    "list6"
   ]
  },
  {
   "cell_type": "code",
   "execution_count": 47,
   "id": "b36dd1d3",
   "metadata": {},
   "outputs": [
    {
     "name": "stdout",
     "output_type": "stream",
     "text": [
      "2\n",
      "A\n",
      "a\n"
     ]
    },
    {
     "ename": "TypeError",
     "evalue": "unsupported operand type(s) for +: 'int' and 'str'",
     "output_type": "error",
     "traceback": [
      "\u001b[1;31m---------------------------------------------------------------------------\u001b[0m",
      "\u001b[1;31mTypeError\u001b[0m                                 Traceback (most recent call last)",
      "Cell \u001b[1;32mIn[47], line 4\u001b[0m\n\u001b[0;32m      2\u001b[0m \u001b[38;5;28mprint\u001b[39m(\u001b[38;5;28mmin\u001b[39m(list6))\n\u001b[0;32m      3\u001b[0m \u001b[38;5;28mprint\u001b[39m(\u001b[38;5;28mmax\u001b[39m(list6))\n\u001b[1;32m----> 4\u001b[0m \u001b[38;5;28mprint\u001b[39m(\u001b[38;5;28msum\u001b[39m(list6))\n",
      "\u001b[1;31mTypeError\u001b[0m: unsupported operand type(s) for +: 'int' and 'str'"
     ]
    }
   ],
   "source": [
    "print(len(list6))\n",
    "print(min(list6))\n",
    "print(max(list6))\n",
    "print(sum(list6))"
   ]
  },
  {
   "cell_type": "code",
   "execution_count": 48,
   "id": "e869b293",
   "metadata": {},
   "outputs": [
    {
     "data": {
      "text/plain": [
       "['hii how are you', [100, 100, 100]]"
      ]
     },
     "execution_count": 48,
     "metadata": {},
     "output_type": "execute_result"
    }
   ],
   "source": [
    "list7"
   ]
  },
  {
   "cell_type": "code",
   "execution_count": 49,
   "id": "85c61539",
   "metadata": {},
   "outputs": [
    {
     "name": "stdout",
     "output_type": "stream",
     "text": [
      "2\n"
     ]
    },
    {
     "ename": "TypeError",
     "evalue": "'<' not supported between instances of 'list' and 'str'",
     "output_type": "error",
     "traceback": [
      "\u001b[1;31m---------------------------------------------------------------------------\u001b[0m",
      "\u001b[1;31mTypeError\u001b[0m                                 Traceback (most recent call last)",
      "Cell \u001b[1;32mIn[49], line 2\u001b[0m\n\u001b[0;32m      1\u001b[0m \u001b[38;5;28mprint\u001b[39m(\u001b[38;5;28mlen\u001b[39m(list7))\n\u001b[1;32m----> 2\u001b[0m \u001b[38;5;28mprint\u001b[39m(\u001b[38;5;28mmin\u001b[39m(list7))\n\u001b[0;32m      3\u001b[0m \u001b[38;5;28mprint\u001b[39m(\u001b[38;5;28mmax\u001b[39m(list7))\n\u001b[0;32m      4\u001b[0m \u001b[38;5;28mprint\u001b[39m(\u001b[38;5;28msum\u001b[39m(list7))\n",
      "\u001b[1;31mTypeError\u001b[0m: '<' not supported between instances of 'list' and 'str'"
     ]
    }
   ],
   "source": [
    "print(len(list7))\n",
    "print(min(list7))\n",
    "print(max(list7))\n",
    "print(sum(list7))"
   ]
  },
  {
   "cell_type": "code",
   "execution_count": 56,
   "id": "157dca02",
   "metadata": {},
   "outputs": [
    {
     "name": "stdout",
     "output_type": "stream",
     "text": [
      "[1, 2, 3, 4]\n",
      "['A,B,C,D']\n"
     ]
    }
   ],
   "source": [
    "print(list1)\n",
    "print(list2)\n"
   ]
  },
  {
   "cell_type": "code",
   "execution_count": 58,
   "id": "e1997bb1",
   "metadata": {},
   "outputs": [
    {
     "data": {
      "text/plain": [
       "[1, 2, 3, 4, 'A,B,C,D']"
      ]
     },
     "execution_count": 58,
     "metadata": {},
     "output_type": "execute_result"
    }
   ],
   "source": [
    "list1+list2"
   ]
  },
  {
   "cell_type": "markdown",
   "id": "55700f53",
   "metadata": {},
   "source": [
    "$multiply-string-with-integers$"
   ]
  },
  {
   "cell_type": "code",
   "execution_count": 59,
   "id": "e2d8e190",
   "metadata": {},
   "outputs": [
    {
     "data": {
      "text/plain": [
       "[1, 2, 3, 4, 1, 2, 3, 4]"
      ]
     },
     "execution_count": 59,
     "metadata": {},
     "output_type": "execute_result"
    }
   ],
   "source": [
    "2*list1"
   ]
  },
  {
   "cell_type": "code",
   "execution_count": 60,
   "id": "be98a102",
   "metadata": {},
   "outputs": [
    {
     "data": {
      "text/plain": [
       "['A,B,C,D', 'A,B,C,D']"
      ]
     },
     "execution_count": 60,
     "metadata": {},
     "output_type": "execute_result"
    }
   ],
   "source": [
    "2*list2"
   ]
  },
  {
   "cell_type": "markdown",
   "id": "2647758a",
   "metadata": {},
   "source": [
    "$in$"
   ]
  },
  {
   "cell_type": "code",
   "execution_count": 63,
   "id": "e23fb3db",
   "metadata": {},
   "outputs": [],
   "source": [
    "list2=['A','B','C','D']"
   ]
  },
  {
   "cell_type": "code",
   "execution_count": 65,
   "id": "2eaf8a5b",
   "metadata": {},
   "outputs": [
    {
     "data": {
      "text/plain": [
       "True"
      ]
     },
     "execution_count": 65,
     "metadata": {},
     "output_type": "execute_result"
    }
   ],
   "source": [
    "'A' in list2\n",
    "'B'in list2\n",
    "'C' in list2"
   ]
  },
  {
   "cell_type": "code",
   "execution_count": 66,
   "id": "7e8bd3ed",
   "metadata": {},
   "outputs": [
    {
     "name": "stdout",
     "output_type": "stream",
     "text": [
      "A\n",
      "B\n",
      "C\n",
      "D\n"
     ]
    }
   ],
   "source": [
    "for i in list2:\n",
    "    print(i)"
   ]
  },
  {
   "cell_type": "code",
   "execution_count": 74,
   "id": "5cb2e52c",
   "metadata": {},
   "outputs": [],
   "source": [
    "list2=['A','B','C','D']\n",
    "i=0\n",
    "while i in list2:\n",
    "    print(i)\n",
    "## if you want to deal with while\n",
    "# we required numbers"
   ]
  },
  {
   "cell_type": "markdown",
   "id": "837b1bee",
   "metadata": {},
   "source": [
    "$index$"
   ]
  },
  {
   "cell_type": "code",
   "execution_count": 75,
   "id": "813029ef",
   "metadata": {},
   "outputs": [
    {
     "data": {
      "text/plain": [
       "[1, 2, 3, 4]"
      ]
     },
     "execution_count": 75,
     "metadata": {},
     "output_type": "execute_result"
    }
   ],
   "source": [
    "list1"
   ]
  },
  {
   "cell_type": "code",
   "execution_count": 77,
   "id": "0bc213e1",
   "metadata": {},
   "outputs": [
    {
     "data": {
      "text/plain": [
       "['A', 'B', 'C', 'D']"
      ]
     },
     "execution_count": 77,
     "metadata": {},
     "output_type": "execute_result"
    }
   ],
   "source": [
    "list2"
   ]
  },
  {
   "cell_type": "code",
   "execution_count": 78,
   "id": "02338bec",
   "metadata": {},
   "outputs": [
    {
     "data": {
      "text/plain": [
       "4"
      ]
     },
     "execution_count": 78,
     "metadata": {},
     "output_type": "execute_result"
    }
   ],
   "source": [
    "list1[3]"
   ]
  },
  {
   "cell_type": "code",
   "execution_count": 79,
   "id": "118f3dfa",
   "metadata": {},
   "outputs": [
    {
     "data": {
      "text/plain": [
       "'C'"
      ]
     },
     "execution_count": 79,
     "metadata": {},
     "output_type": "execute_result"
    }
   ],
   "source": [
    "list2[2]"
   ]
  },
  {
   "cell_type": "code",
   "execution_count": 84,
   "id": "b843b159",
   "metadata": {},
   "outputs": [
    {
     "name": "stdout",
     "output_type": "stream",
     "text": [
      "0 A\n",
      "1 B\n",
      "2 C\n",
      "3 D\n"
     ]
    }
   ],
   "source": [
    "for i in range(len(list2)):\n",
    "    print(i,list2[i])"
   ]
  },
  {
   "cell_type": "code",
   "execution_count": 85,
   "id": "6dd014eb",
   "metadata": {},
   "outputs": [
    {
     "name": "stdout",
     "output_type": "stream",
     "text": [
      "0 A\n",
      "1 B\n",
      "2 C\n",
      "3 D\n"
     ]
    }
   ],
   "source": [
    "i=0\n",
    "while i < len(list2):\n",
    "    print(i,list2[i])\n",
    "    i+=1\n",
    "    "
   ]
  },
  {
   "cell_type": "code",
   "execution_count": 91,
   "id": "08aca493",
   "metadata": {},
   "outputs": [
    {
     "name": "stdout",
     "output_type": "stream",
     "text": [
      "the positive index of 0 is A\n",
      "the positive index of 1 is B\n",
      "the positive index of 2 is C\n",
      "the positive index of 3 is D\n"
     ]
    }
   ],
   "source": [
    "for i in range(len(list2)):\n",
    "    print('the positive index of {} is {}'.format(i,list2[i]))"
   ]
  },
  {
   "cell_type": "code",
   "execution_count": 95,
   "id": "eee38e3d",
   "metadata": {},
   "outputs": [
    {
     "name": "stdout",
     "output_type": "stream",
     "text": [
      "the positive index of 0 is A\n",
      "the positive index of 1 is B\n",
      "the positive index of 2 is C\n",
      "the positive index of 3 is D\n"
     ]
    }
   ],
   "source": [
    "i=0\n",
    "while i < len(list2):\n",
    "    \n",
    "    print('the positive index of {} is {}'.format(i,list2[i]))\n",
    "    i+=1"
   ]
  },
  {
   "cell_type": "code",
   "execution_count": 96,
   "id": "08fdc0c0",
   "metadata": {},
   "outputs": [
    {
     "name": "stdout",
     "output_type": "stream",
     "text": [
      "the positive index of -4 is A\n",
      "the positive index of -3 is B\n",
      "the positive index of -2 is C\n",
      "the positive index of -1 is D\n"
     ]
    }
   ],
   "source": [
    "for i in range(len(list2)):\n",
    "    print('the negative index of {} is {}'.format(i-len(list2),list2[i]))"
   ]
  },
  {
   "cell_type": "code",
   "execution_count": 97,
   "id": "a537d91c",
   "metadata": {},
   "outputs": [
    {
     "name": "stdout",
     "output_type": "stream",
     "text": [
      "the positive index of -4 is A\n",
      "the positive index of -3 is B\n",
      "the positive index of -2 is C\n",
      "the positive index of -1 is D\n"
     ]
    }
   ],
   "source": [
    "i=0\n",
    "while i < len(list2):\n",
    "    print('the negative index of {} is {}'.format(i-len(list2),list2[i]))\n",
    "    i+=1"
   ]
  },
  {
   "cell_type": "code",
   "execution_count": 101,
   "id": "6c556ac4",
   "metadata": {},
   "outputs": [
    {
     "name": "stdout",
     "output_type": "stream",
     "text": [
      "the positive index of 0 is A the negative index of -4 is A\n",
      "the positive index of 1 is B the negative index of -3 is B\n",
      "the positive index of 2 is C the negative index of -2 is C\n",
      "the positive index of 3 is D the negative index of -1 is D\n"
     ]
    }
   ],
   "source": [
    "for i in range(len(list2)):\n",
    "    print('the positive index of {} is {}'.format(i,list2[i]),'the negative index of {} is {}'.format(i-len(list2),list2[i]))"
   ]
  },
  {
   "cell_type": "code",
   "execution_count": 100,
   "id": "6b10b945",
   "metadata": {},
   "outputs": [
    {
     "name": "stdout",
     "output_type": "stream",
     "text": [
      "the positive index of -4 is A the negative index of 0 is A\n",
      "the positive index of -3 is B the negative index of 1 is B\n",
      "the positive index of -2 is C the negative index of 2 is C\n",
      "the positive index of -1 is D the negative index of 3 is D\n"
     ]
    }
   ],
   "source": [
    "i=0\n",
    "while i < len(list2):\n",
    "    \n",
    "    print('the positive index of {} is {}'.format(i-len(list2),list2[i]),'the negative index of {} is {}'.format(i,list2[i]))\n",
    "    i+=1"
   ]
  },
  {
   "cell_type": "markdown",
   "id": "161bc299",
   "metadata": {},
   "source": [
    "**check the mutable condition**"
   ]
  },
  {
   "cell_type": "code",
   "execution_count": 104,
   "id": "3372353f",
   "metadata": {},
   "outputs": [
    {
     "data": {
      "text/plain": [
       "['AAA', 'B', 'C', 'D']"
      ]
     },
     "execution_count": 104,
     "metadata": {},
     "output_type": "execute_result"
    }
   ],
   "source": [
    "list2[0]='AAA'\n",
    "list2"
   ]
  },
  {
   "cell_type": "code",
   "execution_count": 105,
   "id": "fc69ff32",
   "metadata": {},
   "outputs": [],
   "source": [
    "list1=[[[[[1,2,3,4]]]]]"
   ]
  },
  {
   "cell_type": "code",
   "execution_count": 113,
   "id": "114d38e1",
   "metadata": {},
   "outputs": [
    {
     "data": {
      "text/plain": [
       "[[[[1, 2, 3, 4]]]]"
      ]
     },
     "execution_count": 113,
     "metadata": {},
     "output_type": "execute_result"
    }
   ],
   "source": [
    "list1[0]"
   ]
  },
  {
   "cell_type": "code",
   "execution_count": 125,
   "id": "1ddc95b4",
   "metadata": {},
   "outputs": [
    {
     "data": {
      "text/plain": [
       "4"
      ]
     },
     "execution_count": 125,
     "metadata": {},
     "output_type": "execute_result"
    }
   ],
   "source": [
    "list1[0][0][0][0][3]"
   ]
  },
  {
   "cell_type": "code",
   "execution_count": 135,
   "id": "8784137a",
   "metadata": {},
   "outputs": [
    {
     "data": {
      "text/plain": [
       "'cherry'"
      ]
     },
     "execution_count": 135,
     "metadata": {},
     "output_type": "execute_result"
    }
   ],
   "source": [
    "list2=[[[[['A','B',[1,2,3,['cherry']]]]]]]\n",
    "list2[0][0][0][0][2][3][0]"
   ]
  },
  {
   "cell_type": "code",
   "execution_count": 143,
   "id": "ad5ec920",
   "metadata": {},
   "outputs": [
    {
     "name": "stdout",
     "output_type": "stream",
     "text": [
      "0\n",
      "1\n",
      "2\n"
     ]
    }
   ],
   "source": [
    "list1=[[1,2,3]]\n",
    "for i in range(len(list1[0])):\n",
    "    print(i)"
   ]
  },
  {
   "cell_type": "markdown",
   "id": "e2c05322",
   "metadata": {},
   "source": [
    "$slice$"
   ]
  },
  {
   "cell_type": "code",
   "execution_count": null,
   "id": "8fd92aae",
   "metadata": {},
   "outputs": [],
   "source": []
  }
 ],
 "metadata": {
  "kernelspec": {
   "display_name": "Python 3 (ipykernel)",
   "language": "python",
   "name": "python3"
  },
  "language_info": {
   "codemirror_mode": {
    "name": "ipython",
    "version": 3
   },
   "file_extension": ".py",
   "mimetype": "text/x-python",
   "name": "python",
   "nbconvert_exporter": "python",
   "pygments_lexer": "ipython3",
   "version": "3.11.5"
  }
 },
 "nbformat": 4,
 "nbformat_minor": 5
}
