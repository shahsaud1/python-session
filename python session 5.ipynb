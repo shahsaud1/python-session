{
 "cells": [
  {
   "cell_type": "code",
   "execution_count": 9,
   "id": "3041ae51",
   "metadata": {},
   "outputs": [
    {
     "name": "stdout",
     "output_type": "stream",
     "text": [
      "enter a number:5\n",
      "the square of 5  is 25\n"
     ]
    }
   ],
   "source": [
    "## ask the user for a number ##\n",
    "number=input(\"enter a number:\")\n",
    "## print the square number ##\n",
    "square=eval(number)**2\n",
    "## print it out in a full sentances that end in a period ##\n",
    "print(\"the square of\",number,\" is\",square)"
   ]
  },
  {
   "cell_type": "code",
   "execution_count": 20,
   "id": "d2c7a4ba",
   "metadata": {},
   "outputs": [
    {
     "name": "stdout",
     "output_type": "stream",
     "text": [
      "enter a distance in km:2\n",
      "enter a fare in rs:10\n",
      "for 20 the fare is 20\n"
     ]
    }
   ],
   "source": [
    "distance_km=eval(input('enter a distance in km:'))\n",
    "fare_rs=eval(input('enter a fare in rs:'))\n",
    "total=distance_km*fare_rs\n",
    "print('for {} the fare is {}'.format(distance_km*fare_rs,total))"
   ]
  },
  {
   "cell_type": "code",
   "execution_count": 27,
   "id": "b615f15c",
   "metadata": {},
   "outputs": [
    {
     "name": "stdout",
     "output_type": "stream",
     "text": [
      "enter a distance in km:2\n",
      "enter a fare in rs:10\n",
      "for 2 the fare is 20.\n"
     ]
    }
   ],
   "source": [
    "distance_km=eval(input('enter a distance in km:'))\n",
    "fare_rs=eval(input('enter a fare in rs:'))\n",
    "total=distance_km*fare_rs\n",
    "print('for {} the fare is {}'.format(distance_km,total),'.',sep='')"
   ]
  },
  {
   "cell_type": "code",
   "execution_count": 31,
   "id": "b1de5aa8",
   "metadata": {},
   "outputs": [
    {
     "name": "stdout",
     "output_type": "stream",
     "text": [
      "ramesh & 35\n"
     ]
    }
   ],
   "source": [
    "print('ramesh','35',sep=' & ')"
   ]
  },
  {
   "cell_type": "code",
   "execution_count": null,
   "id": "b4a5d7ff",
   "metadata": {},
   "outputs": [],
   "source": []
  },
  {
   "cell_type": "code",
   "execution_count": null,
   "id": "467bd5ef",
   "metadata": {},
   "outputs": [],
   "source": []
  },
  {
   "cell_type": "code",
   "execution_count": null,
   "id": "a2b20370",
   "metadata": {},
   "outputs": [],
   "source": []
  }
 ],
 "metadata": {
  "kernelspec": {
   "display_name": "Python 3 (ipykernel)",
   "language": "python",
   "name": "python3"
  },
  "language_info": {
   "codemirror_mode": {
    "name": "ipython",
    "version": 3
   },
   "file_extension": ".py",
   "mimetype": "text/x-python",
   "name": "python",
   "nbconvert_exporter": "python",
   "pygments_lexer": "ipython3",
   "version": "3.11.5"
  }
 },
 "nbformat": 4,
 "nbformat_minor": 5
}
