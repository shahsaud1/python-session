{
 "cells": [
  {
   "cell_type": "code",
   "execution_count": 2,
   "id": "00f00d33",
   "metadata": {},
   "outputs": [
    {
     "name": "stdout",
     "output_type": "stream",
     "text": [
      "sqaure number22 is 484\n",
      "sqaure number18 is 324\n",
      "sqaure number87 is 7569\n",
      "sqaure number47 is 2209\n",
      "sqaure number32 is 1024\n"
     ]
    }
   ],
   "source": [
    "import random\n",
    "for i in range(5):\n",
    "    num=random.randint(1,100)\n",
    "    print('sqaure number{} is {}'.format(num,num*num))"
   ]
  },
  {
   "cell_type": "code",
   "execution_count": 14,
   "id": "e99bee9a",
   "metadata": {},
   "outputs": [
    {
     "name": "stdout",
     "output_type": "stream",
     "text": [
      "10 even number\n",
      "11 odd number\n",
      "12 even number\n",
      "13 odd number\n",
      "14 even number\n",
      "15 odd number\n",
      "16 even number\n",
      "17 odd number\n",
      "18 even number\n",
      "19 odd number\n",
      "20 even number\n",
      "21 odd number\n",
      "22 even number\n",
      "23 odd number\n",
      "24 even number\n",
      "25 odd number\n",
      "26 even number\n",
      "27 odd number\n",
      "28 even number\n",
      "29 odd number\n",
      "30 even number\n",
      "31 odd number\n",
      "32 even number\n",
      "33 odd number\n",
      "34 even number\n",
      "35 odd number\n",
      "36 even number\n",
      "37 odd number\n",
      "38 even number\n",
      "39 odd number\n"
     ]
    }
   ],
   "source": [
    "for i in range(10,40):\n",
    "    if i%2==0:\n",
    "        \n",
    "        print('{} even number'.format(i))\n",
    "    else:\n",
    "        print('{} odd number'.format(i))"
   ]
  },
  {
   "cell_type": "code",
   "execution_count": 19,
   "id": "d59d840c",
   "metadata": {},
   "outputs": [
    {
     "name": "stdout",
     "output_type": "stream",
     "text": [
      "10 even number\n",
      "11 odd number\n",
      "12 even number\n",
      "13 odd number\n",
      "14 even number\n",
      "15 odd number\n",
      "16 even number\n",
      "17 odd number\n",
      "18 even number\n",
      "19 odd number\n",
      "20 even number\n",
      "21 odd number\n",
      "22 even number\n",
      "23 odd number\n",
      "24 even number\n",
      "25 odd number\n",
      "26 even number\n",
      "27 odd number\n",
      "28 even number\n",
      "29 odd number\n",
      "30 even number\n",
      "31 odd number\n",
      "32 even number\n",
      "33 odd number\n",
      "34 even number\n",
      "35 odd number\n",
      "36 even number\n",
      "37 odd number\n",
      "38 even number\n",
      "39 odd number\n"
     ]
    }
   ],
   "source": [
    "def even_odd():\n",
    "    try:\n",
    "        for i in range(10,40):\n",
    "            if i%2==0:\n",
    "                print('{} even number'.format(i))\n",
    "            else:\n",
    "                print('{} odd number'.format(i))\n",
    "    except exception as e:\n",
    "        print(e)\n",
    "even_odd()"
   ]
  },
  {
   "cell_type": "code",
   "execution_count": 20,
   "id": "23d4716d",
   "metadata": {},
   "outputs": [
    {
     "name": "stdout",
     "output_type": "stream",
     "text": [
      "10 even number\n",
      "11 odd number\n",
      "12 even number\n",
      "13 odd number\n",
      "14 even number\n",
      "15 odd number\n",
      "16 even number\n",
      "17 odd number\n",
      "18 even number\n",
      "19 odd number\n",
      "20 even number\n",
      "21 odd number\n",
      "22 even number\n",
      "23 odd number\n",
      "24 even number\n",
      "25 odd number\n",
      "26 even number\n",
      "27 odd number\n",
      "28 even number\n",
      "29 odd number\n",
      "30 even number\n",
      "31 odd number\n",
      "32 even number\n",
      "33 odd number\n",
      "34 even number\n",
      "35 odd number\n",
      "36 even number\n",
      "37 odd number\n",
      "38 even number\n",
      "39 odd number\n"
     ]
    }
   ],
   "source": [
    "def even_odd(even,odd):\n",
    "    try:\n",
    "        for i in range(10,40):\n",
    "            if i%2==0:\n",
    "                print('{} even number'.format(i))\n",
    "            else:\n",
    "                print('{} odd number'.format(i))\n",
    "    except exception as e:\n",
    "        print(e)\n",
    "even_odd(10,40)"
   ]
  },
  {
   "cell_type": "code",
   "execution_count": 25,
   "id": "9e298ba4",
   "metadata": {},
   "outputs": [
    {
     "name": "stdout",
     "output_type": "stream",
     "text": [
      "10 even number\n",
      "11 odd number\n",
      "12 even number\n",
      "13 odd number\n",
      "14 even number\n"
     ]
    }
   ],
   "source": [
    "def even_odd(a,b):\n",
    "    try:\n",
    "        for i in range(a,b):\n",
    "            if i%2==0:\n",
    "                print('{} even number'.format(i))\n",
    "            else:\n",
    "                print('{} odd number'.format(i))\n",
    "    except exception as e:\n",
    "        print(e)\n",
    "even_odd(10,15)"
   ]
  },
  {
   "cell_type": "code",
   "execution_count": 33,
   "id": "dbe34795",
   "metadata": {},
   "outputs": [
    {
     "name": "stdout",
     "output_type": "stream",
     "text": [
      "enter a number:10\n",
      "enter a number:15\n",
      "10 even number\n",
      "11 odd number\n",
      "12 even number\n",
      "13 odd number\n",
      "14 even number\n"
     ]
    }
   ],
   "source": [
    "start=eval(input('enter a number:'))\n",
    "stop=eval(input('enter a number:'))\n",
    "def even_odd():\n",
    "    try:\n",
    "        for i in range(start,stop):\n",
    "            if i%2==0:\n",
    "                print('{} even number'.format(i))\n",
    "            else:\n",
    "                print('{} odd number'.format(i))\n",
    "    except exception as e:\n",
    "        print(e)\n",
    "even_odd()"
   ]
  },
  {
   "cell_type": "code",
   "execution_count": 43,
   "id": "d75f1014",
   "metadata": {},
   "outputs": [
    {
     "name": "stdout",
     "output_type": "stream",
     "text": [
      "enter a number:10\n",
      "enter a number:20\n",
      "10 even number\n",
      "11 odd number\n",
      "12 even number\n",
      "13 odd number\n",
      "14 even number\n",
      "15 odd number\n",
      "16 even number\n",
      "17 odd number\n",
      "18 even number\n",
      "19 odd number\n"
     ]
    }
   ],
   "source": [
    "def get_value():\n",
    "    start=eval(input('enter a number:'))\n",
    "    stop=eval(input('enter a number:'))\n",
    "    return(start,stop)\n",
    "def even_odd():\n",
    "    try:\n",
    "        start,stop=get_value()\n",
    "        for i in range(start,stop):\n",
    "            if i%2==0:\n",
    "                print('{} even number'.format(i))\n",
    "            else:\n",
    "                print('{} odd number'.format(i))\n",
    "    except exception as e:\n",
    "        print(e)\n",
    "even_odd()"
   ]
  },
  {
   "cell_type": "code",
   "execution_count": 42,
   "id": "cfebce67",
   "metadata": {},
   "outputs": [
    {
     "name": "stdout",
     "output_type": "stream",
     "text": [
      "enter a number:10\n",
      "enter a number:30\n",
      "enter a number:3\n",
      "10 even number\n",
      "13 odd number\n",
      "16 even number\n",
      "19 odd number\n",
      "22 even number\n",
      "25 odd number\n",
      "28 even number\n"
     ]
    }
   ],
   "source": [
    "def get_value():\n",
    "    start=eval(input('enter a number:'))\n",
    "    stop=eval(input('enter a number:'))\n",
    "    step=eval(input('enter a number:'))\n",
    "    return(start,stop,step)\n",
    "def even_odd():\n",
    "    try:\n",
    "        start,stop,step=get_value()\n",
    "        for i in range(start,stop,step):\n",
    "            if i%2==0:\n",
    "                print('{} even number'.format(i))\n",
    "            else:\n",
    "                print('{} odd number'.format(i))\n",
    "    except exception as e:\n",
    "        print(e)\n",
    "even_odd()"
   ]
  },
  {
   "cell_type": "code",
   "execution_count": 40,
   "id": "a08e5104",
   "metadata": {},
   "outputs": [
    {
     "data": {
      "text/plain": [
       "(10, 20)"
      ]
     },
     "execution_count": 40,
     "metadata": {},
     "output_type": "execute_result"
    }
   ],
   "source": [
    "def value(num1,num2=20):\n",
    "    return(num1,num2)\n",
    "\n",
    "num1,num2=value(10)\n",
    "num1,num2"
   ]
  },
  {
   "cell_type": "code",
   "execution_count": 44,
   "id": "b0dbd7fd",
   "metadata": {},
   "outputs": [
    {
     "name": "stdout",
     "output_type": "stream",
     "text": [
      "hii\n",
      "hello\n",
      "good\n",
      "morning\n",
      "good\n",
      "morning\n",
      "good\n",
      "morning\n",
      "bye\n"
     ]
    }
   ],
   "source": [
    "print('hii')\n",
    "print('hello')\n",
    "for i in range(3):\n",
    "    print('good')\n",
    "    print('morning')\n",
    "print('bye')"
   ]
  },
  {
   "cell_type": "code",
   "execution_count": 45,
   "id": "258397b0",
   "metadata": {},
   "outputs": [
    {
     "name": "stdout",
     "output_type": "stream",
     "text": [
      "42 is even number\n",
      "17 is odd number\n",
      "64 is even number\n",
      "76 is even number\n",
      "44 is even number\n",
      "10 is even number\n",
      "52 is even number\n",
      "69 is odd number\n",
      "90 is even number\n",
      "99 is odd number\n"
     ]
    }
   ],
   "source": [
    "import random\n",
    "for i in range(10):\n",
    "    num=random.randint(1,100)\n",
    "    if num%2==0:\n",
    "        print('{} is even number'.format(num))\n",
    "    else:\n",
    "        print('{} is odd number'.format(num))"
   ]
  },
  {
   "cell_type": "code",
   "execution_count": 61,
   "id": "e011126d",
   "metadata": {},
   "outputs": [
    {
     "name": "stdout",
     "output_type": "stream",
     "text": [
      "7\n",
      "enter a number:7\n",
      "you won\n",
      "enter a number:7\n",
      "you won\n",
      "enter a number:7\n",
      "you won\n"
     ]
    }
   ],
   "source": [
    "import random\n",
    "num1=random.randint(1,20)\n",
    "print(num1)\n",
    "for i in range(3):\n",
    "    num2=eval(input('enter a number:'))\n",
    "    if num1==num2:\n",
    "        print('you won')\n",
    "    else:\n",
    "        print('you lost')"
   ]
  },
  {
   "cell_type": "code",
   "execution_count": 63,
   "id": "a64b4a05",
   "metadata": {},
   "outputs": [
    {
     "name": "stdout",
     "output_type": "stream",
     "text": [
      "7\n",
      "enter a number:7\n",
      "you won\n"
     ]
    }
   ],
   "source": [
    "import random\n",
    "num1=random.randint(1,20)\n",
    "print(num1)\n",
    "for i in range(3):\n",
    "    num2=eval(input('enter a number:'))\n",
    "    if num1==num2:\n",
    "        print('you won')\n",
    "        break\n",
    "    else:\n",
    "        print('you lost')"
   ]
  },
  {
   "cell_type": "code",
   "execution_count": 64,
   "id": "42776455",
   "metadata": {},
   "outputs": [
    {
     "name": "stdout",
     "output_type": "stream",
     "text": [
      "enter a number:1\n",
      "you lost\n",
      "enter a number:2\n",
      "you lost\n",
      "enter a number:3\n",
      "you lost\n",
      "enter a number:4\n",
      "you won\n",
      "enter a number:5\n",
      "you lost\n",
      "enter a number:6\n",
      "you lost\n",
      "enter a number:7\n",
      "you lost\n",
      "enter a number:8\n",
      "you lost\n",
      "enter a number:9\n",
      "you lost\n",
      "enter a number:10\n",
      "you lost\n"
     ]
    }
   ],
   "source": [
    "import random\n",
    "num1=random.randint(1,20)\n",
    "for i in range(10):\n",
    "    num2=eval(input('enter a number:'))\n",
    "    if num1==num2:\n",
    "        print('you won')\n",
    "    else:\n",
    "        print('you lost')"
   ]
  },
  {
   "cell_type": "code",
   "execution_count": 70,
   "id": "3f6b2ff6",
   "metadata": {},
   "outputs": [
    {
     "name": "stdout",
     "output_type": "stream",
     "text": [
      "enter a chances2\n",
      "enter a number:10\n",
      "you lost\n",
      "1 chance is left\n",
      "enter a number:20\n",
      "you lost\n",
      "0 chance is left\n"
     ]
    }
   ],
   "source": [
    "import random\n",
    "num1=random.randint(1,20)\n",
    "chances=eval(input('enter a chances'))\n",
    "for i in range(chances):\n",
    "    num2=eval(input('enter a number:'))\n",
    "    if num1==num2:\n",
    "        print('you won')\n",
    "        break\n",
    "    else:\n",
    "        print('you lost')\n",
    "        print('{} chance is left'.format(chances-1-i))"
   ]
  },
  {
   "cell_type": "code",
   "execution_count": 74,
   "id": "94e8ce69",
   "metadata": {},
   "outputs": [
    {
     "name": "stdout",
     "output_type": "stream",
     "text": [
      "enter a number:10\n",
      "you lost\n",
      "4 chance is left\n",
      "enter a number:20\n",
      "you lost\n",
      "3 chance is left\n",
      "enter a number:30\n",
      "you lost\n",
      "2 chance is left\n",
      "enter a number:10\n",
      "you lost\n",
      "1 chance is left\n",
      "enter a number:30\n",
      "you lost\n",
      "0 chance is left\n",
      "better luck next time\n"
     ]
    }
   ],
   "source": [
    "import random\n",
    "chances=5\n",
    "for i in range(chances):\n",
    "    num1=random.randint(1,20)\n",
    "    \n",
    "    num2=eval(input('enter a number:'))\n",
    "    if num1==num2:\n",
    "        print('you won')\n",
    "        break\n",
    "    else:\n",
    "        print('you lost')\n",
    "        print('{} chance is left'.format(chances-1-i))\n",
    "print('better luck next time')"
   ]
  },
  {
   "cell_type": "code",
   "execution_count": 86,
   "id": "d4a5a2c1",
   "metadata": {},
   "outputs": [
    {
     "name": "stdout",
     "output_type": "stream",
     "text": [
      "10\n",
      "enter a number:13\n",
      "you lost\n",
      "4 chance is left\n",
      "6\n",
      "enter a number:14\n",
      "you lost\n",
      "3 chance is left\n",
      "8\n",
      "enter a number:45\n",
      "you lost\n",
      "2 chance is left\n",
      "20\n",
      "enter a number:53\n",
      "you lost\n",
      "1 chance is left\n",
      "13\n",
      "enter a number:54\n",
      "you lost\n",
      "0 chance is left\n",
      "better luck next time\n"
     ]
    }
   ],
   "source": [
    "import random\n",
    "chances=5\n",
    "flag =0\n",
    "for i in range(chances):\n",
    "    num1=random.randint(1,20)\n",
    "    print(num1)\n",
    "    num2=eval(input('enter a number:'))\n",
    "    if num1==num2:\n",
    "        print('you won')\n",
    "        flag = 1\n",
    "        break\n",
    "    elif num1!=num2:\n",
    "        print('you lost')\n",
    "        print('{} chance is left'.format(chances-1-i))\n",
    "    \n",
    "if flag ==0:\n",
    "    print('better luck next time')\n",
    "    "
   ]
  },
  {
   "cell_type": "code",
   "execution_count": 4,
   "id": "81b72b13",
   "metadata": {},
   "outputs": [
    {
     "name": "stdout",
     "output_type": "stream",
     "text": [
      "1\n",
      "3\n",
      "6\n",
      "10\n",
      "15\n",
      "21\n",
      "28\n",
      "36\n",
      "45\n",
      "55\n"
     ]
    }
   ],
   "source": [
    "sum1=0\n",
    "for i in range(1,11):\n",
    "    sum1=sum1+i\n",
    "    print(sum1)"
   ]
  },
  {
   "cell_type": "code",
   "execution_count": 5,
   "id": "0a1483c4",
   "metadata": {},
   "outputs": [
    {
     "name": "stdout",
     "output_type": "stream",
     "text": [
      "55\n"
     ]
    }
   ],
   "source": [
    "sum1=0\n",
    "for i in range(1,11):\n",
    "    sum1=sum1+i\n",
    "print(sum1)"
   ]
  },
  {
   "cell_type": "code",
   "execution_count": 7,
   "id": "73357833",
   "metadata": {},
   "outputs": [
    {
     "name": "stdout",
     "output_type": "stream",
     "text": [
      "the sum of first 10 number are = 55\n"
     ]
    }
   ],
   "source": [
    "sum1=0\n",
    "for i in range(1,11):\n",
    "    sum1=sum1+i\n",
    "print('the sum of first 10 number are =',sum1)"
   ]
  },
  {
   "cell_type": "code",
   "execution_count": 14,
   "id": "204e522d",
   "metadata": {},
   "outputs": [
    {
     "name": "stdout",
     "output_type": "stream",
     "text": [
      "the total num of even is: 49\n",
      "the total num of odd is : 50\n"
     ]
    }
   ],
   "source": [
    "even=0\n",
    "odd=0\n",
    "for i in range(1,100):\n",
    "        if i%2==0:\n",
    "            even=even+1\n",
    "        else:\n",
    "            odd=odd+1\n",
    "print('the total num of even is:',even)\n",
    "print('the total num of odd is :',odd)\n",
    "        "
   ]
  },
  {
   "cell_type": "code",
   "execution_count": 22,
   "id": "3cf22e37",
   "metadata": {},
   "outputs": [
    {
     "name": "stdout",
     "output_type": "stream",
     "text": [
      "2\n",
      "2\n",
      "3\n",
      "3\n",
      "4\n",
      "4\n",
      "5\n",
      "5\n",
      "6\n",
      "6\n",
      "7\n",
      "7\n",
      "8\n",
      "8\n",
      "9\n",
      "9\n",
      "10\n",
      "10\n",
      "11\n",
      "11\n",
      "12\n",
      "12\n",
      "13\n",
      "13\n",
      "14\n",
      "14\n",
      "15\n",
      "15\n",
      "16\n",
      "16\n",
      "17\n",
      "17\n",
      "18\n",
      "18\n",
      "19\n",
      "19\n",
      "20\n",
      "20\n",
      "21\n",
      "21\n",
      "22\n",
      "22\n",
      "23\n",
      "23\n",
      "24\n",
      "24\n",
      "25\n",
      "25\n",
      "26\n",
      "26\n",
      "27\n",
      "27\n",
      "28\n",
      "28\n",
      "29\n",
      "29\n",
      "30\n",
      "30\n",
      "31\n",
      "31\n",
      "32\n",
      "32\n",
      "33\n",
      "33\n",
      "34\n",
      "34\n",
      "35\n",
      "35\n",
      "36\n",
      "36\n",
      "37\n",
      "37\n",
      "38\n",
      "38\n",
      "39\n",
      "39\n",
      "40\n",
      "40\n",
      "41\n",
      "41\n",
      "42\n",
      "42\n",
      "43\n",
      "43\n",
      "44\n",
      "44\n",
      "45\n",
      "45\n",
      "46\n",
      "46\n",
      "47\n",
      "47\n",
      "48\n",
      "48\n",
      "49\n",
      "49\n",
      "50\n",
      "50\n",
      "51\n"
     ]
    }
   ],
   "source": [
    "even=1\n",
    "odd=1\n",
    "for i in range(1,100):\n",
    "        if i%2==0:\n",
    "            even=even+1\n",
    "            print(even)\n",
    "        else:\n",
    "            odd=odd+1\n",
    "            print(odd)\n",
    "#print('the total num of even is:',even)\n",
    "#print('the total num of odd is :',odd)"
   ]
  },
  {
   "cell_type": "code",
   "execution_count": 44,
   "id": "7f67fe64",
   "metadata": {},
   "outputs": [
    {
     "name": "stdout",
     "output_type": "stream",
     "text": [
      "total gteater number are: 5\n",
      "total less number are: 15\n"
     ]
    }
   ],
   "source": [
    "import random\n",
    "count_greater=0\n",
    "count_less=0\n",
    "for i in range(20):\n",
    "    num=random.randint(1,100)\n",
    "    if num>50 and num<90:\n",
    "        count_greater=count_greater+1\n",
    "    else:\n",
    "        count_less=count_less+1\n",
    "print('total gteater number are:',count_greater)\n",
    "print('total less number are:',count_less)"
   ]
  },
  {
   "cell_type": "code",
   "execution_count": 49,
   "id": "6e946ee1",
   "metadata": {},
   "outputs": [
    {
     "name": "stdout",
     "output_type": "stream",
     "text": [
      "35 2 93 21 70 65 93 87 22 62 83 33 18 18 68 43 79 90 3 62 total gteater number are: 8\n",
      "total less number are: 12\n"
     ]
    }
   ],
   "source": [
    "import random\n",
    "count_greater=0\n",
    "count_less=0\n",
    "for i in range(20):\n",
    "    num=random.randint(1,100)\n",
    "    print(num , end=' ')\n",
    "    if num>50 and num<90:\n",
    "        count_greater=count_greater+1\n",
    "    else:\n",
    "        count_less=count_less+1\n",
    "print('total gteater number are:',count_greater)\n",
    "print('total less number are:',count_less)"
   ]
  },
  {
   "cell_type": "code",
   "execution_count": null,
   "id": "b01340a2",
   "metadata": {},
   "outputs": [],
   "source": []
  },
  {
   "cell_type": "code",
   "execution_count": null,
   "id": "940db35f",
   "metadata": {},
   "outputs": [],
   "source": []
  },
  {
   "cell_type": "code",
   "execution_count": null,
   "id": "a55061c1",
   "metadata": {},
   "outputs": [],
   "source": []
  }
 ],
 "metadata": {
  "kernelspec": {
   "display_name": "Python 3 (ipykernel)",
   "language": "python",
   "name": "python3"
  },
  "language_info": {
   "codemirror_mode": {
    "name": "ipython",
    "version": 3
   },
   "file_extension": ".py",
   "mimetype": "text/x-python",
   "name": "python",
   "nbconvert_exporter": "python",
   "pygments_lexer": "ipython3",
   "version": "3.11.5"
  }
 },
 "nbformat": 4,
 "nbformat_minor": 5
}
