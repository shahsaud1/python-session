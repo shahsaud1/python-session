{
 "cells": [
  {
   "cell_type": "markdown",
   "id": "65163181",
   "metadata": {},
   "source": [
    "## String"
   ]
  },
  {
   "cell_type": "code",
   "execution_count": 1,
   "id": "681107a7",
   "metadata": {},
   "outputs": [
    {
     "data": {
      "text/plain": [
       "str"
      ]
     },
     "execution_count": 1,
     "metadata": {},
     "output_type": "execute_result"
    }
   ],
   "source": [
    "name= 'python'\n",
    "type(name)"
   ]
  },
  {
   "cell_type": "code",
   "execution_count": 2,
   "id": "42058949",
   "metadata": {},
   "outputs": [
    {
     "name": "stdout",
     "output_type": "stream",
     "text": [
      "python\n"
     ]
    }
   ],
   "source": [
    "print(name)"
   ]
  },
  {
   "cell_type": "code",
   "execution_count": 8,
   "id": "8e2efb64",
   "metadata": {},
   "outputs": [
    {
     "name": "stdout",
     "output_type": "stream",
     "text": [
      "hiii\n",
      "    how are you\n",
      "    i'm good\n"
     ]
    }
   ],
   "source": [
    "name1=\"\"\"hiii\n",
    "    how are you\n",
    "    i'm good\"\"\"\n",
    "print(name1)"
   ]
  },
  {
   "cell_type": "code",
   "execution_count": 9,
   "id": "49b13194",
   "metadata": {},
   "outputs": [
    {
     "name": "stdout",
     "output_type": "stream",
     "text": [
      "name 'python'\n"
     ]
    }
   ],
   "source": [
    "print(\"name 'python'\")"
   ]
  },
  {
   "cell_type": "code",
   "execution_count": 10,
   "id": "0dbe5230",
   "metadata": {},
   "outputs": [
    {
     "name": "stdout",
     "output_type": "stream",
     "text": [
      "name \"python\"\n"
     ]
    }
   ],
   "source": [
    "print('name \"python\"')"
   ]
  },
  {
   "cell_type": "markdown",
   "id": "93856ed8",
   "metadata": {},
   "source": [
    "## keyword\n",
    "-type\n",
    "\n",
    "-len\n",
    "\n",
    "-max\n",
    "\n",
    "-min\n",
    "\n",
    "-in"
   ]
  },
  {
   "cell_type": "code",
   "execution_count": 25,
   "id": "545bdec2",
   "metadata": {},
   "outputs": [
    {
     "data": {
      "text/plain": [
       "str"
      ]
     },
     "execution_count": 25,
     "metadata": {},
     "output_type": "execute_result"
    }
   ],
   "source": [
    "name='python'\n",
    "type(name)"
   ]
  },
  {
   "cell_type": "code",
   "execution_count": 26,
   "id": "105ac90f",
   "metadata": {},
   "outputs": [
    {
     "data": {
      "text/plain": [
       "6"
      ]
     },
     "execution_count": 26,
     "metadata": {},
     "output_type": "execute_result"
    }
   ],
   "source": [
    "len(name)"
   ]
  },
  {
   "cell_type": "code",
   "execution_count": 27,
   "id": "c328399b",
   "metadata": {},
   "outputs": [
    {
     "data": {
      "text/plain": [
       "'y'"
      ]
     },
     "execution_count": 27,
     "metadata": {},
     "output_type": "execute_result"
    }
   ],
   "source": [
    "max(name)"
   ]
  },
  {
   "cell_type": "code",
   "execution_count": 28,
   "id": "30506fc1",
   "metadata": {},
   "outputs": [
    {
     "data": {
      "text/plain": [
       "'h'"
      ]
     },
     "execution_count": 28,
     "metadata": {},
     "output_type": "execute_result"
    }
   ],
   "source": [
    "min(name)"
   ]
  },
  {
   "cell_type": "code",
   "execution_count": 29,
   "id": "e12dee18",
   "metadata": {},
   "outputs": [
    {
     "name": "stdout",
     "output_type": "stream",
     "text": [
      "p -- 112\n",
      "y -- 121\n",
      "t -- 116\n",
      "h -- 104\n",
      "o -- 111\n",
      "n -- 110\n"
     ]
    }
   ],
   "source": [
    "import string\n",
    "for i in name:\n",
    "    print(i,'--',ord(i))"
   ]
  },
  {
   "cell_type": "code",
   "execution_count": 34,
   "id": "dc3f83fe",
   "metadata": {},
   "outputs": [
    {
     "name": "stdout",
     "output_type": "stream",
     "text": [
      "p\n",
      "y\n",
      "t\n",
      "h\n",
      "o\n",
      "n\n"
     ]
    }
   ],
   "source": [
    "import string\n",
    "for i in name:\n",
    "    min(i)\n",
    "    "
   ]
  },
  {
   "cell_type": "code",
   "execution_count": 39,
   "id": "9de9a598",
   "metadata": {},
   "outputs": [
    {
     "data": {
      "text/plain": [
       "'hiihello'"
      ]
     },
     "execution_count": 39,
     "metadata": {},
     "output_type": "execute_result"
    }
   ],
   "source": [
    "string1='hii'\n",
    "string2='hello'  \n",
    "string1+string2        ### string concatination"
   ]
  },
  {
   "cell_type": "code",
   "execution_count": 36,
   "id": "9cb0911c",
   "metadata": {},
   "outputs": [
    {
     "ename": "TypeError",
     "evalue": "unsupported operand type(s) for -: 'str' and 'str'",
     "output_type": "error",
     "traceback": [
      "\u001b[1;31m---------------------------------------------------------------------------\u001b[0m",
      "\u001b[1;31mTypeError\u001b[0m                                 Traceback (most recent call last)",
      "Cell \u001b[1;32mIn[36], line 3\u001b[0m\n\u001b[0;32m      1\u001b[0m string1\u001b[38;5;241m=\u001b[39m\u001b[38;5;124m'\u001b[39m\u001b[38;5;124mhii\u001b[39m\u001b[38;5;124m'\u001b[39m\n\u001b[0;32m      2\u001b[0m string2\u001b[38;5;241m=\u001b[39m\u001b[38;5;124m'\u001b[39m\u001b[38;5;124mhello\u001b[39m\u001b[38;5;124m'\u001b[39m\n\u001b[1;32m----> 3\u001b[0m string1\u001b[38;5;241m-\u001b[39mstring2\n",
      "\u001b[1;31mTypeError\u001b[0m: unsupported operand type(s) for -: 'str' and 'str'"
     ]
    }
   ],
   "source": [
    "string1='hii'\n",
    "string2='hello'\n",
    "string1-string2"
   ]
  },
  {
   "cell_type": "code",
   "execution_count": 37,
   "id": "92545389",
   "metadata": {},
   "outputs": [
    {
     "ename": "TypeError",
     "evalue": "can't multiply sequence by non-int of type 'str'",
     "output_type": "error",
     "traceback": [
      "\u001b[1;31m---------------------------------------------------------------------------\u001b[0m",
      "\u001b[1;31mTypeError\u001b[0m                                 Traceback (most recent call last)",
      "Cell \u001b[1;32mIn[37], line 3\u001b[0m\n\u001b[0;32m      1\u001b[0m string1\u001b[38;5;241m=\u001b[39m\u001b[38;5;124m'\u001b[39m\u001b[38;5;124mhii\u001b[39m\u001b[38;5;124m'\u001b[39m\n\u001b[0;32m      2\u001b[0m string2\u001b[38;5;241m=\u001b[39m\u001b[38;5;124m'\u001b[39m\u001b[38;5;124mhello\u001b[39m\u001b[38;5;124m'\u001b[39m\n\u001b[1;32m----> 3\u001b[0m string1\u001b[38;5;241m*\u001b[39mstring2\n",
      "\u001b[1;31mTypeError\u001b[0m: can't multiply sequence by non-int of type 'str'"
     ]
    }
   ],
   "source": [
    "string1='hii'\n",
    "string2='hello'\n",
    "string1*string2"
   ]
  },
  {
   "cell_type": "code",
   "execution_count": 38,
   "id": "36dae757",
   "metadata": {},
   "outputs": [
    {
     "ename": "TypeError",
     "evalue": "unsupported operand type(s) for /: 'str' and 'str'",
     "output_type": "error",
     "traceback": [
      "\u001b[1;31m---------------------------------------------------------------------------\u001b[0m",
      "\u001b[1;31mTypeError\u001b[0m                                 Traceback (most recent call last)",
      "Cell \u001b[1;32mIn[38], line 3\u001b[0m\n\u001b[0;32m      1\u001b[0m string1\u001b[38;5;241m=\u001b[39m\u001b[38;5;124m'\u001b[39m\u001b[38;5;124mhii\u001b[39m\u001b[38;5;124m'\u001b[39m\n\u001b[0;32m      2\u001b[0m string2\u001b[38;5;241m=\u001b[39m\u001b[38;5;124m'\u001b[39m\u001b[38;5;124mhello\u001b[39m\u001b[38;5;124m'\u001b[39m\n\u001b[1;32m----> 3\u001b[0m string1\u001b[38;5;241m/\u001b[39mstring2\n",
      "\u001b[1;31mTypeError\u001b[0m: unsupported operand type(s) for /: 'str' and 'str'"
     ]
    }
   ],
   "source": [
    "string1='hii'\n",
    "string2='hello'\n",
    "string1/string2"
   ]
  },
  {
   "cell_type": "code",
   "execution_count": 42,
   "id": "bb931f6b",
   "metadata": {},
   "outputs": [
    {
     "data": {
      "text/plain": [
       "'hellohellohellohello'"
      ]
     },
     "execution_count": 42,
     "metadata": {},
     "output_type": "execute_result"
    }
   ],
   "source": [
    "string1=4\n",
    "string2='hello'\n",
    "string1*string2"
   ]
  },
  {
   "cell_type": "code",
   "execution_count": 43,
   "id": "2591f8e0",
   "metadata": {},
   "outputs": [
    {
     "data": {
      "text/plain": [
       "'hellohello'"
      ]
     },
     "execution_count": 43,
     "metadata": {},
     "output_type": "execute_result"
    }
   ],
   "source": [
    "string2*2"
   ]
  },
  {
   "cell_type": "code",
   "execution_count": null,
   "id": "914f05d0",
   "metadata": {},
   "outputs": [],
   "source": []
  },
  {
   "cell_type": "markdown",
   "id": "b6f3dc00",
   "metadata": {},
   "source": [
    "## indexing"
   ]
  },
  {
   "cell_type": "code",
   "execution_count": 1,
   "id": "5e10f9a5",
   "metadata": {},
   "outputs": [],
   "source": [
    "name='python'"
   ]
  },
  {
   "cell_type": "code",
   "execution_count": 3,
   "id": "5dd68dde",
   "metadata": {},
   "outputs": [
    {
     "data": {
      "text/plain": [
       "'p'"
      ]
     },
     "execution_count": 3,
     "metadata": {},
     "output_type": "execute_result"
    }
   ],
   "source": [
    "name[0]"
   ]
  },
  {
   "cell_type": "code",
   "execution_count": 4,
   "id": "548883c7",
   "metadata": {},
   "outputs": [
    {
     "data": {
      "text/plain": [
       "'y'"
      ]
     },
     "execution_count": 4,
     "metadata": {},
     "output_type": "execute_result"
    }
   ],
   "source": [
    "name[1]"
   ]
  },
  {
   "cell_type": "code",
   "execution_count": 13,
   "id": "361c8a62",
   "metadata": {},
   "outputs": [
    {
     "name": "stdout",
     "output_type": "stream",
     "text": [
      "p\n",
      "y\n",
      "t\n",
      "h\n",
      "o\n",
      "n\n"
     ]
    }
   ],
   "source": [
    "for i in range(6):\n",
    "    print(name[i])\n",
    "    "
   ]
  },
  {
   "cell_type": "code",
   "execution_count": 17,
   "id": "f3b81ce3",
   "metadata": {},
   "outputs": [
    {
     "name": "stdout",
     "output_type": "stream",
     "text": [
      "p\n",
      "y\n",
      "t\n",
      "h\n",
      "o\n",
      "n\n"
     ]
    },
    {
     "ename": "IndexError",
     "evalue": "string index out of range",
     "output_type": "error",
     "traceback": [
      "\u001b[1;31m---------------------------------------------------------------------------\u001b[0m",
      "\u001b[1;31mIndexError\u001b[0m                                Traceback (most recent call last)",
      "Cell \u001b[1;32mIn[17], line 2\u001b[0m\n\u001b[0;32m      1\u001b[0m \u001b[38;5;28;01mfor\u001b[39;00m i \u001b[38;5;129;01min\u001b[39;00m \u001b[38;5;28mrange\u001b[39m(\u001b[38;5;241m7\u001b[39m):\n\u001b[1;32m----> 2\u001b[0m     \u001b[38;5;28mprint\u001b[39m(name[i])\n",
      "\u001b[1;31mIndexError\u001b[0m: string index out of range"
     ]
    }
   ],
   "source": [
    "for i in range(7):\n",
    "    print(name[i])"
   ]
  },
  {
   "cell_type": "code",
   "execution_count": 21,
   "id": "3f2d9034",
   "metadata": {},
   "outputs": [
    {
     "name": "stdout",
     "output_type": "stream",
     "text": [
      "17\n",
      "hello how are you"
     ]
    }
   ],
   "source": [
    "name1='hello how are you'\n",
    "print(len(name1))\n",
    "for i in range(len(name1)):\n",
    "    print(name1[i],end='')"
   ]
  },
  {
   "cell_type": "code",
   "execution_count": 29,
   "id": "b8cc97db",
   "metadata": {},
   "outputs": [
    {
     "name": "stdout",
     "output_type": "stream",
     "text": [
      "the index of p is:0\n",
      "the index of y is:1\n",
      "the index of t is:2\n",
      "the index of h is:3\n",
      "the index of o is:4\n",
      "the index of n is:5\n"
     ]
    }
   ],
   "source": [
    "for i in range(len(name)):\n",
    "    print('the index of {} is:{}'.format(name[i],i))"
   ]
  },
  {
   "cell_type": "code",
   "execution_count": 30,
   "id": "f0b8c1fd",
   "metadata": {},
   "outputs": [
    {
     "name": "stdout",
     "output_type": "stream",
     "text": [
      "the index of p is:0\n",
      "the index of y is:1\n",
      "the index of t is:2\n",
      "the index of h is:3\n",
      "the index of o is:4\n",
      "the index of n is:5\n"
     ]
    }
   ],
   "source": [
    "i=0\n",
    "while i<len(name):\n",
    "    print('the index of {} is:{}'.format(name[i],i))\n",
    "    i+=1"
   ]
  },
  {
   "cell_type": "code",
   "execution_count": 34,
   "id": "48365d1c",
   "metadata": {},
   "outputs": [
    {
     "data": {
      "text/plain": [
       "'p'"
      ]
     },
     "execution_count": 34,
     "metadata": {},
     "output_type": "execute_result"
    }
   ],
   "source": [
    "name3='python'\n",
    "name[-6]"
   ]
  },
  {
   "cell_type": "code",
   "execution_count": 39,
   "id": "a9851eea",
   "metadata": {},
   "outputs": [
    {
     "name": "stdout",
     "output_type": "stream",
     "text": [
      "the index of p is:-6\n",
      "the index of y is:-5\n",
      "the index of t is:-4\n",
      "the index of h is:-3\n",
      "the index of o is:-2\n",
      "the index of n is:-1\n"
     ]
    }
   ],
   "source": [
    "j=0\n",
    "for i in range(len(name3)):\n",
    "    j=i-len(name3)\n",
    "    print('the index of {} is:{}'.format(name[i],j))"
   ]
  },
  {
   "cell_type": "code",
   "execution_count": 43,
   "id": "435b06d6",
   "metadata": {},
   "outputs": [
    {
     "name": "stdout",
     "output_type": "stream",
     "text": [
      "the index of p is:-6\n",
      "the index of y is:-5\n",
      "the index of t is:-4\n",
      "the index of h is:-3\n",
      "the index of o is:-2\n",
      "the index of n is:-1\n"
     ]
    }
   ],
   "source": [
    "for i in range(-len(name3),0):\n",
    "    print('the index of {} is:{}'.format(name3[i],i))"
   ]
  },
  {
   "cell_type": "code",
   "execution_count": 46,
   "id": "c0544bcd",
   "metadata": {},
   "outputs": [
    {
     "name": "stdout",
     "output_type": "stream",
     "text": [
      "the index of p is: -6\n",
      "the index of y is: -5\n",
      "the index of t is: -4\n",
      "the index of h is: -3\n",
      "the index of o is: -2\n",
      "the index of n is: -1\n"
     ]
    }
   ],
   "source": [
    "for i in range(len(name3)):\n",
    "    print('the index of {} is: {}'.format(name3[i],i-len(name3)))"
   ]
  },
  {
   "cell_type": "code",
   "execution_count": 48,
   "id": "4e6c85a3",
   "metadata": {},
   "outputs": [
    {
     "name": "stdout",
     "output_type": "stream",
     "text": [
      "the index of p is: -6\n",
      "the index of y is: -5\n",
      "the index of t is: -4\n",
      "the index of h is: -3\n",
      "the index of o is: -2\n",
      "the index of n is: -1\n"
     ]
    }
   ],
   "source": [
    "i=0\n",
    "while i<len(name3):\n",
    "    print('the index of {} is: {}'.format(name3[i],i-len(name3)))\n",
    "    i+=1"
   ]
  },
  {
   "cell_type": "code",
   "execution_count": 59,
   "id": "f99ea0f3",
   "metadata": {},
   "outputs": [
    {
     "name": "stdout",
     "output_type": "stream",
     "text": [
      "the index of p is:-6\n",
      "the index of y is:-5\n",
      "the index of t is:-4\n",
      "the index of h is:-3\n",
      "the index of o is:-2\n",
      "the index of n is:-1\n"
     ]
    }
   ],
   "source": [
    "i=-len(name3)\n",
    "while i<0:\n",
    "    print('the index of {} is:{}'.format(name3[i],i))\n",
    "    i+=1\n",
    "    "
   ]
  },
  {
   "cell_type": "code",
   "execution_count": 68,
   "id": "be3764e6",
   "metadata": {},
   "outputs": [
    {
     "name": "stdout",
     "output_type": "stream",
     "text": [
      "the positive index is 0 and negative index-6 is p\n",
      "the positive index is 1 and negative index-5 is y\n",
      "the positive index is 2 and negative index-4 is t\n",
      "the positive index is 3 and negative index-3 is h\n",
      "the positive index is 4 and negative index-2 is o\n",
      "the positive index is 5 and negative index-1 is n\n"
     ]
    }
   ],
   "source": [
    "name3='python'\n",
    "for i in range(len(name3)):\n",
    "    print('the positive index is {} and negative index{} is {}'.format(i,i-len(name3),name3[i-len(name3)]))"
   ]
  },
  {
   "cell_type": "code",
   "execution_count": 70,
   "id": "68188708",
   "metadata": {},
   "outputs": [
    {
     "name": "stdout",
     "output_type": "stream",
     "text": [
      "the positive index is 0 and negative index-6 is p\n",
      "the positive index is 1 and negative index-5 is y\n",
      "the positive index is 2 and negative index-4 is t\n",
      "the positive index is 3 and negative index-3 is h\n",
      "the positive index is 4 and negative index-2 is o\n",
      "the positive index is 5 and negative index-1 is n\n"
     ]
    }
   ],
   "source": [
    "name3='python'\n",
    "for i in range(len(name3)):\n",
    "    print('the positive index is {} and negative index{} is {}'.format(i,i-len(name3),name3[i]))"
   ]
  },
  {
   "cell_type": "code",
   "execution_count": 73,
   "id": "2c08e2f3",
   "metadata": {},
   "outputs": [
    {
     "name": "stdout",
     "output_type": "stream",
     "text": [
      "the positive index is 0 and negative index-6 is p\n",
      "the positive index is 1 and negative index-5 is y\n",
      "the positive index is 2 and negative index-4 is t\n",
      "the positive index is 3 and negative index-3 is h\n",
      "the positive index is 4 and negative index-2 is o\n",
      "the positive index is 5 and negative index-1 is n\n"
     ]
    }
   ],
   "source": [
    "i=0\n",
    "while i < len(name3):\n",
    "    print('the positive index is {} and negative index{} is {}'.format(i,i-len(name3),name3[i]))\n",
    "    i+=1"
   ]
  },
  {
   "cell_type": "code",
   "execution_count": 74,
   "id": "457a09e4",
   "metadata": {},
   "outputs": [
    {
     "name": "stdout",
     "output_type": "stream",
     "text": [
      "0 python -6\n",
      "1 python -5\n",
      "2 python -4\n",
      "3 python -3\n",
      "4 python -2\n",
      "5 python -1\n"
     ]
    }
   ],
   "source": [
    "for i in range (len(name3)):\n",
    "    print(i,name3,i-len(name3))"
   ]
  },
  {
   "cell_type": "code",
   "execution_count": 93,
   "id": "e92f6e15",
   "metadata": {},
   "outputs": [
    {
     "name": "stdout",
     "output_type": "stream",
     "text": [
      "no of repeated 3\n"
     ]
    }
   ],
   "source": [
    "sent='hai hai how are you'\n",
    "count=0\n",
    "for i in range(len(sent)):\n",
    "    if sent[i]=='a':\n",
    "        count+=1\n",
    "print('no of repeated',count)"
   ]
  },
  {
   "cell_type": "code",
   "execution_count": 117,
   "id": "200e9194",
   "metadata": {},
   "outputs": [
    {
     "name": "stdout",
     "output_type": "stream",
     "text": [
      "1\n",
      "5\n",
      "12\n",
      "no of repeated 3\n"
     ]
    }
   ],
   "source": [
    "sent='hai hai how are you'\n",
    "count=0\n",
    "for i in range(len(sent)):\n",
    "    if sent[i]=='a':\n",
    "        count+=1\n",
    "        print(i)\n",
    "print('no of repeated',count)"
   ]
  },
  {
   "cell_type": "code",
   "execution_count": 1,
   "id": "81a4e694",
   "metadata": {},
   "outputs": [
    {
     "name": "stdout",
     "output_type": "stream",
     "text": [
      " vowels are: 8\n"
     ]
    }
   ],
   "source": [
    "sent='hai hai how are yo'\n",
    "count=0\n",
    "for i in range(len(sent)):\n",
    "    if sent[i] in 'aeiou':\n",
    "        count+=1\n",
    "print(' vowels are:',count)"
   ]
  },
  {
   "cell_type": "code",
   "execution_count": 124,
   "id": "3c1c2bd1",
   "metadata": {},
   "outputs": [
    {
     "name": "stdout",
     "output_type": "stream",
     "text": [
      "unique vowels are: aioe\n"
     ]
    }
   ],
   "source": [
    "sent='hai hai how are yo'\n",
    "count=0\n",
    "string1=''\n",
    "for i in range(len(sent)):\n",
    "    if sent[i] in 'aeiou':\n",
    "        if sent[i] not in string1:\n",
    "            string1=string1+sent[i]\n",
    "print('unique vowels are:',string1)"
   ]
  },
  {
   "cell_type": "code",
   "execution_count": 6,
   "id": "17a58881",
   "metadata": {},
   "outputs": [
    {
     "ename": "TypeError",
     "evalue": "'int' object is not iterable",
     "output_type": "error",
     "traceback": [
      "\u001b[1;31m---------------------------------------------------------------------------\u001b[0m",
      "\u001b[1;31mTypeError\u001b[0m                                 Traceback (most recent call last)",
      "Cell \u001b[1;32mIn[6], line 3\u001b[0m\n\u001b[0;32m      1\u001b[0m name \u001b[38;5;241m=\u001b[39m \u001b[38;5;124m'\u001b[39m\u001b[38;5;124mhai hai how are you\u001b[39m\u001b[38;5;124m'\u001b[39m\n\u001b[0;32m      2\u001b[0m count \u001b[38;5;241m=\u001b[39m \u001b[38;5;241m0\u001b[39m\n\u001b[1;32m----> 3\u001b[0m \u001b[38;5;28;01mfor\u001b[39;00m i \u001b[38;5;129;01min\u001b[39;00m \u001b[38;5;28mlen\u001b[39m(name):\n\u001b[0;32m      4\u001b[0m     \u001b[38;5;28;01mif\u001b[39;00m i\u001b[38;5;241m==\u001b[39m \u001b[38;5;124m'\u001b[39m\u001b[38;5;124ma\u001b[39m\u001b[38;5;124m'\u001b[39m:\n\u001b[0;32m      5\u001b[0m         count\u001b[38;5;241m+\u001b[39m\u001b[38;5;241m=\u001b[39m\u001b[38;5;241m1\u001b[39m\n",
      "\u001b[1;31mTypeError\u001b[0m: 'int' object is not iterable"
     ]
    }
   ],
   "source": [
    "name = 'hai hai how are you'\n",
    "count = 0\n",
    "for i in len(name):\n",
    "    if i== 'a':\n",
    "        count+=1\n",
    "print('no of repeated:',count)"
   ]
  },
  {
   "cell_type": "code",
   "execution_count": 1,
   "id": "8b5f3b4e",
   "metadata": {},
   "outputs": [
    {
     "name": "stdout",
     "output_type": "stream",
     "text": [
      "Hello World\n"
     ]
    }
   ],
   "source": [
    "string1 = \"Hello\"\n",
    "string2 = \"World\"\n",
    "result = string1 + \" \" + string2\n",
    "print(result)  # Output: Hello World\n"
   ]
  },
  {
   "cell_type": "code",
   "execution_count": null,
   "id": "849d3ef5",
   "metadata": {},
   "outputs": [],
   "source": []
  }
 ],
 "metadata": {
  "kernelspec": {
   "display_name": "Python 3 (ipykernel)",
   "language": "python",
   "name": "python3"
  },
  "language_info": {
   "codemirror_mode": {
    "name": "ipython",
    "version": 3
   },
   "file_extension": ".py",
   "mimetype": "text/x-python",
   "name": "python",
   "nbconvert_exporter": "python",
   "pygments_lexer": "ipython3",
   "version": "3.11.5"
  }
 },
 "nbformat": 4,
 "nbformat_minor": 5
}
