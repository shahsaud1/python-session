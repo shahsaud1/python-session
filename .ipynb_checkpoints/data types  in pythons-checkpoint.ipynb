{
 "cells": [
  {
   "cell_type": "code",
   "execution_count": null,
   "id": "6ba3a8cd",
   "metadata": {},
   "outputs": [],
   "source": [
    "# generally we have"
   ]
  },
  {
   "cell_type": "code",
   "execution_count": null,
   "id": "dabe9d5c",
   "metadata": {},
   "outputs": [],
   "source": [
    "##########level1########\n",
    "1)basic syntax\n",
    "2)first program\n",
    "3)conditional statements\n",
    "4)functions\n",
    "5)loops concept\n",
    "6)expetional handling\n",
    "7)package\n",
    "\n",
    "########level2#########\n",
    "8)string\n",
    "9)list\n",
    "10)dictionary\n",
    "11)tuples\n",
    "12)sets\n",
    "13)file handling\n",
    "\n",
    "\n",
    "######level3#########\n",
    "14)oops\n",
    "15)eda\n",
    "16)ml\n",
    "17)dl\n",
    "18)nlp\n",
    "19)flask"
   ]
  },
  {
   "cell_type": "code",
   "execution_count": null,
   "id": "076a01d9",
   "metadata": {},
   "outputs": [],
   "source": [
    "- integer type \n",
    "- float\n",
    "-string\n",
    "-boolean\n",
    "-complex conjugate\n",
    "\n",
    "integer-type"
   ]
  },
  {
   "cell_type": "code",
   "execution_count": 1,
   "id": "9b945237",
   "metadata": {},
   "outputs": [
    {
     "data": {
      "text/plain": [
       "int"
      ]
     },
     "execution_count": 1,
     "metadata": {},
     "output_type": "execute_result"
    }
   ],
   "source": [
    "a=100\n",
    "type(a)"
   ]
  },
  {
   "cell_type": "code",
   "execution_count": null,
   "id": "feaba8e8",
   "metadata": {},
   "outputs": [],
   "source": [
    "in math diffrent number system will available\n",
    "- binary\n",
    "- decimal\n",
    "- octal\n",
    "- hexa"
   ]
  },
  {
   "cell_type": "code",
   "execution_count": null,
   "id": "7b9e5bf8",
   "metadata": {},
   "outputs": [],
   "source": [
    "- binary mean two : base=2\n",
    "- base=2 , two digits required\n",
    "- the two digits are 0 and 1\n",
    "- the represation is 0b<the combination of two digit\n",
    "- example : 0b10001 or 0B10001"
   ]
  },
  {
   "cell_type": "code",
   "execution_count": 3,
   "id": "bc3f81c3",
   "metadata": {},
   "outputs": [
    {
     "data": {
      "text/plain": [
       "7"
      ]
     },
     "execution_count": 3,
     "metadata": {},
     "output_type": "execute_result"
    }
   ],
   "source": [
    "0b111 # here the input is binary format\n",
    "\n",
    "# the output "
   ]
  },
  {
   "cell_type": "code",
   "execution_count": 5,
   "id": "4b6e9aad",
   "metadata": {},
   "outputs": [
    {
     "data": {
      "text/plain": [
       "5"
      ]
     },
     "execution_count": 5,
     "metadata": {},
     "output_type": "execute_result"
    }
   ],
   "source": [
    "0b101"
   ]
  },
  {
   "cell_type": "code",
   "execution_count": 6,
   "id": "4f200c43",
   "metadata": {},
   "outputs": [
    {
     "data": {
      "text/plain": [
       "11"
      ]
     },
     "execution_count": 6,
     "metadata": {},
     "output_type": "execute_result"
    }
   ],
   "source": [
    "0B1011"
   ]
  },
  {
   "cell_type": "code",
   "execution_count": null,
   "id": "f03fb3ce",
   "metadata": {},
   "outputs": [],
   "source": [
    "**octal**\n",
    "-octa mean 8 : base=8\n",
    "- base=8 , 8 digit required\n",
    "- the 8digit are 01234567\n",
    "- the represamtation is 0o\n",
    "- example : 0o123\n",
    "    "
   ]
  },
  {
   "cell_type": "code",
   "execution_count": null,
   "id": "08f54bb9",
   "metadata": {},
   "outputs": [],
   "source": [
    "**hexa**\n",
    "- hexa mean 16 : base 16\n",
    "- base 16 , 16 digit required\n",
    "- the 16 digit are 0123456789,A(10),B(11),C(12),D(13),E(14),F(15)\n",
    "- THE REPRESENT 0x\n",
    "- example : 0xABC OR 0xabcf"
   ]
  },
  {
   "cell_type": "code",
   "execution_count": 7,
   "id": "867620db",
   "metadata": {},
   "outputs": [
    {
     "data": {
      "text/plain": [
       "43983"
      ]
     },
     "execution_count": 7,
     "metadata": {},
     "output_type": "execute_result"
    }
   ],
   "source": [
    "0xabcf"
   ]
  },
  {
   "cell_type": "markdown",
   "id": "35ec2f4d",
   "metadata": {},
   "source": [
    "float"
   ]
  },
  {
   "cell_type": "code",
   "execution_count": null,
   "id": "f62754c7",
   "metadata": {},
   "outputs": [],
   "source": [
    "num=1.234\n",
    "type(num)"
   ]
  },
  {
   "cell_type": "code",
   "execution_count": null,
   "id": "f25ced04",
   "metadata": {},
   "outputs": [],
   "source": [
    "float"
   ]
  },
  {
   "cell_type": "code",
   "execution_count": 8,
   "id": "0974c5ae",
   "metadata": {},
   "outputs": [
    {
     "data": {
      "text/plain": [
       "2000000.0"
      ]
     },
     "execution_count": 8,
     "metadata": {},
     "output_type": "execute_result"
    }
   ],
   "source": [
    "2e6"
   ]
  },
  {
   "cell_type": "code",
   "execution_count": 9,
   "id": "54fe76b5",
   "metadata": {},
   "outputs": [
    {
     "data": {
      "text/plain": [
       "0.002"
      ]
     },
     "execution_count": 9,
     "metadata": {},
     "output_type": "execute_result"
    }
   ],
   "source": [
    "2e-3"
   ]
  },
  {
   "cell_type": "code",
   "execution_count": null,
   "id": "0e1a7228",
   "metadata": {},
   "outputs": [],
   "source": [
    "1.000000000000e-14\n",
    "#1/10000000000000=0.00000000000001\n",
    "#the senario: ans=0\n",
    "#1.0000000000e-14"
   ]
  },
  {
   "cell_type": "code",
   "execution_count": 10,
   "id": "48dc27be",
   "metadata": {},
   "outputs": [
    {
     "data": {
      "text/plain": [
       "1.0"
      ]
     },
     "execution_count": 10,
     "metadata": {},
     "output_type": "execute_result"
    }
   ],
   "source": [
    "1.0000"
   ]
  },
  {
   "cell_type": "code",
   "execution_count": 11,
   "id": "ed1a6343",
   "metadata": {},
   "outputs": [
    {
     "data": {
      "text/plain": [
       "2000.0"
      ]
     },
     "execution_count": 11,
     "metadata": {},
     "output_type": "execute_result"
    }
   ],
   "source": [
    "2e+3"
   ]
  },
  {
   "cell_type": "code",
   "execution_count": 12,
   "id": "f67d7f89",
   "metadata": {},
   "outputs": [
    {
     "data": {
      "text/plain": [
       "2000.0"
      ]
     },
     "execution_count": 12,
     "metadata": {},
     "output_type": "execute_result"
    }
   ],
   "source": [
    "2e3"
   ]
  },
  {
   "cell_type": "markdown",
   "id": "c742b70c",
   "metadata": {},
   "source": [
    "$boolean$\n"
   ]
  },
  {
   "cell_type": "code",
   "execution_count": 15,
   "id": "2efd337a",
   "metadata": {},
   "outputs": [
    {
     "data": {
      "text/plain": [
       "bool"
      ]
     },
     "execution_count": 15,
     "metadata": {},
     "output_type": "execute_result"
    }
   ],
   "source": [
    "a = True   #number = 1\n",
    "type(a)"
   ]
  },
  {
   "cell_type": "code",
   "execution_count": 16,
   "id": "8ad39701",
   "metadata": {},
   "outputs": [
    {
     "data": {
      "text/plain": [
       "bool"
      ]
     },
     "execution_count": 16,
     "metadata": {},
     "output_type": "execute_result"
    }
   ],
   "source": [
    "b = False   #number = 0\n",
    "type (b)"
   ]
  },
  {
   "cell_type": "code",
   "execution_count": 19,
   "id": "4b011b39",
   "metadata": {},
   "outputs": [
    {
     "data": {
      "text/plain": [
       "100"
      ]
     },
     "execution_count": 19,
     "metadata": {},
     "output_type": "execute_result"
    }
   ],
   "source": [
    "true=100\n",
    "name=true\n",
    "name"
   ]
  },
  {
   "cell_type": "markdown",
   "id": "8dd18488",
   "metadata": {},
   "source": [
    "## string"
   ]
  },
  {
   "cell_type": "markdown",
   "id": "434a66ae",
   "metadata": {},
   "source": [
    "- strings means characters\n",
    "- english letters"
   ]
  },
  {
   "cell_type": "code",
   "execution_count": null,
   "id": "97a0b1be",
   "metadata": {},
   "outputs": [],
   "source": [
    "python=100\n",
    "#value is 100 "
   ]
  },
  {
   "cell_type": "code",
   "execution_count": 2,
   "id": "a511294b",
   "metadata": {},
   "outputs": [
    {
     "data": {
      "text/plain": [
       "100"
      ]
     },
     "execution_count": 2,
     "metadata": {},
     "output_type": "execute_result"
    }
   ],
   "source": [
    "python=100\n",
    "name=python\n",
    "name"
   ]
  },
  {
   "cell_type": "code",
   "execution_count": null,
   "id": "7392d290",
   "metadata": {},
   "outputs": [],
   "source": [
    "#name error \n",
    "#we are saving python in a variable name\n",
    "#it will try to understand where is\n",
    "#python initialised"
   ]
  },
  {
   "cell_type": "code",
   "execution_count": 3,
   "id": "d1afc9cf",
   "metadata": {},
   "outputs": [],
   "source": [
    "type=name"
   ]
  },
  {
   "cell_type": "code",
   "execution_count": 7,
   "id": "0a8b65f6",
   "metadata": {},
   "outputs": [],
   "source": [
    "name1='python'"
   ]
  },
  {
   "cell_type": "code",
   "execution_count": 8,
   "id": "82937315",
   "metadata": {},
   "outputs": [
    {
     "data": {
      "text/plain": [
       "str"
      ]
     },
     "execution_count": 8,
     "metadata": {},
     "output_type": "execute_result"
    }
   ],
   "source": [
    "type(name1)"
   ]
  },
  {
   "cell_type": "code",
   "execution_count": 9,
   "id": "f9fee672",
   "metadata": {},
   "outputs": [
    {
     "data": {
      "text/plain": [
       "'python'"
      ]
     },
     "execution_count": 9,
     "metadata": {},
     "output_type": "execute_result"
    }
   ],
   "source": [
    "name2=\"python\"\n",
    "name2"
   ]
  },
  {
   "cell_type": "code",
   "execution_count": 4,
   "id": "d017585b",
   "metadata": {},
   "outputs": [
    {
     "data": {
      "text/plain": [
       "'python'"
      ]
     },
     "execution_count": 4,
     "metadata": {},
     "output_type": "execute_result"
    }
   ],
   "source": [
    "name3=\"python\"\n",
    "name3"
   ]
  },
  {
   "cell_type": "code",
   "execution_count": 12,
   "id": "d718a896",
   "metadata": {},
   "outputs": [
    {
     "ename": "SyntaxError",
     "evalue": "invalid syntax (1618812135.py, line 2)",
     "output_type": "error",
     "traceback": [
      "\u001b[1;36m  Cell \u001b[1;32mIn[12], line 2\u001b[1;36m\u001b[0m\n\u001b[1;33m    how are you\u001b[0m\n\u001b[1;37m        ^\u001b[0m\n\u001b[1;31mSyntaxError\u001b[0m\u001b[1;31m:\u001b[0m invalid syntax\n"
     ]
    }
   ],
   "source": [
    "name=hai\n",
    "how are you\n",
    "print(name)"
   ]
  },
  {
   "cell_type": "code",
   "execution_count": 13,
   "id": "66ff446f",
   "metadata": {},
   "outputs": [
    {
     "name": "stdout",
     "output_type": "stream",
     "text": [
      "hii\n",
      "how are you\n"
     ]
    }
   ],
   "source": [
    "name='''hii\n",
    "how are you'''\n",
    "print(name)"
   ]
  },
  {
   "cell_type": "code",
   "execution_count": 15,
   "id": "2b64f133",
   "metadata": {},
   "outputs": [
    {
     "name": "stdout",
     "output_type": "stream",
     "text": [
      "hii\n",
      "how are you\n"
     ]
    }
   ],
   "source": [
    "name4=\"\"\"hii\n",
    "how are you\"\"\"\n",
    "print(name)"
   ]
  },
  {
   "cell_type": "markdown",
   "id": "e07f5119",
   "metadata": {},
   "source": [
    "#its a doc strings (esc+m) at the time"
   ]
  },
  {
   "cell_type": "markdown",
   "id": "538fe141",
   "metadata": {},
   "source": [
    "doc strings: in programming , a doc strings is a string literal specified in source code like thit is used, like a tripple quotes"
   ]
  },
  {
   "cell_type": "markdown",
   "id": "b9944ecd",
   "metadata": {},
   "source": [
    "- complex conjugates"
   ]
  },
  {
   "cell_type": "code",
   "execution_count": null,
   "id": "7d52a84a",
   "metadata": {},
   "outputs": [],
   "source": [
    "-it represents a+jb\n",
    "-complex\n",
    "-where a= real number\n",
    "- b=imaginary number\n",
    "- i=square root (-1)\n"
   ]
  },
  {
   "cell_type": "code",
   "execution_count": 17,
   "id": "27604157",
   "metadata": {},
   "outputs": [
    {
     "data": {
      "text/plain": [
       "0j"
      ]
     },
     "execution_count": 17,
     "metadata": {},
     "output_type": "execute_result"
    }
   ],
   "source": [
    "complex()\n",
    "#cursor should be inside brecket\n",
    "#shift=tab\n",
    "#if you are not provide inside the bracket the default arguments willuse\n",
    "#real+0\n",
    "#0+0j\n",
    "#when you enter 0+0j, the python output is 0j\n",
    "\n",
    "\n",
    "(A)0+0j\n",
    "(b)0j\n",
    "(c)0\n",
    "(d)none of the above"
   ]
  },
  {
   "cell_type": "code",
   "execution_count": 18,
   "id": "092b38ac",
   "metadata": {},
   "outputs": [
    {
     "data": {
      "text/plain": [
       "0j"
      ]
     },
     "execution_count": 18,
     "metadata": {},
     "output_type": "execute_result"
    }
   ],
   "source": [
    "0+0j"
   ]
  },
  {
   "cell_type": "code",
   "execution_count": 20,
   "id": "147fb80c",
   "metadata": {},
   "outputs": [
    {
     "data": {
      "text/plain": [
       "(3+5j)"
      ]
     },
     "execution_count": 20,
     "metadata": {},
     "output_type": "execute_result"
    }
   ],
   "source": [
    "complex(3,5)"
   ]
  },
  {
   "cell_type": "markdown",
   "id": "d92e3fbb",
   "metadata": {},
   "source": [
    "integer-int\n",
    "float-float\n",
    "string-str\n",
    "comlex-complex"
   ]
  },
  {
   "cell_type": "code",
   "execution_count": 21,
   "id": "594e485f",
   "metadata": {},
   "outputs": [
    {
     "data": {
      "text/plain": [
       "(3+10j)"
      ]
     },
     "execution_count": 21,
     "metadata": {},
     "output_type": "execute_result"
    }
   ],
   "source": [
    "num=3+10j\n",
    "num"
   ]
  },
  {
   "cell_type": "code",
   "execution_count": 22,
   "id": "d2368f96",
   "metadata": {},
   "outputs": [
    {
     "data": {
      "text/plain": [
       "complex"
      ]
     },
     "execution_count": 22,
     "metadata": {},
     "output_type": "execute_result"
    }
   ],
   "source": [
    "type(num)"
   ]
  },
  {
   "cell_type": "code",
   "execution_count": 23,
   "id": "6cc3c14b",
   "metadata": {},
   "outputs": [
    {
     "data": {
      "text/plain": [
       "10.0"
      ]
     },
     "execution_count": 23,
     "metadata": {},
     "output_type": "execute_result"
    }
   ],
   "source": [
    "num.imag"
   ]
  },
  {
   "cell_type": "code",
   "execution_count": null,
   "id": "25bdc382",
   "metadata": {},
   "outputs": [],
   "source": []
  },
  {
   "cell_type": "code",
   "execution_count": null,
   "id": "d3e13670",
   "metadata": {},
   "outputs": [],
   "source": []
  },
  {
   "cell_type": "code",
   "execution_count": null,
   "id": "fb61fa4c",
   "metadata": {},
   "outputs": [],
   "source": []
  },
  {
   "cell_type": "code",
   "execution_count": null,
   "id": "f17d3592",
   "metadata": {},
   "outputs": [],
   "source": []
  },
  {
   "cell_type": "code",
   "execution_count": null,
   "id": "ce10e693",
   "metadata": {},
   "outputs": [],
   "source": []
  },
  {
   "cell_type": "code",
   "execution_count": null,
   "id": "c18c5a85",
   "metadata": {},
   "outputs": [],
   "source": []
  }
 ],
 "metadata": {
  "kernelspec": {
   "display_name": "Python 3 (ipykernel)",
   "language": "python",
   "name": "python3"
  },
  "language_info": {
   "codemirror_mode": {
    "name": "ipython",
    "version": 3
   },
   "file_extension": ".py",
   "mimetype": "text/x-python",
   "name": "python",
   "nbconvert_exporter": "python",
   "pygments_lexer": "ipython3",
   "version": "3.11.5"
  }
 },
 "nbformat": 4,
 "nbformat_minor": 5
}
