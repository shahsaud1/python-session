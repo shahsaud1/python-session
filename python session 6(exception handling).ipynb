{
 "cells": [
  {
   "cell_type": "markdown",
   "id": "befa7569",
   "metadata": {},
   "source": [
    " $$try-except$$"
   ]
  },
  {
   "cell_type": "code",
   "execution_count": null,
   "id": "69bd233d",
   "metadata": {},
   "outputs": [],
   "source": [
    "try\n",
    "except\n",
    "are the keywords"
   ]
  },
  {
   "cell_type": "code",
   "execution_count": null,
   "id": "9f0da8b7",
   "metadata": {},
   "outputs": [],
   "source": [
    "there is a senario you have written 500 line code\n",
    "\n",
    "python compiles\n",
    "\n",
    "suppose you got tehe error at 250 line\n",
    "\n",
    "the remaining lines will not execute\n",
    "\n",
    "-eventhrough if error the comes at 250 line,it should not affect the other lines\n",
    "-error should not code\n",
    "\n",
    "try and except"
   ]
  },
  {
   "cell_type": "code",
   "execution_count": 2,
   "id": "69281f8d",
   "metadata": {},
   "outputs": [
    {
     "name": "stdout",
     "output_type": "stream",
     "text": [
      "enter a number:python\n"
     ]
    },
    {
     "ename": "NameError",
     "evalue": "name 'python' is not defined",
     "output_type": "error",
     "traceback": [
      "\u001b[1;31m---------------------------------------------------------------------------\u001b[0m",
      "\u001b[1;31mNameError\u001b[0m                                 Traceback (most recent call last)",
      "Cell \u001b[1;32mIn[2], line 1\u001b[0m\n\u001b[1;32m----> 1\u001b[0m n1\u001b[38;5;241m=\u001b[39m\u001b[38;5;28meval\u001b[39m(\u001b[38;5;28minput\u001b[39m(\u001b[38;5;124m'\u001b[39m\u001b[38;5;124menter a number:\u001b[39m\u001b[38;5;124m'\u001b[39m))  \u001b[38;5;66;03m##aval----evaluate-- term indicates realates to maths\u001b[39;00m\n\u001b[0;32m      2\u001b[0m                                     \u001b[38;5;66;03m##eval is work when we provide num only\u001b[39;00m\n\u001b[0;32m      3\u001b[0m n2\u001b[38;5;241m=\u001b[39m\u001b[38;5;241m100\u001b[39m\n",
      "File \u001b[1;32m<string>:1\u001b[0m\n",
      "\u001b[1;31mNameError\u001b[0m: name 'python' is not defined"
     ]
    }
   ],
   "source": [
    "n1=eval(input('enter a number:'))  ##aval----evaluate-- term indicates realates to maths\n",
    "                                    ##eval is work when we provide num only\n",
    "n2=100\n",
    "add=n1+n2\n",
    "print(add)\n"
   ]
  },
  {
   "cell_type": "code",
   "execution_count": null,
   "id": "06595812",
   "metadata": {},
   "outputs": [],
   "source": [
    "## enter code should implement under try block\n",
    "## what even the error comes in the code will display under execept block\n",
    "##the space is indentation"
   ]
  },
  {
   "cell_type": "code",
   "execution_count": null,
   "id": "243bc1ca",
   "metadata": {},
   "outputs": [],
   "source": [
    "##then error is in code , look at the syntax"
   ]
  },
  {
   "cell_type": "code",
   "execution_count": 4,
   "id": "a03bcfc2",
   "metadata": {},
   "outputs": [
    {
     "name": "stdout",
     "output_type": "stream",
     "text": [
      "enter a number:python\n",
      "error coming look at the syntax\n"
     ]
    }
   ],
   "source": [
    "try:\n",
    "    n1=eval(input('enter a number:')) \n",
    "    n2=100\n",
    "    add=n1+n2\n",
    "    print(add)\n",
    "\n",
    "except:\n",
    "    print('error coming look at the syntax')"
   ]
  },
  {
   "cell_type": "code",
   "execution_count": 5,
   "id": "ffab498d",
   "metadata": {},
   "outputs": [
    {
     "name": "stdout",
     "output_type": "stream",
     "text": [
      "enter a number:1\n",
      "error coming look at the syntax\n"
     ]
    }
   ],
   "source": [
    "try:\n",
    "    n1=eval(input('enter a number:')) \n",
    "    n2=100\n",
    "    add=n1+n3\n",
    "    print(add)\n",
    "\n",
    "except:\n",
    "    print('error coming look at the syntax')"
   ]
  },
  {
   "cell_type": "code",
   "execution_count": 6,
   "id": "74c73400",
   "metadata": {},
   "outputs": [
    {
     "name": "stdout",
     "output_type": "stream",
     "text": [
      "enter a number:100\n",
      "200\n"
     ]
    }
   ],
   "source": [
    "try:\n",
    "    n1=eval(input('enter a number:')) \n",
    "    n2=100\n",
    "    add=n1+n2\n",
    "    print(add)\n",
    "\n",
    "except:\n",
    "    print('error coming look at the syntax')\n",
    "    "
   ]
  },
  {
   "cell_type": "code",
   "execution_count": 7,
   "id": "b01b7d79",
   "metadata": {},
   "outputs": [
    {
     "name": "stdout",
     "output_type": "stream",
     "text": [
      "enter a number:raaz\n",
      "error coming look at the syntax\n"
     ]
    }
   ],
   "source": [
    "try:\n",
    "    n1=eval(input('enter a number:')) \n",
    "    n2=100\n",
    "    add=n1+n2\n",
    "    print(add)\n",
    "\n",
    "except:\n",
    "    print('error coming look at the syntax')"
   ]
  },
  {
   "cell_type": "code",
   "execution_count": 12,
   "id": "ef3d0b81",
   "metadata": {},
   "outputs": [
    {
     "name": "stdout",
     "output_type": "stream",
     "text": [
      "enter a number:500\n",
      "600\n"
     ]
    }
   ],
   "source": [
    "try:\n",
    "    n1=eval(input('enter a number:')) \n",
    "    n2=100\n",
    "    add=n1+n2\n",
    "    print(add)\n",
    "\n",
    "except:\n",
    "    print('error coming look at the syntax')"
   ]
  },
  {
   "cell_type": "code",
   "execution_count": 13,
   "id": "778be20b",
   "metadata": {},
   "outputs": [
    {
     "ename": "IndentationError",
     "evalue": "unexpected indent (3472218362.py, line 3)",
     "output_type": "error",
     "traceback": [
      "\u001b[1;36m  Cell \u001b[1;32mIn[13], line 3\u001b[1;36m\u001b[0m\n\u001b[1;33m    add=n1+n2\u001b[0m\n\u001b[1;37m    ^\u001b[0m\n\u001b[1;31mIndentationError\u001b[0m\u001b[1;31m:\u001b[0m unexpected indent\n"
     ]
    }
   ],
   "source": [
    "n1=eval(input('enter a number:'))\n",
    "n2=100\n",
    "    add=n1+n2\n",
    "    print(add)"
   ]
  },
  {
   "cell_type": "code",
   "execution_count": null,
   "id": "5d54afbc",
   "metadata": {},
   "outputs": [],
   "source": [
    "## what error should come in code , that should display\n",
    "##need to catch the error"
   ]
  },
  {
   "cell_type": "code",
   "execution_count": 14,
   "id": "b2851553",
   "metadata": {},
   "outputs": [
    {
     "name": "stdout",
     "output_type": "stream",
     "text": [
      "enter a number:p\n",
      "error\n"
     ]
    }
   ],
   "source": [
    "try:\n",
    "    n1=eval(input('enter a number:')) \n",
    "    n2=100\n",
    "    add=n1+n2\n",
    "    print(add)\n",
    "\n",
    "except:\n",
    "    print('error')"
   ]
  },
  {
   "cell_type": "code",
   "execution_count": null,
   "id": "1c4559fb",
   "metadata": {},
   "outputs": [],
   "source": [
    "## step1- we want to avoid the error \n",
    "       try - except block\n",
    "    \n",
    "##step2- we "
   ]
  },
  {
   "cell_type": "code",
   "execution_count": 16,
   "id": "52a5e829",
   "metadata": {},
   "outputs": [
    {
     "name": "stdout",
     "output_type": "stream",
     "text": [
      "enter a number:p\n"
     ]
    },
    {
     "ename": "NameError",
     "evalue": "name 'exception' is not defined",
     "output_type": "error",
     "traceback": [
      "\u001b[1;31m---------------------------------------------------------------------------\u001b[0m",
      "\u001b[1;31mNameError\u001b[0m                                 Traceback (most recent call last)",
      "Cell \u001b[1;32mIn[16], line 2\u001b[0m\n\u001b[0;32m      1\u001b[0m \u001b[38;5;28;01mtry\u001b[39;00m:\n\u001b[1;32m----> 2\u001b[0m     n1\u001b[38;5;241m=\u001b[39m\u001b[38;5;28meval\u001b[39m(\u001b[38;5;28minput\u001b[39m(\u001b[38;5;124m'\u001b[39m\u001b[38;5;124menter a number:\u001b[39m\u001b[38;5;124m'\u001b[39m)) \n\u001b[0;32m      3\u001b[0m     n2\u001b[38;5;241m=\u001b[39m\u001b[38;5;241m100\u001b[39m\n",
      "File \u001b[1;32m<string>:1\u001b[0m\n",
      "\u001b[1;31mNameError\u001b[0m: name 'p' is not defined",
      "\nDuring handling of the above exception, another exception occurred:\n",
      "\u001b[1;31mNameError\u001b[0m                                 Traceback (most recent call last)",
      "Cell \u001b[1;32mIn[16], line 7\u001b[0m\n\u001b[0;32m      4\u001b[0m     add\u001b[38;5;241m=\u001b[39mn1\u001b[38;5;241m+\u001b[39mn2\n\u001b[0;32m      5\u001b[0m     \u001b[38;5;28mprint\u001b[39m(add)\n\u001b[1;32m----> 7\u001b[0m \u001b[38;5;28;01mexcept\u001b[39;00m exception \u001b[38;5;28;01mas\u001b[39;00m e:\n\u001b[0;32m      8\u001b[0m     \u001b[38;5;28mprint\u001b[39m(e)\n",
      "\u001b[1;31mNameError\u001b[0m: name 'exception' is not defined"
     ]
    }
   ],
   "source": [
    "try:\n",
    "    n1=eval(input('enter a number:')) \n",
    "    n2=100\n",
    "    add=n1+n2\n",
    "    print(add)\n",
    "\n",
    "except exception as e:\n",
    "    print(e)"
   ]
  },
  {
   "cell_type": "code",
   "execution_count": 18,
   "id": "6fc7827b",
   "metadata": {},
   "outputs": [
    {
     "name": "stdout",
     "output_type": "stream",
     "text": [
      "enter a number:0\n"
     ]
    },
    {
     "ename": "NameError",
     "evalue": "name 'exception' is not defined",
     "output_type": "error",
     "traceback": [
      "\u001b[1;31m---------------------------------------------------------------------------\u001b[0m",
      "\u001b[1;31mZeroDivisionError\u001b[0m                         Traceback (most recent call last)",
      "Cell \u001b[1;32mIn[18], line 4\u001b[0m\n\u001b[0;32m      3\u001b[0m n2\u001b[38;5;241m=\u001b[39m\u001b[38;5;241m0\u001b[39m\n\u001b[1;32m----> 4\u001b[0m add\u001b[38;5;241m=\u001b[39mn1\u001b[38;5;241m/\u001b[39mn2\n\u001b[0;32m      5\u001b[0m \u001b[38;5;28mprint\u001b[39m(add)\n",
      "\u001b[1;31mZeroDivisionError\u001b[0m: division by zero",
      "\nDuring handling of the above exception, another exception occurred:\n",
      "\u001b[1;31mNameError\u001b[0m                                 Traceback (most recent call last)",
      "Cell \u001b[1;32mIn[18], line 7\u001b[0m\n\u001b[0;32m      4\u001b[0m     add\u001b[38;5;241m=\u001b[39mn1\u001b[38;5;241m/\u001b[39mn2\n\u001b[0;32m      5\u001b[0m     \u001b[38;5;28mprint\u001b[39m(add)\n\u001b[1;32m----> 7\u001b[0m \u001b[38;5;28;01mexcept\u001b[39;00m exception \u001b[38;5;28;01mas\u001b[39;00m e:\n\u001b[0;32m      8\u001b[0m     \u001b[38;5;28mprint\u001b[39m(e)\n",
      "\u001b[1;31mNameError\u001b[0m: name 'exception' is not defined"
     ]
    }
   ],
   "source": [
    "try:\n",
    "    n1=eval(input('enter a number:')) \n",
    "    n2=0\n",
    "    add=n1/n2\n",
    "    print(add)\n",
    "\n",
    "except exception as e:\n",
    "    print(e)"
   ]
  },
  {
   "cell_type": "code",
   "execution_count": 20,
   "id": "2eab503f",
   "metadata": {},
   "outputs": [
    {
     "name": "stdout",
     "output_type": "stream",
     "text": [
      "enter a number:0\n"
     ]
    },
    {
     "ename": "NameError",
     "evalue": "name 'exception' is not defined",
     "output_type": "error",
     "traceback": [
      "\u001b[1;31m---------------------------------------------------------------------------\u001b[0m",
      "\u001b[1;31mZeroDivisionError\u001b[0m                         Traceback (most recent call last)",
      "Cell \u001b[1;32mIn[20], line 4\u001b[0m\n\u001b[0;32m      3\u001b[0m n2\u001b[38;5;241m=\u001b[39m\u001b[38;5;241m0\u001b[39m\n\u001b[1;32m----> 4\u001b[0m add\u001b[38;5;241m=\u001b[39mn1\u001b[38;5;241m/\u001b[39mn2\n\u001b[0;32m      5\u001b[0m \u001b[38;5;28mprint\u001b[39m(add)\n",
      "\u001b[1;31mZeroDivisionError\u001b[0m: division by zero",
      "\nDuring handling of the above exception, another exception occurred:\n",
      "\u001b[1;31mNameError\u001b[0m                                 Traceback (most recent call last)",
      "Cell \u001b[1;32mIn[20], line 7\u001b[0m\n\u001b[0;32m      4\u001b[0m     add\u001b[38;5;241m=\u001b[39mn1\u001b[38;5;241m/\u001b[39mn2\n\u001b[0;32m      5\u001b[0m     \u001b[38;5;28mprint\u001b[39m(add)\n\u001b[1;32m----> 7\u001b[0m \u001b[38;5;28;01mexcept\u001b[39;00m exception \u001b[38;5;28;01mas\u001b[39;00m e:\n\u001b[0;32m      8\u001b[0m     \u001b[38;5;28mprint\u001b[39m(e)\n",
      "\u001b[1;31mNameError\u001b[0m: name 'exception' is not defined"
     ]
    }
   ],
   "source": [
    "try:\n",
    "    n1=eval(input('enter a number:')) \n",
    "    n2=0\n",
    "    add=n1/n2\n",
    "    print(add)\n",
    "\n",
    "except exception as e:\n",
    "    print(e)"
   ]
  },
  {
   "cell_type": "code",
   "execution_count": 29,
   "id": "b46a57ae",
   "metadata": {},
   "outputs": [
    {
     "name": "stdout",
     "output_type": "stream",
     "text": [
      "enter a number:5\n",
      "the square of 5  is 25\n"
     ]
    }
   ],
   "source": [
    "## ask the user for a number ##\n",
    "try:\n",
    "    number=eval(input(\"enter a number:\"))\n",
    "    ## print the square number ##\n",
    "    square=(number)**2\n",
    "    ## print it out in a full sentances that end in a period ##\n",
    "    print(\"the square of\",number,\" is\",square)\n",
    "\n",
    "except exception as e:\n",
    "    print(e)"
   ]
  },
  {
   "cell_type": "code",
   "execution_count": 22,
   "id": "ddd55db6",
   "metadata": {},
   "outputs": [
    {
     "name": "stdout",
     "output_type": "stream",
     "text": [
      "enter a number7\n",
      "7---14---21---28---35\n"
     ]
    }
   ],
   "source": [
    "## enter a number ##\n",
    "try:\n",
    "    number=eval(input('enter a number'))\n",
    "    ## print seperated by three dashes ##\n",
    "    print(number,number*2,number*3,number*4,number*5,sep='---')\n",
    "    \n",
    "except exception as e:\n",
    "    print(e)"
   ]
  },
  {
   "cell_type": "code",
   "execution_count": 23,
   "id": "20b538b6",
   "metadata": {},
   "outputs": [
    {
     "name": "stdout",
     "output_type": "stream",
     "text": [
      "enter weight in kg:10\n",
      "weight in pound 22.0\n"
     ]
    }
   ],
   "source": [
    "try:\n",
    "    weight=eval(input('enter weight in kg:'))\n",
    "    pound=weight*2.2\n",
    "    print('weight in pound',pound)\n",
    "    \n",
    "except exception as e:\n",
    "    print(e)\n"
   ]
  },
  {
   "cell_type": "code",
   "execution_count": 24,
   "id": "cf47966a",
   "metadata": {},
   "outputs": [
    {
     "name": "stdout",
     "output_type": "stream",
     "text": [
      "enter a num:5\n",
      "enter a num:5\n",
      "enter a num:5\n",
      "total,15,5.0\n"
     ]
    }
   ],
   "source": [
    "try:\n",
    "    num1=eval(input('enter a num:'))\n",
    "    num2=eval(input('enter a num:'))\n",
    "    num3=eval(input('enter a num:'))\n",
    "    total=num1+num2+num3\n",
    "    avg=total/3\n",
    "    print('total' ,total, avg,sep=',')\n",
    "    \n",
    "except exception as e:\n",
    "    print(e)"
   ]
  },
  {
   "cell_type": "code",
   "execution_count": 25,
   "id": "81b913d3",
   "metadata": {},
   "outputs": [
    {
     "name": "stdout",
     "output_type": "stream",
     "text": [
      "enter a price:50\n",
      "enter the per:10\n",
      "tip amount: 5.0 total bill 55.0\n"
     ]
    }
   ],
   "source": [
    "try:\n",
    "    price=eval(input('enter a price:'))\n",
    "    per=eval(input('enter the per:'))\n",
    "    tip_amount=price*(per/100)\n",
    "    total=price+tip_amount\n",
    "    print(\"tip amount:\",tip_amount,\"total bill\",total)\n",
    "    \n",
    "except exception as e:\n",
    "    print(e)"
   ]
  },
  {
   "cell_type": "code",
   "execution_count": 30,
   "id": "258baed3",
   "metadata": {},
   "outputs": [
    {
     "name": "stdout",
     "output_type": "stream",
     "text": [
      "the addition of 100 and 200 is 300\n"
     ]
    }
   ],
   "source": [
    "try:\n",
    "    number1=100\n",
    "    number2=200\n",
    "    add=number1+number2\n",
    "    print(\"the addition of {} and {} is {}\".format(number1,number2,add))\n",
    "    \n",
    "except exception as e:\n",
    "    print(e)"
   ]
  },
  {
   "cell_type": "code",
   "execution_count": 33,
   "id": "1bf42ac5",
   "metadata": {},
   "outputs": [
    {
     "name": "stdout",
     "output_type": "stream",
     "text": [
      "enter a number1:p\n",
      "enter a number2:p\n",
      "pp\n"
     ]
    }
   ],
   "source": [
    "try:\n",
    "    number1=input(\"enter a number1:\")\n",
    "    number2=input(\"enter a number2:\")\n",
    "    print(number1+number2)\n",
    "    \n",
    "except exception as e:\n",
    "    print(e)"
   ]
  },
  {
   "cell_type": "code",
   "execution_count": 32,
   "id": "46a13851",
   "metadata": {},
   "outputs": [
    {
     "name": "stdout",
     "output_type": "stream",
     "text": [
      "enter a number1:100\n",
      "enter a number2:200\n",
      "the addition of 100 and 200 is 300\n"
     ]
    }
   ],
   "source": [
    "try:\n",
    "    number1=input(\"enter a number1:\")\n",
    "    number2=input(\"enter a number2:\")\n",
    "    add=int(number1)+int(number2)\n",
    "    print(\"the addition of {} and {} is {}\".format(number1,number2,add))\n",
    "except exception as e:\n",
    "    print(e)    \n"
   ]
  },
  {
   "cell_type": "code",
   "execution_count": 34,
   "id": "97f6e98d",
   "metadata": {},
   "outputs": [],
   "source": [
    "## wap ask the user enter two number and add those number\n",
    "## wap ask the enter the num from keyboard and add those num\n",
    "## wap ask the user to get two random int num and add those num"
   ]
  },
  {
   "cell_type": "code",
   "execution_count": 35,
   "id": "d05dd9dc",
   "metadata": {},
   "outputs": [
    {
     "name": "stdout",
     "output_type": "stream",
     "text": [
      "300\n"
     ]
    }
   ],
   "source": [
    "num1=100\n",
    "num2=200\n",
    "add1=num1+num2\n",
    "print(add1)"
   ]
  },
  {
   "cell_type": "code",
   "execution_count": 36,
   "id": "b65bdc49",
   "metadata": {},
   "outputs": [
    {
     "name": "stdout",
     "output_type": "stream",
     "text": [
      "enter a num1:600\n",
      "enter a num2:700\n",
      "300\n"
     ]
    }
   ],
   "source": [
    "num11=eval(input('enter a num1:'))\n",
    "num22=eval(input('enter a num2:'))\n",
    "add2=num11+num22\n",
    "print(add)"
   ]
  },
  {
   "cell_type": "code",
   "execution_count": 39,
   "id": "92203190",
   "metadata": {},
   "outputs": [
    {
     "name": "stdout",
     "output_type": "stream",
     "text": [
      "177\n"
     ]
    }
   ],
   "source": [
    "import random\n",
    "num1=random.randint(1,100)\n",
    "num2=random.randint(1,200)\n",
    "add=num1+num2\n",
    "print(add)\n",
    "\n"
   ]
  },
  {
   "cell_type": "code",
   "execution_count": 42,
   "id": "4ce84e2b",
   "metadata": {},
   "outputs": [
    {
     "name": "stdout",
     "output_type": "stream",
     "text": [
      "6\n"
     ]
    }
   ],
   "source": [
    "import random\n",
    "num1=random.randint(1,10)\n",
    "print(num1)\n"
   ]
  },
  {
   "cell_type": "code",
   "execution_count": 45,
   "id": "19989770",
   "metadata": {},
   "outputs": [
    {
     "name": "stdout",
     "output_type": "stream",
     "text": [
      "1\n"
     ]
    }
   ],
   "source": [
    "import random\n",
    "num1=random.randint(0,1)\n",
    "print(num1)"
   ]
  },
  {
   "cell_type": "code",
   "execution_count": 47,
   "id": "b1d0cd20",
   "metadata": {},
   "outputs": [
    {
     "name": "stdout",
     "output_type": "stream",
     "text": [
      "10\n",
      "1\n",
      "11\n"
     ]
    }
   ],
   "source": [
    "import random\n",
    "num1=random.randint(1,10)\n",
    "print(num1)\n",
    "import random\n",
    "num2=random.randint(1,10)\n",
    "print(num2)\n",
    "add=num1+num2\n",
    "print(add)"
   ]
  },
  {
   "cell_type": "code",
   "execution_count": 48,
   "id": "110e3a56",
   "metadata": {},
   "outputs": [
    {
     "name": "stdout",
     "output_type": "stream",
     "text": [
      "aiobotocore @ file:///C:/b/abs_1c1a_vjay2/croot/aiobotocore_1682537737724/work\n",
      "aiofiles @ file:///C:/b/abs_9ex6mi6b56/croot/aiofiles_1683773603390/work\n",
      "aiohttp @ file:///C:/b/abs_b78zt6vo64/croot/aiohttp_1694181126607/work\n",
      "aioitertools @ file:///tmp/build/80754af9/aioitertools_1607109665762/work\n",
      "aiosignal @ file:///tmp/build/80754af9/aiosignal_1637843061372/work\n",
      "aiosqlite @ file:///C:/b/abs_9djc_0pyi3/croot/aiosqlite_1683773915844/work\n",
      "alabaster @ file:///home/ktietz/src/ci/alabaster_1611921544520/work\n",
      "anaconda-anon-usage @ file:///C:/b/abs_f4tsjyl9va/croot/anaconda-anon-usage_1695310457827/work\n",
      "anaconda-catalogs @ file:///C:/b/abs_8btyy0o8s8/croot/anaconda-catalogs_1685727315626/work\n",
      "anaconda-client @ file:///C:/b/abs_80wttmgui4/croot/anaconda-client_1694625288614/work\n",
      "anaconda-cloud-auth @ file:///C:/b/abs_5cjpnu6wjb/croot/anaconda-cloud-auth_1694462130037/work\n",
      "anaconda-navigator @ file:///C:/b/abs_ab00e0_u7e/croot/anaconda-navigator_1695238210954/work\n",
      "anaconda-project @ file:///C:/ci_311/anaconda-project_1676458365912/work\n",
      "anyio @ file:///C:/ci_311/anyio_1676425491996/work/dist\n",
      "appdirs==1.4.4\n",
      "argon2-cffi @ file:///opt/conda/conda-bld/argon2-cffi_1645000214183/work\n",
      "argon2-cffi-bindings @ file:///C:/ci_311/argon2-cffi-bindings_1676424443321/work\n",
      "arrow @ file:///C:/ci_311/arrow_1678249767083/work\n",
      "astroid @ file:///C:/ci_311/astroid_1678740610167/work\n",
      "astropy @ file:///C:/ci_311_rebuilds/astropy_1678996071858/work\n",
      "asttokens @ file:///opt/conda/conda-bld/asttokens_1646925590279/work\n",
      "async-timeout @ file:///C:/ci_311/async-timeout_1676431518331/work\n",
      "atomicwrites==1.4.0\n",
      "attrs @ file:///C:/ci_311/attrs_1676422272484/work\n",
      "Automat @ file:///tmp/build/80754af9/automat_1600298431173/work\n",
      "autopep8 @ file:///opt/conda/conda-bld/autopep8_1650463822033/work\n",
      "Babel @ file:///C:/ci_311/babel_1676427169844/work\n",
      "backcall @ file:///home/ktietz/src/ci/backcall_1611930011877/work\n",
      "backports.functools-lru-cache @ file:///tmp/build/80754af9/backports.functools_lru_cache_1618170165463/work\n",
      "backports.tempfile @ file:///home/linux1/recipes/ci/backports.tempfile_1610991236607/work\n",
      "backports.weakref==1.0.post1\n",
      "bcrypt @ file:///C:/ci_311/bcrypt_1676435170049/work\n",
      "beautifulsoup4 @ file:///C:/b/abs_0agyz1wsr4/croot/beautifulsoup4-split_1681493048687/work\n",
      "binaryornot @ file:///tmp/build/80754af9/binaryornot_1617751525010/work\n",
      "black @ file:///C:/b/abs_620t6ndje8/croot/black_1680737261963/work\n",
      "bleach @ file:///opt/conda/conda-bld/bleach_1641577558959/work\n",
      "bokeh @ file:///C:/b/abs_e5qs_0dl2w/croot/bokeh_1690546119144/work\n",
      "boltons @ file:///C:/ci_311/boltons_1677729932371/work\n",
      "botocore @ file:///C:/b/abs_01gwdn34ju/croot/botocore_1682528022942/work\n",
      "Bottleneck @ file:///C:/ci_311/bottleneck_1676500016583/work\n",
      "brotlipy==0.7.0\n",
      "certifi @ file:///C:/b/abs_36eb5mzhph/croot/certifi_1690232276943/work/certifi\n",
      "cffi @ file:///C:/ci_311/cffi_1676423759166/work\n",
      "chardet @ file:///C:/ci_311/chardet_1676436134885/work\n",
      "charset-normalizer @ file:///tmp/build/80754af9/charset-normalizer_1630003229654/work\n",
      "click @ file:///C:/ci_311/click_1676433091657/work\n",
      "cloudpickle @ file:///C:/b/abs_3796yxesic/croot/cloudpickle_1683040098851/work\n",
      "clyent==1.2.2\n",
      "colorama @ file:///C:/ci_311/colorama_1676422310965/work\n",
      "colorcet @ file:///C:/ci_311/colorcet_1676440389947/work\n",
      "comm @ file:///C:/ci_311/comm_1678376562840/work\n",
      "conda @ file:///C:/b/abs_3eb7ewgq2c/croot/conda_1694545461647/work\n",
      "conda-build @ file:///C:/b/abs_8di4gx5nj5/croot/conda-build_1692366837286/work\n",
      "conda-content-trust @ file:///C:/b/abs_e3bcpyv7sw/croot/conda-content-trust_1693490654398/work\n",
      "conda-libmamba-solver @ file:///C:/b/abs_016p0csqp7/croot/conda-libmamba-solver_1691418958509/work/src\n",
      "conda-pack @ file:///tmp/build/80754af9/conda-pack_1611163042455/work\n",
      "conda-package-handling @ file:///C:/b/abs_b9wp3lr1gn/croot/conda-package-handling_1691008700066/work\n",
      "conda-repo-cli==1.0.75\n",
      "conda-token @ file:///Users/paulyim/miniconda3/envs/c3i/conda-bld/conda-token_1662660369760/work\n",
      "conda-verify==3.4.2\n",
      "conda_index @ file:///C:/b/abs_50towt3zan/croot/conda-index_1695311135992/work\n",
      "conda_package_streaming @ file:///C:/b/abs_6c28n38aaj/croot/conda-package-streaming_1690988019210/work\n",
      "constantly==15.1.0\n",
      "contourpy @ file:///C:/ci_311/contourpy_1676431756017/work\n",
      "cookiecutter @ file:///opt/conda/conda-bld/cookiecutter_1649151442564/work\n",
      "cryptography @ file:///C:/b/abs_f4do8t8jfs/croot/cryptography_1694444424531/work\n",
      "cssselect==1.1.0\n",
      "cycler @ file:///tmp/build/80754af9/cycler_1637851556182/work\n",
      "cytoolz @ file:///C:/ci_311/cytoolz_1676436342770/work\n",
      "daal4py==2023.1.1\n",
      "dask @ file:///C:/b/abs_23lvfodys3/croot/dask-core_1686782960052/work\n",
      "datasets @ file:///C:/b/abs_a3jy4vrfuo/croot/datasets_1684484478038/work\n",
      "datashader @ file:///C:/b/abs_8323862uxi/croot/datashader_1692372298149/work\n",
      "datashape==0.5.4\n",
      "debugpy @ file:///C:/b/abs_c0y1fjipt2/croot/debugpy_1690906864587/work\n",
      "decorator @ file:///opt/conda/conda-bld/decorator_1643638310831/work\n",
      "defusedxml @ file:///tmp/build/80754af9/defusedxml_1615228127516/work\n",
      "diff-match-patch @ file:///Users/ktietz/demo/mc3/conda-bld/diff-match-patch_1630511840874/work\n",
      "dill @ file:///C:/ci_311/dill_1676433323862/work\n",
      "distributed @ file:///C:/b/abs_7509xfv227/croot/distributed_1686866088894/work\n",
      "docstring-to-markdown @ file:///C:/ci_311/docstring-to-markdown_1677742566583/work\n",
      "docutils @ file:///C:/ci_311/docutils_1676428078664/work\n",
      "entrypoints @ file:///C:/ci_311/entrypoints_1676423328987/work\n",
      "et-xmlfile==1.1.0\n",
      "executing @ file:///opt/conda/conda-bld/executing_1646925071911/work\n",
      "fastjsonschema @ file:///C:/ci_311/python-fastjsonschema_1679500568724/work\n",
      "filelock @ file:///C:/ci_311/filelock_1676427284139/work\n",
      "flake8 @ file:///C:/ci_311/flake8_1678376624746/work\n",
      "Flask @ file:///C:/ci_311/flask_1676436667658/work\n",
      "fonttools==4.25.0\n",
      "frozenlist @ file:///C:/ci_311/frozenlist_1676428131576/work\n",
      "fsspec @ file:///C:/b/abs_f9arcwflp9/croot/fsspec_1682526006955/work\n",
      "future @ file:///C:/ci_311_rebuilds/future_1678998246262/work\n",
      "gensim @ file:///C:/ci_311/gensim_1677743037820/work\n",
      "glob2 @ file:///home/linux1/recipes/ci/glob2_1610991677669/work\n",
      "greenlet @ file:///C:/ci_311/greenlet_1676436788118/work\n",
      "h5py @ file:///C:/b/abs_17fav01gwy/croot/h5py_1691589733413/work\n",
      "HeapDict @ file:///Users/ktietz/demo/mc3/conda-bld/heapdict_1630598515714/work\n",
      "holoviews @ file:///C:/b/abs_fa7afixkhc/croot/holoviews_1693378101313/work\n",
      "huggingface-hub @ file:///C:/b/abs_46tn6fu5ho/croot/huggingface_hub_1686693723427/work\n",
      "hvplot @ file:///C:/b/abs_2b13wifauw/croot/hvplot_1685998632349/work\n",
      "hyperlink @ file:///tmp/build/80754af9/hyperlink_1610130746837/work\n",
      "idna @ file:///C:/ci_311/idna_1676424932545/work\n",
      "imagecodecs @ file:///C:/b/abs_e2g5zbs1q0/croot/imagecodecs_1695065012000/work\n",
      "imageio @ file:///C:/ci_311/imageio_1678373794394/work\n",
      "imagesize @ file:///C:/ci_311/imagesize_1676431905616/work\n",
      "imbalanced-learn @ file:///C:/b/abs_275a0acaq2/croot/imbalanced-learn_1685025644593/work\n",
      "importlib-metadata @ file:///C:/b/abs_20ndzb2j6v/croot/importlib-metadata_1678997085534/work\n",
      "incremental @ file:///tmp/build/80754af9/incremental_1636629750599/work\n",
      "inflection==0.5.1\n",
      "iniconfig @ file:///home/linux1/recipes/ci/iniconfig_1610983019677/work\n",
      "install==1.3.5\n",
      "intake @ file:///C:/ci_311_rebuilds/intake_1678999914269/work\n",
      "intervaltree @ file:///Users/ktietz/demo/mc3/conda-bld/intervaltree_1630511889664/work\n",
      "ipykernel @ file:///C:/b/abs_07rkft_vaz/croot/ipykernel_1691121700587/work\n",
      "ipython @ file:///C:/b/abs_e5729i179y/croot/ipython_1694181400005/work\n",
      "ipython-genutils @ file:///tmp/build/80754af9/ipython_genutils_1606773439826/work\n",
      "ipywidgets @ file:///C:/b/abs_5awapknmz_/croot/ipywidgets_1679394824767/work\n",
      "isort @ file:///tmp/build/80754af9/isort_1628603791788/work\n",
      "itemadapter @ file:///tmp/build/80754af9/itemadapter_1626442940632/work\n",
      "itemloaders @ file:///opt/conda/conda-bld/itemloaders_1646805235997/work\n",
      "itsdangerous @ file:///tmp/build/80754af9/itsdangerous_1621432558163/work\n",
      "jaraco.classes @ file:///tmp/build/80754af9/jaraco.classes_1620983179379/work\n",
      "jedi @ file:///C:/ci_311/jedi_1679427407646/work\n",
      "jellyfish @ file:///C:/b/abs_50kgvtnrbj/croot/jellyfish_1695193564091/work\n",
      "Jinja2 @ file:///C:/ci_311/jinja2_1676424968965/work\n",
      "jinja2-time @ file:///opt/conda/conda-bld/jinja2-time_1649251842261/work\n",
      "jmespath @ file:///Users/ktietz/demo/mc3/conda-bld/jmespath_1630583964805/work\n",
      "joblib @ file:///C:/b/abs_1anqjntpan/croot/joblib_1685113317150/work\n",
      "json5 @ file:///tmp/build/80754af9/json5_1624432770122/work\n",
      "jsonpatch @ file:///tmp/build/80754af9/jsonpatch_1615747632069/work\n",
      "jsonpointer==2.1\n",
      "jsonschema @ file:///C:/b/abs_d40z05b6r1/croot/jsonschema_1678983446576/work\n",
      "jupyter @ file:///C:/ci_311/jupyter_1678249952587/work\n",
      "jupyter-console @ file:///C:/b/abs_82xaa6i2y4/croot/jupyter_console_1680000189372/work\n",
      "jupyter-events @ file:///C:/b/abs_4cak_28ewz/croot/jupyter_events_1684268050893/work\n",
      "jupyter-server @ file:///C:/ci_311/jupyter_server_1678228762759/work\n",
      "jupyter-ydoc @ file:///C:/b/abs_e7m6nh5lao/croot/jupyter_ydoc_1683747253535/work\n",
      "jupyter_client @ file:///C:/ci_311/jupyter_client_1676424009414/work\n",
      "jupyter_core @ file:///C:/b/abs_9d0ttho3bs/croot/jupyter_core_1679906581955/work\n",
      "jupyter_server_fileid @ file:///C:/b/abs_f1yjnmiq_6/croot/jupyter_server_fileid_1684273602142/work\n",
      "jupyter_server_ydoc @ file:///C:/b/abs_8ai39bligw/croot/jupyter_server_ydoc_1686767445888/work\n",
      "jupyterlab @ file:///C:/b/abs_c1msr8zz3y/croot/jupyterlab_1686179674844/work\n",
      "jupyterlab-pygments @ file:///tmp/build/80754af9/jupyterlab_pygments_1601490720602/work\n",
      "jupyterlab-widgets @ file:///C:/b/abs_38ad427jkz/croot/jupyterlab_widgets_1679055289211/work\n",
      "jupyterlab_server @ file:///C:/b/abs_e0qqsihjvl/croot/jupyterlab_server_1680792526136/work\n",
      "kaleido @ file:///C:/b/abs_60smvjz1os/croot/python-kaleido_1689927138239/work\n",
      "keyring @ file:///C:/b/abs_dbjc7g0dh2/croot/keyring_1678999228878/work\n",
      "kiwisolver @ file:///C:/ci_311/kiwisolver_1676431979301/work\n",
      "lazy-object-proxy @ file:///C:/ci_311/lazy-object-proxy_1676432050939/work\n",
      "lazy_loader @ file:///C:/b/abs_c9jlw06oq1/croot/lazy_loader_1687266162676/work\n",
      "libarchive-c @ file:///tmp/build/80754af9/python-libarchive-c_1617780486945/work\n",
      "libmambapy @ file:///C:/b/abs_71g8gec0dd/croot/mamba-split_1694187821755/work/libmambapy\n",
      "linkify-it-py @ file:///C:/ci_311/linkify-it-py_1676474436187/work\n",
      "llvmlite @ file:///C:/b/abs_a8i9keuf6p/croot/llvmlite_1683555140340/work\n",
      "lmdb @ file:///C:/b/abs_556ronuvb2/croot/python-lmdb_1682522366268/work\n",
      "locket @ file:///C:/ci_311/locket_1676428325082/work\n",
      "lxml @ file:///C:/b/abs_9e7tpg2vv9/croot/lxml_1695058219431/work\n",
      "lz4 @ file:///C:/b/abs_064u6aszy3/croot/lz4_1686057967376/work\n",
      "Markdown @ file:///C:/ci_311/markdown_1676437912393/work\n",
      "markdown-it-py @ file:///C:/b/abs_a5bfngz6fu/croot/markdown-it-py_1684279915556/work\n",
      "MarkupSafe @ file:///C:/ci_311/markupsafe_1676424152318/work\n",
      "matplotlib @ file:///C:/b/abs_085jhivdha/croot/matplotlib-suite_1693812524572/work\n",
      "matplotlib-inline @ file:///C:/ci_311/matplotlib-inline_1676425798036/work\n",
      "mccabe @ file:///opt/conda/conda-bld/mccabe_1644221741721/work\n",
      "mdit-py-plugins @ file:///C:/ci_311/mdit-py-plugins_1676481827414/work\n",
      "mdurl @ file:///C:/ci_311/mdurl_1676442676678/work\n",
      "menuinst @ file:///C:/ci_311/menuinst_1678730372782/work\n",
      "mistune @ file:///C:/ci_311/mistune_1676425149302/work\n",
      "mkl-fft @ file:///C:/b/abs_19i1y8ykas/croot/mkl_fft_1695058226480/work\n",
      "mkl-random @ file:///C:/b/abs_edwkj1_o69/croot/mkl_random_1695059866750/work\n",
      "mkl-service==2.4.0\n",
      "more-itertools @ file:///tmp/build/80754af9/more-itertools_1637733554872/work\n",
      "mpmath @ file:///C:/b/abs_7833jrbiox/croot/mpmath_1690848321154/work\n",
      "msgpack @ file:///C:/ci_311/msgpack-python_1676427482892/work\n",
      "multidict @ file:///C:/ci_311/multidict_1676428396308/work\n",
      "multipledispatch @ file:///C:/ci_311/multipledispatch_1676442767760/work\n",
      "multiprocess @ file:///C:/ci_311/multiprocess_1676442808395/work\n",
      "munkres==1.1.4\n",
      "mypy-extensions @ file:///C:/b/abs_8f7xiidjya/croot/mypy_extensions_1695131051147/work\n",
      "navigator-updater @ file:///C:/b/abs_895otdwmo9/croot/navigator-updater_1695210220239/work\n",
      "nbclassic @ file:///C:/b/abs_c8_rs7b3zw/croot/nbclassic_1681756186106/work\n",
      "nbclient @ file:///C:/ci_311/nbclient_1676425195918/work\n",
      "nbconvert @ file:///C:/ci_311/nbconvert_1676425836196/work\n",
      "nbformat @ file:///C:/b/abs_5a2nea1iu2/croot/nbformat_1694616866197/work\n",
      "nest-asyncio @ file:///C:/ci_311/nest-asyncio_1676423519896/work\n",
      "networkx @ file:///C:/b/abs_e6gi1go5op/croot/networkx_1690562046966/work\n",
      "nltk @ file:///C:/b/abs_a638z6l1z0/croot/nltk_1688114186909/work\n",
      "notebook @ file:///C:/b/abs_e2qn6c85jb/croot/notebook_1690985290943/work\n",
      "notebook_shim @ file:///C:/ci_311/notebook-shim_1678144850856/work\n",
      "numba @ file:///C:/b/abs_00f2z7znbq/croot/numba_1690878309825/work\n",
      "numexpr @ file:///C:/b/abs_afm0oewmmt/croot/numexpr_1683221839116/work\n",
      "numpy @ file:///C:/Users/dev-admin/mkl/numpy_and_numpy_base_1682982345978/work\n",
      "numpydoc @ file:///C:/ci_311/numpydoc_1676453412027/work\n",
      "opencv-python==4.8.1.78\n",
      "openpyxl==3.0.10\n",
      "packaging @ file:///C:/b/abs_28t5mcoltc/croot/packaging_1693575224052/work\n",
      "pandas @ file:///C:/miniconda3/conda-bld/pandas_1692298018988/work\n",
      "pandocfilters @ file:///opt/conda/conda-bld/pandocfilters_1643405455980/work\n",
      "panel @ file:///C:/b/abs_a4rd7zrkc6/croot/panel_1695145945642/work\n",
      "param @ file:///C:/b/abs_f5xzp6ism6/croot/param_1684915326009/work\n",
      "paramiko @ file:///opt/conda/conda-bld/paramiko_1640109032755/work\n",
      "parsel @ file:///C:/ci_311/parsel_1676443327188/work\n",
      "parso @ file:///opt/conda/conda-bld/parso_1641458642106/work\n",
      "partd @ file:///C:/b/abs_4e2m_ds81n/croot/partd_1693937921136/work\n",
      "pathlib @ file:///Users/ktietz/demo/mc3/conda-bld/pathlib_1629713961906/work\n",
      "pathspec @ file:///C:/ci_311/pathspec_1679427644142/work\n",
      "patsy==0.5.3\n",
      "pep8==1.7.1\n",
      "pexpect @ file:///tmp/build/80754af9/pexpect_1605563209008/work\n",
      "pickleshare @ file:///tmp/build/80754af9/pickleshare_1606932040724/work\n",
      "Pillow @ file:///C:/b/abs_153xikw91n/croot/pillow_1695134603563/work\n",
      "pkce @ file:///C:/b/abs_d0z4444tb0/croot/pkce_1690384879799/work\n",
      "pkginfo @ file:///C:/b/abs_d18srtr68x/croot/pkginfo_1679431192239/work\n",
      "platformdirs @ file:///C:/b/abs_b6z_yqw_ii/croot/platformdirs_1692205479426/work\n",
      "plotly @ file:///C:/ci_311/plotly_1676443558683/work\n",
      "pluggy @ file:///C:/ci_311/pluggy_1676422178143/work\n",
      "ply==3.11\n",
      "poyo @ file:///tmp/build/80754af9/poyo_1617751526755/work\n",
      "prometheus-client @ file:///C:/ci_311/prometheus_client_1679591942558/work\n",
      "prompt-toolkit @ file:///C:/ci_311/prompt-toolkit_1676425940920/work\n",
      "Protego @ file:///tmp/build/80754af9/protego_1598657180827/work\n",
      "psutil @ file:///C:/ci_311_rebuilds/psutil_1679005906571/work\n",
      "ptyprocess @ file:///tmp/build/80754af9/ptyprocess_1609355006118/work/dist/ptyprocess-0.7.0-py2.py3-none-any.whl\n",
      "pure-eval @ file:///opt/conda/conda-bld/pure_eval_1646925070566/work\n",
      "py-cpuinfo @ file:///Users/ktietz/demo/mc3/conda-bld/py-cpuinfo_1629480366017/work\n",
      "pyarrow==11.0.0\n",
      "pyasn1 @ file:///Users/ktietz/demo/mc3/conda-bld/pyasn1_1629708007385/work\n",
      "pyasn1-modules==0.2.8\n",
      "pycodestyle @ file:///C:/ci_311/pycodestyle_1678376707834/work\n",
      "pycosat @ file:///C:/ci_311/pycosat_1676438455539/work\n",
      "pycparser @ file:///tmp/build/80754af9/pycparser_1636541352034/work\n",
      "pyct @ file:///C:/ci_311/pyct_1676438538057/work\n",
      "pycurl==7.45.2\n",
      "pydantic @ file:///C:/b/abs_4bum6ajkso/croot/pydantic_1686125732638/work\n",
      "PyDispatcher==2.0.5\n",
      "pydocstyle @ file:///C:/ci_311/pydocstyle_1678402028085/work\n",
      "pyerfa @ file:///C:/ci_311/pyerfa_1676503994641/work\n",
      "pyflakes @ file:///C:/ci_311/pyflakes_1678402101687/work\n",
      "Pygments @ file:///C:/b/abs_fay9dpq4n_/croot/pygments_1684279990574/work\n",
      "PyJWT @ file:///C:/ci_311/pyjwt_1676438890509/work\n",
      "pylint @ file:///C:/ci_311/pylint_1678740302984/work\n",
      "pylint-venv @ file:///C:/ci_311/pylint-venv_1678402170638/work\n",
      "pyls-spyder==0.4.0\n",
      "PyNaCl @ file:///C:/ci_311/pynacl_1676445861112/work\n",
      "pyodbc @ file:///C:/ci_311/pyodbc_1676489976744/work\n",
      "pyOpenSSL @ file:///C:/b/abs_08f38zyck4/croot/pyopenssl_1690225407403/work\n",
      "pyparsing @ file:///C:/ci_311/pyparsing_1678502182533/work\n",
      "PyQt5==5.15.7\n",
      "PyQt5-sip @ file:///C:/ci_311/pyqt-split_1676428895938/work/pyqt_sip\n",
      "PyQtWebEngine==5.15.4\n",
      "pyrsistent @ file:///C:/ci_311/pyrsistent_1676422695500/work\n",
      "PySocks @ file:///C:/ci_311/pysocks_1676425991111/work\n",
      "pytest @ file:///C:/b/abs_48heoo_k8y/croot/pytest_1690475385915/work\n",
      "python-dateutil @ file:///tmp/build/80754af9/python-dateutil_1626374649649/work\n",
      "python-dotenv @ file:///C:/ci_311/python-dotenv_1676455170580/work\n",
      "python-json-logger @ file:///C:/b/abs_cblnsm6puj/croot/python-json-logger_1683824130469/work\n",
      "python-lsp-black @ file:///C:/ci_311/python-lsp-black_1678721855627/work\n",
      "python-lsp-jsonrpc==1.0.0\n",
      "python-lsp-server @ file:///C:/b/abs_catecj7fv1/croot/python-lsp-server_1681930405912/work\n",
      "python-slugify @ file:///tmp/build/80754af9/python-slugify_1620405669636/work\n",
      "python-snappy @ file:///C:/ci_311/python-snappy_1676446060182/work\n",
      "pytoolconfig @ file:///C:/ci_311/pytoolconfig_1678402262175/work\n",
      "pytz @ file:///C:/b/abs_19q3ljkez4/croot/pytz_1695131651401/work\n",
      "pyviz-comms @ file:///C:/b/abs_6cq38vhwa5/croot/pyviz_comms_1685030740344/work\n",
      "PyWavelets @ file:///C:/ci_311/pywavelets_1676504105729/work\n",
      "pywin32==305.1\n",
      "pywin32-ctypes @ file:///C:/ci_311/pywin32-ctypes_1676427747089/work\n",
      "pywinpty @ file:///C:/ci_311/pywinpty_1677707791185/work/target/wheels/pywinpty-2.0.10-cp311-none-win_amd64.whl\n",
      "PyYAML @ file:///C:/ci_311/pyyaml_1676432488822/work\n",
      "pyzmq @ file:///C:/ci_311/pyzmq_1676423601304/work\n",
      "QDarkStyle @ file:///tmp/build/80754af9/qdarkstyle_1617386714626/work\n",
      "qstylizer @ file:///C:/ci_311/qstylizer_1678502012152/work/dist/qstylizer-0.2.2-py2.py3-none-any.whl\n",
      "QtAwesome @ file:///C:/ci_311/qtawesome_1678402331535/work\n",
      "qtconsole @ file:///C:/b/abs_eb4u9jg07y/croot/qtconsole_1681402843494/work\n",
      "QtPy @ file:///C:/ci_311/qtpy_1676432558504/work\n",
      "queuelib==1.5.0\n",
      "regex @ file:///C:/ci_311_rebuilds/regex_1679006156792/work\n",
      "requests @ file:///C:/b/abs_316c2inijk/croot/requests_1690400295842/work\n",
      "requests-file @ file:///Users/ktietz/demo/mc3/conda-bld/requests-file_1629455781986/work\n",
      "requests-toolbelt @ file:///C:/b/abs_2fsmts66wp/croot/requests-toolbelt_1690874051210/work\n",
      "responses @ file:///tmp/build/80754af9/responses_1619800270522/work\n",
      "rfc3339-validator @ file:///C:/b/abs_ddfmseb_vm/croot/rfc3339-validator_1683077054906/work\n",
      "rfc3986-validator @ file:///C:/b/abs_6e9azihr8o/croot/rfc3986-validator_1683059049737/work\n",
      "rope @ file:///C:/ci_311/rope_1678402524346/work\n",
      "Rtree @ file:///C:/ci_311/rtree_1676455758391/work\n",
      "ruamel-yaml-conda @ file:///C:/ci_311/ruamel_yaml_1676455799258/work\n",
      "ruamel.yaml @ file:///C:/ci_311/ruamel.yaml_1676439214109/work\n",
      "s3fs @ file:///C:/b/abs_adfhcfx438/croot/s3fs_1682551489845/work\n",
      "safetensors @ file:///C:/b/abs_a8nnkwknpv/croot/safetensors_1692949064285/work\n",
      "scikit-image @ file:///C:/b/abs_2075zg1pia/croot/scikit-image_1682528361447/work\n",
      "scikit-learn @ file:///C:/b/abs_55olq_4gzc/croot/scikit-learn_1690978955123/work\n",
      "scikit-learn-intelex==20230426.121932\n",
      "scipy==1.11.1\n",
      "Scrapy @ file:///C:/ci_311/scrapy_1678502587780/work\n",
      "seaborn @ file:///C:/ci_311/seaborn_1676446547861/work\n",
      "Send2Trash @ file:///tmp/build/80754af9/send2trash_1632406701022/work\n",
      "service-identity @ file:///Users/ktietz/demo/mc3/conda-bld/service_identity_1629460757137/work\n",
      "sip @ file:///C:/ci_311/sip_1676427825172/work\n",
      "six @ file:///tmp/build/80754af9/six_1644875935023/work\n",
      "smart-open @ file:///C:/ci_311/smart_open_1676439339434/work\n",
      "sniffio @ file:///C:/ci_311/sniffio_1676425339093/work\n",
      "snowballstemmer @ file:///tmp/build/80754af9/snowballstemmer_1637937080595/work\n",
      "sortedcontainers @ file:///tmp/build/80754af9/sortedcontainers_1623949099177/work\n",
      "soupsieve @ file:///C:/b/abs_a989exj3q6/croot/soupsieve_1680518492466/work\n",
      "Sphinx @ file:///C:/ci_311/sphinx_1676434546244/work\n",
      "sphinxcontrib-applehelp @ file:///home/ktietz/src/ci/sphinxcontrib-applehelp_1611920841464/work\n",
      "sphinxcontrib-devhelp @ file:///home/ktietz/src/ci/sphinxcontrib-devhelp_1611920923094/work\n",
      "sphinxcontrib-htmlhelp @ file:///tmp/build/80754af9/sphinxcontrib-htmlhelp_1623945626792/work\n",
      "sphinxcontrib-jsmath @ file:///home/ktietz/src/ci/sphinxcontrib-jsmath_1611920942228/work\n",
      "sphinxcontrib-qthelp @ file:///home/ktietz/src/ci/sphinxcontrib-qthelp_1611921055322/work\n",
      "sphinxcontrib-serializinghtml @ file:///tmp/build/80754af9/sphinxcontrib-serializinghtml_1624451540180/work\n",
      "spyder @ file:///C:/b/abs_e99kl7d8t0/croot/spyder_1681934304813/work\n",
      "spyder-kernels @ file:///C:/b/abs_e788a8_4y9/croot/spyder-kernels_1691599588437/work\n",
      "SQLAlchemy @ file:///C:/ci_311/sqlalchemy_1676446707912/work\n",
      "stack-data @ file:///opt/conda/conda-bld/stack_data_1646927590127/work\n",
      "statsmodels @ file:///C:/b/abs_7bth810rna/croot/statsmodels_1689937298619/work\n",
      "sympy @ file:///C:/ci_311_rebuilds/sympy_1679009400182/work\n",
      "tables @ file:///C:/b/abs_0626auep9v/croot/pytables_1691623892917/work\n",
      "tabulate @ file:///C:/ci_311/tabulate_1676494503192/work\n",
      "TBB==0.2\n",
      "tblib @ file:///Users/ktietz/demo/mc3/conda-bld/tblib_1629402031467/work\n",
      "tenacity @ file:///C:/b/abs_ddkoa9nju6/croot/tenacity_1682972298929/work\n",
      "terminado @ file:///C:/ci_311/terminado_1678228513830/work\n",
      "text-unidecode @ file:///Users/ktietz/demo/mc3/conda-bld/text-unidecode_1629401354553/work\n",
      "textdistance @ file:///tmp/build/80754af9/textdistance_1612461398012/work\n",
      "threadpoolctl @ file:///Users/ktietz/demo/mc3/conda-bld/threadpoolctl_1629802263681/work\n",
      "three-merge @ file:///tmp/build/80754af9/three-merge_1607553261110/work\n",
      "tifffile @ file:///C:/b/abs_45o5chuqwt/croot/tifffile_1695107511025/work\n",
      "tinycss2 @ file:///C:/ci_311/tinycss2_1676425376744/work\n",
      "tldextract @ file:///opt/conda/conda-bld/tldextract_1646638314385/work\n",
      "tokenizers @ file:///C:/b/abs_e34f9vyhry/croot/tokenizers_1687191954304/work\n",
      "toml @ file:///tmp/build/80754af9/toml_1616166611790/work\n",
      "tomlkit @ file:///C:/ci_311/tomlkit_1676425418821/work\n",
      "toolz @ file:///C:/ci_311/toolz_1676431406517/work\n",
      "tornado @ file:///C:/b/abs_61jhmrrua1/croot/tornado_1690848767317/work\n",
      "tqdm @ file:///C:/b/abs_f76j9hg7pv/croot/tqdm_1679561871187/work\n",
      "traitlets @ file:///C:/ci_311/traitlets_1676423290727/work\n",
      "transformers @ file:///C:/b/abs_375hgbdwge/croot/transformers_1693308365188/work\n",
      "Twisted @ file:///C:/b/abs_f1pc_rieoy/croot/twisted_1683796899561/work\n",
      "twisted-iocpsupport @ file:///C:/ci_311/twisted-iocpsupport_1676447612160/work\n",
      "typing_extensions @ file:///C:/b/abs_213vg2cd1l/croot/typing_extensions_1690297804941/work\n",
      "tzdata @ file:///croot/python-tzdata_1690578112552/work\n",
      "uc-micro-py @ file:///C:/ci_311/uc-micro-py_1676457695423/work\n",
      "ujson @ file:///C:/ci_311/ujson_1676434714224/work\n",
      "Unidecode @ file:///tmp/build/80754af9/unidecode_1614712377438/work\n",
      "urllib3 @ file:///C:/b/abs_889_loyqv4/croot/urllib3_1686163174463/work\n",
      "w3lib @ file:///Users/ktietz/demo/mc3/conda-bld/w3lib_1629359764703/work\n",
      "watchdog @ file:///C:/ci_311/watchdog_1676457923624/work\n",
      "wcwidth @ file:///Users/ktietz/demo/mc3/conda-bld/wcwidth_1629357192024/work\n",
      "webencodings==0.5.1\n",
      "websocket-client @ file:///C:/ci_311/websocket-client_1676426063281/work\n",
      "Werkzeug @ file:///C:/b/abs_8578rs2ra_/croot/werkzeug_1679489759009/work\n",
      "whatthepatch @ file:///C:/ci_311/whatthepatch_1678402578113/work\n",
      "widgetsnbextension @ file:///C:/b/abs_882k4_4kdf/croot/widgetsnbextension_1679313880295/work\n",
      "win-inet-pton @ file:///C:/ci_311/win_inet_pton_1676425458225/work\n",
      "wrapt @ file:///C:/ci_311/wrapt_1676432805090/work\n",
      "xarray @ file:///C:/b/abs_5bkjiynp4e/croot/xarray_1689041498548/work\n",
      "xlwings @ file:///C:/ci_311_rebuilds/xlwings_1679013429160/work\n",
      "xxhash @ file:///C:/ci_311/python-xxhash_1676446168786/work\n",
      "xyzservices @ file:///C:/ci_311/xyzservices_1676434829315/work\n",
      "y-py @ file:///C:/b/abs_b7f5go6r0j/croot/y-py_1683662173571/work\n",
      "yapf @ file:///tmp/build/80754af9/yapf_1615749224965/work\n",
      "yarl @ file:///C:/ci_311/yarl_1676432870023/work\n",
      "ypy-websocket @ file:///C:/b/abs_4e65ywlnv8/croot/ypy-websocket_1684172103529/work\n",
      "zict @ file:///C:/b/abs_fc7elavmem/croot/zict_1682698759288/work\n",
      "zipp @ file:///C:/ci_311/zipp_1676426100491/work\n",
      "zope.interface @ file:///C:/ci_311/zope.interface_1676439868776/work\n",
      "zstandard==0.19.0\n",
      "Note: you may need to restart the kernel to use updated packages.\n"
     ]
    }
   ],
   "source": [
    "pip freeze"
   ]
  },
  {
   "cell_type": "code",
   "execution_count": 50,
   "id": "9ece7439",
   "metadata": {},
   "outputs": [
    {
     "name": "stdout",
     "output_type": "stream",
     "text": [
      "Help on method randrange in module random:\n",
      "\n",
      "randrange(start, stop=None, step=1) method of random.Random instance\n",
      "    Choose a random item from range(stop) or range(start, stop[, step]).\n",
      "    \n",
      "    Roughly equivalent to ``choice(range(start, stop, step))`` but\n",
      "    supports arbitrarily large ranges and is optimized for common cases.\n",
      "\n"
     ]
    }
   ],
   "source": [
    "help(random.randrange)"
   ]
  },
  {
   "cell_type": "code",
   "execution_count": 52,
   "id": "39e1dc9e",
   "metadata": {},
   "outputs": [
    {
     "ename": "SyntaxError",
     "evalue": "invalid syntax (3283544911.py, line 2)",
     "output_type": "error",
     "traceback": [
      "\u001b[1;36m  Cell \u001b[1;32mIn[52], line 2\u001b[1;36m\u001b[0m\n\u001b[1;33m    num1=random.randint(1,10[,3])\u001b[0m\n\u001b[1;37m                             ^\u001b[0m\n\u001b[1;31mSyntaxError\u001b[0m\u001b[1;31m:\u001b[0m invalid syntax\n"
     ]
    }
   ],
   "source": [
    "import random\n",
    "num1=random.randint(1,10[,3])\n",
    "print(num1)"
   ]
  },
  {
   "cell_type": "code",
   "execution_count": 53,
   "id": "d70736ea",
   "metadata": {},
   "outputs": [
    {
     "data": {
      "text/plain": [
       "66"
      ]
     },
     "execution_count": 53,
     "metadata": {},
     "output_type": "execute_result"
    }
   ],
   "source": [
    "random.randrange(100)      ## start with 100\n",
    "                            ## after you can get any value\n",
    "                            ##101 102   "
   ]
  },
  {
   "cell_type": "code",
   "execution_count": 58,
   "id": "f5460d1c",
   "metadata": {},
   "outputs": [
    {
     "data": {
      "text/plain": [
       "35"
      ]
     },
     "execution_count": 58,
     "metadata": {},
     "output_type": "execute_result"
    }
   ],
   "source": [
    "random.randrange(0,100,step=5)"
   ]
  },
  {
   "cell_type": "code",
   "execution_count": 61,
   "id": "528b2972",
   "metadata": {},
   "outputs": [
    {
     "name": "stdout",
     "output_type": "stream",
     "text": [
      "15\n"
     ]
    }
   ],
   "source": [
    "x=random.randrange(0,100,5)\n",
    "print(x)"
   ]
  },
  {
   "cell_type": "code",
   "execution_count": 1,
   "id": "5ed82952",
   "metadata": {},
   "outputs": [
    {
     "name": "stdout",
     "output_type": "stream",
     "text": [
      "27\n"
     ]
    }
   ],
   "source": [
    "import random\n",
    "x=random.randint(0,100)\n",
    "print(x)"
   ]
  },
  {
   "cell_type": "code",
   "execution_count": 8,
   "id": "08bf1421",
   "metadata": {},
   "outputs": [
    {
     "name": "stdout",
     "output_type": "stream",
     "text": [
      "9\n"
     ]
    }
   ],
   "source": [
    "import random\n",
    "x=random.randrange(100)\n",
    "print(x)"
   ]
  },
  {
   "cell_type": "code",
   "execution_count": 10,
   "id": "90891b70",
   "metadata": {},
   "outputs": [
    {
     "name": "stdout",
     "output_type": "stream",
     "text": [
      "98\n",
      "81\n",
      "179\n"
     ]
    }
   ],
   "source": [
    "import random\n",
    "num1=random.randint(1,100)\n",
    "num2=random.randint(1,200)\n",
    "add=num1+num2\n",
    "print(num1)\n",
    "print(num2)\n",
    "print(add)\n"
   ]
  },
  {
   "cell_type": "code",
   "execution_count": null,
   "id": "eb0c5ab4",
   "metadata": {},
   "outputs": [],
   "source": []
  },
  {
   "cell_type": "code",
   "execution_count": null,
   "id": "7594894e",
   "metadata": {},
   "outputs": [],
   "source": []
  },
  {
   "cell_type": "code",
   "execution_count": null,
   "id": "8c1f773c",
   "metadata": {},
   "outputs": [],
   "source": []
  },
  {
   "cell_type": "code",
   "execution_count": null,
   "id": "b3918c90",
   "metadata": {},
   "outputs": [],
   "source": []
  }
 ],
 "metadata": {
  "kernelspec": {
   "display_name": "Python 3 (ipykernel)",
   "language": "python",
   "name": "python3"
  },
  "language_info": {
   "codemirror_mode": {
    "name": "ipython",
    "version": 3
   },
   "file_extension": ".py",
   "mimetype": "text/x-python",
   "name": "python",
   "nbconvert_exporter": "python",
   "pygments_lexer": "ipython3",
   "version": "3.11.5"
  }
 },
 "nbformat": 4,
 "nbformat_minor": 5
}
