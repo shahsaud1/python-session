{
 "cells": [
  {
   "cell_type": "markdown",
   "id": "0659fe37",
   "metadata": {},
   "source": [
    "## global function "
   ]
  },
  {
   "cell_type": "code",
   "execution_count": 1,
   "id": "6c74dbeb",
   "metadata": {},
   "outputs": [
    {
     "name": "stdout",
     "output_type": "stream",
     "text": [
      "enter a num1000\n",
      "total amount 1010\n"
     ]
    }
   ],
   "source": [
    "bill_amount=eval(input(\"enter a num\"))\n",
    "def total_bill(tip=10):\n",
    "    global total_amount\n",
    "    total_amount=bill_amount+tip\n",
    "    \n",
    "total_bill()    \n",
    "print('total amount',total_amount)"
   ]
  },
  {
   "cell_type": "markdown",
   "id": "d6e4d8bf",
   "metadata": {},
   "source": [
    "## function in function"
   ]
  },
  {
   "cell_type": "code",
   "execution_count": 1,
   "id": "8748c456",
   "metadata": {},
   "outputs": [
    {
     "name": "stdout",
     "output_type": "stream",
     "text": [
      "raaz\n",
      "hello good morning\n",
      "how do you do\n"
     ]
    }
   ],
   "source": [
    "def hey():\n",
    "    print('raaz')\n",
    "    print('hello good morning')\n",
    "    print('how do you do')\n",
    "hey()"
   ]
  },
  {
   "cell_type": "code",
   "execution_count": 2,
   "id": "f5b25867",
   "metadata": {},
   "outputs": [
    {
     "name": "stdout",
     "output_type": "stream",
     "text": [
      "raaz\n",
      "hello good morning\n",
      "how do you do\n"
     ]
    }
   ],
   "source": [
    "def greet():\n",
    "    print('hello good morning')\n",
    "def hey():\n",
    "    print('raaz')\n",
    "    greet()\n",
    "    print('how do you do')\n",
    "hey()"
   ]
  },
  {
   "cell_type": "code",
   "execution_count": 3,
   "id": "315524a8",
   "metadata": {},
   "outputs": [
    {
     "name": "stdout",
     "output_type": "stream",
     "text": [
      "how much 3+5\n",
      "good morning\n",
      "hello\n",
      "i dont know\n",
      "end the story\n"
     ]
    }
   ],
   "source": [
    "def greet1():\n",
    "    print('hello')\n",
    "def greet2():\n",
    "    print('good morning')\n",
    "def greet3():\n",
    "    print('how much 3+5')\n",
    "def greet4():\n",
    "    print('i dont know')\n",
    "def solve():\n",
    "    greet3()\n",
    "    greet2()\n",
    "    greet1()\n",
    "    greet4()\n",
    "    print('end the story')\n",
    "solve()\n",
    "    "
   ]
  },
  {
   "cell_type": "code",
   "execution_count": 10,
   "id": "efeab954",
   "metadata": {},
   "outputs": [
    {
     "name": "stdout",
     "output_type": "stream",
     "text": [
      "how much 3+5\n",
      "good morning\n",
      "hello Raaz\n",
      "i dont know\n",
      "end the story\n"
     ]
    }
   ],
   "source": [
    "def greet1(name):\n",
    "    print('hello',name)\n",
    "def greet2():\n",
    "    print('good morning')\n",
    "def greet3():\n",
    "    print('how much 3+5')\n",
    "def greet4():\n",
    "    print('i dont know')\n",
    "def solve(name):\n",
    "    greet3()\n",
    "    greet2()\n",
    "    greet1(name)\n",
    "    greet4()\n",
    "    print('end the story')\n",
    "solve('Raaz')\n",
    "    "
   ]
  },
  {
   "cell_type": "code",
   "execution_count": 11,
   "id": "d40fefca",
   "metadata": {},
   "outputs": [
    {
     "name": "stdout",
     "output_type": "stream",
     "text": [
      "how much 3+5\n",
      "good morning python\n",
      "hello Raaz\n",
      "i dont know\n",
      "end the story\n"
     ]
    }
   ],
   "source": [
    "def greet1(name):\n",
    "    print('hello',name)\n",
    "def greet2(name2):\n",
    "    print('good morning',name2)\n",
    "def greet3():\n",
    "    print('how much 3+5')\n",
    "def greet4():\n",
    "    print('i dont know')\n",
    "def solve(name,name2):\n",
    "    greet3()\n",
    "    greet2(name2)\n",
    "    greet1(name)\n",
    "    greet4()\n",
    "    print('end the story')\n",
    "solve('Raaz','python')"
   ]
  },
  {
   "cell_type": "code",
   "execution_count": 13,
   "id": "10cd9aef",
   "metadata": {},
   "outputs": [
    {
     "name": "stdout",
     "output_type": "stream",
     "text": [
      "how much 3+5 8\n",
      "good morning python\n",
      "hello Raaz\n",
      "i dont know\n",
      "end the story\n"
     ]
    }
   ],
   "source": [
    "def greet1(name):\n",
    "    print('hello',name)\n",
    "def greet2(name2):\n",
    "    print('good morning',name2)\n",
    "def greet3(val):\n",
    "    print('how much 3+5',val)\n",
    "def greet4():\n",
    "    print('i dont know')\n",
    "def solve(val,name,name2,):\n",
    "    greet3(val)\n",
    "    greet2(name2)\n",
    "    greet1(name)\n",
    "    greet4()\n",
    "    print('end the story')\n",
    "solve(8,'Raaz','python',)"
   ]
  },
  {
   "cell_type": "code",
   "execution_count": 21,
   "id": "e8c61f16",
   "metadata": {},
   "outputs": [
    {
     "name": "stdout",
     "output_type": "stream",
     "text": [
      "enter number between 1 to 4 :5\n",
      "the call div\n"
     ]
    }
   ],
   "source": [
    "def add(a,b):\n",
    "    print('the add of {} and {} is ',a+b)\n",
    "def sub(a,b):\n",
    "    print('the sub of {} and {} is ',a-b)\n",
    "def mul(a,b):\n",
    "    print('the mul of {} and {} is ',a*b)\n",
    "def div(a,b):\n",
    "    print('the div of {} and {} is ',a/b)\n",
    "def calculator(a,b):\n",
    "    number=eval(input('enter number between 1 to 4 :'))\n",
    "    if number==1:\n",
    "        print('the call add')\n",
    "    elif number==2:\n",
    "        print(\"the call sub\")\n",
    "    elif number==3:\n",
    "        print(\"the call mul\")\n",
    "    else:\n",
    "        print(\"the call div\")\n",
    "calculator(30,40)"
   ]
  },
  {
   "cell_type": "code",
   "execution_count": null,
   "id": "7bc319af",
   "metadata": {},
   "outputs": [],
   "source": []
  },
  {
   "cell_type": "code",
   "execution_count": null,
   "id": "c65bf6cd",
   "metadata": {},
   "outputs": [],
   "source": []
  },
  {
   "cell_type": "code",
   "execution_count": null,
   "id": "871a3b75",
   "metadata": {},
   "outputs": [],
   "source": []
  },
  {
   "cell_type": "code",
   "execution_count": null,
   "id": "d90e9699",
   "metadata": {},
   "outputs": [],
   "source": []
  },
  {
   "cell_type": "code",
   "execution_count": null,
   "id": "ea3d4c51",
   "metadata": {},
   "outputs": [],
   "source": []
  },
  {
   "cell_type": "code",
   "execution_count": null,
   "id": "fc8ec646",
   "metadata": {},
   "outputs": [],
   "source": []
  },
  {
   "cell_type": "code",
   "execution_count": null,
   "id": "76441701",
   "metadata": {},
   "outputs": [],
   "source": []
  },
  {
   "cell_type": "code",
   "execution_count": null,
   "id": "511bf6c2",
   "metadata": {},
   "outputs": [],
   "source": []
  },
  {
   "cell_type": "code",
   "execution_count": null,
   "id": "13b1d6f9",
   "metadata": {},
   "outputs": [],
   "source": []
  },
  {
   "cell_type": "code",
   "execution_count": null,
   "id": "facf413c",
   "metadata": {},
   "outputs": [],
   "source": []
  }
 ],
 "metadata": {
  "kernelspec": {
   "display_name": "Python 3 (ipykernel)",
   "language": "python",
   "name": "python3"
  },
  "language_info": {
   "codemirror_mode": {
    "name": "ipython",
    "version": 3
   },
   "file_extension": ".py",
   "mimetype": "text/x-python",
   "name": "python",
   "nbconvert_exporter": "python",
   "pygments_lexer": "ipython3",
   "version": "3.11.5"
  }
 },
 "nbformat": 4,
 "nbformat_minor": 5
}
