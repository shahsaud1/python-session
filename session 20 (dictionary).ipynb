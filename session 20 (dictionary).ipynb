{
 "cells": [
  {
   "cell_type": "code",
   "execution_count": 1,
   "id": "7b1389a3",
   "metadata": {},
   "outputs": [
    {
     "data": {
      "text/plain": [
       "['__class__',\n",
       " '__class_getitem__',\n",
       " '__contains__',\n",
       " '__delattr__',\n",
       " '__delitem__',\n",
       " '__dir__',\n",
       " '__doc__',\n",
       " '__eq__',\n",
       " '__format__',\n",
       " '__ge__',\n",
       " '__getattribute__',\n",
       " '__getitem__',\n",
       " '__getstate__',\n",
       " '__gt__',\n",
       " '__hash__',\n",
       " '__init__',\n",
       " '__init_subclass__',\n",
       " '__ior__',\n",
       " '__iter__',\n",
       " '__le__',\n",
       " '__len__',\n",
       " '__lt__',\n",
       " '__ne__',\n",
       " '__new__',\n",
       " '__or__',\n",
       " '__reduce__',\n",
       " '__reduce_ex__',\n",
       " '__repr__',\n",
       " '__reversed__',\n",
       " '__ror__',\n",
       " '__setattr__',\n",
       " '__setitem__',\n",
       " '__sizeof__',\n",
       " '__str__',\n",
       " '__subclasshook__',\n",
       " 'clear',\n",
       " 'copy',\n",
       " 'fromkeys',\n",
       " 'get',\n",
       " 'items',\n",
       " 'keys',\n",
       " 'pop',\n",
       " 'popitem',\n",
       " 'setdefault',\n",
       " 'update',\n",
       " 'values']"
      ]
     },
     "execution_count": 1,
     "metadata": {},
     "output_type": "execute_result"
    }
   ],
   "source": [
    "dir({})"
   ]
  },
  {
   "cell_type": "code",
   "execution_count": 3,
   "id": "66fd3ba9",
   "metadata": {},
   "outputs": [
    {
     "data": {
      "text/plain": [
       "{'course_id1': 'ds',\n",
       " 'course_duration': 4,\n",
       " 'course_fee': 18000,\n",
       " 'institute': 'naresh_iT'}"
      ]
     },
     "execution_count": 3,
     "metadata": {},
     "output_type": "execute_result"
    }
   ],
   "source": [
    "dict1 = {'course_id1':'ds',\n",
    "         'course_duration':4,\n",
    "         'course_fee':18000,\n",
    "         'institute':'naresh_iT'}\n",
    "dict1"
   ]
  },
  {
   "cell_type": "markdown",
   "id": "40e15257",
   "metadata": {},
   "source": [
    "$items$-$keys$-$values$"
   ]
  },
  {
   "cell_type": "code",
   "execution_count": 6,
   "id": "14a9a3bb",
   "metadata": {},
   "outputs": [
    {
     "data": {
      "text/plain": [
       "dict_items([('course_id1', 'ds'), ('course_duration', 4), ('course_fee', 18000), ('institute', 'naresh_iT')])"
      ]
     },
     "execution_count": 6,
     "metadata": {},
     "output_type": "execute_result"
    }
   ],
   "source": [
    "dict1.items()"
   ]
  },
  {
   "cell_type": "code",
   "execution_count": 7,
   "id": "27b09c1b",
   "metadata": {},
   "outputs": [
    {
     "data": {
      "text/plain": [
       "dict_keys(['course_id1', 'course_duration', 'course_fee', 'institute'])"
      ]
     },
     "execution_count": 7,
     "metadata": {},
     "output_type": "execute_result"
    }
   ],
   "source": [
    "dict1.keys()"
   ]
  },
  {
   "cell_type": "code",
   "execution_count": 9,
   "id": "27bd8a89",
   "metadata": {},
   "outputs": [
    {
     "data": {
      "text/plain": [
       "dict_values(['ds', 4, 18000, 'naresh_iT'])"
      ]
     },
     "execution_count": 9,
     "metadata": {},
     "output_type": "execute_result"
    }
   ],
   "source": [
    "dict1.values()"
   ]
  },
  {
   "cell_type": "code",
   "execution_count": 10,
   "id": "aab3a6d0",
   "metadata": {},
   "outputs": [
    {
     "data": {
      "text/plain": [
       "dict"
      ]
     },
     "execution_count": 10,
     "metadata": {},
     "output_type": "execute_result"
    }
   ],
   "source": [
    "type(dict1)"
   ]
  },
  {
   "cell_type": "code",
   "execution_count": 11,
   "id": "f73b2990",
   "metadata": {},
   "outputs": [
    {
     "data": {
      "text/plain": [
       "dict_items"
      ]
     },
     "execution_count": 11,
     "metadata": {},
     "output_type": "execute_result"
    }
   ],
   "source": [
    "type(dict1.items())"
   ]
  },
  {
   "cell_type": "code",
   "execution_count": null,
   "id": "76722ccb",
   "metadata": {},
   "outputs": [],
   "source": [
    "# it is a new type : dict_items\n",
    "# it is not a list"
   ]
  },
  {
   "cell_type": "code",
   "execution_count": 12,
   "id": "63390caa",
   "metadata": {},
   "outputs": [
    {
     "name": "stdout",
     "output_type": "stream",
     "text": [
      "('course_id1', 'ds')\n",
      "('course_duration', 4)\n",
      "('course_fee', 18000)\n",
      "('institute', 'naresh_iT')\n"
     ]
    }
   ],
   "source": [
    "for i in dict1.items():\n",
    "    print(i)"
   ]
  },
  {
   "cell_type": "code",
   "execution_count": 14,
   "id": "31e9b4b2",
   "metadata": {},
   "outputs": [
    {
     "name": "stdout",
     "output_type": "stream",
     "text": [
      "course_id1 : ds\n",
      "course_duration : 4\n",
      "course_fee : 18000\n",
      "institute : naresh_iT\n"
     ]
    }
   ],
   "source": [
    "for i,j in dict1.items():\n",
    "    print(i,\":\",j)"
   ]
  },
  {
   "cell_type": "code",
   "execution_count": 15,
   "id": "7899cb59",
   "metadata": {},
   "outputs": [
    {
     "data": {
      "text/plain": [
       "[('course_id1', 'ds'),\n",
       " ('course_duration', 4),\n",
       " ('course_fee', 18000),\n",
       " ('institute', 'naresh_iT')]"
      ]
     },
     "execution_count": 15,
     "metadata": {},
     "output_type": "execute_result"
    }
   ],
   "source": [
    "list(dict1.items()) # type cast using list"
   ]
  },
  {
   "cell_type": "code",
   "execution_count": 16,
   "id": "0221fb3c",
   "metadata": {},
   "outputs": [
    {
     "data": {
      "text/plain": [
       "dict_keys(['course_id1', 'course_duration', 'course_fee', 'institute'])"
      ]
     },
     "execution_count": 16,
     "metadata": {},
     "output_type": "execute_result"
    }
   ],
   "source": [
    "dict1.keys()"
   ]
  },
  {
   "cell_type": "code",
   "execution_count": 17,
   "id": "91fe2083",
   "metadata": {},
   "outputs": [],
   "source": [
    "keys = dict1.keys()"
   ]
  },
  {
   "cell_type": "code",
   "execution_count": 18,
   "id": "a57b71d2",
   "metadata": {},
   "outputs": [
    {
     "data": {
      "text/plain": [
       "['course_id1', 'course_duration', 'course_fee', 'institute']"
      ]
     },
     "execution_count": 18,
     "metadata": {},
     "output_type": "execute_result"
    }
   ],
   "source": [
    "list(keys)"
   ]
  },
  {
   "cell_type": "code",
   "execution_count": 19,
   "id": "195d5147",
   "metadata": {},
   "outputs": [
    {
     "data": {
      "text/plain": [
       "dict_values(['ds', 4, 18000, 'naresh_iT'])"
      ]
     },
     "execution_count": 19,
     "metadata": {},
     "output_type": "execute_result"
    }
   ],
   "source": [
    "dict1.values()"
   ]
  },
  {
   "cell_type": "code",
   "execution_count": 21,
   "id": "4d6d6410",
   "metadata": {},
   "outputs": [],
   "source": [
    "values = dict1.values()"
   ]
  },
  {
   "cell_type": "code",
   "execution_count": 22,
   "id": "f997852b",
   "metadata": {},
   "outputs": [
    {
     "data": {
      "text/plain": [
       "['ds', 4, 18000, 'naresh_iT']"
      ]
     },
     "execution_count": 22,
     "metadata": {},
     "output_type": "execute_result"
    }
   ],
   "source": [
    "list(values)"
   ]
  },
  {
   "cell_type": "code",
   "execution_count": 26,
   "id": "e3d5c14b",
   "metadata": {},
   "outputs": [
    {
     "data": {
      "text/plain": [
       "{'a': 1, 'b': 2, 'c': 3}"
      ]
     },
     "execution_count": 26,
     "metadata": {},
     "output_type": "execute_result"
    }
   ],
   "source": [
    "keys = ['a','b','c']\n",
    "value = [1,2,3]\n",
    "dict1 = {}\n",
    "for i,j in zip(keys,value):\n",
    "    dict1[i]=j\n",
    "    \n",
    "dict1"
   ]
  },
  {
   "cell_type": "code",
   "execution_count": 27,
   "id": "33a791e9",
   "metadata": {},
   "outputs": [
    {
     "data": {
      "text/plain": [
       "{'course_id1': 'ds',\n",
       " 'course_duration': 4,\n",
       " 'course_fee': 18000,\n",
       " 'institute': 'naresh_iT'}"
      ]
     },
     "execution_count": 27,
     "metadata": {},
     "output_type": "execute_result"
    }
   ],
   "source": [
    "keys = ['course_id1', 'course_duration', 'course_fee', 'institute']\n",
    "value = ['ds', 4, 18000, 'naresh_iT']\n",
    "dict3= {}\n",
    "for i,j in zip(keys,value):\n",
    "    dict3[i]=j\n",
    "dict3"
   ]
  },
  {
   "cell_type": "markdown",
   "id": "9ba680ec",
   "metadata": {},
   "source": [
    "$dictionary-comprehension$"
   ]
  },
  {
   "cell_type": "code",
   "execution_count": 29,
   "id": "f086f893",
   "metadata": {},
   "outputs": [
    {
     "data": {
      "text/plain": [
       "{'course_id1': 'ds',\n",
       " 'course_duration': 4,\n",
       " 'course_fee': 18000,\n",
       " 'institute': 'naresh_iT'}"
      ]
     },
     "execution_count": 29,
     "metadata": {},
     "output_type": "execute_result"
    }
   ],
   "source": [
    "{i:j for i,j in zip(keys,value)}"
   ]
  },
  {
   "cell_type": "code",
   "execution_count": 31,
   "id": "3fdb14ad",
   "metadata": {},
   "outputs": [
    {
     "data": {
      "text/plain": [
       "{'course_id1': 'ds',\n",
       " 'course_duration': 4,\n",
       " 'course_fee': 18000,\n",
       " 'institute': 'naresh_iT'}"
      ]
     },
     "execution_count": 31,
     "metadata": {},
     "output_type": "execute_result"
    }
   ],
   "source": [
    "{i:j for i,j in zip(keys,value)}"
   ]
  },
  {
   "cell_type": "code",
   "execution_count": 32,
   "id": "549bcc7f",
   "metadata": {},
   "outputs": [
    {
     "data": {
      "text/plain": [
       "{'a': 1, 'b': 2, 'c': 3}"
      ]
     },
     "execution_count": 32,
     "metadata": {},
     "output_type": "execute_result"
    }
   ],
   "source": [
    "dict1"
   ]
  },
  {
   "cell_type": "markdown",
   "id": "62377cd5",
   "metadata": {},
   "source": [
    "$get$"
   ]
  },
  {
   "cell_type": "code",
   "execution_count": 38,
   "id": "54d7721c",
   "metadata": {},
   "outputs": [
    {
     "data": {
      "text/plain": [
       "1"
      ]
     },
     "execution_count": 38,
     "metadata": {},
     "output_type": "execute_result"
    }
   ],
   "source": [
    "dict1.get('a')\n"
   ]
  },
  {
   "cell_type": "code",
   "execution_count": 39,
   "id": "7607a8a5",
   "metadata": {},
   "outputs": [
    {
     "data": {
      "text/plain": [
       "1"
      ]
     },
     "execution_count": 39,
     "metadata": {},
     "output_type": "execute_result"
    }
   ],
   "source": [
    "dict1['a']"
   ]
  },
  {
   "cell_type": "code",
   "execution_count": 44,
   "id": "f713f66d",
   "metadata": {},
   "outputs": [
    {
     "data": {
      "text/plain": [
       "3"
      ]
     },
     "execution_count": 44,
     "metadata": {},
     "output_type": "execute_result"
    }
   ],
   "source": [
    "dict1.get('c')"
   ]
  },
  {
   "cell_type": "code",
   "execution_count": 41,
   "id": "d32eccb3",
   "metadata": {},
   "outputs": [
    {
     "ename": "KeyError",
     "evalue": "3",
     "output_type": "error",
     "traceback": [
      "\u001b[1;31m---------------------------------------------------------------------------\u001b[0m",
      "\u001b[1;31mKeyError\u001b[0m                                  Traceback (most recent call last)",
      "Cell \u001b[1;32mIn[41], line 1\u001b[0m\n\u001b[1;32m----> 1\u001b[0m dict1[\u001b[38;5;241m3\u001b[39m]\n",
      "\u001b[1;31mKeyError\u001b[0m: 3"
     ]
    }
   ],
   "source": [
    "dict1[3]"
   ]
  },
  {
   "cell_type": "markdown",
   "id": "21a7df90",
   "metadata": {},
   "source": [
    "$clear$-$copy$"
   ]
  },
  {
   "cell_type": "code",
   "execution_count": 47,
   "id": "fe0e5baf",
   "metadata": {},
   "outputs": [
    {
     "name": "stdout",
     "output_type": "stream",
     "text": [
      "[]\n",
      "[1, 2, 3]\n"
     ]
    }
   ],
   "source": [
    "l1=[1,2,3]\n",
    "l2=l1.copy()\n",
    "l1.clear()\n",
    "print(l1)\n",
    "print(l2)"
   ]
  },
  {
   "cell_type": "code",
   "execution_count": 50,
   "id": "faeda09f",
   "metadata": {},
   "outputs": [
    {
     "name": "stdout",
     "output_type": "stream",
     "text": [
      "l1: set()\n",
      "l2: {1, 2, 3}\n"
     ]
    }
   ],
   "source": [
    "l1={1,2,3}\n",
    "l2=l1.copy()\n",
    "l1.clear()\n",
    "print('l1:',l1)\n",
    "print('l2:',l2)"
   ]
  },
  {
   "cell_type": "markdown",
   "id": "4fa21aa7",
   "metadata": {},
   "source": [
    "$pop$-$popitem$-$del$"
   ]
  },
  {
   "cell_type": "code",
   "execution_count": 52,
   "id": "12407522",
   "metadata": {},
   "outputs": [
    {
     "data": {
      "text/plain": [
       "1"
      ]
     },
     "execution_count": 52,
     "metadata": {},
     "output_type": "execute_result"
    }
   ],
   "source": [
    "l1={1,2,3}\n",
    "l1.pop()"
   ]
  },
  {
   "cell_type": "code",
   "execution_count": 66,
   "id": "d4fbf5fb",
   "metadata": {},
   "outputs": [
    {
     "data": {
      "text/plain": [
       "('institute', 'naresh_iT')"
      ]
     },
     "execution_count": 66,
     "metadata": {},
     "output_type": "execute_result"
    }
   ],
   "source": [
    "dict1 = {'course_id1':'ds',\n",
    "         'course_duration':4,\n",
    "         'course_fee':18000,\n",
    "         'institute':'naresh_iT'}\n",
    "dict1.popitem() \n",
    "\n",
    "# popitem is not taking any argument\n",
    "# it will return output\n",
    "# which pair it is removing : last in first out"
   ]
  },
  {
   "cell_type": "code",
   "execution_count": 67,
   "id": "6222c9bc",
   "metadata": {},
   "outputs": [
    {
     "data": {
      "text/plain": [
       "18000"
      ]
     },
     "execution_count": 67,
     "metadata": {},
     "output_type": "execute_result"
    }
   ],
   "source": [
    "dict1.pop('course_fee')\n",
    "# pop method will take a one argument\n",
    "# that argument is key , which you want to remove\n",
    "# and return the corresponding value also"
   ]
  },
  {
   "cell_type": "code",
   "execution_count": 69,
   "id": "f0049ffb",
   "metadata": {},
   "outputs": [
    {
     "data": {
      "text/plain": [
       "{'course_id1': 'ds', 'course_fee': 18000, 'institute': 'naresh_iT'}"
      ]
     },
     "execution_count": 69,
     "metadata": {},
     "output_type": "execute_result"
    }
   ],
   "source": [
    "dict1 = {'course_id1':'ds',\n",
    "         'course_duration':4,\n",
    "         'course_fee':18000,\n",
    "         'institute':'naresh_iT'}\n",
    "del dict1['course_duration']\n",
    "dict1"
   ]
  },
  {
   "cell_type": "markdown",
   "id": "9751771e",
   "metadata": {},
   "source": [
    "$setasdefault$"
   ]
  },
  {
   "cell_type": "code",
   "execution_count": 70,
   "id": "c6824f6d",
   "metadata": {},
   "outputs": [
    {
     "data": {
      "text/plain": [
       "{'course_id1': 'ds',\n",
       " 'course_duration': 4,\n",
       " 'course_fee': 18000,\n",
       " 'institute': 'naresh_iT',\n",
       " 'package': '10 lakhs'}"
      ]
     },
     "execution_count": 70,
     "metadata": {},
     "output_type": "execute_result"
    }
   ],
   "source": [
    "dict1 = {'course_id1':'ds',\n",
    "         'course_duration':4,\n",
    "         'course_fee':18000,\n",
    "         'institute':'naresh_iT'}\n",
    "dict1['package']= '10 lakhs'\n",
    "dict1"
   ]
  },
  {
   "cell_type": "code",
   "execution_count": 73,
   "id": "a6a259ca",
   "metadata": {},
   "outputs": [
    {
     "data": {
      "text/plain": [
       "{'course_id1': 'ds',\n",
       " 'course_duration': 4,\n",
       " 'course_fee': 18000,\n",
       " 'institute': 'naresh_iT',\n",
       " 'package': None,\n",
       " 'certification': 'valid'}"
      ]
     },
     "execution_count": 73,
     "metadata": {},
     "output_type": "execute_result"
    }
   ],
   "source": [
    "dict1 = {'course_id1':'ds',\n",
    "         'course_duration':4,\n",
    "         'course_fee':18000,\n",
    "         'institute':'naresh_iT'}\n",
    "dict1.setdefault('package')                 # we are not providing value = none\n",
    "dict1.setdefault('certification','valid')   # both key and value\n",
    "dict1"
   ]
  },
  {
   "cell_type": "markdown",
   "id": "3a7e505e",
   "metadata": {},
   "source": [
    "$fromkeys$"
   ]
  },
  {
   "cell_type": "code",
   "execution_count": 77,
   "id": "0c9e0aab",
   "metadata": {},
   "outputs": [
    {
     "data": {
      "text/plain": [
       "{'p': 10, 'y': 10, 't': 10, 'h': 10, 'o': 10, 'n': 10}"
      ]
     },
     "execution_count": 77,
     "metadata": {},
     "output_type": "execute_result"
    }
   ],
   "source": [
    "dict1={}\n",
    "dict1.fromkeys('python',10)"
   ]
  },
  {
   "cell_type": "code",
   "execution_count": 78,
   "id": "50993cdd",
   "metadata": {},
   "outputs": [
    {
     "data": {
      "text/plain": [
       "{'a': 'nareshiT', 'b': 'nareshiT', 'c': 'nareshiT'}"
      ]
     },
     "execution_count": 78,
     "metadata": {},
     "output_type": "execute_result"
    }
   ],
   "source": [
    "dict1={}\n",
    "employee=['a','b','c']\n",
    "dict1.fromkeys(employee,'nareshiT')"
   ]
  },
  {
   "cell_type": "code",
   "execution_count": null,
   "id": "cc043cbd",
   "metadata": {},
   "outputs": [],
   "source": []
  }
 ],
 "metadata": {
  "kernelspec": {
   "display_name": "Python 3 (ipykernel)",
   "language": "python",
   "name": "python3"
  },
  "language_info": {
   "codemirror_mode": {
    "name": "ipython",
    "version": 3
   },
   "file_extension": ".py",
   "mimetype": "text/x-python",
   "name": "python",
   "nbconvert_exporter": "python",
   "pygments_lexer": "ipython3",
   "version": "3.11.5"
  }
 },
 "nbformat": 4,
 "nbformat_minor": 5
}
