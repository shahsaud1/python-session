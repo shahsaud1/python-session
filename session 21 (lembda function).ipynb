{
 "cells": [
  {
   "cell_type": "code",
   "execution_count": 1,
   "id": "48b7a0a5",
   "metadata": {},
   "outputs": [
    {
     "data": {
      "text/plain": [
       "20"
      ]
     },
     "execution_count": 1,
     "metadata": {},
     "output_type": "execute_result"
    }
   ],
   "source": [
    "#normal function \n",
    "def add(x):\n",
    "    return(x+10)\n",
    "add(10)"
   ]
  },
  {
   "cell_type": "code",
   "execution_count": null,
   "id": "73db3a9b",
   "metadata": {},
   "outputs": [],
   "source": [
    "# how many argument are there?\n",
    "# what you are returning?\n",
    "<function_name>= lambda <argument_name>:<return_value>"
   ]
  },
  {
   "cell_type": "markdown",
   "id": "3f5de20c",
   "metadata": {},
   "source": [
    "**lambda function in one argument**"
   ]
  },
  {
   "cell_type": "code",
   "execution_count": 5,
   "id": "b8e90bb7",
   "metadata": {},
   "outputs": [],
   "source": [
    "\n",
    "add=lambda x:x+10"
   ]
  },
  {
   "cell_type": "code",
   "execution_count": 6,
   "id": "afae667a",
   "metadata": {},
   "outputs": [
    {
     "data": {
      "text/plain": [
       "20"
      ]
     },
     "execution_count": 6,
     "metadata": {},
     "output_type": "execute_result"
    }
   ],
   "source": [
    "add(10)"
   ]
  },
  {
   "cell_type": "code",
   "execution_count": 12,
   "id": "7f2961f8",
   "metadata": {},
   "outputs": [
    {
     "data": {
      "text/plain": [
       "25"
      ]
     },
     "execution_count": 12,
     "metadata": {},
     "output_type": "execute_result"
    }
   ],
   "source": [
    "def mul(num):\n",
    "    return(num*num)\n",
    "mul(5)"
   ]
  },
  {
   "cell_type": "code",
   "execution_count": 10,
   "id": "444ed425",
   "metadata": {},
   "outputs": [],
   "source": [
    "mul=lambda num:num*num"
   ]
  },
  {
   "cell_type": "code",
   "execution_count": 11,
   "id": "2d39c7f0",
   "metadata": {},
   "outputs": [
    {
     "data": {
      "text/plain": [
       "25"
      ]
     },
     "execution_count": 11,
     "metadata": {},
     "output_type": "execute_result"
    }
   ],
   "source": [
    "mul(5)"
   ]
  },
  {
   "cell_type": "code",
   "execution_count": 13,
   "id": "08890fc6",
   "metadata": {},
   "outputs": [],
   "source": [
    "cube= lambda val:val*val*val\n"
   ]
  },
  {
   "cell_type": "code",
   "execution_count": 14,
   "id": "8efdd936",
   "metadata": {},
   "outputs": [
    {
     "data": {
      "text/plain": [
       "27"
      ]
     },
     "execution_count": 14,
     "metadata": {},
     "output_type": "execute_result"
    }
   ],
   "source": [
    "cube(3)"
   ]
  },
  {
   "cell_type": "markdown",
   "id": "a53dc5ec",
   "metadata": {},
   "source": [
    "**lambda function with two argument**"
   ]
  },
  {
   "cell_type": "code",
   "execution_count": 15,
   "id": "061841c3",
   "metadata": {},
   "outputs": [
    {
     "data": {
      "text/plain": [
       "30"
      ]
     },
     "execution_count": 15,
     "metadata": {},
     "output_type": "execute_result"
    }
   ],
   "source": [
    "sum1=lambda a,b:a+b\n",
    "sum1(10,20)"
   ]
  },
  {
   "cell_type": "code",
   "execution_count": 19,
   "id": "91093680",
   "metadata": {},
   "outputs": [
    {
     "data": {
      "text/plain": [
       "20.0"
      ]
     },
     "execution_count": 19,
     "metadata": {},
     "output_type": "execute_result"
    }
   ],
   "source": [
    "avg=lambda a,b,c:(a+b+c)/3\n",
    "avg(10,20,30)"
   ]
  },
  {
   "cell_type": "code",
   "execution_count": 20,
   "id": "ac558db1",
   "metadata": {},
   "outputs": [
    {
     "data": {
      "text/plain": [
       "43.333333333333336"
      ]
     },
     "execution_count": 20,
     "metadata": {},
     "output_type": "execute_result"
    }
   ],
   "source": [
    "avg=lambda a,b,c=100:(a+b+c)/3\n",
    "avg(10,20)"
   ]
  },
  {
   "cell_type": "code",
   "execution_count": 22,
   "id": "9df574ef",
   "metadata": {},
   "outputs": [
    {
     "data": {
      "text/plain": [
       "43.33"
      ]
     },
     "execution_count": 22,
     "metadata": {},
     "output_type": "execute_result"
    }
   ],
   "source": [
    "avg=lambda a,b,c=100: round((a+b+c)/3,2)\n",
    "avg(10,20)"
   ]
  },
  {
   "cell_type": "markdown",
   "id": "06316bd5",
   "metadata": {},
   "source": [
    "**lambda function with if else**"
   ]
  },
  {
   "cell_type": "code",
   "execution_count": null,
   "id": "c5de8923",
   "metadata": {},
   "outputs": [],
   "source": [
    "##<function_name>=lambda <arg1,arg2>:<if output><if condition> else <else_output>"
   ]
  },
  {
   "cell_type": "code",
   "execution_count": 27,
   "id": "aacada98",
   "metadata": {},
   "outputs": [
    {
     "data": {
      "text/plain": [
       "100"
      ]
     },
     "execution_count": 27,
     "metadata": {},
     "output_type": "execute_result"
    }
   ],
   "source": [
    "greater=lambda num1,num2: num1 if num1>num2 else num2\n",
    "greater(50,100)"
   ]
  },
  {
   "cell_type": "markdown",
   "id": "a89c7c62",
   "metadata": {},
   "source": [
    "**lembda function with list**"
   ]
  },
  {
   "cell_type": "code",
   "execution_count": 31,
   "id": "9e669713",
   "metadata": {},
   "outputs": [
    {
     "data": {
      "text/plain": [
       "['Hyderab', 'Mumbai', 'Bengluru']"
      ]
     },
     "execution_count": 31,
     "metadata": {},
     "output_type": "execute_result"
    }
   ],
   "source": [
    "list1=['hyderab','mumbai','bengluru'] \n",
    "out = []\n",
    "for i in list1:\n",
    "    out.append(i.capitalize())\n",
    "out"
   ]
  },
  {
   "cell_type": "code",
   "execution_count": 34,
   "id": "014b62db",
   "metadata": {},
   "outputs": [
    {
     "data": {
      "text/plain": [
       "['Hyderab', 'Mumbai', 'Bengluru']"
      ]
     },
     "execution_count": 34,
     "metadata": {},
     "output_type": "execute_result"
    }
   ],
   "source": [
    "list1=['hyderab','mumbai','bengluru'] \n",
    "output =[i.capitalize() for i in list1] \n",
    "output"
   ]
  },
  {
   "cell_type": "markdown",
   "id": "6d7e766e",
   "metadata": {},
   "source": [
    "#### method 3 ####### with lembda\n"
   ]
  },
  {
   "cell_type": "code",
   "execution_count": 49,
   "id": "bd753a22",
   "metadata": {},
   "outputs": [
    {
     "data": {
      "text/plain": [
       "['Hyderab', 'Mumbai', 'Bengluru']"
      ]
     },
     "execution_count": 49,
     "metadata": {},
     "output_type": "execute_result"
    }
   ],
   "source": [
    "list1=['hyderab','mumbai','bengluru']\n",
    "list(map(lambda i:i.capitalize(),list1))\n",
    "# step1: create a lambda function: lambda i:i.capitaliseze()\n",
    "# step2: add your iterator\n",
    "# step3: lambda i:i.capitaliseze(),list1\n",
    "#         map(step1,step2)\n",
    "#         map(lambda i:i.capitalize(),list1)\n",
    "# step4: you need to save the result again in a list or tuple\n",
    "#        list(map(step1,step2))\n",
    "#        list(map(lambda i:i.capitalize(),list1))"
   ]
  },
  {
   "cell_type": "code",
   "execution_count": null,
   "id": "e0e9545e",
   "metadata": {},
   "outputs": [],
   "source": [
    "# what is meant by iterator\n",
    "# which data types you can iterate\n",
    "# which means which data types you can print by using for loop?\n",
    "string = 'python'\n",
    "list1 = [1,2,3,4]\n",
    "tuple1 =(1,2,3,4)"
   ]
  },
  {
   "cell_type": "code",
   "execution_count": 42,
   "id": "5640f9dd",
   "metadata": {},
   "outputs": [
    {
     "name": "stdout",
     "output_type": "stream",
     "text": [
      "n\n",
      "o\n",
      "h\n",
      "t\n",
      "y\n",
      "p\n"
     ]
    }
   ],
   "source": [
    "num = reversed('python')\n",
    "for i in num:\n",
    "    print(i)"
   ]
  },
  {
   "cell_type": "code",
   "execution_count": 50,
   "id": "1426ba23",
   "metadata": {},
   "outputs": [
    {
     "data": {
      "text/plain": [
       "[1, 4, 9, 16]"
      ]
     },
     "execution_count": 50,
     "metadata": {},
     "output_type": "execute_result"
    }
   ],
   "source": [
    "list1 = [1,2,3,4]\n",
    "list(map(lambda i:i*i,list1))    ## vvi for interview"
   ]
  },
  {
   "cell_type": "code",
   "execution_count": 56,
   "id": "b483e870",
   "metadata": {},
   "outputs": [
    {
     "data": {
      "text/plain": [
       "[False, True, True, True]"
      ]
     },
     "execution_count": 56,
     "metadata": {},
     "output_type": "execute_result"
    }
   ],
   "source": [
    "list1 =['hyd','biryani','buvaneshwer','rasagulla']\n",
    "list(map(lambda i:len(i)>3,list1))\n"
   ]
  },
  {
   "cell_type": "markdown",
   "id": "ad7d0007",
   "metadata": {},
   "source": [
    "$filter$"
   ]
  },
  {
   "cell_type": "code",
   "execution_count": 55,
   "id": "938c1445",
   "metadata": {},
   "outputs": [
    {
     "data": {
      "text/plain": [
       "['biryani', 'buvaneshwer', 'rasagulla']"
      ]
     },
     "execution_count": 55,
     "metadata": {},
     "output_type": "execute_result"
    }
   ],
   "source": [
    "list1 =['hyd','biryani','buvaneshwer','rasagulla']\n",
    "list(filter(lambda i:len(i)>3,list1))              # if we have condition we use filter"
   ]
  },
  {
   "cell_type": "code",
   "execution_count": null,
   "id": "f51e14df",
   "metadata": {},
   "outputs": [],
   "source": [
    "#step 1\n",
    "list(map(lambda i:len(i)>3,list1))\n",
    "# step-2\n",
    "# apply filter \n",
    "list(filter(lambda i:len(i)>3,list1))"
   ]
  },
  {
   "cell_type": "code",
   "execution_count": 58,
   "id": "f0f3e837",
   "metadata": {},
   "outputs": [
    {
     "data": {
      "text/plain": [
       "['biry#ni', 'buv#neshwer', 'ras#gulla']"
      ]
     },
     "execution_count": 58,
     "metadata": {},
     "output_type": "execute_result"
    }
   ],
   "source": [
    "list1 =['hyd','biry#ni','buv#neshwer','ras#gulla']\n",
    "list(filter(lambda i:len(i)>3,list1)) "
   ]
  },
  {
   "cell_type": "code",
   "execution_count": 74,
   "id": "f167e8db",
   "metadata": {},
   "outputs": [
    {
     "data": {
      "text/plain": [
       "['biry#ni', 'buv#neshwer', 'r#sagulla']"
      ]
     },
     "execution_count": 74,
     "metadata": {},
     "output_type": "execute_result"
    }
   ],
   "source": [
    "list1 =['hyd','biry#ni','buv#neshwer','r#sagulla']\n",
    "list(filter(lambda i:'#' in i,list1))"
   ]
  },
  {
   "cell_type": "code",
   "execution_count": 78,
   "id": "c16bd51f",
   "metadata": {},
   "outputs": [
    {
     "data": {
      "text/plain": [
       "[{1: 'odd'}, {2: 'even'}, {3: 'odd'}, {4: 'even'}, {5: 'odd'}, {6: 'even'}]"
      ]
     },
     "execution_count": 78,
     "metadata": {},
     "output_type": "execute_result"
    }
   ],
   "source": [
    "list1 = [1,2,3,4,5,6]\n",
    "list(map(lambda i:{i:'even'} if i%2==0 else {i:'odd'},list1))\n"
   ]
  },
  {
   "cell_type": "code",
   "execution_count": null,
   "id": "dd5d1e08",
   "metadata": {},
   "outputs": [],
   "source": []
  }
 ],
 "metadata": {
  "kernelspec": {
   "display_name": "Python 3 (ipykernel)",
   "language": "python",
   "name": "python3"
  },
  "language_info": {
   "codemirror_mode": {
    "name": "ipython",
    "version": 3
   },
   "file_extension": ".py",
   "mimetype": "text/x-python",
   "name": "python",
   "nbconvert_exporter": "python",
   "pygments_lexer": "ipython3",
   "version": "3.11.5"
  }
 },
 "nbformat": 4,
 "nbformat_minor": 5
}
