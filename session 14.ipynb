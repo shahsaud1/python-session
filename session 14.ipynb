{
 "cells": [
  {
   "cell_type": "markdown",
   "id": "687a8e52",
   "metadata": {},
   "source": [
    "## ord()"
   ]
  },
  {
   "cell_type": "code",
   "execution_count": 1,
   "id": "e4cfb455",
   "metadata": {},
   "outputs": [],
   "source": [
    " 'a'  ## ascii\n",
    "    \n",
    "A=65\n",
    "a=97"
   ]
  },
  {
   "cell_type": "code",
   "execution_count": 2,
   "id": "8a068ec5",
   "metadata": {},
   "outputs": [
    {
     "data": {
      "text/plain": [
       "97"
      ]
     },
     "execution_count": 2,
     "metadata": {},
     "output_type": "execute_result"
    }
   ],
   "source": [
    "ord('a')"
   ]
  },
  {
   "cell_type": "code",
   "execution_count": 3,
   "id": "ed1fa917",
   "metadata": {},
   "outputs": [
    {
     "data": {
      "text/plain": [
       "65"
      ]
     },
     "execution_count": 3,
     "metadata": {},
     "output_type": "execute_result"
    }
   ],
   "source": [
    "ord('A')"
   ]
  },
  {
   "cell_type": "code",
   "execution_count": 4,
   "id": "c84c9999",
   "metadata": {},
   "outputs": [
    {
     "data": {
      "text/plain": [
       "False"
      ]
     },
     "execution_count": 4,
     "metadata": {},
     "output_type": "execute_result"
    }
   ],
   "source": [
    "'Apple'>'apple'"
   ]
  },
  {
   "cell_type": "code",
   "execution_count": 5,
   "id": "17d93089",
   "metadata": {},
   "outputs": [
    {
     "data": {
      "text/plain": [
       "False"
      ]
     },
     "execution_count": 5,
     "metadata": {},
     "output_type": "execute_result"
    }
   ],
   "source": [
    "'Apple'>'Bat'"
   ]
  },
  {
   "cell_type": "code",
   "execution_count": 6,
   "id": "fd213ed7",
   "metadata": {},
   "outputs": [
    {
     "data": {
      "text/plain": [
       "66"
      ]
     },
     "execution_count": 6,
     "metadata": {},
     "output_type": "execute_result"
    }
   ],
   "source": [
    "ord('B')"
   ]
  },
  {
   "cell_type": "code",
   "execution_count": 7,
   "id": "df3a5522",
   "metadata": {},
   "outputs": [
    {
     "data": {
      "text/plain": [
       "98"
      ]
     },
     "execution_count": 7,
     "metadata": {},
     "output_type": "execute_result"
    }
   ],
   "source": [
    "ord('b')"
   ]
  },
  {
   "cell_type": "code",
   "execution_count": 8,
   "id": "0044f370",
   "metadata": {},
   "outputs": [
    {
     "data": {
      "text/plain": [
       "101"
      ]
     },
     "execution_count": 8,
     "metadata": {},
     "output_type": "execute_result"
    }
   ],
   "source": [
    "ord('e')"
   ]
  },
  {
   "cell_type": "code",
   "execution_count": 9,
   "id": "75062c27",
   "metadata": {},
   "outputs": [
    {
     "data": {
      "text/plain": [
       "False"
      ]
     },
     "execution_count": 9,
     "metadata": {},
     "output_type": "execute_result"
    }
   ],
   "source": [
    "'alt'>'alt'"
   ]
  },
  {
   "cell_type": "code",
   "execution_count": 10,
   "id": "7112754a",
   "metadata": {},
   "outputs": [
    {
     "data": {
      "text/plain": [
       "103"
      ]
     },
     "execution_count": 10,
     "metadata": {},
     "output_type": "execute_result"
    }
   ],
   "source": [
    "ord('g')"
   ]
  },
  {
   "cell_type": "code",
   "execution_count": null,
   "id": "a272f81c",
   "metadata": {},
   "outputs": [],
   "source": []
  },
  {
   "cell_type": "markdown",
   "id": "e0130830",
   "metadata": {},
   "source": [
    "## chr()"
   ]
  },
  {
   "cell_type": "code",
   "execution_count": 11,
   "id": "d566c29d",
   "metadata": {},
   "outputs": [
    {
     "data": {
      "text/plain": [
       "('A', 65)"
      ]
     },
     "execution_count": 11,
     "metadata": {},
     "output_type": "execute_result"
    }
   ],
   "source": [
    "chr(65),ord('A')"
   ]
  },
  {
   "cell_type": "code",
   "execution_count": 12,
   "id": "913e523c",
   "metadata": {},
   "outputs": [
    {
     "ename": "TypeError",
     "evalue": "chr() takes exactly one argument (0 given)",
     "output_type": "error",
     "traceback": [
      "\u001b[1;31m---------------------------------------------------------------------------\u001b[0m",
      "\u001b[1;31mTypeError\u001b[0m                                 Traceback (most recent call last)",
      "Cell \u001b[1;32mIn[12], line 1\u001b[0m\n\u001b[1;32m----> 1\u001b[0m \u001b[38;5;28mchr\u001b[39m()\n",
      "\u001b[1;31mTypeError\u001b[0m: chr() takes exactly one argument (0 given)"
     ]
    }
   ],
   "source": [
    "chr()"
   ]
  },
  {
   "cell_type": "code",
   "execution_count": 36,
   "id": "4afb6adb",
   "metadata": {},
   "outputs": [
    {
     "name": "stdout",
     "output_type": "stream",
     "text": [
      "20 \u0014\n",
      "21 \u0015\n",
      "22 \u0016\n",
      "23 \u0017\n",
      "24 \u0018\n",
      "25 \u0019\n",
      "26 \u001a\n",
      "27 \u001b\n",
      "28 \u001c",
      "\n",
      "29 \u001d",
      "\n",
      "30 \u001e",
      "\n",
      "31 \u001f\n",
      "32  \n",
      "33 !\n",
      "34 \"\n",
      "35 #\n",
      "36 $\n",
      "37 %\n",
      "38 &\n",
      "39 '\n",
      "40 (\n",
      "41 )\n",
      "42 *\n",
      "43 +\n",
      "44 ,\n",
      "45 -\n",
      "46 .\n",
      "47 /\n",
      "48 0\n",
      "49 1\n",
      "50 2\n",
      "51 3\n",
      "52 4\n",
      "53 5\n",
      "54 6\n",
      "55 7\n",
      "56 8\n",
      "57 9\n",
      "58 :\n",
      "59 ;\n",
      "60 <\n",
      "61 =\n",
      "62 >\n",
      "63 ?\n",
      "64 @\n",
      "65 A\n",
      "66 B\n",
      "67 C\n",
      "68 D\n",
      "69 E\n",
      "70 F\n",
      "71 G\n",
      "72 H\n",
      "73 I\n",
      "74 J\n",
      "75 K\n",
      "76 L\n",
      "77 M\n",
      "78 N\n",
      "79 O\n",
      "80 P\n",
      "81 Q\n",
      "82 R\n",
      "83 S\n",
      "84 T\n",
      "85 U\n",
      "86 V\n",
      "87 W\n",
      "88 X\n",
      "89 Y\n",
      "90 Z\n",
      "91 [\n",
      "92 \\\n",
      "93 ]\n",
      "94 ^\n",
      "95 _\n",
      "96 `\n",
      "97 a\n",
      "98 b\n",
      "99 c\n",
      "100 d\n",
      "101 e\n",
      "102 f\n",
      "103 g\n",
      "104 h\n",
      "105 i\n",
      "106 j\n",
      "107 k\n",
      "108 l\n",
      "109 m\n",
      "110 n\n",
      "111 o\n",
      "112 p\n",
      "113 q\n",
      "114 r\n",
      "115 s\n",
      "116 t\n",
      "117 u\n",
      "118 v\n",
      "119 w\n",
      "120 x\n",
      "121 y\n",
      "122 z\n",
      "123 {\n",
      "124 |\n",
      "125 }\n",
      "126 ~\n",
      "127 \n",
      "128 \n",
      "129 \n",
      "130 \n",
      "131 \n",
      "132 \n",
      "133 ",
      "\n",
      "134 \n",
      "135 \n",
      "136 \n",
      "137 \n",
      "138 \n",
      "139 \n",
      "140 \n",
      "141 \n",
      "142 \n",
      "143 \n",
      "144 \n",
      "145 \n",
      "146 \n",
      "147 \n",
      "148 \n",
      "149 \n",
      "150 \n",
      "151 \n",
      "152 \n",
      "153 \n",
      "154 \n",
      "155 \n",
      "156 \n",
      "157 \n",
      "158 \n",
      "159 \n",
      "160  \n",
      "161 ¡\n",
      "162 ¢\n",
      "163 £\n",
      "164 ¤\n",
      "165 ¥\n",
      "166 ¦\n",
      "167 §\n",
      "168 ¨\n",
      "169 ©\n",
      "170 ª\n",
      "171 «\n",
      "172 ¬\n",
      "173 ­\n",
      "174 ®\n",
      "175 ¯\n",
      "176 °\n",
      "177 ±\n",
      "178 ²\n",
      "179 ³\n",
      "180 ´\n",
      "181 µ\n",
      "182 ¶\n",
      "183 ·\n",
      "184 ¸\n",
      "185 ¹\n",
      "186 º\n",
      "187 »\n",
      "188 ¼\n",
      "189 ½\n",
      "190 ¾\n",
      "191 ¿\n",
      "192 À\n",
      "193 Á\n",
      "194 Â\n",
      "195 Ã\n",
      "196 Ä\n",
      "197 Å\n",
      "198 Æ\n",
      "199 Ç\n"
     ]
    }
   ],
   "source": [
    "for i in range(20,200):\n",
    "    print(i,chr(i))"
   ]
  },
  {
   "cell_type": "code",
   "execution_count": 37,
   "id": "d35e8e5a",
   "metadata": {},
   "outputs": [
    {
     "name": "stdout",
     "output_type": "stream",
     "text": [
      "A---- 65\n",
      "B---- 66\n",
      "C---- 67\n",
      "D---- 68\n",
      "E---- 69\n",
      "F---- 70\n",
      "G---- 71\n",
      "H---- 72\n",
      "I---- 73\n",
      "J---- 74\n",
      "K---- 75\n",
      "L---- 76\n",
      "M---- 77\n",
      "N---- 78\n",
      "O---- 79\n",
      "P---- 80\n",
      "Q---- 81\n",
      "R---- 82\n",
      "S---- 83\n",
      "T---- 84\n",
      "U---- 85\n",
      "V---- 86\n",
      "W---- 87\n",
      "X---- 88\n",
      "Y---- 89\n",
      "Z---- 90\n"
     ]
    }
   ],
   "source": [
    "for i in('ABCDEFGHIJKLMNOPQRSTUVWXYZ'):\n",
    "    print(\"{}----\".format(i),ord(i))"
   ]
  },
  {
   "cell_type": "code",
   "execution_count": 38,
   "id": "fd3ee476",
   "metadata": {},
   "outputs": [
    {
     "name": "stdout",
     "output_type": "stream",
     "text": [
      "65--- A\n",
      "66--- B\n",
      "67--- C\n",
      "68--- D\n",
      "69--- E\n",
      "70--- F\n",
      "71--- G\n",
      "72--- H\n",
      "73--- I\n",
      "74--- J\n",
      "75--- K\n",
      "76--- L\n",
      "77--- M\n",
      "78--- N\n",
      "79--- O\n",
      "80--- P\n",
      "81--- Q\n",
      "82--- R\n",
      "83--- S\n",
      "84--- T\n",
      "85--- U\n",
      "86--- V\n",
      "87--- W\n",
      "88--- X\n",
      "89--- Y\n",
      "90--- Z\n",
      "91--- [\n",
      "92--- \\\n",
      "93--- ]\n",
      "94--- ^\n",
      "95--- _\n",
      "96--- `\n"
     ]
    }
   ],
   "source": [
    "for i in range(65,97):\n",
    "    print('{}---'.format(i),chr(i))"
   ]
  },
  {
   "cell_type": "markdown",
   "id": "440442bf",
   "metadata": {},
   "source": [
    "**package-name**:string"
   ]
  },
  {
   "cell_type": "code",
   "execution_count": 41,
   "id": "3faf3344",
   "metadata": {},
   "outputs": [],
   "source": [
    "import string"
   ]
  },
  {
   "cell_type": "code",
   "execution_count": 42,
   "id": "1a4c6edc",
   "metadata": {},
   "outputs": [
    {
     "name": "stdout",
     "output_type": "stream",
     "text": [
      "a --- 97\n",
      "b --- 98\n",
      "c --- 99\n",
      "d --- 100\n",
      "e --- 101\n",
      "f --- 102\n",
      "g --- 103\n",
      "h --- 104\n",
      "i --- 105\n",
      "j --- 106\n",
      "k --- 107\n",
      "l --- 108\n",
      "m --- 109\n",
      "n --- 110\n",
      "o --- 111\n",
      "p --- 112\n",
      "q --- 113\n",
      "r --- 114\n",
      "s --- 115\n",
      "t --- 116\n",
      "u --- 117\n",
      "v --- 118\n",
      "w --- 119\n",
      "x --- 120\n",
      "y --- 121\n",
      "z --- 122\n"
     ]
    }
   ],
   "source": [
    "for i in string.ascii_lowercase:\n",
    "    print(i,'---',ord(i))"
   ]
  },
  {
   "cell_type": "code",
   "execution_count": 43,
   "id": "5a969f7b",
   "metadata": {},
   "outputs": [
    {
     "name": "stdout",
     "output_type": "stream",
     "text": [
      "A 65\n",
      "B 66\n",
      "C 67\n",
      "D 68\n",
      "E 69\n",
      "F 70\n",
      "G 71\n",
      "H 72\n",
      "I 73\n",
      "J 74\n",
      "K 75\n",
      "L 76\n",
      "M 77\n",
      "N 78\n",
      "O 79\n",
      "P 80\n",
      "Q 81\n",
      "R 82\n",
      "S 83\n",
      "T 84\n",
      "U 85\n",
      "V 86\n",
      "W 87\n",
      "X 88\n",
      "Y 89\n",
      "Z 90\n"
     ]
    }
   ],
   "source": [
    "for i in string.ascii_uppercase:\n",
    "    print(i,ord(i))"
   ]
  },
  {
   "cell_type": "code",
   "execution_count": 44,
   "id": "76950e49",
   "metadata": {},
   "outputs": [
    {
     "name": "stdout",
     "output_type": "stream",
     "text": [
      "0 hiii\n",
      "1 hiii\n",
      "2 hiii\n",
      "3 hiii\n",
      "4 hiii\n",
      "5 hiii\n",
      "6 hiii\n",
      "7 hiii\n",
      "8 hiii\n",
      "9 hiii\n",
      "10 hiii\n"
     ]
    }
   ],
   "source": [
    "i=0\n",
    "while i<11:\n",
    "    print(i,end=\" \")\n",
    "    print('hiii')\n",
    "    i=i+1"
   ]
  },
  {
   "cell_type": "code",
   "execution_count": 45,
   "id": "b33b7b15",
   "metadata": {},
   "outputs": [
    {
     "name": "stdout",
     "output_type": "stream",
     "text": [
      "10 9 8 7 6 5 4 3 2 1 "
     ]
    }
   ],
   "source": [
    "i=10\n",
    "while i>=1:\n",
    "    print(i,end=' ')\n",
    "    i=i-1\n",
    "    "
   ]
  },
  {
   "cell_type": "code",
   "execution_count": 46,
   "id": "8b843d19",
   "metadata": {},
   "outputs": [
    {
     "name": "stdout",
     "output_type": "stream",
     "text": [
      "1 2 3 4 5 6 7 8 9 10 "
     ]
    }
   ],
   "source": [
    "i=1\n",
    "while i<=10:\n",
    "    print(i,end=' ')\n",
    "    i=i+1"
   ]
  },
  {
   "cell_type": "code",
   "execution_count": 47,
   "id": "42da7c1e",
   "metadata": {},
   "outputs": [
    {
     "name": "stdout",
     "output_type": "stream",
     "text": [
      "0 -1 -2 -3 -4 -5 -6 -7 -8 -9 -10 "
     ]
    }
   ],
   "source": [
    "i=0\n",
    "while i>=-10:\n",
    "    print(i,end=' ')\n",
    "    i=i-1"
   ]
  },
  {
   "cell_type": "code",
   "execution_count": 48,
   "id": "ceabc057",
   "metadata": {},
   "outputs": [
    {
     "name": "stdout",
     "output_type": "stream",
     "text": [
      "-10 -9 -8 -7 -6 -5 -4 -3 -2 -1 0 "
     ]
    }
   ],
   "source": [
    "i=-10\n",
    "while i<=0:\n",
    "    print(i,end=' ')\n",
    "    i=i+1"
   ]
  },
  {
   "cell_type": "code",
   "execution_count": 49,
   "id": "712e149a",
   "metadata": {},
   "outputs": [
    {
     "name": "stdout",
     "output_type": "stream",
     "text": [
      "10 9 8 7 6 5 4 3 2 1 "
     ]
    }
   ],
   "source": [
    "i=10\n",
    "while i>0:\n",
    "    print(i,end=' ')\n",
    "    i=i-1"
   ]
  },
  {
   "cell_type": "code",
   "execution_count": 50,
   "id": "57a07d46",
   "metadata": {},
   "outputs": [
    {
     "name": "stdout",
     "output_type": "stream",
     "text": [
      "0 1 2 3 4 5 6 7 8 9 "
     ]
    }
   ],
   "source": [
    "i=0\n",
    "while i>=0:\n",
    "    print(i,end=' ')\n",
    "    i=i+1\n",
    "    if i==10:\n",
    "        break"
   ]
  },
  {
   "cell_type": "code",
   "execution_count": 51,
   "id": "27e576c3",
   "metadata": {},
   "outputs": [
    {
     "name": "stdout",
     "output_type": "stream",
     "text": [
      "0 1 2 "
     ]
    }
   ],
   "source": [
    "i=0\n",
    "while i>=0:\n",
    "    print(i,end=' ')\n",
    "    i=i+1\n",
    "    if i==3:\n",
    "        break"
   ]
  },
  {
   "cell_type": "code",
   "execution_count": 52,
   "id": "76872c9a",
   "metadata": {},
   "outputs": [
    {
     "name": "stdout",
     "output_type": "stream",
     "text": [
      "0 1 2 3 "
     ]
    }
   ],
   "source": [
    "i=0\n",
    "while i>=0:\n",
    "    print(i,end=' ')\n",
    "    if i==3:\n",
    "        break\n",
    "    i=i+1"
   ]
  },
  {
   "cell_type": "code",
   "execution_count": 53,
   "id": "8d8ec054",
   "metadata": {},
   "outputs": [
    {
     "name": "stdout",
     "output_type": "stream",
     "text": [
      "0\n",
      "1\n",
      "2\n",
      "3\n",
      "4\n",
      "5\n",
      "6\n",
      "7\n",
      "8\n",
      "9\n"
     ]
    }
   ],
   "source": [
    "i=0\n",
    "while True:        #there is no condition checking\n",
    "    print(i)\n",
    "    i+=1\n",
    "    if i==10:\n",
    "        break"
   ]
  },
  {
   "cell_type": "code",
   "execution_count": 54,
   "id": "01b016f6",
   "metadata": {},
   "outputs": [
    {
     "name": "stdout",
     "output_type": "stream",
     "text": [
      "0 1 2 3 "
     ]
    }
   ],
   "source": [
    "i=0\n",
    "while i>=0:\n",
    "    print(i,end=' ')\n",
    "    if i==3:\n",
    "        break\n",
    "    i=i+1"
   ]
  },
  {
   "cell_type": "code",
   "execution_count": 55,
   "id": "e5961260",
   "metadata": {},
   "outputs": [
    {
     "name": "stdout",
     "output_type": "stream",
     "text": [
      "0 "
     ]
    }
   ],
   "source": [
    "i=0\n",
    "while i<=0:\n",
    "    print(i,end=' ')\n",
    "    i=i+1\n",
    "    if i==3:\n",
    "        break"
   ]
  },
  {
   "cell_type": "code",
   "execution_count": 56,
   "id": "7db29d24",
   "metadata": {},
   "outputs": [
    {
     "name": "stdout",
     "output_type": "stream",
     "text": [
      "0 1 2 3 "
     ]
    }
   ],
   "source": [
    "i=0\n",
    "while True:\n",
    "    print(i,end=' ')\n",
    "    if i==3:\n",
    "        break\n",
    "    i=i+1"
   ]
  },
  {
   "cell_type": "code",
   "execution_count": 57,
   "id": "37bb6318",
   "metadata": {},
   "outputs": [
    {
     "name": "stdout",
     "output_type": "stream",
     "text": [
      "it is odd number:5\n",
      "it is odd number:7\n",
      "it is odd number:19\n",
      "it is odd number:13\n",
      "it is even number:14\n",
      "it is odd number:7\n",
      "it is odd number:5\n",
      "it is odd number:13\n",
      "it is odd number:19\n",
      "it is even number:18\n"
     ]
    }
   ],
   "source": [
    "import random\n",
    "for i in range(10):\n",
    "    num1=random.randint(1,20)\n",
    "    if num1%2==0:\n",
    "        print(\"it is even number:{}\".format(num1))\n",
    "    else:\n",
    "        print('it is odd number:{}'.format(num1))"
   ]
  },
  {
   "cell_type": "code",
   "execution_count": 58,
   "id": "73aa744b",
   "metadata": {},
   "outputs": [
    {
     "name": "stdout",
     "output_type": "stream",
     "text": [
      "it is even number:6\n",
      "it is odd number:1\n",
      "it is even number:10\n",
      "it is odd number:9\n",
      "it is odd number:9\n",
      "it is even number:6\n",
      "it is odd number:5\n",
      "it is odd number:3\n",
      "it is odd number:3\n",
      "it is odd number:3\n"
     ]
    }
   ],
   "source": [
    "import random\n",
    "i=0\n",
    "while True:\n",
    "    num1=random.randint(1,10)\n",
    "    if num1%2==0:\n",
    "        print(\"it is even number:{}\".format(num1))\n",
    "    else:\n",
    "        print('it is odd number:{}'.format(num1))\n",
    "    i=i+1\n",
    "    if i==10:\n",
    "        break"
   ]
  },
  {
   "cell_type": "code",
   "execution_count": 59,
   "id": "58b9fc09",
   "metadata": {},
   "outputs": [
    {
     "name": "stdout",
     "output_type": "stream",
     "text": [
      "enter a number:4\n",
      "4 and 4 sqaure num is:16\n",
      "enter a number:4\n",
      "4 and 4 sqaure num is:16\n",
      "enter a number:5\n",
      "5 and 5 sqaure num is:25\n"
     ]
    }
   ],
   "source": [
    "for i in range(3):\n",
    "    num=eval(input('enter a number:'))\n",
    "    square=num*num\n",
    "    print('{} and {} sqaure num is:{}'.format(num,num,square))"
   ]
  },
  {
   "cell_type": "code",
   "execution_count": 60,
   "id": "8d40af74",
   "metadata": {},
   "outputs": [
    {
     "name": "stdout",
     "output_type": "stream",
     "text": [
      "enter a number:4\n",
      "4 and 4 sqaure num is:16\n",
      "enter a number:6\n",
      "6 and 6 sqaure num is:36\n",
      "enter a number:5\n",
      "5 and 5 sqaure num is:25\n"
     ]
    }
   ],
   "source": [
    "i=0\n",
    "while True:\n",
    "    num=eval(input('enter a number:'))\n",
    "    square=num*num\n",
    "    print('{} and {} sqaure num is:{}'.format(num,num,square))\n",
    "    i=i+1\n",
    "    if i==3:\n",
    "        break"
   ]
  },
  {
   "cell_type": "code",
   "execution_count": 5,
   "id": "6c220446",
   "metadata": {},
   "outputs": [
    {
     "name": "stdout",
     "output_type": "stream",
     "text": [
      "10\n",
      "12\n",
      "14\n",
      "16\n",
      "18\n"
     ]
    }
   ],
   "source": [
    "i = 10\n",
    "while i in range(10,20):\n",
    "    print(i)\n",
    "    i+=2"
   ]
  },
  {
   "cell_type": "markdown",
   "id": "46011b8f",
   "metadata": {},
   "source": [
    "## Time take start time and end"
   ]
  },
  {
   "cell_type": "code",
   "execution_count": 61,
   "id": "a442feee",
   "metadata": {},
   "outputs": [
    {
     "name": "stdout",
     "output_type": "stream",
     "text": [
      "enter a number:45\n",
      "45 and 45 sqaure num is:2025\n",
      "enter a number:5\n",
      "5 and 5 sqaure num is:25\n",
      "enter a number:5\n",
      "5 and 5 sqaure num is:25\n",
      "time taken in seconds: 4.5289952754974365\n"
     ]
    }
   ],
   "source": [
    "import time\n",
    "start=time.time()\n",
    "for i in range(3):\n",
    "    num=eval(input('enter a number:'))\n",
    "    square=num*num\n",
    "    print('{} and {} sqaure num is:{}'.format(num,num,square))\n",
    "end=time.time()\n",
    "print('time taken in seconds:',end-start)"
   ]
  },
  {
   "cell_type": "code",
   "execution_count": 6,
   "id": "3c1c68fc",
   "metadata": {},
   "outputs": [
    {
     "name": "stdout",
     "output_type": "stream",
     "text": [
      "enter a number:45\n",
      "45 and 45 sqaure num is:2025\n",
      "time taken in seconds: 2.7271511554718018\n"
     ]
    }
   ],
   "source": [
    "import time\n",
    "start=time.time()\n",
    "i=0\n",
    "while True:\n",
    "    num=eval(input('enter a number:'))\n",
    "    square=num*num\n",
    "    print('{} and {} sqaure num is:{}'.format(num,num,square))\n",
    "    if num>=3:\n",
    "        break\n",
    "    num+=1\n",
    "    \n",
    "end=time.time()\n",
    "print('time taken in seconds:',end-start)"
   ]
  },
  {
   "cell_type": "code",
   "execution_count": 63,
   "id": "c433a597",
   "metadata": {},
   "outputs": [
    {
     "name": "stdout",
     "output_type": "stream",
     "text": [
      "hii\n",
      "hello\n",
      "enter a number4\n"
     ]
    }
   ],
   "source": [
    "print('hii')\n",
    "time.sleep(2)\n",
    "print('hello')\n",
    "time.sleep(3)\n",
    "num=eval(input('enter a number'))"
   ]
  },
  {
   "cell_type": "code",
   "execution_count": 64,
   "id": "f9c7ceb0",
   "metadata": {},
   "outputs": [
    {
     "name": "stdout",
     "output_type": "stream",
     "text": [
      "1\n",
      "3\n",
      "6\n",
      "10\n",
      "15\n",
      "21\n",
      "28\n",
      "36\n",
      "45\n",
      "55\n"
     ]
    }
   ],
   "source": [
    "sum1=0\n",
    "for i in range(1,11):\n",
    "    sum1=sum1+i\n",
    "    print(sum1)"
   ]
  },
  {
   "cell_type": "code",
   "execution_count": 35,
   "id": "147db454",
   "metadata": {},
   "outputs": [
    {
     "name": "stdout",
     "output_type": "stream",
     "text": [
      "1\n",
      "3\n",
      "6\n",
      "10\n",
      "15\n",
      "21\n",
      "28\n",
      "36\n",
      "45\n",
      "55\n",
      "66\n"
     ]
    }
   ],
   "source": [
    "i=0\n",
    "sum_=0\n",
    "while i<=10:\n",
    "    i=i+1\n",
    "    sum_=sum_+i\n",
    "    print(sum_)\n"
   ]
  },
  {
   "cell_type": "code",
   "execution_count": 22,
   "id": "f849f44c",
   "metadata": {},
   "outputs": [
    {
     "name": "stdout",
     "output_type": "stream",
     "text": [
      "Enter a password: uykfyiguk\n",
      "The password is wrong.\n",
      "2 chances left\n",
      "Enter a password: ickutv\n",
      "The password is wrong.\n",
      "1 chances left\n",
      "Enter a password: cgv\n",
      "The password is wrong.\n",
      "0 chances left\n",
      "Better luck next time\n"
     ]
    }
   ],
   "source": [
    "i = 0\n",
    "chances = 3\n",
    "password = 'python'\n",
    "\n",
    "while True:\n",
    "    user_pass = input('Enter a password: ')\n",
    "    i = i + 1\n",
    "\n",
    "    if password == user_pass:\n",
    "        print('You won!')\n",
    "        break\n",
    "    else:\n",
    "        print('The password is wrong.')\n",
    "        print('{} chances left'.format(chances - i))\n",
    "\n",
    "    if i == chances:\n",
    "        print('Better luck next time')\n",
    "        break"
   ]
  },
  {
   "cell_type": "code",
   "execution_count": 35,
   "id": "ff3681b5",
   "metadata": {},
   "outputs": [
    {
     "name": "stdout",
     "output_type": "stream",
     "text": [
      "enter a passrydfu76j\n",
      "the pass is wrong\n",
      "2 is left chances\n",
      "enter a passudjdfvu\n",
      "the pass is wrong\n",
      "1 is left chances\n",
      "enter a passtituk\n",
      "the pass is wrong\n",
      "0 is left chances\n",
      "better luck next time\n"
     ]
    }
   ],
   "source": [
    "i = 0\n",
    "chances = 3\n",
    "password ='python'\n",
    "while True:\n",
    "    user_pass =input('enter a pass')\n",
    "    i = i + 1\n",
    "    if password == user_pass:\n",
    "        print('you won')\n",
    "        break\n",
    "    else:\n",
    "        print('the pass is wrong')\n",
    "        print('{} is left chances'.format(chances - i))\n",
    "    if i == chances:\n",
    "        print('better luck next time')\n",
    "        break"
   ]
  },
  {
   "cell_type": "code",
   "execution_count": 6,
   "id": "22d75fdd",
   "metadata": {},
   "outputs": [
    {
     "name": "stdout",
     "output_type": "stream",
     "text": [
      "enter the pass:sdfhgkf\n",
      "the pass is wrong:\n",
      "2 is left chances:\n",
      "enter the pass:beifkj\n",
      "the pass is wrong:\n",
      "1 is left chances:\n",
      "enter the pass:ebdfyk\n",
      "the pass is wrong:\n",
      "0 is left chances:\n",
      "you are out\n"
     ]
    }
   ],
   "source": [
    "i=0\n",
    "chances=3\n",
    "while i<3:\n",
    "    password='python'\n",
    "    user_pass=input('enter the pass:')\n",
    "    i+=1\n",
    "    if password==user_pass:\n",
    "        print('you are won:')\n",
    "        break\n",
    "    else:\n",
    "        print('the pass is wrong:')\n",
    "        print('{} is left chances:'.format(chances-i))\n",
    "    if chances == i:\n",
    "        print('you are out')\n",
    "    "
   ]
  },
  {
   "cell_type": "code",
   "execution_count": 85,
   "id": "5429a04d",
   "metadata": {},
   "outputs": [
    {
     "name": "stdout",
     "output_type": "stream",
     "text": [
      "enter a number:1\n",
      "loose\n",
      "loose\n",
      "loose\n",
      "success\n",
      "4 chances are taken\n",
      "2.890941619873047\n"
     ]
    }
   ],
   "source": [
    "import time\n",
    "import random\n",
    "start=time.time()\n",
    "num=eval(input('enter a number:'))\n",
    "i=0\n",
    "while True:\n",
    "    i+=1\n",
    "    num1=random.randint(1,10)\n",
    "    if num==num1:\n",
    "        print('success')\n",
    "        print('{} chances are taken'.format(i))\n",
    "        break\n",
    "    else:\n",
    "        print('loose')\n",
    "end=time.time()\n",
    "print(end-start)"
   ]
  },
  {
   "cell_type": "code",
   "execution_count": 46,
   "id": "0d5b577d",
   "metadata": {},
   "outputs": [
    {
     "name": "stdout",
     "output_type": "stream",
     "text": [
      "6\n",
      "enter a number4\n",
      "you are loose\n",
      "2 chance are left\n",
      "8\n",
      "enter a number5\n",
      "you are loose\n",
      "1 chance are left\n",
      "3\n",
      "enter a number8\n",
      "you are loose\n",
      "0 chance are left\n",
      "better luck next time\n",
      "9.811406135559082\n"
     ]
    }
   ],
   "source": [
    "import random\n",
    "import time\n",
    "\n",
    "start=time.time()\n",
    "i= 0\n",
    "chances =3\n",
    "while True:\n",
    "    i+=1\n",
    "    num=random.randint(1,10)\n",
    "    print(num)\n",
    "    user=input('enter a number')\n",
    "    \n",
    "    if num==user:\n",
    "        print('you won')\n",
    "        break\n",
    "    else:\n",
    "        print('you are loose')\n",
    "        print('{} chance are left'.format(chances-i))\n",
    "    if chances == i:\n",
    "        print('better luck next time')\n",
    "        break\n",
    "end=time.time()\n",
    "print(end-start)\n",
    "\n",
    "    \n",
    "    "
   ]
  },
  {
   "cell_type": "code",
   "execution_count": 6,
   "id": "a7d1b597",
   "metadata": {},
   "outputs": [
    {
     "name": "stdout",
     "output_type": "stream",
     "text": [
      "7\n",
      "enter a number:4\n",
      "you lost\n",
      "2 chance is left\n",
      "15\n",
      "enter a number:5\n",
      "you lost\n",
      "1 chance is left\n",
      "15\n",
      "enter a number:15\n",
      "you won\n"
     ]
    }
   ],
   "source": [
    "import random\n",
    "chances=3\n",
    "flag =0\n",
    "for i in range(chances):\n",
    "    num1=random.randint(1,20)\n",
    "    print(num1)\n",
    "    num2=eval(input('enter a number:'))\n",
    "    if num1==num2:\n",
    "        print('you won')\n",
    "        flag = 1\n",
    "        break\n",
    "    elif num1!=num2:\n",
    "        print('you lost')\n",
    "        print('{} chance is left'.format(chances-1-i))\n",
    "    \n",
    "if flag ==0:\n",
    "    print('better luck next time')\n",
    "    "
   ]
  },
  {
   "cell_type": "code",
   "execution_count": 70,
   "id": "79bea96c",
   "metadata": {},
   "outputs": [],
   "source": [
    "#"
   ]
  },
  {
   "cell_type": "code",
   "execution_count": 71,
   "id": "234b5e6b",
   "metadata": {},
   "outputs": [
    {
     "data": {
      "text/plain": [
       "'hiipython'"
      ]
     },
     "execution_count": 71,
     "metadata": {},
     "output_type": "execute_result"
    }
   ],
   "source": [
    "string1+string2"
   ]
  },
  {
   "cell_type": "code",
   "execution_count": 2,
   "id": "01df2dd8",
   "metadata": {},
   "outputs": [],
   "source": [
    "string1='hii'\n",
    "string3='hello'"
   ]
  },
  {
   "cell_type": "code",
   "execution_count": 3,
   "id": "dd5bad85",
   "metadata": {},
   "outputs": [
    {
     "data": {
      "text/plain": [
       "'hiihello'"
      ]
     },
     "execution_count": 3,
     "metadata": {},
     "output_type": "execute_result"
    }
   ],
   "source": [
    "string1+string3"
   ]
  },
  {
   "cell_type": "code",
   "execution_count": 33,
   "id": "7826a292",
   "metadata": {},
   "outputs": [
    {
     "name": "stdout",
     "output_type": "stream",
     "text": [
      "Enter the password: uyagdcbeyfu\n",
      "The password is wrong.\n",
      "2 chances left.\n",
      "Enter the password: bceukderu\n",
      "The password is wrong.\n",
      "1 chances left.\n",
      "Enter the password: python\n",
      "You have won!\n"
     ]
    }
   ],
   "source": [
    "i = 0\n",
    "chances = 3\n",
    "\n",
    "while True:\n",
    "    password = 'python'\n",
    "    user_pass = input('Enter the password: ')\n",
    "    i += 1\n",
    "    if password == user_pass:\n",
    "        print('You have won!')\n",
    "        break\n",
    "    else:\n",
    "        print('The password is wrong.')\n",
    "        print('{} chances left.'.format(chances - i))\n",
    "\n",
    "    if i == chances:\n",
    "        print('You are out')\n",
    "        break\n"
   ]
  },
  {
   "cell_type": "code",
   "execution_count": 1,
   "id": "3123780d",
   "metadata": {},
   "outputs": [
    {
     "name": "stdout",
     "output_type": "stream",
     "text": [
      "Now, you are ready to play the game.\n",
      "Account Balance:  1000\n",
      "E-Wallet Balance:  4200\n"
     ]
    }
   ],
   "source": [
    "account_balance = 200\n",
    "e_wallet_balance = 5000\n",
    "while account_balance < 1000:\n",
    "    extra_money = 1000 - account_balance\n",
    "    if extra_money > e_wallet_balance:\n",
    "        break\n",
    "    account_balance += extra_money\n",
    "    e_wallet_balance -= extra_money\n",
    "    \n",
    "if account_balance >= 1000:\n",
    "    print(\"Now, you are ready to play the game.\")\n",
    "else:\n",
    "    print(\"You still do not have enough money to start playing.\")\n",
    "print(\"Account Balance: \", account_balance)\n",
    "print(\"E-Wallet Balance: \", e_wallet_balance)"
   ]
  },
  {
   "cell_type": "code",
   "execution_count": null,
   "id": "8dcfcff1",
   "metadata": {},
   "outputs": [],
   "source": []
  }
 ],
 "metadata": {
  "kernelspec": {
   "display_name": "Python 3 (ipykernel)",
   "language": "python",
   "name": "python3"
  },
  "language_info": {
   "codemirror_mode": {
    "name": "ipython",
    "version": 3
   },
   "file_extension": ".py",
   "mimetype": "text/x-python",
   "name": "python",
   "nbconvert_exporter": "python",
   "pygments_lexer": "ipython3",
   "version": "3.11.5"
  }
 },
 "nbformat": 4,
 "nbformat_minor": 5
}
