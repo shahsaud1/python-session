{
 "cells": [
  {
   "cell_type": "code",
   "execution_count": 3,
   "id": "78aa9dec",
   "metadata": {},
   "outputs": [
    {
     "data": {
      "text/plain": [
       "97"
      ]
     },
     "execution_count": 3,
     "metadata": {},
     "output_type": "execute_result"
    }
   ],
   "source": [
    "ord('a')"
   ]
  },
  {
   "cell_type": "code",
   "execution_count": 6,
   "id": "b6a27d0f",
   "metadata": {},
   "outputs": [
    {
     "data": {
      "text/plain": [
       "'W'"
      ]
     },
     "execution_count": 6,
     "metadata": {},
     "output_type": "execute_result"
    }
   ],
   "source": [
    "chr(87)"
   ]
  },
  {
   "cell_type": "code",
   "execution_count": 8,
   "id": "78c4e80a",
   "metadata": {},
   "outputs": [
    {
     "data": {
      "text/plain": [
       "(87, 'W')"
      ]
     },
     "execution_count": 8,
     "metadata": {},
     "output_type": "execute_result"
    }
   ],
   "source": [
    "ord('W'),chr(87)"
   ]
  },
  {
   "cell_type": "code",
   "execution_count": 10,
   "id": "1e6069ac",
   "metadata": {},
   "outputs": [
    {
     "name": "stdout",
     "output_type": "stream",
     "text": [
      "10 \n",
      "\n",
      "11 \u000b",
      "\n",
      "12 \f",
      "\n",
      "13 \r\n",
      "14 \u000e\n"
     ]
    }
   ],
   "source": [
    "for i in range(10,15):\n",
    "    print(i,chr(i))"
   ]
  },
  {
   "cell_type": "code",
   "execution_count": 15,
   "id": "092f67ed",
   "metadata": {},
   "outputs": [],
   "source": [
    "name='Raaz'"
   ]
  },
  {
   "cell_type": "code",
   "execution_count": 16,
   "id": "23319426",
   "metadata": {},
   "outputs": [
    {
     "name": "stdout",
     "output_type": "stream",
     "text": [
      "R 82\n",
      "a 97\n",
      "a 97\n",
      "z 122\n"
     ]
    }
   ],
   "source": [
    "for i in name:\n",
    "    print(i,ord(i))"
   ]
  },
  {
   "cell_type": "code",
   "execution_count": 19,
   "id": "76917383",
   "metadata": {},
   "outputs": [
    {
     "name": "stdout",
     "output_type": "stream",
     "text": [
      "i 105\n",
      "  32\n",
      "l 108\n",
      "o 111\n",
      "v 118\n",
      "e 101\n",
      "  32\n",
      "y 121\n",
      "o 111\n",
      "u 117\n"
     ]
    }
   ],
   "source": [
    "for i in('i love you'):\n",
    "    print(i,ord(i))"
   ]
  },
  {
   "cell_type": "code",
   "execution_count": 26,
   "id": "d3e245b5",
   "metadata": {},
   "outputs": [
    {
     "name": "stdout",
     "output_type": "stream",
     "text": [
      "115 s\n",
      "116 t\n",
      "117 u\n",
      "118 v\n",
      "119 w\n",
      "120 x\n"
     ]
    }
   ],
   "source": [
    "for i in range(115,121):\n",
    "    print(i,chr(i))"
   ]
  },
  {
   "cell_type": "code",
   "execution_count": 32,
   "id": "25424749",
   "metadata": {},
   "outputs": [
    {
     "name": "stdout",
     "output_type": "stream",
     "text": [
      "A--- 65\n",
      "B--- 66\n",
      "C--- 67\n",
      "D--- 68\n",
      "E--- 69\n",
      "F--- 70\n",
      "G--- 71\n",
      "H--- 72\n",
      "I--- 73\n",
      "J--- 74\n",
      "K--- 75\n",
      "L--- 76\n",
      "M--- 77\n",
      "N--- 78\n",
      "O--- 79\n",
      "P--- 80\n",
      "Q--- 81\n",
      "R--- 82\n",
      "S--- 83\n",
      "T--- 84\n",
      "U--- 85\n",
      "V--- 86\n",
      "W--- 87\n",
      "X--- 88\n",
      "Y--- 89\n",
      "Z--- 90\n"
     ]
    }
   ],
   "source": [
    "import string\n",
    "for i in string.ascii_uppercase:\n",
    "    print('{}---'.format(i),ord(i))\n"
   ]
  },
  {
   "cell_type": "code",
   "execution_count": 34,
   "id": "e59c76e8",
   "metadata": {},
   "outputs": [
    {
     "ename": "NameError",
     "evalue": "name 'gbl_vr' is not defined",
     "output_type": "error",
     "traceback": [
      "\u001b[1;31m---------------------------------------------------------------------------\u001b[0m",
      "\u001b[1;31mNameError\u001b[0m                                 Traceback (most recent call last)",
      "Cell \u001b[1;32mIn[34], line 1\u001b[0m\n\u001b[1;32m----> 1\u001b[0m gbl_vr(\u001b[38;5;241m100\u001b[39m,\u001b[38;5;241m200\u001b[39m)\n",
      "\u001b[1;31mNameError\u001b[0m: name 'gbl_vr' is not defined"
     ]
    }
   ],
   "source": []
  },
  {
   "cell_type": "code",
   "execution_count": 39,
   "id": "0b9ab1fb",
   "metadata": {},
   "outputs": [],
   "source": [
    "def square(n):\n",
    "    a=n*n\n",
    "    print(a)\n"
   ]
  },
  {
   "cell_type": "code",
   "execution_count": 53,
   "id": "7b4fc204",
   "metadata": {},
   "outputs": [
    {
     "name": "stdout",
     "output_type": "stream",
     "text": [
      "7\n",
      "49\n"
     ]
    }
   ],
   "source": [
    "square(eval(input('')))"
   ]
  },
  {
   "cell_type": "code",
   "execution_count": 52,
   "id": "3814c93f",
   "metadata": {},
   "outputs": [
    {
     "name": "stdout",
     "output_type": "stream",
     "text": [
      "enter the withdraw amount in hundred:780\n",
      "Number of 100 notes: 7\n",
      "Number of 50 notes: 1\n",
      "Number of 10 notes: 3\n"
     ]
    }
   ],
   "source": [
    "rs_100=0\n",
    "rs_50=0\n",
    "rs_10=0\n",
    "withdraw_amount=eval(input('enter the withdraw amount in hundred:'))\n",
    "while withdraw_amount > 0:\n",
    "    if withdraw_amount >=100:\n",
    "        rs_100 =rs_100+1\n",
    "        withdraw_amount=withdraw_amount-100\n",
    "    elif withdraw_amount >=50:\n",
    "        rs_50 = rs_50+1\n",
    "        withdraw_amount=withdraw_amount-50\n",
    "    else:\n",
    "        rs_10 = rs_10 + 1\n",
    "        withdraw_amount = withdraw_amount-10\n",
    "print(\"Number of 100 notes:\",rs_100)\n",
    "print(\"Number of 50 notes:\", rs_50)\n",
    "print(\"Number of 10 notes:\",rs_10)"
   ]
  },
  {
   "cell_type": "code",
   "execution_count": null,
   "id": "8b42dac8",
   "metadata": {},
   "outputs": [],
   "source": []
  },
  {
   "cell_type": "code",
   "execution_count": null,
   "id": "3f246629",
   "metadata": {},
   "outputs": [],
   "source": []
  },
  {
   "cell_type": "code",
   "execution_count": 25,
   "id": "a28b5f03",
   "metadata": {},
   "outputs": [
    {
     "name": "stdout",
     "output_type": "stream",
     "text": [
      "Question: who is pm of india\n",
      "enter a answer:modi\n",
      "Question: what is the capital of india\n",
      "enter a answer:mumbai\n",
      "no marks\n",
      "Question: who is president of india\n",
      "enter a answer:draupadi\n",
      "Question: where is tajmahal\n",
      "enter a answer:agra\n",
      "Question: where is charminar\n",
      "enter a answer:hyderabad\n",
      "total correct ans 4 and total marks 4\n"
     ]
    }
   ],
   "source": [
    "list1 = ['who is pm of india','what is the capital of india','who is president of india','where is tajmahal','where is charminar']\n",
    "list2 = ['Modi','Delhi','Draupadi','agra','hyderabad']\n",
    "marks = 0\n",
    "correct_ans = 0\n",
    "for i in range(len(list1)):\n",
    "    print('Question:',list1[i])\n",
    "    ans = input('enter a answer:')\n",
    "    if ans in list2[i].lower():\n",
    "        marks+=1\n",
    "        correct_ans+=1\n",
    "    else:\n",
    "        print('no marks')\n",
    "print('total correct ans {} and total marks {}'.format(correct_ans,marks))"
   ]
  },
  {
   "cell_type": "code",
   "execution_count": 4,
   "id": "70f36591",
   "metadata": {},
   "outputs": [
    {
     "name": "stdout",
     "output_type": "stream",
     "text": [
      "Twinkle, twinkle, little star,\n",
      "                    How I wonder what you are!\n",
      "                           Up above the world so high, \n",
      "                            Like a diamond in the sky.\n",
      "Twinkle, twinkle, little star,\n",
      "        How I wonder what you are\n"
     ]
    }
   ],
   "source": [
    "string1 =  \"\"\"Twinkle, twinkle, little star,\n",
    "                    How I wonder what you are!\n",
    "                           Up above the world so high, \n",
    "                            Like a diamond in the sky.\n",
    "Twinkle, twinkle, little star,\n",
    "        How I wonder what you are\"\"\"\n",
    "print(string1)"
   ]
  },
  {
   "cell_type": "code",
   "execution_count": 3,
   "id": "8ea71085",
   "metadata": {},
   "outputs": [
    {
     "data": {
      "text/plain": [
       "('In',\n",
       " 'Out',\n",
       " '_',\n",
       " '_1',\n",
       " '__',\n",
       " '___',\n",
       " '__builtin__',\n",
       " '__builtins__',\n",
       " '__doc__',\n",
       " '__loader__',\n",
       " '__name__',\n",
       " '__package__',\n",
       " '__spec__',\n",
       " '_dh',\n",
       " '_i',\n",
       " '_i1',\n",
       " '_i2',\n",
       " '_i3',\n",
       " '_ih',\n",
       " '_ii',\n",
       " '_iii',\n",
       " '_oh',\n",
       " 'exit',\n",
       " 'get_ipython',\n",
       " 'open',\n",
       " 'quit')"
      ]
     },
     "execution_count": 3,
     "metadata": {},
     "output_type": "execute_result"
    }
   ],
   "source": [
    "tuple(dir())"
   ]
  },
  {
   "cell_type": "code",
   "execution_count": 9,
   "id": "29a4db2a",
   "metadata": {},
   "outputs": [
    {
     "name": "stdout",
     "output_type": "stream",
     "text": [
      "enter a number of line:10\n",
      "\n",
      "*\n",
      "**\n",
      "***\n",
      "****\n",
      "*****\n",
      "******\n",
      "*******\n",
      "********\n",
      "*********\n"
     ]
    }
   ],
   "source": [
    "num = eval(input('enter a number of line:'))\n",
    "for i in range(num):\n",
    "    print('*'*i)\n",
    "for j in range(num-2,0):\n",
    "    print('*'*j)\n",
    "    "
   ]
  },
  {
   "cell_type": "code",
   "execution_count": 10,
   "id": "28387526",
   "metadata": {},
   "outputs": [
    {
     "name": "stdout",
     "output_type": "stream",
     "text": [
      "enter a number of line:10\n",
      "\n",
      "*\n",
      "**\n",
      "***\n",
      "****\n",
      "*****\n",
      "******\n",
      "*******\n",
      "********\n",
      "*********\n",
      "********\n",
      "*******\n",
      "******\n",
      "*****\n",
      "****\n",
      "***\n",
      "**\n",
      "*\n"
     ]
    }
   ],
   "source": [
    "num = eval(input('enter a number of line:'))\n",
    "for i in range(num):\n",
    "    print('*'*i)\n",
    "for j in range(num-2,0,-1):\n",
    "    print('*'*j)"
   ]
  },
  {
   "cell_type": "code",
   "execution_count": 20,
   "id": "0db28b78",
   "metadata": {},
   "outputs": [
    {
     "name": "stdout",
     "output_type": "stream",
     "text": [
      "enter a number of line:10\n",
      "**************************************************************************************************************"
     ]
    }
   ],
   "source": [
    "num = eval(input('enter a number of line:'))\n",
    "for i in range(num+1):\n",
    "    for j in range(num):\n",
    "        print('*',end='')"
   ]
  },
  {
   "cell_type": "code",
   "execution_count": null,
   "id": "edc9432a",
   "metadata": {},
   "outputs": [],
   "source": []
  }
 ],
 "metadata": {
  "kernelspec": {
   "display_name": "Python 3 (ipykernel)",
   "language": "python",
   "name": "python3"
  },
  "language_info": {
   "codemirror_mode": {
    "name": "ipython",
    "version": 3
   },
   "file_extension": ".py",
   "mimetype": "text/x-python",
   "name": "python",
   "nbconvert_exporter": "python",
   "pygments_lexer": "ipython3",
   "version": "3.11.5"
  }
 },
 "nbformat": 4,
 "nbformat_minor": 5
}
