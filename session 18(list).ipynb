{
 "cells": [
  {
   "cell_type": "markdown",
   "id": "ecdf8462",
   "metadata": {},
   "source": [
    "$slice$"
   ]
  },
  {
   "cell_type": "code",
   "execution_count": 1,
   "id": "b449a54c",
   "metadata": {},
   "outputs": [],
   "source": [
    "list1=['A','B','C','D','E','F',1,2,3,4,5,6]"
   ]
  },
  {
   "cell_type": "code",
   "execution_count": 8,
   "id": "94f17894",
   "metadata": {},
   "outputs": [
    {
     "name": "stdout",
     "output_type": "stream",
     "text": [
      "['C', 'E', 1, 3, 5]\n"
     ]
    },
    {
     "data": {
      "text/plain": [
       "['C']"
      ]
     },
     "execution_count": 8,
     "metadata": {},
     "output_type": "execute_result"
    }
   ],
   "source": [
    "print(list1[2:11:2]\n",
    "#list1[2:11:-2]\n",
    "list1[2:-11:2]\n",
    "list1[2:-11:-2]\n",
    "list1[-2:11:2]\n",
    "list1[-2:-11:2]\n",
    "list1[-2:-11:-2]\n",
    "list1[-2:11:-2]"
   ]
  },
  {
   "cell_type": "code",
   "execution_count": 9,
   "id": "e5a065e5",
   "metadata": {},
   "outputs": [
    {
     "name": "stdout",
     "output_type": "stream",
     "text": [
      "hyderabad\n",
      "delhi\n",
      "chennai\n"
     ]
    }
   ],
   "source": [
    "list1= ['hyderabad','delhi','chennai','blr']\n",
    "for i in list1:\n",
    "    if len(i)>=4:\n",
    "        print(i)"
   ]
  },
  {
   "cell_type": "code",
   "execution_count": 11,
   "id": "be82ecf6",
   "metadata": {},
   "outputs": [
    {
     "name": "stdout",
     "output_type": "stream",
     "text": [
      "hyderabad\n",
      "delhi\n",
      "chennai\n"
     ]
    }
   ],
   "source": [
    "for i in range(len(list1)):\n",
    "    if len(list1[i])>=4:\n",
    "        print(list1[i])"
   ]
  },
  {
   "cell_type": "markdown",
   "id": "dd1af873",
   "metadata": {},
   "source": [
    "- in operator === direct element\n",
    "\n",
    "- range() required a number inside the bracker\n",
    "\n",
    "- that num indicates index of the elemetnt"
   ]
  },
  {
   "cell_type": "code",
   "execution_count": 14,
   "id": "1475d43b",
   "metadata": {},
   "outputs": [
    {
     "name": "stdout",
     "output_type": "stream",
     "text": [
      "hyderab#d\n",
      "chenn#i\n"
     ]
    }
   ],
   "source": [
    "list1= ['hyderab#d','delhi','chenn#i','blr']\n",
    "for i in list1:\n",
    "    if '#' in i:\n",
    "        print(i)"
   ]
  },
  {
   "cell_type": "code",
   "execution_count": 20,
   "id": "78aafaba",
   "metadata": {},
   "outputs": [
    {
     "name": "stdout",
     "output_type": "stream",
     "text": [
      "hyderab#d\n",
      "chenn#i\n"
     ]
    }
   ],
   "source": [
    "i=0\n",
    "while i<len(list1):\n",
    "    \n",
    "    if '#' in list1[i]:\n",
    "        print(list1[i])\n",
    "    i+=1"
   ]
  },
  {
   "cell_type": "code",
   "execution_count": 22,
   "id": "bdcd2afb",
   "metadata": {},
   "outputs": [
    {
     "name": "stdout",
     "output_type": "stream",
     "text": [
      "hyderab#d\n",
      "haridawar\n"
     ]
    }
   ],
   "source": [
    "list1= ['hyderab#d','delhi','chenn#i','blr','haridawar']\n",
    "for i in range(len(list1)):\n",
    "    if list1[i][0]=='h':\n",
    "        print(list1[i])\n",
    "    "
   ]
  },
  {
   "cell_type": "code",
   "execution_count": 23,
   "id": "6335002a",
   "metadata": {},
   "outputs": [
    {
     "name": "stdout",
     "output_type": "stream",
     "text": [
      "Hyderab#d\n",
      "Haridawar\n"
     ]
    }
   ],
   "source": [
    "list1= ['Hyderab#d','delhi','chenn#i','blr','Haridawar']\n",
    "for i in list1:\n",
    "    if i.lower().startswith('h'):\n",
    "        print(i)"
   ]
  },
  {
   "cell_type": "code",
   "execution_count": 25,
   "id": "d630c842",
   "metadata": {},
   "outputs": [
    {
     "name": "stdout",
     "output_type": "stream",
     "text": [
      "nallahoni\n",
      "pasha\n",
      "kadam\n"
     ]
    }
   ],
   "source": [
    "list1=['omkar.nallahoni@gmail.com','kareem.pasha@gmail.com','santosh.kadam@gmail.com']\n",
    "for i in list1:\n",
    "    print(i[i.find('.')+1:i.find('@')])"
   ]
  },
  {
   "cell_type": "code",
   "execution_count": 29,
   "id": "3e0dc86c",
   "metadata": {},
   "outputs": [
    {
     "name": "stdout",
     "output_type": "stream",
     "text": [
      "nallahoni\n",
      "pasha\n",
      "kadam\n"
     ]
    }
   ],
   "source": [
    "for i in list1:\n",
    "    print(i.split('.')[1].split('@')[0])"
   ]
  },
  {
   "cell_type": "markdown",
   "id": "9772e402",
   "metadata": {},
   "source": [
    "$list$-$methods$"
   ]
  },
  {
   "cell_type": "code",
   "execution_count": 42,
   "id": "773dc327",
   "metadata": {},
   "outputs": [
    {
     "data": {
      "text/plain": [
       "[]"
      ]
     },
     "execution_count": 42,
     "metadata": {},
     "output_type": "execute_result"
    }
   ],
   "source": [
    "list()"
   ]
  },
  {
   "cell_type": "markdown",
   "id": "081b5cc6",
   "metadata": {},
   "source": [
    "$append$"
   ]
  },
  {
   "cell_type": "code",
   "execution_count": 39,
   "id": "e24e371b",
   "metadata": {},
   "outputs": [
    {
     "data": {
      "text/plain": [
       "[100, 200, 300, 400]"
      ]
     },
     "execution_count": 39,
     "metadata": {},
     "output_type": "execute_result"
    }
   ],
   "source": [
    "list1=[100,200,300]\n",
    "list1.append(400)\n",
    "list1"
   ]
  },
  {
   "cell_type": "code",
   "execution_count": 40,
   "id": "1545bf1d",
   "metadata": {},
   "outputs": [
    {
     "data": {
      "text/plain": [
       "[20]"
      ]
     },
     "execution_count": 40,
     "metadata": {},
     "output_type": "execute_result"
    }
   ],
   "source": [
    "l1=[]\n",
    "l1.append(20)\n",
    "l1"
   ]
  },
  {
   "cell_type": "code",
   "execution_count": 41,
   "id": "88d38fcf",
   "metadata": {},
   "outputs": [
    {
     "data": {
      "text/plain": [
       "[100, 200, 300, 400, 'python']"
      ]
     },
     "execution_count": 41,
     "metadata": {},
     "output_type": "execute_result"
    }
   ],
   "source": [
    "list1=[100,200,300]\n",
    "list1.append(400)\n",
    "list1.append('python')\n",
    "list1"
   ]
  },
  {
   "cell_type": "code",
   "execution_count": 44,
   "id": "797fbe03",
   "metadata": {},
   "outputs": [
    {
     "data": {
      "text/plain": [
       "['hyderabad', 'delhi', 'chennai']"
      ]
     },
     "execution_count": 44,
     "metadata": {},
     "output_type": "execute_result"
    }
   ],
   "source": [
    "list1= ['hyderabad','delhi','chennai','blr']\n",
    "l1=[]\n",
    "for i in list1:\n",
    "    if len(i)>=4:\n",
    "        l1.append(i)\n",
    "l1"
   ]
  },
  {
   "cell_type": "code",
   "execution_count": 45,
   "id": "5163d3d7",
   "metadata": {},
   "outputs": [
    {
     "data": {
      "text/plain": [
       "['hyderab#d', 'chenn#i']"
      ]
     },
     "execution_count": 45,
     "metadata": {},
     "output_type": "execute_result"
    }
   ],
   "source": [
    "list1= ['hyderab#d','delhi','chenn#i','blr']\n",
    "l2=[]\n",
    "for i in list1:\n",
    "    if '#' in i:\n",
    "        l2.append(i)\n",
    "l2"
   ]
  },
  {
   "cell_type": "code",
   "execution_count": 47,
   "id": "6779de8a",
   "metadata": {},
   "outputs": [
    {
     "data": {
      "text/plain": [
       "['nallahoni', 'pasha', 'kadam']"
      ]
     },
     "execution_count": 47,
     "metadata": {},
     "output_type": "execute_result"
    }
   ],
   "source": [
    "list1=['omkar.nallahoni@gmail.com','kareem.pasha@gmail.com','santosh.kadam@gmail.com']\n",
    "l3=[]\n",
    "for i in list1:\n",
    "    l3.append(i[i.find('.')+1:i.find('@')])\n",
    "l3"
   ]
  },
  {
   "cell_type": "code",
   "execution_count": 48,
   "id": "11ab4a0e",
   "metadata": {},
   "outputs": [
    {
     "data": {
      "text/plain": [
       "['nallahoni', 'pasha', 'kadam']"
      ]
     },
     "execution_count": 48,
     "metadata": {},
     "output_type": "execute_result"
    }
   ],
   "source": [
    "l4=[]\n",
    "for i in list1:\n",
    "    l4.append(i.split('.')[1].split('@')[0])\n",
    "l4"
   ]
  },
  {
   "cell_type": "code",
   "execution_count": 50,
   "id": "8b0c2b39",
   "metadata": {},
   "outputs": [
    {
     "data": {
      "text/plain": [
       "(['omkar', 'kareem', 'santosh'], ['nallahoni', 'pasha', 'kadam'])"
      ]
     },
     "execution_count": 50,
     "metadata": {},
     "output_type": "execute_result"
    }
   ],
   "source": [
    "list1=['omkar.nallahoni@gmail.com','kareem.pasha@gmail.com','santosh.kadam@gmail.com']\n",
    "first,second=[],[]\n",
    "for i in list1:\n",
    "    first.append(i.split('.')[0])\n",
    "    second.append(i[i.find('.')+1:i.find('@')])\n",
    "first,second"
   ]
  },
  {
   "cell_type": "code",
   "execution_count": 60,
   "id": "247ac0a4",
   "metadata": {},
   "outputs": [
    {
     "data": {
      "text/plain": [
       "(['omkar'], ['nallahoni'])"
      ]
     },
     "execution_count": 60,
     "metadata": {},
     "output_type": "execute_result"
    }
   ],
   "source": [
    "def names(list1):\n",
    "    first,second=[],[]\n",
    "    for i in list1:\n",
    "        first.append(i.split('.')[0])\n",
    "        second.append(i[i.find('.')+1:i.find('@')])\n",
    "        return(first,second)\n",
    "list1=['omkar.nallahoni@gmail.com','kareem.pasha@gmail.com','santosh.kadam@gmail.com']\n",
    "names(list1)"
   ]
  },
  {
   "cell_type": "code",
   "execution_count": 59,
   "id": "e80d19c8",
   "metadata": {},
   "outputs": [
    {
     "data": {
      "text/plain": [
       "([18, 38, 50, 14, 14, 16], [13, 33, 41, 25])"
      ]
     },
     "execution_count": 59,
     "metadata": {},
     "output_type": "execute_result"
    }
   ],
   "source": [
    "import random\n",
    "even,odd=[],[]\n",
    "for i in range(10):\n",
    "    num1=random.randint(10,50)\n",
    "    if num1%2==0:\n",
    "        even.append(num1)\n",
    "    else:\n",
    "        odd.append(num1)\n",
    "even,odd"
   ]
  },
  {
   "cell_type": "markdown",
   "id": "ebb7ed45",
   "metadata": {},
   "source": [
    "*List comprehension*"
   ]
  },
  {
   "cell_type": "code",
   "execution_count": 63,
   "id": "500dbd4c",
   "metadata": {},
   "outputs": [
    {
     "data": {
      "text/plain": [
       "['hyderabad', 'delhi', 'chennai']"
      ]
     },
     "execution_count": 63,
     "metadata": {},
     "output_type": "execute_result"
    }
   ],
   "source": [
    "list1= ['hyderabad','delhi','chennai','blr']\n",
    "output=[i for i in list1 if len(i)>=4]\n",
    "output"
   ]
  },
  {
   "cell_type": "code",
   "execution_count": 74,
   "id": "c2e5c666",
   "metadata": {},
   "outputs": [
    {
     "data": {
      "text/plain": [
       "['omkar', 'kareem', 'santosh']"
      ]
     },
     "execution_count": 74,
     "metadata": {},
     "output_type": "execute_result"
    }
   ],
   "source": [
    "list1=['omkar.nallahoni@gmail.com','kareem.pasha@gmail.com','santosh.kadam@gmail.com']\n",
    "output=[i.split('.')[0] for i in list1]\n",
    "output"
   ]
  },
  {
   "cell_type": "code",
   "execution_count": 68,
   "id": "ae7955f7",
   "metadata": {},
   "outputs": [
    {
     "data": {
      "text/plain": [
       "['hyderab#d', 'chenn#i']"
      ]
     },
     "execution_count": 68,
     "metadata": {},
     "output_type": "execute_result"
    }
   ],
   "source": [
    "list1= ['hyderab#d','delhi','chenn#i','blr','haridawar']\n",
    "output=[i for i in list1 if '#' in i]\n",
    "output"
   ]
  },
  {
   "cell_type": "code",
   "execution_count": 73,
   "id": "e2f0bade",
   "metadata": {},
   "outputs": [
    {
     "data": {
      "text/plain": [
       "['omkar', 'kareem', 'santosh']"
      ]
     },
     "execution_count": 73,
     "metadata": {},
     "output_type": "execute_result"
    }
   ],
   "source": [
    "list1=['omkar.nallahoni@gmail.com','kareem.pasha@gmail.com','santosh.kadam@gmail.com']\n",
    "\n",
    "output=[i.split('.')[0] for i in list1]\n",
    "output"
   ]
  },
  {
   "cell_type": "code",
   "execution_count": 70,
   "id": "eeb7a072",
   "metadata": {},
   "outputs": [
    {
     "data": {
      "text/plain": [
       "[0, 1, 4, 9, 16]"
      ]
     },
     "execution_count": 70,
     "metadata": {},
     "output_type": "execute_result"
    }
   ],
   "source": [
    "square=[]\n",
    "for i in range(5):\n",
    "    square.append(i*i)\n",
    "square"
   ]
  },
  {
   "cell_type": "code",
   "execution_count": 72,
   "id": "d7e636db",
   "metadata": {},
   "outputs": [
    {
     "data": {
      "text/plain": [
       "[0, 1, 4, 9, 16]"
      ]
     },
     "execution_count": 72,
     "metadata": {},
     "output_type": "execute_result"
    }
   ],
   "source": [
    "output2=[i*i for i in range(5)]\n",
    "output2"
   ]
  },
  {
   "cell_type": "code",
   "execution_count": 77,
   "id": "083753b5",
   "metadata": {},
   "outputs": [
    {
     "data": {
      "text/plain": [
       "['even 0',\n",
       " 'odd 1',\n",
       " 'even 2',\n",
       " 'odd 3',\n",
       " 'even 4',\n",
       " 'odd 5',\n",
       " 'even 6',\n",
       " 'odd 7',\n",
       " 'even 8',\n",
       " 'odd 9']"
      ]
     },
     "execution_count": 77,
     "metadata": {},
     "output_type": "execute_result"
    }
   ],
   "source": [
    "output=['even {}'.format(i) if i%2==0 else 'odd {}'.format(i) for i in range(10)]\n",
    "output"
   ]
  },
  {
   "cell_type": "code",
   "execution_count": 78,
   "id": "d6fc6dda",
   "metadata": {},
   "outputs": [
    {
     "data": {
      "text/plain": [
       "['even 0',\n",
       " 'odd 1',\n",
       " 'even 2',\n",
       " 'odd 3',\n",
       " 'even 4',\n",
       " 'odd 5',\n",
       " 'even 6',\n",
       " 'odd 7',\n",
       " 'even 8',\n",
       " 'odd 9']"
      ]
     },
     "execution_count": 78,
     "metadata": {},
     "output_type": "execute_result"
    }
   ],
   "source": [
    "even_odd=[]\n",
    "for i in range(10):\n",
    "    if i%2==0:\n",
    "        even_odd.append('even {}'.format(i))\n",
    "    else:\n",
    "        even_odd.append('odd {}'.format(i))\n",
    "even_odd"
   ]
  },
  {
   "cell_type": "code",
   "execution_count": null,
   "id": "20ff0635",
   "metadata": {},
   "outputs": [],
   "source": [
    "[<output> <for loop> <if condition>]  # for with if\n",
    "[<if_out> <if_cond> <else> <else_out> <for_loop> ]"
   ]
  },
  {
   "cell_type": "code",
   "execution_count": 4,
   "id": "58416dff",
   "metadata": {},
   "outputs": [
    {
     "data": {
      "text/plain": [
       "[5, 10, 15, 20, 25, 30, 35, 40, 45, 50, 55, 60, 65, 70, 75, 80, 85, 90, 95]"
      ]
     },
     "execution_count": 4,
     "metadata": {},
     "output_type": "execute_result"
    }
   ],
   "source": [
    "output= [i for i in range(5,100,5)]\n",
    "output"
   ]
  },
  {
   "cell_type": "code",
   "execution_count": 6,
   "id": "0a57c05e",
   "metadata": {},
   "outputs": [
    {
     "data": {
      "text/plain": [
       "[-1, -3, -5, -7, -9, -11, -13, -15, -17, -19]"
      ]
     },
     "execution_count": 6,
     "metadata": {},
     "output_type": "execute_result"
    }
   ],
   "source": [
    "output= [i for i in range(-1,-20,-2)]\n",
    "output"
   ]
  },
  {
   "cell_type": "code",
   "execution_count": 9,
   "id": "601bcb7f",
   "metadata": {},
   "outputs": [
    {
     "name": "stdout",
     "output_type": "stream",
     "text": [
      "it is better apple\n",
      "it is better ball\n",
      "it is better cat\n",
      "it is better dog\n",
      "it is better elephant\n"
     ]
    },
    {
     "data": {
      "text/plain": [
       "[]"
      ]
     },
     "execution_count": 9,
     "metadata": {},
     "output_type": "execute_result"
    }
   ],
   "source": [
    "list1= ['apple','ball','cat','dog','elephant']\n",
    "list2=[]\n",
    "for i in list1:\n",
    "    if len(i)>3:\n",
    "        print('it is better {}'.format(i))\n",
    "    else:\n",
    "        print('it is better {}'.format(i))\n",
    "list2"
   ]
  },
  {
   "cell_type": "code",
   "execution_count": 7,
   "id": "8f710e9c",
   "metadata": {},
   "outputs": [
    {
     "data": {
      "text/plain": [
       "['it is good apple',\n",
       " 'it is good ball',\n",
       " 'it is better cat',\n",
       " 'it is better dog',\n",
       " 'it is good elephant']"
      ]
     },
     "execution_count": 7,
     "metadata": {},
     "output_type": "execute_result"
    }
   ],
   "source": [
    "list1= ['apple','ball','cat','dog','elephant']\n",
    "output1=['it is good {}'.format(i) if len(i)>3 else 'it is better {}'.format(i) for i in list1 ]\n",
    "output1"
   ]
  },
  {
   "cell_type": "markdown",
   "id": "8d7eeda7",
   "metadata": {},
   "source": [
    "$clear$"
   ]
  },
  {
   "cell_type": "code",
   "execution_count": 12,
   "id": "a5c16077",
   "metadata": {},
   "outputs": [
    {
     "data": {
      "text/plain": [
       "[]"
      ]
     },
     "execution_count": 12,
     "metadata": {},
     "output_type": "execute_result"
    }
   ],
   "source": [
    "list1=[1,2,3,4]\n",
    "list1.clear()\n",
    "list1"
   ]
  },
  {
   "cell_type": "markdown",
   "id": "10e8bca4",
   "metadata": {},
   "source": [
    "$pop$"
   ]
  },
  {
   "cell_type": "code",
   "execution_count": 21,
   "id": "cb7d34a8",
   "metadata": {},
   "outputs": [
    {
     "data": {
      "text/plain": [
       "4"
      ]
     },
     "execution_count": 21,
     "metadata": {},
     "output_type": "execute_result"
    }
   ],
   "source": [
    "list1=[1,2,3,4]  #default argument index =-1\n",
    "list1.pop()        #which is last element\n",
    "# if you not provide any value , it will delete the last element\n",
    "# it is also return which value deleted\n",
    "# and it saves result in the same list"
   ]
  },
  {
   "cell_type": "markdown",
   "id": "b51cacf5",
   "metadata": {},
   "source": [
    "$remove$"
   ]
  },
  {
   "cell_type": "code",
   "execution_count": 22,
   "id": "9f4c2303",
   "metadata": {},
   "outputs": [],
   "source": [
    "list1=[1,2,3,4]    \n",
    "list1.remove(3)   #it takes element of the list\n",
    "            # it is not return any thing\n",
    "             # it also saves the result in same list"
   ]
  },
  {
   "cell_type": "code",
   "execution_count": 23,
   "id": "0ac4e5d3",
   "metadata": {},
   "outputs": [
    {
     "data": {
      "text/plain": [
       "[1, 2, 4]"
      ]
     },
     "execution_count": 23,
     "metadata": {},
     "output_type": "execute_result"
    }
   ],
   "source": [
    "list1"
   ]
  },
  {
   "cell_type": "markdown",
   "id": "4a432d91",
   "metadata": {},
   "source": [
    "$delete$"
   ]
  },
  {
   "cell_type": "code",
   "execution_count": 15,
   "id": "45ce583c",
   "metadata": {},
   "outputs": [
    {
     "data": {
      "text/plain": [
       "[1, 2, 4]"
      ]
     },
     "execution_count": 15,
     "metadata": {},
     "output_type": "execute_result"
    }
   ],
   "source": [
    "list1=[1,2,3,4]  ## del is not a methode\n",
    "del list1[2]\n",
    "list1"
   ]
  },
  {
   "cell_type": "code",
   "execution_count": null,
   "id": "4cc52f2c",
   "metadata": {},
   "outputs": [],
   "source": []
  },
  {
   "cell_type": "code",
   "execution_count": null,
   "id": "3aa7a448",
   "metadata": {},
   "outputs": [],
   "source": []
  },
  {
   "cell_type": "code",
   "execution_count": 29,
   "id": "3f22cd6f",
   "metadata": {},
   "outputs": [
    {
     "data": {
      "text/plain": [
       "[1,\n",
       " 4,\n",
       " 7,\n",
       " 10,\n",
       " 13,\n",
       " 16,\n",
       " 19,\n",
       " 22,\n",
       " 25,\n",
       " 28,\n",
       " 31,\n",
       " 34,\n",
       " 37,\n",
       " 40,\n",
       " 43,\n",
       " 46,\n",
       " 49,\n",
       " 52,\n",
       " 58,\n",
       " 61,\n",
       " 64,\n",
       " 67,\n",
       " 70,\n",
       " 73,\n",
       " 76,\n",
       " 79,\n",
       " 82,\n",
       " 85,\n",
       " 88,\n",
       " 91,\n",
       " 94,\n",
       " 97]"
      ]
     },
     "execution_count": 29,
     "metadata": {},
     "output_type": "execute_result"
    }
   ],
   "source": [
    "list2=[i for i in range(1,100,3)]\n",
    "list2.remove(55)\n",
    "list2"
   ]
  },
  {
   "cell_type": "markdown",
   "id": "f5cb5be5",
   "metadata": {},
   "source": [
    "$index()$"
   ]
  },
  {
   "cell_type": "code",
   "execution_count": 32,
   "id": "c1f8966b",
   "metadata": {},
   "outputs": [],
   "source": [
    "list1=['a','b','c','d']"
   ]
  },
  {
   "cell_type": "code",
   "execution_count": 34,
   "id": "9bdf542e",
   "metadata": {},
   "outputs": [
    {
     "data": {
      "text/plain": [
       "2"
      ]
     },
     "execution_count": 34,
     "metadata": {},
     "output_type": "execute_result"
    }
   ],
   "source": [
    "list1.index('c')"
   ]
  },
  {
   "cell_type": "code",
   "execution_count": 36,
   "id": "e5503ad8",
   "metadata": {},
   "outputs": [
    {
     "data": {
      "text/plain": [
       "'c'"
      ]
     },
     "execution_count": 36,
     "metadata": {},
     "output_type": "execute_result"
    }
   ],
   "source": [
    "list1.pop(list1.index('c'))"
   ]
  },
  {
   "cell_type": "code",
   "execution_count": 80,
   "id": "30f4bd6e",
   "metadata": {},
   "outputs": [],
   "source": [
    "string1='Kl.rahul@pune.com , virat.kohli@blr.com , rohit.sharma@mumbai.com'\n",
    "list1=string1.split(',')\n",
    "str1,str2,str3=[],[],[]\n",
    "for i in list1:\n",
    "    str1.append(i.split('.')[0])\n",
    "    str2.append(i.split('.')[1].split(\"@\")[0])\n",
    "    str3.append(i.split('.')[1].split('@')[1])\n"
   ]
  },
  {
   "cell_type": "code",
   "execution_count": 81,
   "id": "5d983900",
   "metadata": {},
   "outputs": [
    {
     "data": {
      "text/plain": [
       "(['Kl', ' virat', ' rohit'],\n",
       " ['rahul', 'kohli', 'sharma'],\n",
       " ['pune', 'blr', 'mumbai'])"
      ]
     },
     "execution_count": 81,
     "metadata": {},
     "output_type": "execute_result"
    }
   ],
   "source": [
    "str1,str2,str3"
   ]
  },
  {
   "cell_type": "markdown",
   "id": "52db374f",
   "metadata": {},
   "source": [
    " - append \n",
    "    \n",
    " - clear\n",
    "\n",
    " - pop\n",
    "    \n",
    " - remove\n",
    "\n",
    " - index\n",
    "    \n",
    " - del(is not method)"
   ]
  },
  {
   "cell_type": "markdown",
   "id": "06ac8121",
   "metadata": {},
   "source": [
    "$copy$"
   ]
  },
  {
   "cell_type": "code",
   "execution_count": 54,
   "id": "e32f0010",
   "metadata": {},
   "outputs": [
    {
     "data": {
      "text/plain": [
       "['a', 'b', 'c', 'd']"
      ]
     },
     "execution_count": 54,
     "metadata": {},
     "output_type": "execute_result"
    }
   ],
   "source": [
    "list1=['a','b','c','d']\n",
    "list1.copy()"
   ]
  },
  {
   "cell_type": "code",
   "execution_count": 56,
   "id": "c112cbec",
   "metadata": {},
   "outputs": [
    {
     "name": "stdout",
     "output_type": "stream",
     "text": [
      "[]\n",
      "[1, 2, 3, 4, 4]\n"
     ]
    },
    {
     "data": {
      "text/plain": [
       "(None, None)"
      ]
     },
     "execution_count": 56,
     "metadata": {},
     "output_type": "execute_result"
    }
   ],
   "source": [
    "list1=[1,2,3,4,4]\n",
    "list2=list1.copy()\n",
    "list1.clear()\n",
    "print(list1),print(list2)"
   ]
  },
  {
   "cell_type": "markdown",
   "id": "25df12cf",
   "metadata": {},
   "source": [
    "$extend$"
   ]
  },
  {
   "cell_type": "code",
   "execution_count": 62,
   "id": "544ae50c",
   "metadata": {},
   "outputs": [
    {
     "name": "stdout",
     "output_type": "stream",
     "text": [
      "[1, 2, 3, 4]\n"
     ]
    }
   ],
   "source": [
    "list1=['a','b','c','d']\n",
    "list2=[1,2,3,4]\n",
    "list1.extend(list2)\n",
    "print(list2)"
   ]
  },
  {
   "cell_type": "code",
   "execution_count": 63,
   "id": "62544b88",
   "metadata": {},
   "outputs": [
    {
     "name": "stdout",
     "output_type": "stream",
     "text": [
      "['a', 'b', 'c', 'd', 1, 2, 3, 4]\n"
     ]
    }
   ],
   "source": [
    "list2.extend(list1)\n",
    "print(list1)"
   ]
  },
  {
   "cell_type": "code",
   "execution_count": 64,
   "id": "0b6be8e4",
   "metadata": {},
   "outputs": [
    {
     "data": {
      "text/plain": [
       "['In',\n",
       " 'Out',\n",
       " '_',\n",
       " '_12',\n",
       " '_15',\n",
       " '_16',\n",
       " '_18',\n",
       " '_20',\n",
       " '_21',\n",
       " '_23',\n",
       " '_24',\n",
       " '_27',\n",
       " '_29',\n",
       " '_3',\n",
       " '_30',\n",
       " '_34',\n",
       " '_36',\n",
       " '_4',\n",
       " '_5',\n",
       " '_54',\n",
       " '_55',\n",
       " '_56',\n",
       " '_6',\n",
       " '_7',\n",
       " '_9',\n",
       " '__',\n",
       " '___',\n",
       " '__builtin__',\n",
       " '__builtins__',\n",
       " '__doc__',\n",
       " '__loader__',\n",
       " '__name__',\n",
       " '__package__',\n",
       " '__spec__',\n",
       " '_dh',\n",
       " '_i',\n",
       " '_i1',\n",
       " '_i10',\n",
       " '_i11',\n",
       " '_i12',\n",
       " '_i13',\n",
       " '_i14',\n",
       " '_i15',\n",
       " '_i16',\n",
       " '_i17',\n",
       " '_i18',\n",
       " '_i19',\n",
       " '_i2',\n",
       " '_i20',\n",
       " '_i21',\n",
       " '_i22',\n",
       " '_i23',\n",
       " '_i24',\n",
       " '_i25',\n",
       " '_i26',\n",
       " '_i27',\n",
       " '_i28',\n",
       " '_i29',\n",
       " '_i3',\n",
       " '_i30',\n",
       " '_i31',\n",
       " '_i32',\n",
       " '_i33',\n",
       " '_i34',\n",
       " '_i35',\n",
       " '_i36',\n",
       " '_i37',\n",
       " '_i38',\n",
       " '_i39',\n",
       " '_i4',\n",
       " '_i40',\n",
       " '_i41',\n",
       " '_i42',\n",
       " '_i43',\n",
       " '_i44',\n",
       " '_i45',\n",
       " '_i46',\n",
       " '_i47',\n",
       " '_i48',\n",
       " '_i49',\n",
       " '_i5',\n",
       " '_i50',\n",
       " '_i51',\n",
       " '_i52',\n",
       " '_i53',\n",
       " '_i54',\n",
       " '_i55',\n",
       " '_i56',\n",
       " '_i57',\n",
       " '_i58',\n",
       " '_i59',\n",
       " '_i6',\n",
       " '_i60',\n",
       " '_i61',\n",
       " '_i62',\n",
       " '_i63',\n",
       " '_i64',\n",
       " '_i7',\n",
       " '_i8',\n",
       " '_i9',\n",
       " '_ih',\n",
       " '_ii',\n",
       " '_iii',\n",
       " '_oh',\n",
       " 'exit',\n",
       " 'get_ipython',\n",
       " 'i',\n",
       " 'list1',\n",
       " 'list2',\n",
       " 'open',\n",
       " 'output',\n",
       " 'output1',\n",
       " 'quit',\n",
       " 'str1',\n",
       " 'str2',\n",
       " 'str3',\n",
       " 'string1',\n",
       " 'string2']"
      ]
     },
     "execution_count": 64,
     "metadata": {},
     "output_type": "execute_result"
    }
   ],
   "source": [
    "dir()"
   ]
  },
  {
   "cell_type": "code",
   "execution_count": null,
   "id": "54d5e643",
   "metadata": {},
   "outputs": [],
   "source": []
  },
  {
   "cell_type": "markdown",
   "id": "5ffb24b5",
   "metadata": {},
   "source": [
    "$zip$"
   ]
  },
  {
   "cell_type": "code",
   "execution_count": 68,
   "id": "9c78ae2d",
   "metadata": {},
   "outputs": [
    {
     "name": "stdout",
     "output_type": "stream",
     "text": [
      "ram age is 25\n",
      "raheem age is 30\n",
      "robert age is 35\n"
     ]
    }
   ],
   "source": [
    "list1=['ram','raheem','robert']\n",
    "list2=[25,30,35]\n",
    "for i,j in zip(list1,list2):\n",
    "    print('{} age is {}'.format(i,j))"
   ]
  },
  {
   "cell_type": "markdown",
   "id": "48d019a4",
   "metadata": {},
   "source": [
    "max()\n",
    "min()\n",
    "print()\n",
    "len()\n",
    "zip()\n",
    "its a keywords"
   ]
  },
  {
   "cell_type": "markdown",
   "id": "e0a31527",
   "metadata": {},
   "source": [
    "$sort$"
   ]
  },
  {
   "cell_type": "code",
   "execution_count": 70,
   "id": "66d8f0f3",
   "metadata": {},
   "outputs": [
    {
     "data": {
      "text/plain": [
       "['A', 'B', 'C', 'D']"
      ]
     },
     "execution_count": 70,
     "metadata": {},
     "output_type": "execute_result"
    }
   ],
   "source": [
    "list1=['A','D','B','C']\n",
    "list1.sort()   #if you nothing means ascending order (reverse=false)\n",
    "list1           # argument reverse it defaut as false"
   ]
  },
  {
   "cell_type": "code",
   "execution_count": 71,
   "id": "41f89819",
   "metadata": {},
   "outputs": [
    {
     "data": {
      "text/plain": [
       "['D', 'C', 'B', 'A']"
      ]
     },
     "execution_count": 71,
     "metadata": {},
     "output_type": "execute_result"
    }
   ],
   "source": [
    "list1=['A','D','B','C']\n",
    "list1.sort(reverse=True)\n",
    "list1"
   ]
  },
  {
   "cell_type": "markdown",
   "id": "e48a6a90",
   "metadata": {},
   "source": [
    "$sorted$"
   ]
  },
  {
   "cell_type": "code",
   "execution_count": 73,
   "id": "e7e3d502",
   "metadata": {},
   "outputs": [
    {
     "name": "stdout",
     "output_type": "stream",
     "text": [
      "['A', 'B', 'C', 'D']\n",
      "['D', 'C', 'B', 'A']\n"
     ]
    }
   ],
   "source": [
    "list1=['A','D','B','C']\n",
    "print(sorted(list1))\n",
    "print(sorted(list1,reverse=True))"
   ]
  },
  {
   "cell_type": "markdown",
   "id": "2b5f45f5",
   "metadata": {},
   "source": [
    "- in the sort method result will save in a same list\n",
    "\n",
    "- in the sorted method result will not save"
   ]
  },
  {
   "cell_type": "markdown",
   "id": "3841b5eb",
   "metadata": {},
   "source": [
    "$join$"
   ]
  },
  {
   "cell_type": "code",
   "execution_count": 76,
   "id": "0c3478f7",
   "metadata": {},
   "outputs": [
    {
     "data": {
      "text/plain": [
       "['Kl.rahul@pune.com ', ' virat.kohli@blr.com ', ' rohit.sharma@mumbai.com']"
      ]
     },
     "execution_count": 76,
     "metadata": {},
     "output_type": "execute_result"
    }
   ],
   "source": [
    "string1='Kl.rahul@pune.com , virat.kohli@blr.com , rohit.sharma@mumbai.com'\n",
    "list1=string1.split(',')\n",
    "list1"
   ]
  },
  {
   "cell_type": "code",
   "execution_count": 77,
   "id": "93edd443",
   "metadata": {},
   "outputs": [
    {
     "data": {
      "text/plain": [
       "'Kl.rahul@pune.com --> virat.kohli@blr.com --> rohit.sharma@mumbai.com'"
      ]
     },
     "execution_count": 77,
     "metadata": {},
     "output_type": "execute_result"
    }
   ],
   "source": [
    "string1='Kl.rahul@pune.com , virat.kohli@blr.com , rohit.sharma@mumbai.com'\n",
    "list1='-->'.join(list1)\n",
    "list1     \n",
    "# if you want to join a list of element in a single string"
   ]
  },
  {
   "cell_type": "code",
   "execution_count": 79,
   "id": "d8cf8cfb",
   "metadata": {},
   "outputs": [
    {
     "data": {
      "text/plain": [
       "'A->D->B->C'"
      ]
     },
     "execution_count": 79,
     "metadata": {},
     "output_type": "execute_result"
    }
   ],
   "source": [
    "list1=['A','D','B','C']\n",
    "'->'.join(list1)"
   ]
  },
  {
   "cell_type": "markdown",
   "id": "0830d10c",
   "metadata": {},
   "source": [
    "$insert$"
   ]
  },
  {
   "cell_type": "code",
   "execution_count": 85,
   "id": "067d215d",
   "metadata": {},
   "outputs": [
    {
     "data": {
      "text/plain": [
       "[1, 2, 'h', 3, 4]"
      ]
     },
     "execution_count": 85,
     "metadata": {},
     "output_type": "execute_result"
    }
   ],
   "source": [
    "list2=[1,2,3,4]\n",
    "list2.insert(2,'h')\n",
    "list2"
   ]
  },
  {
   "cell_type": "code",
   "execution_count": 93,
   "id": "1e2c3970",
   "metadata": {},
   "outputs": [
    {
     "data": {
      "text/plain": [
       "['A', 'D', 'B', 'm', 'C']"
      ]
     },
     "execution_count": 93,
     "metadata": {},
     "output_type": "execute_result"
    }
   ],
   "source": [
    "list1=['A','D','B','C']\n",
    "list1.insert(3,'m')\n",
    "list1"
   ]
  },
  {
   "cell_type": "code",
   "execution_count": null,
   "id": "e11e6d7c",
   "metadata": {},
   "outputs": [],
   "source": []
  }
 ],
 "metadata": {
  "kernelspec": {
   "display_name": "Python 3 (ipykernel)",
   "language": "python",
   "name": "python3"
  },
  "language_info": {
   "codemirror_mode": {
    "name": "ipython",
    "version": 3
   },
   "file_extension": ".py",
   "mimetype": "text/x-python",
   "name": "python",
   "nbconvert_exporter": "python",
   "pygments_lexer": "ipython3",
   "version": "3.11.5"
  }
 },
 "nbformat": 4,
 "nbformat_minor": 5
}
