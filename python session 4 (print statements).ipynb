{
 "cells": [
  {
   "cell_type": "markdown",
   "id": "4ed9c32a",
   "metadata": {},
   "source": [
    "$print&\n"
   ]
  },
  {
   "cell_type": "code",
   "execution_count": 1,
   "id": "cdc88e43",
   "metadata": {},
   "outputs": [
    {
     "data": {
      "text/plain": [
       "20"
      ]
     },
     "execution_count": 1,
     "metadata": {},
     "output_type": "execute_result"
    }
   ],
   "source": [
    "a=20\n",
    "a"
   ]
  },
  {
   "cell_type": "code",
   "execution_count": 2,
   "id": "5b2186e2",
   "metadata": {},
   "outputs": [
    {
     "name": "stdout",
     "output_type": "stream",
     "text": [
      "20\n"
     ]
    }
   ],
   "source": [
    "print(a)"
   ]
  },
  {
   "cell_type": "code",
   "execution_count": 3,
   "id": "8a0d878a",
   "metadata": {},
   "outputs": [
    {
     "data": {
      "text/plain": [
       "30"
      ]
     },
     "execution_count": 3,
     "metadata": {},
     "output_type": "execute_result"
    }
   ],
   "source": [
    "a=20   ##last value print\n",
    "b=30\n",
    "a\n",
    "b"
   ]
  },
  {
   "cell_type": "code",
   "execution_count": 4,
   "id": "160b55bc",
   "metadata": {},
   "outputs": [
    {
     "name": "stdout",
     "output_type": "stream",
     "text": [
      "50\n",
      "100\n"
     ]
    }
   ],
   "source": [
    "a=50\n",
    "b=100\n",
    "print(a)\n",
    "print(b)"
   ]
  },
  {
   "cell_type": "code",
   "execution_count": 5,
   "id": "8a313498",
   "metadata": {},
   "outputs": [
    {
     "name": "stdout",
     "output_type": "stream",
     "text": [
      "50 40\n"
     ]
    }
   ],
   "source": [
    "a=50\n",
    "b=40\n",
    "print(a,b)"
   ]
  },
  {
   "cell_type": "code",
   "execution_count": 6,
   "id": "8a6a20b1",
   "metadata": {},
   "outputs": [
    {
     "name": "stdout",
     "output_type": "stream",
     "text": [
      "hii how are you\n"
     ]
    }
   ],
   "source": [
    "#i want to print\n",
    "#hii how are you\n",
    "print(\"hii how are you\")"
   ]
  },
  {
   "cell_type": "code",
   "execution_count": 7,
   "id": "4640e575",
   "metadata": {},
   "outputs": [
    {
     "name": "stdout",
     "output_type": "stream",
     "text": [
      "python\n"
     ]
    }
   ],
   "source": [
    "name=\"python\"\n",
    "print(name)"
   ]
  },
  {
   "cell_type": "code",
   "execution_count": 9,
   "id": "71a0aa15",
   "metadata": {},
   "outputs": [
    {
     "name": "stdout",
     "output_type": "stream",
     "text": [
      "my name is python\n"
     ]
    }
   ],
   "source": [
    "print(\"my name is python\") #what ever in red/quotes it will print"
   ]
  },
  {
   "cell_type": "code",
   "execution_count": 10,
   "id": "8c720fe5",
   "metadata": {},
   "outputs": [
    {
     "name": "stdout",
     "output_type": "stream",
     "text": [
      "my name is python\n"
     ]
    }
   ],
   "source": [
    "print(\"my name is\", name)"
   ]
  },
  {
   "cell_type": "code",
   "execution_count": 12,
   "id": "a9cdd3c1",
   "metadata": {},
   "outputs": [
    {
     "name": "stdout",
     "output_type": "stream",
     "text": [
      "my name is python\n",
      "my name is python\n",
      "my name is  python\n"
     ]
    }
   ],
   "source": [
    "name=\"python\"\n",
    "print(\"my name is python\")\n",
    "print(\"my name is\",\"python\")\n",
    "print(\"my name is \",name)\n"
   ]
  },
  {
   "cell_type": "code",
   "execution_count": 14,
   "id": "4fc4376d",
   "metadata": {},
   "outputs": [
    {
     "name": "stdout",
     "output_type": "stream",
     "text": [
      "my value of num1 is 30\n",
      "my value of num1 is 30\n"
     ]
    }
   ],
   "source": [
    "num1=30\n",
    "print(\"my value of num1 is\",num1)\n",
    "print(\"my value of num1 is 30\")"
   ]
  },
  {
   "cell_type": "code",
   "execution_count": 18,
   "id": "f51eb1aa",
   "metadata": {},
   "outputs": [
    {
     "name": "stdout",
     "output_type": "stream",
     "text": [
      "the value of num1 is : 30\n",
      "the value of num1 is: 30\n"
     ]
    }
   ],
   "source": [
    "#the value of num1 is :30\n",
    "name2=30\n",
    "print(\"the value of num1 is : 30\")\n",
    "print(\"the value of num1 is:\", name2)"
   ]
  },
  {
   "cell_type": "code",
   "execution_count": 19,
   "id": "7a058a95",
   "metadata": {},
   "outputs": [
    {
     "name": "stdout",
     "output_type": "stream",
     "text": [
      "hii\n",
      "how are you\n"
     ]
    }
   ],
   "source": [
    "#hiiii\n",
    "#how are you\n",
    "print(\"hii\")\n",
    "print(\"how are you\")"
   ]
  },
  {
   "cell_type": "code",
   "execution_count": null,
   "id": "8e0c55d1",
   "metadata": {},
   "outputs": [],
   "source": [
    "#i want to combine multiple print statement\n",
    "  ##end"
   ]
  },
  {
   "cell_type": "code",
   "execution_count": 21,
   "id": "66059baf",
   "metadata": {},
   "outputs": [
    {
     "name": "stdout",
     "output_type": "stream",
     "text": [
      "hiii   how are you\n"
     ]
    }
   ],
   "source": [
    "print(\"hiii\",end='   ')\n",
    "print(\"how are you\")"
   ]
  },
  {
   "cell_type": "code",
   "execution_count": 22,
   "id": "bded2fc2",
   "metadata": {},
   "outputs": [
    {
     "name": "stdout",
     "output_type": "stream",
     "text": [
      "hiii ---->  how are you\n"
     ]
    }
   ],
   "source": [
    "print(\"hiii\",end=' ---->  ')\n",
    "print(\"how are you\")"
   ]
  },
  {
   "cell_type": "code",
   "execution_count": 24,
   "id": "2fb81f7e",
   "metadata": {},
   "outputs": [
    {
     "name": "stdout",
     "output_type": "stream",
     "text": [
      "hii how are you\n"
     ]
    }
   ],
   "source": [
    "print(\"hii\",end=' ')\n",
    "print(\"how\",end=' ')\n",
    "print(\"are\",end=' ')\n",
    "print(\"you\")"
   ]
  },
  {
   "cell_type": "code",
   "execution_count": 26,
   "id": "255f2bc6",
   "metadata": {},
   "outputs": [
    {
     "name": "stdout",
     "output_type": "stream",
     "text": [
      "hiii how are you\n"
     ]
    }
   ],
   "source": [
    "print(\"\"\"hiii how are you\"\"\")"
   ]
  },
  {
   "cell_type": "code",
   "execution_count": 27,
   "id": "6724ccf9",
   "metadata": {},
   "outputs": [
    {
     "data": {
      "text/plain": [
       "600"
      ]
     },
     "execution_count": 27,
     "metadata": {},
     "output_type": "execute_result"
    }
   ],
   "source": [
    "number1=100\n",
    "number2=500\n",
    "add=number1+number2\n",
    "add\n"
   ]
  },
  {
   "cell_type": "code",
   "execution_count": 28,
   "id": "1a2dd2b0",
   "metadata": {},
   "outputs": [
    {
     "name": "stdout",
     "output_type": "stream",
     "text": [
      "600\n"
     ]
    }
   ],
   "source": [
    "print(number1+number2)"
   ]
  },
  {
   "cell_type": "code",
   "execution_count": 31,
   "id": "a5869281",
   "metadata": {},
   "outputs": [
    {
     "name": "stdout",
     "output_type": "stream",
     "text": [
      "the addition of  100 and 500 is 600\n"
     ]
    }
   ],
   "source": [
    "print(\"the addition of \",number1,\"and\",number2,\"is\",number1+number2)"
   ]
  },
  {
   "cell_type": "code",
   "execution_count": 32,
   "id": "b50fe70a",
   "metadata": {},
   "outputs": [
    {
     "name": "stdout",
     "output_type": "stream",
     "text": [
      "the addition of  100 and 500 is 600\n"
     ]
    }
   ],
   "source": [
    "print(\"the addition of \",number1,\"and\",number2,\"is\",add)"
   ]
  },
  {
   "cell_type": "code",
   "execution_count": 34,
   "id": "27240f5a",
   "metadata": {},
   "outputs": [
    {
     "name": "stdout",
     "output_type": "stream",
     "text": [
      "the multiplicatin of 20 and 30 is 600\n"
     ]
    }
   ],
   "source": [
    "a=20\n",
    "b=30\n",
    "mul=a*b\n",
    "print(\"the multiplicatin of\",a,\"and\",b,\"is\",mul)"
   ]
  },
  {
   "cell_type": "code",
   "execution_count": 35,
   "id": "6d2c69e8",
   "metadata": {},
   "outputs": [
    {
     "name": "stdout",
     "output_type": "stream",
     "text": [
      "the multiplicatin of 20 30 is 600\n"
     ]
    }
   ],
   "source": [
    "print(\"the multiplicatin of\",a,b,\"is\",mul)"
   ]
  },
  {
   "cell_type": "code",
   "execution_count": 40,
   "id": "0c43fc4f",
   "metadata": {},
   "outputs": [
    {
     "name": "stdout",
     "output_type": "stream",
     "text": [
      "the multiplicatin of 20and30 is 600\n"
     ]
    }
   ],
   "source": [
    "print('the multiplicatin of {}and{} is {}'.format(a,b,mul))"
   ]
  },
  {
   "cell_type": "code",
   "execution_count": 50,
   "id": "b09f91c7",
   "metadata": {},
   "outputs": [
    {
     "name": "stdout",
     "output_type": "stream",
     "text": [
      "the addition of 300 and 100 is 200\n"
     ]
    }
   ],
   "source": [
    "number1=100\n",
    "number2=200\n",
    "add=number1+number2\n",
    "print(\"the addition of {} and {} is {}\".format(add,number1,number2))"
   ]
  },
  {
   "cell_type": "code",
   "execution_count": null,
   "id": "8f9e165a",
   "metadata": {},
   "outputs": [],
   "source": []
  },
  {
   "cell_type": "code",
   "execution_count": null,
   "id": "2e8a290e",
   "metadata": {},
   "outputs": [],
   "source": []
  },
  {
   "cell_type": "code",
   "execution_count": null,
   "id": "0ba97dae",
   "metadata": {},
   "outputs": [],
   "source": []
  },
  {
   "cell_type": "code",
   "execution_count": null,
   "id": "ec214946",
   "metadata": {},
   "outputs": [],
   "source": []
  },
  {
   "cell_type": "code",
   "execution_count": null,
   "id": "8caa1601",
   "metadata": {},
   "outputs": [],
   "source": []
  },
  {
   "cell_type": "code",
   "execution_count": null,
   "id": "3725328f",
   "metadata": {},
   "outputs": [],
   "source": []
  },
  {
   "cell_type": "code",
   "execution_count": null,
   "id": "7acf3e2b",
   "metadata": {},
   "outputs": [],
   "source": []
  },
  {
   "cell_type": "code",
   "execution_count": null,
   "id": "3170850a",
   "metadata": {},
   "outputs": [],
   "source": []
  },
  {
   "cell_type": "code",
   "execution_count": null,
   "id": "7a4efefc",
   "metadata": {},
   "outputs": [],
   "source": []
  },
  {
   "cell_type": "code",
   "execution_count": null,
   "id": "fd314530",
   "metadata": {},
   "outputs": [],
   "source": []
  },
  {
   "cell_type": "code",
   "execution_count": null,
   "id": "4cf81ec9",
   "metadata": {},
   "outputs": [],
   "source": []
  },
  {
   "cell_type": "code",
   "execution_count": null,
   "id": "60c9d850",
   "metadata": {},
   "outputs": [],
   "source": []
  },
  {
   "cell_type": "code",
   "execution_count": null,
   "id": "cbd09dce",
   "metadata": {},
   "outputs": [],
   "source": []
  },
  {
   "cell_type": "code",
   "execution_count": null,
   "id": "0988e455",
   "metadata": {},
   "outputs": [],
   "source": []
  },
  {
   "cell_type": "code",
   "execution_count": null,
   "id": "b7c06b18",
   "metadata": {},
   "outputs": [],
   "source": []
  },
  {
   "cell_type": "code",
   "execution_count": null,
   "id": "9a18a2c5",
   "metadata": {},
   "outputs": [],
   "source": []
  }
 ],
 "metadata": {
  "kernelspec": {
   "display_name": "Python 3 (ipykernel)",
   "language": "python",
   "name": "python3"
  },
  "language_info": {
   "codemirror_mode": {
    "name": "ipython",
    "version": 3
   },
   "file_extension": ".py",
   "mimetype": "text/x-python",
   "name": "python",
   "nbconvert_exporter": "python",
   "pygments_lexer": "ipython3",
   "version": "3.11.5"
  }
 },
 "nbformat": 4,
 "nbformat_minor": 5
}
