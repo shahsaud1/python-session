{
 "cells": [
  {
   "cell_type": "markdown",
   "id": "c9afe460",
   "metadata": {},
   "source": [
    "$mutabality$-$inmutabality$"
   ]
  },
  {
   "cell_type": "code",
   "execution_count": 1,
   "id": "c90b8664",
   "metadata": {},
   "outputs": [],
   "source": [
    "string1 = 'python'"
   ]
  },
  {
   "cell_type": "code",
   "execution_count": 2,
   "id": "8dfe132f",
   "metadata": {},
   "outputs": [
    {
     "ename": "TypeError",
     "evalue": "'str' object does not support item assignment",
     "output_type": "error",
     "traceback": [
      "\u001b[1;31m---------------------------------------------------------------------------\u001b[0m",
      "\u001b[1;31mTypeError\u001b[0m                                 Traceback (most recent call last)",
      "Cell \u001b[1;32mIn[2], line 1\u001b[0m\n\u001b[1;32m----> 1\u001b[0m string1[\u001b[38;5;241m0\u001b[39m]\u001b[38;5;241m=\u001b[39m\u001b[38;5;124m'\u001b[39m\u001b[38;5;124mp\u001b[39m\u001b[38;5;124m'\u001b[39m\n",
      "\u001b[1;31mTypeError\u001b[0m: 'str' object does not support item assignment"
     ]
    }
   ],
   "source": [
    "string1[0]='p'"
   ]
  },
  {
   "cell_type": "markdown",
   "id": "d21f7a82",
   "metadata": {},
   "source": [
    "##string are inmutable##"
   ]
  },
  {
   "cell_type": "code",
   "execution_count": 3,
   "id": "5dd2ea9c",
   "metadata": {},
   "outputs": [],
   "source": [
    "list1=[10,20,50]"
   ]
  },
  {
   "cell_type": "code",
   "execution_count": 4,
   "id": "4d95e4d4",
   "metadata": {},
   "outputs": [],
   "source": [
    "list1[0]=100"
   ]
  },
  {
   "cell_type": "code",
   "execution_count": 5,
   "id": "f3f3e7ce",
   "metadata": {},
   "outputs": [
    {
     "data": {
      "text/plain": [
       "[100, 20, 50]"
      ]
     },
     "execution_count": 5,
     "metadata": {},
     "output_type": "execute_result"
    }
   ],
   "source": [
    "list1"
   ]
  },
  {
   "cell_type": "markdown",
   "id": "72cdc72b",
   "metadata": {},
   "source": [
    "*slicing*"
   ]
  },
  {
   "cell_type": "code",
   "execution_count": 7,
   "id": "5233a84a",
   "metadata": {},
   "outputs": [],
   "source": [
    "string1= 'hello how are you'  #this concept is same as range() in loop"
   ]
  },
  {
   "cell_type": "code",
   "execution_count": 12,
   "id": "130d0c7a",
   "metadata": {},
   "outputs": [
    {
     "data": {
      "text/plain": [
       "17"
      ]
     },
     "execution_count": 12,
     "metadata": {},
     "output_type": "execute_result"
    }
   ],
   "source": [
    "len(string1)"
   ]
  },
  {
   "cell_type": "code",
   "execution_count": 10,
   "id": "83935f9b",
   "metadata": {},
   "outputs": [
    {
     "data": {
      "text/plain": [
       "'h'"
      ]
     },
     "execution_count": 10,
     "metadata": {},
     "output_type": "execute_result"
    }
   ],
   "source": [
    "string1[0]"
   ]
  },
  {
   "cell_type": "code",
   "execution_count": 11,
   "id": "5ba7990e",
   "metadata": {},
   "outputs": [
    {
     "data": {
      "text/plain": [
       "'llo how '"
      ]
     },
     "execution_count": 11,
     "metadata": {},
     "output_type": "execute_result"
    }
   ],
   "source": [
    "string1[2:10]"
   ]
  },
  {
   "cell_type": "code",
   "execution_count": 14,
   "id": "74d937f4",
   "metadata": {},
   "outputs": [
    {
     "data": {
      "text/plain": [
       "'hello how are y'"
      ]
     },
     "execution_count": 14,
     "metadata": {},
     "output_type": "execute_result"
    }
   ],
   "source": [
    "string1[0:15]"
   ]
  },
  {
   "cell_type": "code",
   "execution_count": 15,
   "id": "cb07d6b1",
   "metadata": {},
   "outputs": [
    {
     "data": {
      "text/plain": [
       "'el o r '"
      ]
     },
     "execution_count": 15,
     "metadata": {},
     "output_type": "execute_result"
    }
   ],
   "source": [
    "string1[1:15:2]"
   ]
  },
  {
   "cell_type": "code",
   "execution_count": 16,
   "id": "98c540e9",
   "metadata": {},
   "outputs": [
    {
     "data": {
      "text/plain": [
       "''"
      ]
     },
     "execution_count": 16,
     "metadata": {},
     "output_type": "execute_result"
    }
   ],
   "source": [
    "string1[1:15:-2]"
   ]
  },
  {
   "cell_type": "code",
   "execution_count": 18,
   "id": "e1a870dd",
   "metadata": {},
   "outputs": [
    {
     "data": {
      "text/plain": [
       "'hello how are you'"
      ]
     },
     "execution_count": 18,
     "metadata": {},
     "output_type": "execute_result"
    }
   ],
   "source": [
    "string1[:]  #nothing mentioned in start position: simply starting of letter\n",
    "            #nothing mentioned in stop position: simply end of letter"
   ]
  },
  {
   "cell_type": "code",
   "execution_count": 19,
   "id": "0ce46b69",
   "metadata": {},
   "outputs": [
    {
     "data": {
      "text/plain": [
       "'hello how are you'"
      ]
     },
     "execution_count": 19,
     "metadata": {},
     "output_type": "execute_result"
    }
   ],
   "source": [
    "string1[::] #nothing mentioned in step position: simply step = 1 of letter"
   ]
  },
  {
   "cell_type": "code",
   "execution_count": 23,
   "id": "1b2c33b1",
   "metadata": {},
   "outputs": [
    {
     "data": {
      "text/plain": [
       "'hello how are you'"
      ]
     },
     "execution_count": 23,
     "metadata": {},
     "output_type": "execute_result"
    }
   ],
   "source": [
    "string1[0:]\n",
    "string1[:len(string1)]\n",
    "string1[:]\n",
    "string1[::]"
   ]
  },
  {
   "cell_type": "code",
   "execution_count": 24,
   "id": "cd59e005",
   "metadata": {},
   "outputs": [
    {
     "name": "stdout",
     "output_type": "stream",
     "text": [
      "hello how are you\n",
      "hello how are you\n",
      "hello how are you\n",
      "hello how are you\n"
     ]
    }
   ],
   "source": [
    "print(string1[0:])\n",
    "print(string1[:len(string1)])\n",
    "print(string1[:])\n",
    "print(string1[::])"
   ]
  },
  {
   "cell_type": "code",
   "execution_count": null,
   "id": "48781a50",
   "metadata": {},
   "outputs": [],
   "source": [
    " \n",
    "h e l l o   h o w   a  r  e      y o  u\n",
    "0 1 2 3 4 5 6 7 8 9 10 11 12 13 14 15 16"
   ]
  },
  {
   "cell_type": "code",
   "execution_count": 25,
   "id": "ac860eea",
   "metadata": {},
   "outputs": [
    {
     "data": {
      "text/plain": [
       "''"
      ]
     },
     "execution_count": 25,
     "metadata": {},
     "output_type": "execute_result"
    }
   ],
   "source": [
    "string1[-2:-15:]"
   ]
  },
  {
   "cell_type": "code",
   "execution_count": 26,
   "id": "02fec0c4",
   "metadata": {},
   "outputs": [
    {
     "data": {
      "text/plain": [
       "'oy era woh ol'"
      ]
     },
     "execution_count": 26,
     "metadata": {},
     "output_type": "execute_result"
    }
   ],
   "source": [
    "string1[-2:-15:-1]"
   ]
  },
  {
   "cell_type": "code",
   "execution_count": 27,
   "id": "b1e50d0f",
   "metadata": {},
   "outputs": [
    {
     "data": {
      "text/plain": [
       "''"
      ]
     },
     "execution_count": 27,
     "metadata": {},
     "output_type": "execute_result"
    }
   ],
   "source": [
    "string1[-15:-2:-1]"
   ]
  },
  {
   "cell_type": "code",
   "execution_count": 29,
   "id": "e32e4c17",
   "metadata": {},
   "outputs": [
    {
     "data": {
      "text/plain": [
       "'lohwaey'"
      ]
     },
     "execution_count": 29,
     "metadata": {},
     "output_type": "execute_result"
    }
   ],
   "source": [
    "string1[-15:-2:2]"
   ]
  },
  {
   "cell_type": "code",
   "execution_count": 30,
   "id": "4241406a",
   "metadata": {},
   "outputs": [
    {
     "data": {
      "text/plain": [
       "'woh ol'"
      ]
     },
     "execution_count": 30,
     "metadata": {},
     "output_type": "execute_result"
    }
   ],
   "source": [
    "string1[8:-15:-1]"
   ]
  },
  {
   "cell_type": "code",
   "execution_count": 31,
   "id": "7a60ed92",
   "metadata": {},
   "outputs": [
    {
     "data": {
      "text/plain": [
       "'hello how are you'"
      ]
     },
     "execution_count": 31,
     "metadata": {},
     "output_type": "execute_result"
    }
   ],
   "source": [
    "string1[::1]\n",
    "#positive\n",
    "#start: start\n",
    "#stop: last"
   ]
  },
  {
   "cell_type": "code",
   "execution_count": 32,
   "id": "f409e8d5",
   "metadata": {},
   "outputs": [
    {
     "data": {
      "text/plain": [
       "'uoy era woh olleh'"
      ]
     },
     "execution_count": 32,
     "metadata": {},
     "output_type": "execute_result"
    }
   ],
   "source": [
    "string1[::-1]\n",
    "#negative\n",
    "#start:u\n",
    "#stop:h"
   ]
  },
  {
   "cell_type": "markdown",
   "id": "78ab83e2",
   "metadata": {},
   "source": [
    "### string methods:"
   ]
  },
  {
   "cell_type": "code",
   "execution_count": 34,
   "id": "4f428ceb",
   "metadata": {},
   "outputs": [
    {
     "data": {
      "text/plain": [
       "['__add__',\n",
       " '__class__',\n",
       " '__contains__',\n",
       " '__delattr__',\n",
       " '__dir__',\n",
       " '__doc__',\n",
       " '__eq__',\n",
       " '__format__',\n",
       " '__ge__',\n",
       " '__getattribute__',\n",
       " '__getitem__',\n",
       " '__getnewargs__',\n",
       " '__getstate__',\n",
       " '__gt__',\n",
       " '__hash__',\n",
       " '__init__',\n",
       " '__init_subclass__',\n",
       " '__iter__',\n",
       " '__le__',\n",
       " '__len__',\n",
       " '__lt__',\n",
       " '__mod__',\n",
       " '__mul__',\n",
       " '__ne__',\n",
       " '__new__',\n",
       " '__reduce__',\n",
       " '__reduce_ex__',\n",
       " '__repr__',\n",
       " '__rmod__',\n",
       " '__rmul__',\n",
       " '__setattr__',\n",
       " '__sizeof__',\n",
       " '__str__',\n",
       " '__subclasshook__',\n",
       " 'capitalize',\n",
       " 'casefold',\n",
       " 'center',\n",
       " 'count',\n",
       " 'encode',\n",
       " 'endswith',\n",
       " 'expandtabs',\n",
       " 'find',\n",
       " 'format',\n",
       " 'format_map',\n",
       " 'index',\n",
       " 'isalnum',\n",
       " 'isalpha',\n",
       " 'isascii',\n",
       " 'isdecimal',\n",
       " 'isdigit',\n",
       " 'isidentifier',\n",
       " 'islower',\n",
       " 'isnumeric',\n",
       " 'isprintable',\n",
       " 'isspace',\n",
       " 'istitle',\n",
       " 'isupper',\n",
       " 'join',\n",
       " 'ljust',\n",
       " 'lower',\n",
       " 'lstrip',\n",
       " 'maketrans',\n",
       " 'partition',\n",
       " 'removeprefix',\n",
       " 'removesuffix',\n",
       " 'replace',\n",
       " 'rfind',\n",
       " 'rindex',\n",
       " 'rjust',\n",
       " 'rpartition',\n",
       " 'rsplit',\n",
       " 'rstrip',\n",
       " 'split',\n",
       " 'splitlines',\n",
       " 'startswith',\n",
       " 'strip',\n",
       " 'swapcase',\n",
       " 'title',\n",
       " 'translate',\n",
       " 'upper',\n",
       " 'zfill']"
      ]
     },
     "execution_count": 34,
     "metadata": {},
     "output_type": "execute_result"
    }
   ],
   "source": [
    "dir('name')"
   ]
  },
  {
   "cell_type": "markdown",
   "id": "418547f6",
   "metadata": {},
   "source": [
    "## 'capitalize',"
   ]
  },
  {
   "cell_type": "code",
   "execution_count": 35,
   "id": "f40247c7",
   "metadata": {},
   "outputs": [],
   "source": [
    "name = 'naresh it'"
   ]
  },
  {
   "cell_type": "code",
   "execution_count": 36,
   "id": "2ecd51fe",
   "metadata": {},
   "outputs": [
    {
     "name": "stdout",
     "output_type": "stream",
     "text": [
      "Help on built-in function capitalize:\n",
      "\n",
      "capitalize() method of builtins.str instance\n",
      "    Return a capitalized version of the string.\n",
      "    \n",
      "    More specifically, make the first character have upper case and the rest lower\n",
      "    case.\n",
      "\n"
     ]
    }
   ],
   "source": [
    "help(name.capitalize)"
   ]
  },
  {
   "cell_type": "code",
   "execution_count": 37,
   "id": "aa693de8",
   "metadata": {},
   "outputs": [
    {
     "data": {
      "text/plain": [
       "'Naresh it'"
      ]
     },
     "execution_count": 37,
     "metadata": {},
     "output_type": "execute_result"
    }
   ],
   "source": [
    "name.capitalize()"
   ]
  },
  {
   "cell_type": "code",
   "execution_count": 41,
   "id": "11ee168e",
   "metadata": {},
   "outputs": [
    {
     "name": "stdout",
     "output_type": "stream",
     "text": [
      "Help on built-in function capitalize:\n",
      "\n",
      "capitalize() method of builtins.str instance\n",
      "    Return a capitalized version of the string.\n",
      "    \n",
      "    More specifically, make the first character have upper case and the rest lower\n",
      "    case.\n",
      "\n"
     ]
    }
   ],
   "source": [
    "name = 'raresh it'\n",
    "help(name.capitalize)"
   ]
  },
  {
   "cell_type": "code",
   "execution_count": 42,
   "id": "248341c9",
   "metadata": {},
   "outputs": [
    {
     "data": {
      "text/plain": [
       "'Raresh it'"
      ]
     },
     "execution_count": 42,
     "metadata": {},
     "output_type": "execute_result"
    }
   ],
   "source": [
    "name.capitalize()"
   ]
  },
  {
   "cell_type": "code",
   "execution_count": 46,
   "id": "64c44cb5",
   "metadata": {},
   "outputs": [
    {
     "name": "stdout",
     "output_type": "stream",
     "text": [
      "Help on built-in function upper:\n",
      "\n",
      "upper() method of builtins.str instance\n",
      "    Return a copy of the string converted to uppercase.\n",
      "\n"
     ]
    }
   ],
   "source": [
    "name='raaz'\n",
    "help(name.upper)"
   ]
  },
  {
   "cell_type": "code",
   "execution_count": 47,
   "id": "6df864c3",
   "metadata": {},
   "outputs": [
    {
     "data": {
      "text/plain": [
       "'RAAZ'"
      ]
     },
     "execution_count": 47,
     "metadata": {},
     "output_type": "execute_result"
    }
   ],
   "source": [
    "name.upper()"
   ]
  },
  {
   "cell_type": "code",
   "execution_count": 48,
   "id": "3e281d7b",
   "metadata": {},
   "outputs": [
    {
     "data": {
      "text/plain": [
       "'raaz'"
      ]
     },
     "execution_count": 48,
     "metadata": {},
     "output_type": "execute_result"
    }
   ],
   "source": [
    "name.lower()"
   ]
  },
  {
   "cell_type": "code",
   "execution_count": 52,
   "id": "5e443c02",
   "metadata": {},
   "outputs": [
    {
     "data": {
      "text/plain": [
       "('', 'naresh it', '')"
      ]
     },
     "execution_count": 52,
     "metadata": {},
     "output_type": "execute_result"
    }
   ],
   "source": [
    "name = 'naresh it'\n",
    "name.partition(name)"
   ]
  },
  {
   "cell_type": "code",
   "execution_count": 53,
   "id": "5cc654ae",
   "metadata": {},
   "outputs": [
    {
     "name": "stdout",
     "output_type": "stream",
     "text": [
      "Naresh it\n",
      "NARESH IT\n",
      "naresh it\n"
     ]
    }
   ],
   "source": [
    "name = 'naresh IT'\n",
    "print(name.capitalize())\n",
    "print(name.upper())\n",
    "print(name.lower())"
   ]
  },
  {
   "cell_type": "code",
   "execution_count": 56,
   "id": "ef9ff445",
   "metadata": {},
   "outputs": [
    {
     "name": "stdout",
     "output_type": "stream",
     "text": [
      "Help on built-in function casefold:\n",
      "\n",
      "casefold() method of builtins.str instance\n",
      "    Return a version of the string suitable for caseless comparisons.\n",
      "\n"
     ]
    }
   ],
   "source": [
    "help(name.casefold)"
   ]
  },
  {
   "cell_type": "code",
   "execution_count": 61,
   "id": "5c5e3601",
   "metadata": {},
   "outputs": [
    {
     "data": {
      "text/plain": [
       "'naresh it'"
      ]
     },
     "execution_count": 61,
     "metadata": {},
     "output_type": "execute_result"
    }
   ],
   "source": [
    "name.capitalize()\n",
    "name.casefold()\n"
   ]
  },
  {
   "cell_type": "code",
   "execution_count": 68,
   "id": "11e90e3d",
   "metadata": {},
   "outputs": [
    {
     "data": {
      "text/plain": [
       "'Hello'"
      ]
     },
     "execution_count": 68,
     "metadata": {},
     "output_type": "execute_result"
    }
   ],
   "source": [
    "string1='hello'\n",
    "string2='H'\n",
    "string3=string1[1:]\n",
    "string2+string3\n"
   ]
  },
  {
   "cell_type": "code",
   "execution_count": 70,
   "id": "76d273d5",
   "metadata": {},
   "outputs": [],
   "source": [
    "name =  'HAI HAI hello how are you'\n"
   ]
  },
  {
   "cell_type": "code",
   "execution_count": 74,
   "id": "a8b0ef98",
   "metadata": {},
   "outputs": [
    {
     "data": {
      "text/plain": [
       "'hai hai hello how are you'"
      ]
     },
     "execution_count": 74,
     "metadata": {},
     "output_type": "execute_result"
    }
   ],
   "source": [
    "name.lower()"
   ]
  },
  {
   "cell_type": "code",
   "execution_count": 75,
   "id": "9ee57d34",
   "metadata": {},
   "outputs": [],
   "source": [
    "name2 = name.lower()"
   ]
  },
  {
   "cell_type": "code",
   "execution_count": 78,
   "id": "6e647539",
   "metadata": {},
   "outputs": [
    {
     "data": {
      "text/plain": [
       "4"
      ]
     },
     "execution_count": 78,
     "metadata": {},
     "output_type": "execute_result"
    }
   ],
   "source": [
    "name2.count('h')"
   ]
  },
  {
   "cell_type": "markdown",
   "id": "1246f054",
   "metadata": {},
   "source": [
    "## another directly"
   ]
  },
  {
   "cell_type": "code",
   "execution_count": 79,
   "id": "43401c02",
   "metadata": {},
   "outputs": [
    {
     "data": {
      "text/plain": [
       "4"
      ]
     },
     "execution_count": 79,
     "metadata": {},
     "output_type": "execute_result"
    }
   ],
   "source": [
    "name.lower().count('h')"
   ]
  },
  {
   "cell_type": "code",
   "execution_count": 80,
   "id": "036402e7",
   "metadata": {},
   "outputs": [
    {
     "data": {
      "text/plain": [
       "4"
      ]
     },
     "execution_count": 80,
     "metadata": {},
     "output_type": "execute_result"
    }
   ],
   "source": [
    "'HAI HAI hello how are you'.lower().count('h')"
   ]
  },
  {
   "cell_type": "code",
   "execution_count": 82,
   "id": "3ea7e0ad",
   "metadata": {},
   "outputs": [
    {
     "data": {
      "text/plain": [
       "4"
      ]
     },
     "execution_count": 82,
     "metadata": {},
     "output_type": "execute_result"
    }
   ],
   "source": [
    "'hai hai hello how are you'.count('h')"
   ]
  },
  {
   "cell_type": "code",
   "execution_count": 84,
   "id": "0504cfc7",
   "metadata": {},
   "outputs": [
    {
     "name": "stdout",
     "output_type": "stream",
     "text": [
      "4\n"
     ]
    }
   ],
   "source": [
    "count = 0\n",
    "for i in name:\n",
    "    if i =='h' or i== 'H':\n",
    "        count+=1\n",
    "print(count)"
   ]
  },
  {
   "cell_type": "code",
   "execution_count": 87,
   "id": "832b8aeb",
   "metadata": {},
   "outputs": [
    {
     "name": "stdout",
     "output_type": "stream",
     "text": [
      "4\n"
     ]
    }
   ],
   "source": [
    "count = 0\n",
    "for i in name.lower():\n",
    "    if i =='h':\n",
    "        count+=1\n",
    "print(count)"
   ]
  },
  {
   "cell_type": "code",
   "execution_count": 89,
   "id": "b84c5800",
   "metadata": {},
   "outputs": [
    {
     "name": "stdout",
     "output_type": "stream",
     "text": [
      "4\n"
     ]
    }
   ],
   "source": [
    "count = 0\n",
    "for i in name:\n",
    "    if i.lower() =='h':\n",
    "        count+=1\n",
    "print(count)"
   ]
  },
  {
   "cell_type": "code",
   "execution_count": 90,
   "id": "8e2697a0",
   "metadata": {},
   "outputs": [
    {
     "name": "stdout",
     "output_type": "stream",
     "text": [
      "2\n"
     ]
    }
   ],
   "source": [
    "count = 0\n",
    "for i in range(len(name)):\n",
    "    if name[i] =='h':\n",
    "        count+=1\n",
    "print(count)"
   ]
  },
  {
   "cell_type": "code",
   "execution_count": 92,
   "id": "a6724120",
   "metadata": {},
   "outputs": [
    {
     "name": "stdout",
     "output_type": "stream",
     "text": [
      "4\n"
     ]
    }
   ],
   "source": [
    "count = 0\n",
    "for i in range(len(name)):\n",
    "    if name[i].lower() =='h':\n",
    "        count+=1\n",
    "print(count)"
   ]
  },
  {
   "cell_type": "code",
   "execution_count": 93,
   "id": "c9b33b40",
   "metadata": {},
   "outputs": [
    {
     "name": "stdout",
     "output_type": "stream",
     "text": [
      "4\n",
      "4\n",
      "0\n",
      "3\n"
     ]
    }
   ],
   "source": [
    "name = 'ola ola ola ola'\n",
    "print(name.count('ola'))\n",
    "print(name.count('ol'))\n",
    "print(name.count('oa'))\n",
    "print(name.count('ola '))"
   ]
  },
  {
   "cell_type": "code",
   "execution_count": null,
   "id": "8b64ad1f",
   "metadata": {},
   "outputs": [],
   "source": [
    "string.count()"
   ]
  },
  {
   "cell_type": "code",
   "execution_count": 96,
   "id": "96f524f0",
   "metadata": {},
   "outputs": [
    {
     "data": {
      "text/plain": [
       "3"
      ]
     },
     "execution_count": 96,
     "metadata": {},
     "output_type": "execute_result"
    }
   ],
   "source": [
    "name = 'ola ola ola ola'\n",
    "name.count('a',4)"
   ]
  },
  {
   "cell_type": "code",
   "execution_count": 102,
   "id": "6d354ce4",
   "metadata": {},
   "outputs": [
    {
     "name": "stdout",
     "output_type": "stream",
     "text": [
      "3\n"
     ]
    }
   ],
   "source": [
    "count = 0\n",
    "for i in range(len(name)):\n",
    "    if i>=4:\n",
    "        if name[i] == 'a':\n",
    "            count+=1\n",
    "print(count)"
   ]
  },
  {
   "cell_type": "code",
   "execution_count": 106,
   "id": "e1176307",
   "metadata": {},
   "outputs": [
    {
     "name": "stdout",
     "output_type": "stream",
     "text": [
      "3\n"
     ]
    }
   ],
   "source": [
    "count = 0\n",
    "for i in range(len(name)-2):\n",
    "    if i>=4:\n",
    "        if name[i] + name[i+1] + name[i+2] == 'ola':\n",
    "            count+=1\n",
    "print(count)"
   ]
  },
  {
   "cell_type": "code",
   "execution_count": 107,
   "id": "c6a41d62",
   "metadata": {},
   "outputs": [
    {
     "data": {
      "text/plain": [
       "1"
      ]
     },
     "execution_count": 107,
     "metadata": {},
     "output_type": "execute_result"
    }
   ],
   "source": [
    "name.count('a',4,10)"
   ]
  },
  {
   "cell_type": "markdown",
   "id": "36101b5b",
   "metadata": {},
   "source": [
    "$Replace$"
   ]
  },
  {
   "cell_type": "code",
   "execution_count": 3,
   "id": "b48db736",
   "metadata": {},
   "outputs": [
    {
     "data": {
      "text/plain": [
       "'weLcome'"
      ]
     },
     "execution_count": 3,
     "metadata": {},
     "output_type": "execute_result"
    }
   ],
   "source": [
    "string1 = 'welcome'\n",
    "string1[:2]+'L'+string1[3:] # slice + concatenation======"
   ]
  },
  {
   "cell_type": "code",
   "execution_count": 2,
   "id": "a9eea006",
   "metadata": {},
   "outputs": [
    {
     "data": {
      "text/plain": [
       "'weLcome'"
      ]
     },
     "execution_count": 2,
     "metadata": {},
     "output_type": "execute_result"
    }
   ],
   "source": [
    "string1 =  'welcome'\n",
    "string1.replace('l', 'L')  # replace methode======="
   ]
  },
  {
   "cell_type": "code",
   "execution_count": 16,
   "id": "e1bd046d",
   "metadata": {},
   "outputs": [
    {
     "data": {
      "text/plain": [
       "'$estart'"
      ]
     },
     "execution_count": 16,
     "metadata": {},
     "output_type": "execute_result"
    }
   ],
   "source": [
    "name = 'restart'\n",
    "name.replace('r','$',1)"
   ]
  },
  {
   "cell_type": "code",
   "execution_count": 22,
   "id": "7c1e1c01",
   "metadata": {},
   "outputs": [
    {
     "data": {
      "text/plain": [
       "'resta$t'"
      ]
     },
     "execution_count": 22,
     "metadata": {},
     "output_type": "execute_result"
    }
   ],
   "source": [
    "name = 'restart'\n",
    "name[:1]+name[1:].replace('r','$',1)"
   ]
  },
  {
   "cell_type": "code",
   "execution_count": 23,
   "id": "5ca4cff4",
   "metadata": {},
   "outputs": [
    {
     "name": "stdout",
     "output_type": "stream",
     "text": [
      "resta$t\n"
     ]
    }
   ],
   "source": [
    "name= 'restart'\n",
    "string1 = name[1:]\n",
    "string2 = name[:1]\n",
    "string3 = string1.replace('r','$',1)\n",
    "print(string2+string3)"
   ]
  },
  {
   "cell_type": "code",
   "execution_count": 29,
   "id": "f2c4ebb3",
   "metadata": {},
   "outputs": [
    {
     "name": "stdout",
     "output_type": "stream",
     "text": [
      "$estart\n"
     ]
    }
   ],
   "source": [
    "name= 'restart'\n",
    "string1 = name[1:]\n",
    "string2 = name[:1]\n",
    "string3 = string2.replace('r','$',1)\n",
    "print(string3+string1)"
   ]
  },
  {
   "cell_type": "markdown",
   "id": "bb1c7534",
   "metadata": {},
   "source": [
    "$index-operation$"
   ]
  },
  {
   "cell_type": "code",
   "execution_count": 34,
   "id": "373f9fa9",
   "metadata": {},
   "outputs": [
    {
     "data": {
      "text/plain": [
       "3"
      ]
     },
     "execution_count": 34,
     "metadata": {},
     "output_type": "execute_result"
    }
   ],
   "source": [
    "string1 = 'python'\n",
    "string1.index('h')"
   ]
  },
  {
   "cell_type": "code",
   "execution_count": 36,
   "id": "646691cb",
   "metadata": {},
   "outputs": [
    {
     "data": {
      "text/plain": [
       "3"
      ]
     },
     "execution_count": 36,
     "metadata": {},
     "output_type": "execute_result"
    }
   ],
   "source": [
    "string1 = 'restart'\n",
    "string1.index('t')"
   ]
  },
  {
   "cell_type": "code",
   "execution_count": 37,
   "id": "b9eec580",
   "metadata": {},
   "outputs": [
    {
     "name": "stdout",
     "output_type": "stream",
     "text": [
      "3\n"
     ]
    }
   ],
   "source": [
    "print(string1.index('t'))"
   ]
  },
  {
   "cell_type": "code",
   "execution_count": 39,
   "id": "a71608ac",
   "metadata": {},
   "outputs": [
    {
     "name": "stdout",
     "output_type": "stream",
     "text": [
      "6\n"
     ]
    }
   ],
   "source": [
    "print(string1.index('t',3+1))"
   ]
  },
  {
   "cell_type": "code",
   "execution_count": 43,
   "id": "0f573376",
   "metadata": {},
   "outputs": [
    {
     "name": "stdout",
     "output_type": "stream",
     "text": [
      "3 6 12\n"
     ]
    }
   ],
   "source": [
    "string1 = 'restart how to'\n",
    "f_o = string1.index('t')\n",
    "s_o = string1.index('t',f_o+1)\n",
    "t_o = string1.index('t',s_o+1)\n",
    "print(f_o,s_o,t_o)"
   ]
  },
  {
   "cell_type": "code",
   "execution_count": 45,
   "id": "b640ba61",
   "metadata": {},
   "outputs": [
    {
     "data": {
      "text/plain": [
       "12"
      ]
     },
     "execution_count": 45,
     "metadata": {},
     "output_type": "execute_result"
    }
   ],
   "source": [
    "string1.index('t',string1.index('t',string1.index('t',+1)+1)+1)"
   ]
  },
  {
   "cell_type": "code",
   "execution_count": 48,
   "id": "51d5f11b",
   "metadata": {},
   "outputs": [
    {
     "data": {
      "text/plain": [
       "5"
      ]
     },
     "execution_count": 48,
     "metadata": {},
     "output_type": "execute_result"
    }
   ],
   "source": [
    "string1.index('r',string1.index('t',+1)+1)"
   ]
  },
  {
   "cell_type": "code",
   "execution_count": 52,
   "id": "2103f67f",
   "metadata": {},
   "outputs": [
    {
     "data": {
      "text/plain": [
       "5"
      ]
     },
     "execution_count": 52,
     "metadata": {},
     "output_type": "execute_result"
    }
   ],
   "source": [
    "string1.index('r',string1.index('t',2))"
   ]
  },
  {
   "cell_type": "code",
   "execution_count": 59,
   "id": "55dccd61",
   "metadata": {},
   "outputs": [
    {
     "data": {
      "text/plain": [
       "3"
      ]
     },
     "execution_count": 59,
     "metadata": {},
     "output_type": "execute_result"
    }
   ],
   "source": [
    "string1.index('t',string1.index('t',string1.index('t',3)))"
   ]
  },
  {
   "cell_type": "code",
   "execution_count": 60,
   "id": "7cd6cbbc",
   "metadata": {},
   "outputs": [
    {
     "name": "stdout",
     "output_type": "stream",
     "text": [
      "0\n"
     ]
    }
   ],
   "source": [
    "print(string1.count('T'))"
   ]
  },
  {
   "cell_type": "code",
   "execution_count": 61,
   "id": "2f03932f",
   "metadata": {},
   "outputs": [
    {
     "ename": "ValueError",
     "evalue": "substring not found",
     "output_type": "error",
     "traceback": [
      "\u001b[1;31m---------------------------------------------------------------------------\u001b[0m",
      "\u001b[1;31mValueError\u001b[0m                                Traceback (most recent call last)",
      "Cell \u001b[1;32mIn[61], line 1\u001b[0m\n\u001b[1;32m----> 1\u001b[0m \u001b[38;5;28mprint\u001b[39m(string1\u001b[38;5;241m.\u001b[39mindex(\u001b[38;5;124m'\u001b[39m\u001b[38;5;124mT\u001b[39m\u001b[38;5;124m'\u001b[39m))\n",
      "\u001b[1;31mValueError\u001b[0m: substring not found"
     ]
    }
   ],
   "source": [
    "print(string1.index('T'))"
   ]
  },
  {
   "cell_type": "code",
   "execution_count": 63,
   "id": "b566c0ae",
   "metadata": {},
   "outputs": [
    {
     "name": "stdout",
     "output_type": "stream",
     "text": [
      "restart how to\n"
     ]
    }
   ],
   "source": [
    "print(string1.replace('T','zzz'))  ## no error "
   ]
  },
  {
   "cell_type": "markdown",
   "id": "946f160d",
   "metadata": {},
   "source": [
    "$Find$"
   ]
  },
  {
   "cell_type": "code",
   "execution_count": 68,
   "id": "e56bebbe",
   "metadata": {},
   "outputs": [
    {
     "data": {
      "text/plain": [
       "12"
      ]
     },
     "execution_count": 68,
     "metadata": {},
     "output_type": "execute_result"
    }
   ],
   "source": [
    "string1 = 'restart how to'\n",
    "string1.find('t',string1.find('t',string1.find('t',7)))"
   ]
  },
  {
   "cell_type": "code",
   "execution_count": 69,
   "id": "1dbb9f23",
   "metadata": {},
   "outputs": [
    {
     "name": "stdout",
     "output_type": "stream",
     "text": [
      "3 6 12\n"
     ]
    }
   ],
   "source": [
    "string1 = 'restart how to'\n",
    "f_o = string1.find('t')\n",
    "s_o = string1.find('t',f_o+1)\n",
    "t_o = string1.find('t',s_o+1)\n",
    "print(f_o,s_o,t_o)"
   ]
  },
  {
   "cell_type": "code",
   "execution_count": 74,
   "id": "4a5a6ee8",
   "metadata": {},
   "outputs": [
    {
     "name": "stdout",
     "output_type": "stream",
     "text": [
      "-1\n"
     ]
    }
   ],
   "source": [
    "string1 = 'restart how to'\n",
    "f_o = string1.find('t')\n",
    "s_o = string1.find('t',f_o+1)\n",
    "so = string1.find('z')\n",
    "\n",
    "print(so)   ## Return -1 on failure."
   ]
  },
  {
   "cell_type": "markdown",
   "id": "5ce5b2e1",
   "metadata": {},
   "source": [
    "$Split$"
   ]
  },
  {
   "cell_type": "code",
   "execution_count": 77,
   "id": "f3ff176a",
   "metadata": {},
   "outputs": [
    {
     "data": {
      "text/plain": [
       "['restart', 'how', 'to']"
      ]
     },
     "execution_count": 77,
     "metadata": {},
     "output_type": "execute_result"
    }
   ],
   "source": [
    "string1 = 'restart how to'\n",
    "string1.split()   ## nothing mentions means it will take the space"
   ]
  },
  {
   "cell_type": "code",
   "execution_count": 78,
   "id": "bf58634c",
   "metadata": {},
   "outputs": [
    {
     "data": {
      "text/plain": [
       "['restart how', 'to you']"
      ]
     },
     "execution_count": 78,
     "metadata": {},
     "output_type": "execute_result"
    }
   ],
   "source": [
    "string2 = 'restart how,to you'\n",
    "string2.split(',')"
   ]
  },
  {
   "cell_type": "code",
   "execution_count": 79,
   "id": "7463a54d",
   "metadata": {},
   "outputs": [
    {
     "data": {
      "text/plain": [
       "['rest', 'rt how,to you']"
      ]
     },
     "execution_count": 79,
     "metadata": {},
     "output_type": "execute_result"
    }
   ],
   "source": [
    "string2 = 'restart how,to you'\n",
    "string2.split('a')"
   ]
  },
  {
   "cell_type": "code",
   "execution_count": 81,
   "id": "ae8d18c5",
   "metadata": {},
   "outputs": [
    {
     "data": {
      "text/plain": [
       "['h', 'i how, ', 're you']"
      ]
     },
     "execution_count": 81,
     "metadata": {},
     "output_type": "execute_result"
    }
   ],
   "source": [
    "string1 = 'hai how, are you'\n",
    "string1.split('a')"
   ]
  },
  {
   "cell_type": "code",
   "execution_count": 93,
   "id": "a29783fa",
   "metadata": {},
   "outputs": [
    {
     "data": {
      "text/plain": [
       "'omkar'"
      ]
     },
     "execution_count": 93,
     "metadata": {},
     "output_type": "execute_result"
    }
   ],
   "source": [
    "sent1='rashaad.omkar@gmail.com'\n",
    "sent1[sent1.find('.')+1:sent1.find('@')]"
   ]
  },
  {
   "cell_type": "code",
   "execution_count": 99,
   "id": "2d82d84c",
   "metadata": {},
   "outputs": [
    {
     "data": {
      "text/plain": [
       "'omkar'"
      ]
     },
     "execution_count": 99,
     "metadata": {},
     "output_type": "execute_result"
    }
   ],
   "source": [
    "sent1='rashaad.omkar@gmail.com'\n",
    "sent1[sent1.index('.')+1:sent1.index('@')]"
   ]
  },
  {
   "cell_type": "code",
   "execution_count": 97,
   "id": "8d5ffac5",
   "metadata": {},
   "outputs": [
    {
     "data": {
      "text/plain": [
       "'raaz'"
      ]
     },
     "execution_count": 97,
     "metadata": {},
     "output_type": "execute_result"
    }
   ],
   "source": [
    "sent1='omkar.raaz@gmail.com'\n",
    "sent1[sent1.find('.')+1:sent1.find('@')]"
   ]
  },
  {
   "cell_type": "code",
   "execution_count": 102,
   "id": "b1253696",
   "metadata": {},
   "outputs": [
    {
     "data": {
      "text/plain": [
       "'nareshit'"
      ]
     },
     "execution_count": 102,
     "metadata": {},
     "output_type": "execute_result"
    }
   ],
   "source": [
    "sent2= 'raaz.saud@nareshit.com'\n",
    "index1 = sent2.index('@')\n",
    "first_dot= sent2.index('.')\n",
    "sec_dot= sent2.index('.',first_dot+1)\n",
    "sent2[index1+1:sec_dot]"
   ]
  },
  {
   "cell_type": "code",
   "execution_count": 103,
   "id": "91548282",
   "metadata": {},
   "outputs": [
    {
     "data": {
      "text/plain": [
       "'nareshit'"
      ]
     },
     "execution_count": 103,
     "metadata": {},
     "output_type": "execute_result"
    }
   ],
   "source": [
    "sent2= 'raaz.saud@nareshit.com'\n",
    "sent2.split('@')[1].split('.')[0]"
   ]
  },
  {
   "cell_type": "code",
   "execution_count": null,
   "id": "9675f4f6",
   "metadata": {},
   "outputs": [],
   "source": []
  },
  {
   "cell_type": "markdown",
   "id": "cf6b290a",
   "metadata": {},
   "source": [
    "$strip$-$lstrip$-$rstrip$"
   ]
  },
  {
   "cell_type": "code",
   "execution_count": 104,
   "id": "f6ae8287",
   "metadata": {},
   "outputs": [],
   "source": [
    "string1=' hai how are you '\n",
    "string2='hai how are you '\n",
    "string3=' hai how are you'"
   ]
  },
  {
   "cell_type": "markdown",
   "id": "306718f9",
   "metadata": {},
   "source": [
    "- if you want to remove the spaces we use method strip\n",
    "- strip: it will remove spaces both sides\n",
    "- lstrip: it will remove left side spaces\n",
    "- rstrip: it will remove right side spaces"
   ]
  },
  {
   "cell_type": "code",
   "execution_count": 105,
   "id": "c070baef",
   "metadata": {},
   "outputs": [
    {
     "data": {
      "text/plain": [
       "('hai how are you', 'hai how are you ', ' hai how are you')"
      ]
     },
     "execution_count": 105,
     "metadata": {},
     "output_type": "execute_result"
    }
   ],
   "source": [
    "string1.strip(),string1.lstrip(),string1.rstrip()"
   ]
  },
  {
   "cell_type": "code",
   "execution_count": 106,
   "id": "4c787f56",
   "metadata": {},
   "outputs": [
    {
     "data": {
      "text/plain": [
       "('hai how are you', 'hai how are you ', 'hai how are you')"
      ]
     },
     "execution_count": 106,
     "metadata": {},
     "output_type": "execute_result"
    }
   ],
   "source": [
    "string2.strip(),string2.lstrip(),string2.rstrip()"
   ]
  },
  {
   "cell_type": "code",
   "execution_count": 107,
   "id": "888385fa",
   "metadata": {},
   "outputs": [
    {
     "data": {
      "text/plain": [
       "('hai how are you', 'hai how are you', ' hai how are you')"
      ]
     },
     "execution_count": 107,
     "metadata": {},
     "output_type": "execute_result"
    }
   ],
   "source": [
    "string3.strip(),string3.lstrip(),string3.rstrip()"
   ]
  },
  {
   "cell_type": "code",
   "execution_count": 108,
   "id": "218ac5f0",
   "metadata": {},
   "outputs": [
    {
     "data": {
      "text/plain": [
       "'hello'"
      ]
     },
     "execution_count": 108,
     "metadata": {},
     "output_type": "execute_result"
    }
   ],
   "source": [
    "string1='&&&&&hello&&&&&&&&&&'\n",
    "string1.strip('&')"
   ]
  },
  {
   "cell_type": "code",
   "execution_count": 110,
   "id": "7bedab23",
   "metadata": {},
   "outputs": [
    {
     "data": {
      "text/plain": [
       "'hello&&&&&&&&&&'"
      ]
     },
     "execution_count": 110,
     "metadata": {},
     "output_type": "execute_result"
    }
   ],
   "source": [
    "string1.lstrip('&')"
   ]
  },
  {
   "cell_type": "code",
   "execution_count": 111,
   "id": "93820b04",
   "metadata": {},
   "outputs": [
    {
     "data": {
      "text/plain": [
       "'&&&&&hello'"
      ]
     },
     "execution_count": 111,
     "metadata": {},
     "output_type": "execute_result"
    }
   ],
   "source": [
    "string1.rstrip('&')"
   ]
  },
  {
   "cell_type": "markdown",
   "id": "b7641d3f",
   "metadata": {},
   "source": [
    "$startswith$-$endswith$"
   ]
  },
  {
   "cell_type": "code",
   "execution_count": 117,
   "id": "93dcdd22",
   "metadata": {},
   "outputs": [
    {
     "data": {
      "text/plain": [
       "True"
      ]
     },
     "execution_count": 117,
     "metadata": {},
     "output_type": "execute_result"
    }
   ],
   "source": [
    "string1='hai how are you'\n",
    "string1.startswith('hai')"
   ]
  },
  {
   "cell_type": "code",
   "execution_count": 118,
   "id": "ee8cff9b",
   "metadata": {},
   "outputs": [
    {
     "data": {
      "text/plain": [
       "False"
      ]
     },
     "execution_count": 118,
     "metadata": {},
     "output_type": "execute_result"
    }
   ],
   "source": [
    "string1='hai how are you'\n",
    "string1.endswith('hai')"
   ]
  },
  {
   "cell_type": "code",
   "execution_count": 119,
   "id": "d5c4a906",
   "metadata": {},
   "outputs": [
    {
     "data": {
      "text/plain": [
       "True"
      ]
     },
     "execution_count": 119,
     "metadata": {},
     "output_type": "execute_result"
    }
   ],
   "source": [
    "string1.startswith(string1)\n",
    "string1.endswith(string1)"
   ]
  },
  {
   "cell_type": "code",
   "execution_count": 122,
   "id": "5a6a457c",
   "metadata": {},
   "outputs": [
    {
     "data": {
      "text/plain": [
       "True"
      ]
     },
     "execution_count": 122,
     "metadata": {},
     "output_type": "execute_result"
    }
   ],
   "source": [
    "string1='raaz'\n",
    "string1.isalpha()"
   ]
  },
  {
   "cell_type": "code",
   "execution_count": 123,
   "id": "9075674f",
   "metadata": {},
   "outputs": [
    {
     "data": {
      "text/plain": [
       "False"
      ]
     },
     "execution_count": 123,
     "metadata": {},
     "output_type": "execute_result"
    }
   ],
   "source": [
    "string1='hai how are you'\n",
    "string1.isalpha()"
   ]
  },
  {
   "cell_type": "code",
   "execution_count": 124,
   "id": "9d2ca060",
   "metadata": {},
   "outputs": [
    {
     "data": {
      "text/plain": [
       "True"
      ]
     },
     "execution_count": 124,
     "metadata": {},
     "output_type": "execute_result"
    }
   ],
   "source": [
    "string1= '1234'\n",
    "string1.isnumeric()"
   ]
  },
  {
   "cell_type": "code",
   "execution_count": 125,
   "id": "030ebbea",
   "metadata": {},
   "outputs": [
    {
     "data": {
      "text/plain": [
       "False"
      ]
     },
     "execution_count": 125,
     "metadata": {},
     "output_type": "execute_result"
    }
   ],
   "source": [
    "string1= 'Raaz'\n",
    "string1.isnumeric()"
   ]
  },
  {
   "cell_type": "code",
   "execution_count": 126,
   "id": "c60a0ef1",
   "metadata": {},
   "outputs": [
    {
     "data": {
      "text/plain": [
       "False"
      ]
     },
     "execution_count": 126,
     "metadata": {},
     "output_type": "execute_result"
    }
   ],
   "source": [
    "string1= 'Raaz'\n",
    "string1.isupper()"
   ]
  },
  {
   "cell_type": "code",
   "execution_count": 128,
   "id": "24c38b14",
   "metadata": {},
   "outputs": [
    {
     "data": {
      "text/plain": [
       "True"
      ]
     },
     "execution_count": 128,
     "metadata": {},
     "output_type": "execute_result"
    }
   ],
   "source": [
    "string1= 'RAAZ'\n",
    "string1.isupper()"
   ]
  },
  {
   "cell_type": "code",
   "execution_count": 130,
   "id": "eb409545",
   "metadata": {},
   "outputs": [
    {
     "data": {
      "text/plain": [
       "True"
      ]
     },
     "execution_count": 130,
     "metadata": {},
     "output_type": "execute_result"
    }
   ],
   "source": [
    "string1= 'raaz'\n",
    "string1.islower()"
   ]
  },
  {
   "cell_type": "code",
   "execution_count": 131,
   "id": "0d2ca863",
   "metadata": {},
   "outputs": [
    {
     "data": {
      "text/plain": [
       "False"
      ]
     },
     "execution_count": 131,
     "metadata": {},
     "output_type": "execute_result"
    }
   ],
   "source": [
    "string1= 'RAAZ'\n",
    "string1.islower()"
   ]
  },
  {
   "cell_type": "code",
   "execution_count": 133,
   "id": "b0f91ffb",
   "metadata": {},
   "outputs": [
    {
     "data": {
      "text/plain": [
       "True"
      ]
     },
     "execution_count": 133,
     "metadata": {},
     "output_type": "execute_result"
    }
   ],
   "source": [
    "string1= 'RAAZ123'\n",
    "string1.isalnum()"
   ]
  },
  {
   "cell_type": "code",
   "execution_count": 134,
   "id": "8bcbebbd",
   "metadata": {},
   "outputs": [
    {
     "data": {
      "text/plain": [
       "False"
      ]
     },
     "execution_count": 134,
     "metadata": {},
     "output_type": "execute_result"
    }
   ],
   "source": [
    "string1= '10.5'\n",
    "string1.isnumeric()"
   ]
  },
  {
   "cell_type": "code",
   "execution_count": 135,
   "id": "a9320a5b",
   "metadata": {},
   "outputs": [
    {
     "data": {
      "text/plain": [
       "False"
      ]
     },
     "execution_count": 135,
     "metadata": {},
     "output_type": "execute_result"
    }
   ],
   "source": [
    "string1= '10.5'\n",
    "string1.isdigit()"
   ]
  },
  {
   "cell_type": "code",
   "execution_count": 136,
   "id": "a7945cc8",
   "metadata": {},
   "outputs": [
    {
     "data": {
      "text/plain": [
       "['10.5']"
      ]
     },
     "execution_count": 136,
     "metadata": {},
     "output_type": "execute_result"
    }
   ],
   "source": [
    "string1= '10.5'\n",
    "string1.split()"
   ]
  },
  {
   "cell_type": "code",
   "execution_count": 137,
   "id": "ef905be1",
   "metadata": {},
   "outputs": [
    {
     "data": {
      "text/plain": [
       "False"
      ]
     },
     "execution_count": 137,
     "metadata": {},
     "output_type": "execute_result"
    }
   ],
   "source": [
    "string1= '10.5'\n",
    "string1.isdigit()"
   ]
  },
  {
   "cell_type": "code",
   "execution_count": 138,
   "id": "6dc643c6",
   "metadata": {},
   "outputs": [
    {
     "data": {
      "text/plain": [
       "False"
      ]
     },
     "execution_count": 138,
     "metadata": {},
     "output_type": "execute_result"
    }
   ],
   "source": [
    "string1= '10.5'\n",
    "string1.isnumeric()"
   ]
  },
  {
   "cell_type": "code",
   "execution_count": null,
   "id": "90309628",
   "metadata": {},
   "outputs": [],
   "source": [
    "string1= '10.5'\n",
    "# any method avaiable to check the flot value\n",
    "# sirectly using string method"
   ]
  },
  {
   "cell_type": "code",
   "execution_count": 143,
   "id": "a4dc25e2",
   "metadata": {},
   "outputs": [
    {
     "data": {
      "text/plain": [
       "['__add__',\n",
       " '__class__',\n",
       " '__contains__',\n",
       " '__delattr__',\n",
       " '__dir__',\n",
       " '__doc__',\n",
       " '__eq__',\n",
       " '__format__',\n",
       " '__ge__',\n",
       " '__getattribute__',\n",
       " '__getitem__',\n",
       " '__getnewargs__',\n",
       " '__getstate__',\n",
       " '__gt__',\n",
       " '__hash__',\n",
       " '__init__',\n",
       " '__init_subclass__',\n",
       " '__iter__',\n",
       " '__le__',\n",
       " '__len__',\n",
       " '__lt__',\n",
       " '__mod__',\n",
       " '__mul__',\n",
       " '__ne__',\n",
       " '__new__',\n",
       " '__reduce__',\n",
       " '__reduce_ex__',\n",
       " '__repr__',\n",
       " '__rmod__',\n",
       " '__rmul__',\n",
       " '__setattr__',\n",
       " '__sizeof__',\n",
       " '__str__',\n",
       " '__subclasshook__',\n",
       " 'capitalize',\n",
       " 'casefold',\n",
       " 'center',\n",
       " 'count',\n",
       " 'encode',\n",
       " 'endswith',\n",
       " 'expandtabs',\n",
       " 'find',\n",
       " 'format',\n",
       " 'format_map',\n",
       " 'index',\n",
       " 'isalnum',\n",
       " 'isalpha',\n",
       " 'isascii',\n",
       " 'isdecimal',\n",
       " 'isdigit',\n",
       " 'isidentifier',\n",
       " 'islower',\n",
       " 'isnumeric',\n",
       " 'isprintable',\n",
       " 'isspace',\n",
       " 'istitle',\n",
       " 'isupper',\n",
       " 'join',\n",
       " 'ljust',\n",
       " 'lower',\n",
       " 'lstrip',\n",
       " 'maketrans',\n",
       " 'partition',\n",
       " 'removeprefix',\n",
       " 'removesuffix',\n",
       " 'replace',\n",
       " 'rfind',\n",
       " 'rindex',\n",
       " 'rjust',\n",
       " 'rpartition',\n",
       " 'rsplit',\n",
       " 'rstrip',\n",
       " 'split',\n",
       " 'splitlines',\n",
       " 'startswith',\n",
       " 'strip',\n",
       " 'swapcase',\n",
       " 'title',\n",
       " 'translate',\n",
       " 'upper',\n",
       " 'zfill']"
      ]
     },
     "execution_count": 143,
     "metadata": {},
     "output_type": "execute_result"
    }
   ],
   "source": [
    "dir(name)"
   ]
  },
  {
   "cell_type": "code",
   "execution_count": null,
   "id": "6440fcbf",
   "metadata": {},
   "outputs": [],
   "source": [
    "#Q1) in a given sentences what is the most repeated word\n",
    "  ## example: 'hai how are you you hai'\n",
    "#Q2) in a given sentences what is the maximum lenght of string\n",
    "  # what is the minimum lenght of the string\n",
    "    # 'hello python how are youuuu'\n",
    "#Q3) str1='hyd' str2='chennai' str2= 'mumbai'\n",
    "  # greatest word and smallest word: interms of ascii"
   ]
  },
  {
   "cell_type": "code",
   "execution_count": null,
   "id": "860d8ecf",
   "metadata": {},
   "outputs": [],
   "source": []
  }
 ],
 "metadata": {
  "kernelspec": {
   "display_name": "Python 3 (ipykernel)",
   "language": "python",
   "name": "python3"
  },
  "language_info": {
   "codemirror_mode": {
    "name": "ipython",
    "version": 3
   },
   "file_extension": ".py",
   "mimetype": "text/x-python",
   "name": "python",
   "nbconvert_exporter": "python",
   "pygments_lexer": "ipython3",
   "version": "3.11.5"
  }
 },
 "nbformat": 4,
 "nbformat_minor": 5
}
