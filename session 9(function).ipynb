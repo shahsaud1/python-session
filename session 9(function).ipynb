{
 "cells": [
  {
   "cell_type": "markdown",
   "id": "b1bb0e8f",
   "metadata": {},
   "source": [
    "## Function"
   ]
  },
  {
   "cell_type": "code",
   "execution_count": 4,
   "id": "1e0e6af1",
   "metadata": {},
   "outputs": [
    {
     "name": "stdout",
     "output_type": "stream",
     "text": [
      "9\n"
     ]
    }
   ],
   "source": [
    "def add():\n",
    "    a=4\n",
    "    b=5\n",
    "    c=a+b\n",
    "    print(c)\n",
    "add()"
   ]
  },
  {
   "cell_type": "code",
   "execution_count": 5,
   "id": "6e32ea68",
   "metadata": {},
   "outputs": [
    {
     "name": "stdout",
     "output_type": "stream",
     "text": [
      "enter a base salary10000\n",
      "enter a amount5000\n",
      "15000\n"
     ]
    }
   ],
   "source": [
    "def salary():\n",
    "    base_salary=eval(input('enter a base salary'))\n",
    "    DA_amount=eval(input('enter a amount'))\n",
    "    total_salary=base_salary+DA_amount\n",
    "    print(total_salary)\n",
    "salary()"
   ]
  },
  {
   "cell_type": "code",
   "execution_count": 8,
   "id": "bfd328d7",
   "metadata": {},
   "outputs": [
    {
     "name": "stdout",
     "output_type": "stream",
     "text": [
      "enter a num1:10\n",
      "enter a num2:20\n",
      "enter a num3:30\n",
      "average is: 20.0\n"
     ]
    }
   ],
   "source": [
    "def avg():\n",
    "    num1=eval(input('enter a num1:'))\n",
    "    num2=eval(input('enter a num2:'))\n",
    "    num3=eval(input('enter a num3:'))\n",
    "    avg=(num1+num2+num3)/3\n",
    "    print('average is:',avg)\n",
    "avg()"
   ]
  },
  {
   "cell_type": "code",
   "execution_count": 13,
   "id": "81ba651f",
   "metadata": {},
   "outputs": [
    {
     "name": "stdout",
     "output_type": "stream",
     "text": [
      "enter a bill:500\n",
      "enter a tip:100\n",
      "total bill 600\n"
     ]
    }
   ],
   "source": [
    "def bill():\n",
    "    try:\n",
    "        bill_amount=eval(input('enter a bill:'))\n",
    "        tip_amount=eval(input('enter a tip:'))\n",
    "        total_bill=bill_amount+tip_amount\n",
    "        print('total bill',total_bill)\n",
    "    except exception as e:\n",
    "        print(e)\n",
    "bill()\n",
    "    \n",
    "\n"
   ]
  },
  {
   "cell_type": "code",
   "execution_count": 15,
   "id": "4da4be63",
   "metadata": {},
   "outputs": [
    {
     "name": "stdout",
     "output_type": "stream",
     "text": [
      "enter a bill:1000\n",
      "enter a tip:10\n",
      "total bill 1010\n"
     ]
    }
   ],
   "source": [
    "def bill():\n",
    "    try:\n",
    "        bill_amount=eval(input('enter a bill:'))\n",
    "        tip_amount=eval(input('enter a tip:'))\n",
    "        total_bill=bill_amount+tip_amount\n",
    "        print('total bill',total_bill)\n",
    "    except exception as e:\n",
    "        print(e)\n",
    "bill()\n",
    "    \n"
   ]
  },
  {
   "cell_type": "code",
   "execution_count": 23,
   "id": "cae832aa",
   "metadata": {},
   "outputs": [
    {
     "name": "stdout",
     "output_type": "stream",
     "text": [
      "enter a num:2\n",
      "it is even num\n"
     ]
    }
   ],
   "source": [
    "def even_odd():\n",
    "    num=eval(input('enter a num:'))\n",
    "    if num%2==0:\n",
    "        print('it is even num')\n",
    "    else:\n",
    "        print('it is a odd num')\n",
    "even_odd()"
   ]
  },
  {
   "cell_type": "code",
   "execution_count": 24,
   "id": "9354c6b3",
   "metadata": {},
   "outputs": [
    {
     "name": "stdout",
     "output_type": "stream",
     "text": [
      "enter a num:5\n",
      "it is a odd num\n"
     ]
    }
   ],
   "source": [
    "def even_odd():\n",
    "    try:\n",
    "        num=eval(input('enter a num:'))\n",
    "        if num%2==0:\n",
    "            print('it is even num')\n",
    "        else:\n",
    "            print('it is a odd num')\n",
    "    except exception as e:\n",
    "        print(e)\n",
    "even_odd()"
   ]
  },
  {
   "cell_type": "code",
   "execution_count": null,
   "id": "ce653b41",
   "metadata": {},
   "outputs": [],
   "source": [
    "1)add()   ## not provided anything inside the bracket(without argument)\n",
    "2)bill()\n",
    "3)avg()\n",
    "4)salary()\n",
    "## if we provide any thing inside the breckets\n",
    "# that are called arguments/parametrs"
   ]
  },
  {
   "cell_type": "markdown",
   "id": "e40c479f",
   "metadata": {},
   "source": [
    "**with argument**"
   ]
  },
  {
   "cell_type": "code",
   "execution_count": 25,
   "id": "d2660b83",
   "metadata": {},
   "outputs": [
    {
     "name": "stdout",
     "output_type": "stream",
     "text": [
      "70\n"
     ]
    }
   ],
   "source": [
    "def add(a,b):\n",
    "    print(a+b)\n",
    "add(40,30)\n",
    "## how many variables you provided"
   ]
  },
  {
   "cell_type": "code",
   "execution_count": 26,
   "id": "8a409e86",
   "metadata": {},
   "outputs": [
    {
     "name": "stdout",
     "output_type": "stream",
     "text": [
      "120\n"
     ]
    }
   ],
   "source": [
    "def add(a,b,c):\n",
    "    print(a+b+c)\n",
    "add(40,30,50)"
   ]
  },
  {
   "cell_type": "code",
   "execution_count": 27,
   "id": "5158ac60",
   "metadata": {},
   "outputs": [
    {
     "name": "stdout",
     "output_type": "stream",
     "text": [
      "90\n"
     ]
    }
   ],
   "source": [
    "def add(a):\n",
    "    b=50\n",
    "    print(a+b)\n",
    "add(40)"
   ]
  },
  {
   "cell_type": "code",
   "execution_count": 32,
   "id": "0d68caab",
   "metadata": {},
   "outputs": [
    {
     "name": "stdout",
     "output_type": "stream",
     "text": [
      "75\n"
     ]
    }
   ],
   "source": [
    "def add(a,b):\n",
    "    print(b+a)\n",
    "add(40,35)"
   ]
  },
  {
   "cell_type": "code",
   "execution_count": 34,
   "id": "6df15992",
   "metadata": {},
   "outputs": [
    {
     "name": "stdout",
     "output_type": "stream",
     "text": [
      "total bill 5000\n"
     ]
    }
   ],
   "source": [
    "def bill(bill,tip):\n",
    "        total_bill=bill+tip\n",
    "        print('total bill',total_bill)\n",
    "bill(4000,1000)"
   ]
  },
  {
   "cell_type": "code",
   "execution_count": 35,
   "id": "36f90c52",
   "metadata": {},
   "outputs": [
    {
     "name": "stdout",
     "output_type": "stream",
     "text": [
      "total bill 500\n"
     ]
    }
   ],
   "source": [
    "def bill(bill,tip,total_bill):\n",
    "    print('total bill',total_bill)\n",
    "    \n",
    "bill(400,100,500)"
   ]
  },
  {
   "cell_type": "code",
   "execution_count": 36,
   "id": "d0233838",
   "metadata": {},
   "outputs": [
    {
     "name": "stdout",
     "output_type": "stream",
     "text": [
      "average is: 20.0\n"
     ]
    }
   ],
   "source": [
    "def avg(num1,num2,num3):\n",
    "    avg=(num1+num2+num3)/3\n",
    "    print('average is:',avg)\n",
    "avg(10,20,30)\n"
   ]
  },
  {
   "cell_type": "markdown",
   "id": "3e9813ed",
   "metadata": {},
   "source": [
    "## default argument"
   ]
  },
  {
   "cell_type": "code",
   "execution_count": 37,
   "id": "b7eace98",
   "metadata": {},
   "outputs": [
    {
     "name": "stdout",
     "output_type": "stream",
     "text": [
      "average is: 20.0\n"
     ]
    }
   ],
   "source": [
    "def avg(num1,num2,num3=30):\n",
    "    avg=(num1+num2+num3)/3\n",
    "    print('average is:',avg)\n",
    "avg(10,20)\n"
   ]
  },
  {
   "cell_type": "code",
   "execution_count": 39,
   "id": "b10c40b0",
   "metadata": {},
   "outputs": [
    {
     "name": "stdout",
     "output_type": "stream",
     "text": [
      "average is: 20.0\n"
     ]
    }
   ],
   "source": [
    "def avg(num1,num2,num3=30):\n",
    "    num2=20\n",
    "    avg=(num1+num2+num3)/3\n",
    "    print('average is:',avg)\n",
    "avg(10,10)\n"
   ]
  },
  {
   "cell_type": "code",
   "execution_count": 40,
   "id": "cd9dd98d",
   "metadata": {},
   "outputs": [
    {
     "name": "stdout",
     "output_type": "stream",
     "text": [
      "10\n",
      "20\n",
      "10\n",
      "average is: 13.333333333333334\n"
     ]
    }
   ],
   "source": [
    "def avg(num1,num2,num3=30):\n",
    "    print(num1)\n",
    "    print(num2)\n",
    "    print(num3)\n",
    "    avg=(num1+num2+num3)/3\n",
    "    print('average is:',avg)\n",
    "avg(10,20,10)\n",
    "## initialization first ====num3=30\n",
    "## or calling value is =====num3=10\n",
    "## latest value num3==10"
   ]
  },
  {
   "cell_type": "code",
   "execution_count": 41,
   "id": "dc8e03ad",
   "metadata": {},
   "outputs": [
    {
     "name": "stdout",
     "output_type": "stream",
     "text": [
      "10\n",
      "20\n",
      "20\n",
      "average is: 16.666666666666668\n"
     ]
    }
   ],
   "source": [
    "def avg(num1,num2,num3=30):\n",
    "    num3=20\n",
    "    print(num1)\n",
    "    print(num2)\n",
    "    print(num3)\n",
    "    avg=(num1+num2+num3)/3\n",
    "    print('average is:',avg)\n",
    "avg(10,20,10)\n",
    "## step-what initialization\n",
    "##step2-calling"
   ]
  },
  {
   "cell_type": "code",
   "execution_count": 43,
   "id": "f596af53",
   "metadata": {
    "scrolled": true
   },
   "outputs": [
    {
     "ename": "SyntaxError",
     "evalue": "non-default argument follows default argument (1775414210.py, line 1)",
     "output_type": "error",
     "traceback": [
      "\u001b[1;36m  Cell \u001b[1;32mIn[43], line 1\u001b[1;36m\u001b[0m\n\u001b[1;33m    def avg(num1,num2=300,num3):\u001b[0m\n\u001b[1;37m                          ^\u001b[0m\n\u001b[1;31mSyntaxError\u001b[0m\u001b[1;31m:\u001b[0m non-default argument follows default argument\n"
     ]
    }
   ],
   "source": [
    "def avg(num1,num2=300,num3):\n",
    "    num3=20\n",
    "    print(num1)\n",
    "    print(num2)\n",
    "    print(num3)\n",
    "    avg=(num1+num2+num3)/3\n",
    "    print('average is:',avg)\n",
    "avg(10,20)\n",
    "## always default parameters at last"
   ]
  },
  {
   "cell_type": "code",
   "execution_count": 44,
   "id": "fa95cae6",
   "metadata": {},
   "outputs": [
    {
     "name": "stdout",
     "output_type": "stream",
     "text": [
      "10\n",
      "30\n",
      "20\n",
      "average is: 20.0\n"
     ]
    }
   ],
   "source": [
    "def avg(num1,num3,num2=30):\n",
    "    num3=20\n",
    "    print(num1)\n",
    "    print(num2)\n",
    "    print(num3)\n",
    "    avg=(num1+num2+num3)/3\n",
    "    print('average is:',avg)\n",
    "avg(10,20)"
   ]
  },
  {
   "cell_type": "code",
   "execution_count": 45,
   "id": "81e169e0",
   "metadata": {},
   "outputs": [
    {
     "name": "stdout",
     "output_type": "stream",
     "text": [
      "10\n",
      "30\n",
      "20\n",
      "average is: 20.0\n"
     ]
    }
   ],
   "source": [
    "def avg(num1,num3,num2=30):\n",
    "    \n",
    "    print(num1)\n",
    "    print(num2)\n",
    "    print(num3)\n",
    "    avg=(num1+num2+num3)/3\n",
    "    print('average is:',avg)\n",
    "avg(10,20)"
   ]
  },
  {
   "cell_type": "code",
   "execution_count": 1,
   "id": "c5345ae9",
   "metadata": {},
   "outputs": [
    {
     "name": "stdout",
     "output_type": "stream",
     "text": [
      "enter a num1:10\n",
      "enter a num2:20\n",
      "enter a num3:30\n",
      "the average of 20.0\n"
     ]
    }
   ],
   "source": [
    "num1=eval(input('enter a num1:'))\n",
    "num2=eval(input('enter a num2:'))\n",
    "num3=eval(input('enter a num3:'))\n",
    "avg=(num1+num2+num3)/3\n",
    "print('the average of',avg)\n"
   ]
  },
  {
   "cell_type": "code",
   "execution_count": 2,
   "id": "a9675dc1",
   "metadata": {},
   "outputs": [
    {
     "name": "stdout",
     "output_type": "stream",
     "text": [
      "enter a num1:10\n",
      "enter a num2:20\n",
      "enter a num3:30\n",
      "the average of 20.0\n"
     ]
    }
   ],
   "source": [
    "def avg():\n",
    "    num1=eval(input('enter a num1:'))\n",
    "    num2=eval(input('enter a num2:'))\n",
    "    num3=eval(input('enter a num3:'))\n",
    "    avg=(num1+num2+num3)/3\n",
    "    print('the average of',avg)\n",
    "avg()"
   ]
  },
  {
   "cell_type": "code",
   "execution_count": 3,
   "id": "d02a0d1d",
   "metadata": {},
   "outputs": [
    {
     "name": "stdout",
     "output_type": "stream",
     "text": [
      "the average of 20.0\n"
     ]
    }
   ],
   "source": [
    "def avg(num1,num2,num3):\n",
    "    avg=(num1+num2+num3)/3\n",
    "    print('the average of',avg)\n",
    "avg(10,20,30)"
   ]
  },
  {
   "cell_type": "code",
   "execution_count": 4,
   "id": "48752892",
   "metadata": {},
   "outputs": [
    {
     "name": "stdout",
     "output_type": "stream",
     "text": [
      "the average of 20.0\n"
     ]
    }
   ],
   "source": [
    "def avg(num1,num2,num3=30):\n",
    "    avg=(num1+num2+num3)/3\n",
    "    print('the average of',avg)\n",
    "avg(10,20)"
   ]
  },
  {
   "cell_type": "code",
   "execution_count": 5,
   "id": "9eeb1882",
   "metadata": {},
   "outputs": [
    {
     "name": "stdout",
     "output_type": "stream",
     "text": [
      "the average of 20.0\n"
     ]
    }
   ],
   "source": [
    "def avg(num1,num2):\n",
    "    num3=30\n",
    "    avg=(num1+num2+num3)/3\n",
    "    print('the average of',avg)\n",
    "avg(10,20)"
   ]
  },
  {
   "cell_type": "code",
   "execution_count": 6,
   "id": "f3455712",
   "metadata": {},
   "outputs": [
    {
     "name": "stdout",
     "output_type": "stream",
     "text": [
      "enter a num1:10\n",
      "enter a num2:20\n",
      "enter a num3:30\n",
      "the average of 20\n"
     ]
    }
   ],
   "source": [
    "def avg():\n",
    "    num1=eval(input('enter a num1:'))\n",
    "    num2=eval(input('enter a num2:'))\n",
    "    num3=eval(input('enter a num3:'))\n",
    "    add=num1+num2+num3\n",
    "    avg=round(add/3)\n",
    "    print('the average of',avg)\n",
    "avg()"
   ]
  },
  {
   "cell_type": "code",
   "execution_count": 9,
   "id": "b3f1ab9b",
   "metadata": {},
   "outputs": [
    {
     "name": "stdout",
     "output_type": "stream",
     "text": [
      "the average of 20\n"
     ]
    }
   ],
   "source": [
    "def avg(num1,num2,num3=30):\n",
    "    add=num1+num2+num3\n",
    "    AVG=round(add/3)\n",
    "    print('the average of',AVG)\n",
    "avg(10,20)"
   ]
  },
  {
   "cell_type": "code",
   "execution_count": 10,
   "id": "f3345cfd",
   "metadata": {},
   "outputs": [
    {
     "ename": "NameError",
     "evalue": "name 'AVG' is not defined",
     "output_type": "error",
     "traceback": [
      "\u001b[1;31m---------------------------------------------------------------------------\u001b[0m",
      "\u001b[1;31mNameError\u001b[0m                                 Traceback (most recent call last)",
      "Cell \u001b[1;32mIn[10], line 3\u001b[0m\n\u001b[0;32m      1\u001b[0m \u001b[38;5;66;03m## i want use the avg value in future reference\u001b[39;00m\n\u001b[0;32m      2\u001b[0m \u001b[38;5;66;03m## im printing avg value outside the function\u001b[39;00m\n\u001b[1;32m----> 3\u001b[0m \u001b[38;5;28mprint\u001b[39m(AVG)\n",
      "\u001b[1;31mNameError\u001b[0m: name 'AVG' is not defined"
     ]
    }
   ],
   "source": [
    "## i want use the avg value in future reference\n",
    "## im printing avg value outside the function\n",
    "print(AVG)\n",
    "## the AVG not define\n",
    "## that function not handover the value to you\n",
    "## handover======return\n",
    "## he is not return, he is printing the value\n"
   ]
  },
  {
   "cell_type": "code",
   "execution_count": 50,
   "id": "d7131a55",
   "metadata": {},
   "outputs": [
    {
     "name": "stdout",
     "output_type": "stream",
     "text": [
      "the average of 20\n"
     ]
    }
   ],
   "source": [
    "def avg(num1,num2,num3=30):\n",
    "    ADD1=num1+num2+num3\n",
    "    AVG1=round(add/3)\n",
    "    print('the average of',AVG1)\n",
    "    return(AVG1)\n",
    "    "
   ]
  },
  {
   "cell_type": "code",
   "execution_count": 51,
   "id": "c47adb6b",
   "metadata": {},
   "outputs": [
    {
     "name": "stdout",
     "output_type": "stream",
     "text": [
      "the average of 20\n"
     ]
    }
   ],
   "source": [
    "AVG1=avg(10,20)"
   ]
  },
  {
   "cell_type": "code",
   "execution_count": 24,
   "id": "71da0fc1",
   "metadata": {},
   "outputs": [
    {
     "name": "stdout",
     "output_type": "stream",
     "text": [
      "enter a num1:10\n",
      "enter a num2:20\n",
      "enter a num3:30\n",
      "the average of 20\n"
     ]
    },
    {
     "data": {
      "text/plain": [
       "(20, 60)"
      ]
     },
     "execution_count": 24,
     "metadata": {},
     "output_type": "execute_result"
    }
   ],
   "source": [
    "def avg():\n",
    "    num1=eval(input('enter a num1:'))\n",
    "    num2=eval(input('enter a num2:'))\n",
    "    num3=eval(input('enter a num3:'))\n",
    "    add=num1+num2+num3\n",
    "    avg1=round(add/3)\n",
    "    print('the average of',avg1)\n",
    "    return(avg1,add)\n",
    "avg()\n"
   ]
  },
  {
   "cell_type": "code",
   "execution_count": 26,
   "id": "cf9b579e",
   "metadata": {},
   "outputs": [
    {
     "name": "stdout",
     "output_type": "stream",
     "text": [
      "enter a num1:10\n",
      "enter a num2:20\n",
      "enter a num3:30\n",
      "the average of 20\n"
     ]
    }
   ],
   "source": [
    "avg_value=avg()"
   ]
  },
  {
   "cell_type": "code",
   "execution_count": 30,
   "id": "b682e6de",
   "metadata": {},
   "outputs": [
    {
     "name": "stdout",
     "output_type": "stream",
     "text": [
      "enter a num1:100\n",
      "enter a num2:200\n",
      "enter a num3:300\n",
      "the average of 200\n"
     ]
    }
   ],
   "source": [
    "num1=avg()"
   ]
  },
  {
   "cell_type": "code",
   "execution_count": 29,
   "id": "598730c0",
   "metadata": {},
   "outputs": [
    {
     "name": "stdout",
     "output_type": "stream",
     "text": [
      "20 60\n"
     ]
    }
   ],
   "source": [
    "print(num1,num2)"
   ]
  },
  {
   "cell_type": "code",
   "execution_count": 32,
   "id": "f9577cd4",
   "metadata": {},
   "outputs": [
    {
     "name": "stdout",
     "output_type": "stream",
     "text": [
      "enter a num1:10\n",
      "enter a num2:20\n",
      "enter a num3:30\n",
      "the average of 20\n"
     ]
    },
    {
     "data": {
      "text/plain": [
       "(20, 60)"
      ]
     },
     "execution_count": 32,
     "metadata": {},
     "output_type": "execute_result"
    }
   ],
   "source": [
    "def avg():\n",
    "    num1=eval(input('enter a num1:'))\n",
    "    num2=eval(input('enter a num2:'))\n",
    "    num3=eval(input('enter a num3:'))\n",
    "    add=num1+num2+num3\n",
    "    avg1=round(add/3)\n",
    "    print('the average of',avg1)\n",
    "    return(avg1,add)"
   ]
  },
  {
   "cell_type": "code",
   "execution_count": 48,
   "id": "e684123e",
   "metadata": {},
   "outputs": [
    {
     "name": "stdout",
     "output_type": "stream",
     "text": [
      "enter a num1:10\n",
      "enter a num2:20\n",
      "enter a num3:30\n",
      "the average of 20\n"
     ]
    }
   ],
   "source": [
    "avg1,add=avg()"
   ]
  },
  {
   "cell_type": "code",
   "execution_count": 47,
   "id": "2fe54b08",
   "metadata": {},
   "outputs": [
    {
     "name": "stdout",
     "output_type": "stream",
     "text": [
      "total the tax amount 1000.0\n"
     ]
    }
   ],
   "source": [
    "def tax_per(salary,tax_per):\n",
    "    tax_amount=salary*tax_per/100\n",
    "    print('total the tax amount',tax_amount)\n",
    "tax_per(10000,10)\n",
    "  \n"
   ]
  },
  {
   "cell_type": "code",
   "execution_count": 44,
   "id": "72b48a9d",
   "metadata": {},
   "outputs": [],
   "source": [
    "def tax_per(tax_per=10):\n",
    "    salary=10000\n",
    "    tax_amount=salary*tax_per/100\n",
    "    print('total the tax amount',tax_amount)\n",
    "    return(tax_amount)"
   ]
  },
  {
   "cell_type": "code",
   "execution_count": 46,
   "id": "01f8b78d",
   "metadata": {},
   "outputs": [
    {
     "name": "stdout",
     "output_type": "stream",
     "text": [
      "total the tax amount 1000.0\n"
     ]
    }
   ],
   "source": [
    "tax_amount=tax_per()"
   ]
  },
  {
   "cell_type": "code",
   "execution_count": 43,
   "id": "7f1318b5",
   "metadata": {},
   "outputs": [
    {
     "name": "stdout",
     "output_type": "stream",
     "text": [
      "add 25 sub 15 mul 100 div 4\n"
     ]
    }
   ],
   "source": [
    "def num(a,b):\n",
    "    add=a+b\n",
    "    sub=a-b\n",
    "    mul=a*b\n",
    "    div=a//b\n",
    "    print('add',add,'sub',sub,'mul',mul,'div',div)\n",
    "num(20,5)"
   ]
  },
  {
   "cell_type": "code",
   "execution_count": null,
   "id": "318d6664",
   "metadata": {},
   "outputs": [],
   "source": [
    "def num(a,b):\n",
    "    add=a+b\n",
    "    sub=a-b\n",
    "    mul=a*b\n",
    "    div=a//b\n",
    "    print('add',add,'sub',sub,'mul',mul,'div',div)\n",
    "    return(sub,add,mul)"
   ]
  },
  {
   "cell_type": "code",
   "execution_count": 56,
   "id": "d3021cd2",
   "metadata": {},
   "outputs": [
    {
     "name": "stdout",
     "output_type": "stream",
     "text": [
      "add 25 sub 15 mul 100 div 4\n"
     ]
    }
   ],
   "source": [
    "sub=num(20,5)"
   ]
  },
  {
   "cell_type": "code",
   "execution_count": 59,
   "id": "b35876ef",
   "metadata": {},
   "outputs": [
    {
     "name": "stdout",
     "output_type": "stream",
     "text": [
      "add 25 sub 15 mul 100 div 4\n"
     ]
    }
   ],
   "source": [
    "a=20 ##global variable\n",
    "b=5   ##global variable\n",
    "def num():\n",
    "    add=a+b ## local variables\n",
    "    sub=a-b\n",
    "    mul=a*b\n",
    "    div=a//b\n",
    "    print('add',add,'sub',sub,'mul',mul,'div',div)\n",
    "num()\n",
    " ## local variables means inside the function\n",
    "   # you can't use out of the function untill unless you return the variables\n",
    " ## global variable are out side the function ,it can use inside the function also"
   ]
  },
  {
   "cell_type": "markdown",
   "id": "6745641e",
   "metadata": {},
   "source": [
    "## without argument"
   ]
  },
  {
   "cell_type": "code",
   "execution_count": 2,
   "id": "a62d3cb5",
   "metadata": {},
   "outputs": [
    {
     "name": "stdout",
     "output_type": "stream",
     "text": [
      "enter a num1:80\n",
      "enter a num2:70\n",
      "enter a num3:60\n",
      "num1 is greatest num: 80\n"
     ]
    }
   ],
   "source": [
    "def find():\n",
    "    num1=eval(input('enter a num1:'))\n",
    "    num2=eval(input('enter a num2:'))\n",
    "    num3=eval(input('enter a num3:'))\n",
    "    if num1>num2 and  num1>num3:\n",
    "        print('num1 is greatest num:',num1)\n",
    "    elif num2>num3:\n",
    "        print('num2 is greatest num:',num2)\n",
    "    else:\n",
    "        print('num3 is greatest num:',num3)\n",
    "find()"
   ]
  },
  {
   "cell_type": "markdown",
   "id": "984e8526",
   "metadata": {},
   "source": [
    "## with argument"
   ]
  },
  {
   "cell_type": "code",
   "execution_count": 1,
   "id": "8675e427",
   "metadata": {},
   "outputs": [
    {
     "name": "stdout",
     "output_type": "stream",
     "text": [
      "num1 is greatest num: 80\n"
     ]
    }
   ],
   "source": [
    "def find(num1,num2,num3):\n",
    "    if num1>num2 and  num1>num3:\n",
    "        print('num1 is greatest num:',num1)\n",
    "    elif num2>num3:\n",
    "        print('num2 is greatest num:',num2)\n",
    "    else:\n",
    "        print('num3 is greatest num:',num3)\n",
    "find(80,60,70)"
   ]
  },
  {
   "cell_type": "markdown",
   "id": "cd7ba806",
   "metadata": {},
   "source": [
    "## Default argument"
   ]
  },
  {
   "cell_type": "code",
   "execution_count": 3,
   "id": "5340774a",
   "metadata": {},
   "outputs": [
    {
     "name": "stdout",
     "output_type": "stream",
     "text": [
      "num1 is greatest num: 80\n"
     ]
    }
   ],
   "source": [
    "def find(num1,num2,num3=70):\n",
    "    if num1>num2 and  num1>num3:\n",
    "        print('num1 is greatest num:',num1)\n",
    "    elif num2>num3:\n",
    "        print('num2 is greatest num:',num2)\n",
    "    else:\n",
    "        print('num3 is greatest num:',num3)\n",
    "find(80,60)"
   ]
  },
  {
   "cell_type": "markdown",
   "id": "a2b828fe",
   "metadata": {},
   "source": [
    "## with global variable"
   ]
  },
  {
   "cell_type": "code",
   "execution_count": 5,
   "id": "4c527aa4",
   "metadata": {},
   "outputs": [
    {
     "name": "stdout",
     "output_type": "stream",
     "text": [
      "enter a num1:80\n",
      "enter a num2:70\n",
      "enter a num3:60\n",
      "num1 is greatest num: 80\n"
     ]
    },
    {
     "data": {
      "text/plain": [
       "(80, 70, 60)"
      ]
     },
     "execution_count": 5,
     "metadata": {},
     "output_type": "execute_result"
    }
   ],
   "source": [
    "num1=eval(input('enter a num1:'))\n",
    "num2=eval(input('enter a num2:'))\n",
    "num3=eval(input('enter a num3:'))\n",
    "def find():\n",
    "    if num1>num2 and  num1>num3:\n",
    "        print('num1 is greatest num:',num1)\n",
    "    elif num2>num3:\n",
    "        print('num2 is greatest num:',num2)\n",
    "    else:\n",
    "        print('num3 is greatest num:',num3)\n",
    "find()"
   ]
  },
  {
   "cell_type": "markdown",
   "id": "b367704b",
   "metadata": {},
   "source": [
    "## With return function"
   ]
  },
  {
   "cell_type": "code",
   "execution_count": 6,
   "id": "2f9f8477",
   "metadata": {},
   "outputs": [],
   "source": [
    "def find():\n",
    "    num1=eval(input('enter a num1:'))\n",
    "    num2=eval(input('enter a num2:'))\n",
    "    num3=eval(input('enter a num3:'))\n",
    "    if num1>num2 and  num1>num3:\n",
    "        print('num1 is greatest num:',num1)\n",
    "    elif num2>num3:\n",
    "        print('num2 is greatest num:',num2)\n",
    "    else:\n",
    "        print('num3 is greatest num:',num3)\n",
    "    return(num1,num2,num3)"
   ]
  },
  {
   "cell_type": "code",
   "execution_count": 7,
   "id": "75dfbc67",
   "metadata": {},
   "outputs": [
    {
     "name": "stdout",
     "output_type": "stream",
     "text": [
      "enter a num1:80\n",
      "enter a num2:70\n",
      "enter a num3:60\n",
      "num1 is greatest num: 80\n"
     ]
    }
   ],
   "source": [
    "num1=find()"
   ]
  },
  {
   "cell_type": "code",
   "execution_count": 6,
   "id": "48b3b874",
   "metadata": {},
   "outputs": [
    {
     "name": "stdout",
     "output_type": "stream",
     "text": [
      "enter a num1000\n",
      "total amount 1010\n"
     ]
    }
   ],
   "source": [
    "bill_amount=eval(input(\"enter a num\"))\n",
    "def total_bill(tip=10):\n",
    "    global total_amount\n",
    "    total_amount=bill_amount+tip\n",
    "    \n",
    "total_bill()    \n",
    "print('total amount',total_amount)"
   ]
  },
  {
   "cell_type": "code",
   "execution_count": null,
   "id": "95a22e12",
   "metadata": {},
   "outputs": [],
   "source": []
  },
  {
   "cell_type": "code",
   "execution_count": null,
   "id": "ee897bd6",
   "metadata": {},
   "outputs": [],
   "source": []
  },
  {
   "cell_type": "code",
   "execution_count": null,
   "id": "12ed2a23",
   "metadata": {},
   "outputs": [],
   "source": []
  },
  {
   "cell_type": "code",
   "execution_count": null,
   "id": "abc2fcaa",
   "metadata": {},
   "outputs": [],
   "source": []
  }
 ],
 "metadata": {
  "kernelspec": {
   "display_name": "Python 3 (ipykernel)",
   "language": "python",
   "name": "python3"
  },
  "language_info": {
   "codemirror_mode": {
    "name": "ipython",
    "version": 3
   },
   "file_extension": ".py",
   "mimetype": "text/x-python",
   "name": "python",
   "nbconvert_exporter": "python",
   "pygments_lexer": "ipython3",
   "version": "3.11.5"
  }
 },
 "nbformat": 4,
 "nbformat_minor": 5
}
