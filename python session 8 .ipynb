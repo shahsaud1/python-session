{
 "cells": [
  {
   "cell_type": "markdown",
   "id": "79521b2d",
   "metadata": {},
   "source": [
    "##session"
   ]
  },
  {
   "cell_type": "code",
   "execution_count": null,
   "id": "0bbadd41",
   "metadata": {},
   "outputs": [],
   "source": [
    "## wap ask the user enter distance\n",
    "## if the distance between 0 to 2km print the fare is 20rs\n",
    "## if the distance between 2km to 4km print the fare is 40rs\n",
    "## if the distance between 4km to 6km print the fare is 60rs\n",
    "## if the distance morethan 6km print the fare is 100rs"
   ]
  },
  {
   "cell_type": "code",
   "execution_count": 20,
   "id": "929949a9",
   "metadata": {},
   "outputs": [
    {
     "name": "stdout",
     "output_type": "stream",
     "text": [
      "enter the distance in km:2.3\n",
      "the fare rupees 40\n"
     ]
    }
   ],
   "source": [
    "dis=eval(input('enter the distance in km:'))\n",
    "if dis>=0 and  dis<=2:\n",
    "    print('the fare rupees 20')\n",
    "elif dis>=2 and dis<=4:\n",
    "    print('the fare rupees 40')\n",
    "elif dis>=4 and  dis<=6:\n",
    "    print('the fare rupees 60')\n",
    "else:\n",
    "    print('the fare rupees 100 ')"
   ]
  },
  {
   "cell_type": "code",
   "execution_count": 4,
   "id": "17ebed82",
   "metadata": {},
   "outputs": [
    {
     "name": "stdout",
     "output_type": "stream",
     "text": [
      "enter the distance in km:6\n",
      "the fare rupees 60\n"
     ]
    }
   ],
   "source": [
    "dis=eval(input('enter the distance in km:'))\n",
    "if dis>=0 and dis<4:\n",
    "    print('the fare rupees 20')\n",
    "elif dis>=2 and dis<=4:\n",
    "    print('the fare rupees 40')\n",
    "elif dis>=4 and  dis<=6:\n",
    "    print('the fare rupees 60')\n",
    "else:\n",
    "    print('the fare rupees 100 ')"
   ]
  },
  {
   "cell_type": "code",
   "execution_count": 28,
   "id": "9f00391b",
   "metadata": {},
   "outputs": [
    {
     "name": "stdout",
     "output_type": "stream",
     "text": [
      "enter the percentage:90\n",
      "Grade A\n"
     ]
    }
   ],
   "source": [
    "try:\n",
    "    per=eval(input('enter the percentage:'))\n",
    "    if per>=90:\n",
    "        print('Grade A')\n",
    "    elif per>=70:\n",
    "        print('Grade B')\n",
    "    elif per>=50:\n",
    "        print('Grade C')\n",
    "    elif per<50:\n",
    "        print('Grade D')\n",
    "except exception as e:\n",
    "    print(e)"
   ]
  },
  {
   "cell_type": "code",
   "execution_count": 6,
   "id": "6673f2a4",
   "metadata": {},
   "outputs": [
    {
     "name": "stdout",
     "output_type": "stream",
     "text": [
      "enter a num:-2\n",
      "it is a negative num\n"
     ]
    }
   ],
   "source": [
    "try:\n",
    "    num=eval(input('enter a num:'))\n",
    "    if num>=0:\n",
    "        if  num==0:\n",
    "            print('it is zero num')\n",
    "        else:\n",
    "            print('it is positive num')\n",
    "    else:\n",
    "        print('it is a negative num')\n",
    "except exception as e:\n",
    "    print(e)"
   ]
  },
  {
   "cell_type": "code",
   "execution_count": 34,
   "id": "371f75c8",
   "metadata": {},
   "outputs": [
    {
     "name": "stdout",
     "output_type": "stream",
     "text": [
      "enter a num:-9\n",
      "it is a negative num\n"
     ]
    }
   ],
   "source": [
    "try:\n",
    "    num=eval(input('enter a num:'))\n",
    "    if num>=0:\n",
    "        if  num==0:\n",
    "            print('it is zero num')\n",
    "        else:\n",
    "            print('it is positive num')\n",
    "    else:\n",
    "        print('it is a negative num')\n",
    "except exception as e:\n",
    "    print(e)"
   ]
  },
  {
   "cell_type": "code",
   "execution_count": 43,
   "id": "90dc4bed",
   "metadata": {},
   "outputs": [
    {
     "name": "stdout",
     "output_type": "stream",
     "text": [
      "enter a num:99\n",
      " outof the range\n"
     ]
    }
   ],
   "source": [
    "num=eval(input('enter a num:'))\n",
    "if num<99:\n",
    "        if num==0:\n",
    "            print('zero')\n",
    "        else:\n",
    "            print('enter between 1 to 99')\n",
    "else:\n",
    "    print(' outof the range')"
   ]
  },
  {
   "cell_type": "code",
   "execution_count": 16,
   "id": "a304986a",
   "metadata": {},
   "outputs": [
    {
     "name": "stdout",
     "output_type": "stream",
     "text": [
      "enter a num:98\n",
      "the num between 1 to 99\n"
     ]
    }
   ],
   "source": [
    "num=eval(input('enter a num:'))\n",
    "if num<99:\n",
    "    if num==0:\n",
    "        print(zero)\n",
    "    elif num<=99:\n",
    "        print('the num between 1 to 99')\n",
    "else:\n",
    "    print('out of range')"
   ]
  },
  {
   "cell_type": "code",
   "execution_count": null,
   "id": "7bc49dc0",
   "metadata": {},
   "outputs": [],
   "source": [
    "## wap ask the user enter a gender\n",
    "## if gender =='male'\n",
    "## aks the user enter the age\n",
    "## if age>25 ; print (he is a man)\n",
    "## otherwise ; print(he is a boy)\n",
    "\n",
    "## otherwise\n",
    "## ask the user enter age\n",
    "## if age>25; print (she is a woman)\n",
    "## otherwise ;print (she is a girl)"
   ]
  },
  {
   "cell_type": "code",
   "execution_count": 55,
   "id": "a856c6ad",
   "metadata": {},
   "outputs": [
    {
     "name": "stdout",
     "output_type": "stream",
     "text": [
      "enter a gender:male\n",
      "enter a age:34\n",
      "he is a man:\n"
     ]
    }
   ],
   "source": [
    "gen=input('enter a gender:')\n",
    "if gen==\"male\":\n",
    "    age=eval(input('enter a age:'))\n",
    "    if age>25:\n",
    "        print('he is a man:')\n",
    "    else:\n",
    "        print('he is a boy:')\n",
    "else:\n",
    "    eval(input('enter a age:'))\n",
    "    if age>25:\n",
    "        print('she is woman:')\n",
    "    else:\n",
    "        print('she is a girl:')"
   ]
  },
  {
   "cell_type": "code",
   "execution_count": 19,
   "id": "1707a112",
   "metadata": {},
   "outputs": [
    {
     "name": "stdout",
     "output_type": "stream",
     "text": [
      "enter a gender:male\n",
      "enter a age:75\n",
      "he is a man,\n"
     ]
    }
   ],
   "source": [
    "gen=input('enter a gender:')\n",
    "if gen==\"male\":\n",
    "    age=eval(input('enter a age:'))\n",
    "    if age>25:\n",
    "        print('he is a man,')\n",
    "    else:\n",
    "        print('he is a boy,')\n",
    "else:\n",
    "  \n",
    "    age=eval(input('enter a age:'))\n",
    "    if age>25:\n",
    "        print('she is woman,')\n",
    "    else:\n",
    "        print('she is a girl,')"
   ]
  },
  {
   "cell_type": "code",
   "execution_count": 22,
   "id": "6aeb9ecf",
   "metadata": {},
   "outputs": [
    {
     "name": "stdout",
     "output_type": "stream",
     "text": [
      "enter a num1:100\n",
      "enter a num2:101\n",
      "enter a num3:99\n",
      "number 2 is greatest num\n"
     ]
    }
   ],
   "source": [
    "## wap ask the user enter three numbers\n",
    "## find which is the greatest number\n",
    "## frequent interview question\n",
    "num1=eval(input('enter a num1:'))\n",
    "num2=eval(input('enter a num2:'))\n",
    "num3=eval(input('enter a num3:'))\n",
    "if num1>=num2 and num1>=num3:\n",
    "    print('number 1 is greatest num')\n",
    "elif num2>=num3 and num2>=num1:\n",
    "    print('number 2 is greatest num')\n",
    "else:\n",
    "    print('number 3 is greatest num')\n",
    "    "
   ]
  },
  {
   "cell_type": "code",
   "execution_count": null,
   "id": "e0033524",
   "metadata": {},
   "outputs": [],
   "source": []
  }
 ],
 "metadata": {
  "kernelspec": {
   "display_name": "Python 3 (ipykernel)",
   "language": "python",
   "name": "python3"
  },
  "language_info": {
   "codemirror_mode": {
    "name": "ipython",
    "version": 3
   },
   "file_extension": ".py",
   "mimetype": "text/x-python",
   "name": "python",
   "nbconvert_exporter": "python",
   "pygments_lexer": "ipython3",
   "version": "3.11.5"
  }
 },
 "nbformat": 4,
 "nbformat_minor": 5
}
